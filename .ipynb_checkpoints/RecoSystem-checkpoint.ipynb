{
 "cells": [
  {
   "cell_type": "markdown",
   "metadata": {},
   "source": [
    "# 감성분석 기반 음악 추천 시스템"
   ]
  },
  {
   "cell_type": "markdown",
   "metadata": {},
   "source": [
    "## 멜론 음원사이트 - 곡 장르, 가사, 리뷰정보 2000년~2020년 월간 top100 정보 가져오기"
   ]
  },
  {
   "cell_type": "markdown",
   "metadata": {},
   "source": [
    "### 필요한 라이브러리 호출"
   ]
  },
  {
   "cell_type": "code",
   "execution_count": 18,
   "metadata": {},
   "outputs": [],
   "source": [
    "import pandas as pd\n",
    "import numpy as np\n",
    "from tqdm.notebook import tqdm\n",
    "import time\n",
    "from bs4 import BeautifulSoup\n",
    "import urllib.request\n",
    "import urllib.parse\n",
    "import requests"
   ]
  },
  {
   "cell_type": "markdown",
   "metadata": {},
   "source": [
    "#### 드라이버 설정"
   ]
  },
  {
   "cell_type": "code",
   "execution_count": 3,
   "metadata": {},
   "outputs": [
    {
     "name": "stdout",
     "output_type": "stream",
     "text": [
      "Requirement already satisfied: selenium in c:\\users\\pdj10\\anaconda3\\lib\\site-packages (3.141.0)\n",
      "Requirement already satisfied: urllib3 in c:\\users\\pdj10\\anaconda3\\lib\\site-packages (from selenium) (1.25.8)\n",
      "Note: you may need to restart the kernel to use updated packages.\n"
     ]
    }
   ],
   "source": [
    "pip install selenium"
   ]
  },
  {
   "cell_type": "code",
   "execution_count": 6,
   "metadata": {},
   "outputs": [],
   "source": [
    "from selenium import webdriver\n",
    "options = webdriver.ChromeOptions()\n",
    "options.add_argument('headless')    # 웹 브라우저를 띄우지 않는 headless chrome 옵션 적용\n",
    "options.add_argument('disable-gpu')    # GPU 사용 안함\n",
    "options.add_argument('lang=ko_KR')    # 언어 설정\n",
    "driver = webdriver.Chrome('./chromedriver.exe', options=options) #  옵션 적용"
   ]
  },
  {
   "cell_type": "markdown",
   "metadata": {},
   "source": [
    "### 2000년~2019년 top100차트 가져오기"
   ]
  },
  {
   "cell_type": "code",
   "execution_count": 172,
   "metadata": {
    "scrolled": true
   },
   "outputs": [
    {
     "data": {
      "application/vnd.jupyter.widget-view+json": {
       "model_id": "0381232467e04d988cbf5129399cc447",
       "version_major": 2,
       "version_minor": 0
      },
      "text/plain": [
       "HBox(children=(FloatProgress(value=0.0, max=2.0), HTML(value='')))"
      ]
     },
     "metadata": {},
     "output_type": "display_data"
    },
    {
     "data": {
      "application/vnd.jupyter.widget-view+json": {
       "model_id": "0b853069d9334b88bb15b883027be624",
       "version_major": 2,
       "version_minor": 0
      },
      "text/plain": [
       "HBox(children=(FloatProgress(value=0.0, max=10.0), HTML(value='')))"
      ]
     },
     "metadata": {},
     "output_type": "display_data"
    },
    {
     "data": {
      "application/vnd.jupyter.widget-view+json": {
       "model_id": "a4c539bded4f4faaae63e9ffa0df2ca4",
       "version_major": 2,
       "version_minor": 0
      },
      "text/plain": [
       "HBox(children=(FloatProgress(value=0.0, max=12.0), HTML(value='')))"
      ]
     },
     "metadata": {},
     "output_type": "display_data"
    },
    {
     "name": "stdout",
     "output_type": "stream",
     "text": [
      "\n"
     ]
    },
    {
     "data": {
      "application/vnd.jupyter.widget-view+json": {
       "model_id": "cb3d94d209c940f18d53df386cb73987",
       "version_major": 2,
       "version_minor": 0
      },
      "text/plain": [
       "HBox(children=(FloatProgress(value=0.0, max=12.0), HTML(value='')))"
      ]
     },
     "metadata": {},
     "output_type": "display_data"
    },
    {
     "name": "stdout",
     "output_type": "stream",
     "text": [
      "\n"
     ]
    },
    {
     "data": {
      "application/vnd.jupyter.widget-view+json": {
       "model_id": "50ff9038e61d4034a59903928be44c28",
       "version_major": 2,
       "version_minor": 0
      },
      "text/plain": [
       "HBox(children=(FloatProgress(value=0.0, max=12.0), HTML(value='')))"
      ]
     },
     "metadata": {},
     "output_type": "display_data"
    },
    {
     "name": "stdout",
     "output_type": "stream",
     "text": [
      "\n"
     ]
    },
    {
     "data": {
      "application/vnd.jupyter.widget-view+json": {
       "model_id": "626d03b5d4c54d7c9f49c11742d527e1",
       "version_major": 2,
       "version_minor": 0
      },
      "text/plain": [
       "HBox(children=(FloatProgress(value=0.0, max=12.0), HTML(value='')))"
      ]
     },
     "metadata": {},
     "output_type": "display_data"
    },
    {
     "name": "stdout",
     "output_type": "stream",
     "text": [
      "\n"
     ]
    },
    {
     "data": {
      "application/vnd.jupyter.widget-view+json": {
       "model_id": "ecf072702db240c4b9cec17f73175513",
       "version_major": 2,
       "version_minor": 0
      },
      "text/plain": [
       "HBox(children=(FloatProgress(value=0.0, max=12.0), HTML(value='')))"
      ]
     },
     "metadata": {},
     "output_type": "display_data"
    },
    {
     "name": "stdout",
     "output_type": "stream",
     "text": [
      "\n"
     ]
    },
    {
     "data": {
      "application/vnd.jupyter.widget-view+json": {
       "model_id": "7bdeffe07fa44d3c933f36af968e4228",
       "version_major": 2,
       "version_minor": 0
      },
      "text/plain": [
       "HBox(children=(FloatProgress(value=0.0, max=12.0), HTML(value='')))"
      ]
     },
     "metadata": {},
     "output_type": "display_data"
    },
    {
     "name": "stdout",
     "output_type": "stream",
     "text": [
      "\n"
     ]
    },
    {
     "data": {
      "application/vnd.jupyter.widget-view+json": {
       "model_id": "7d0f21ba003b4dd88a57924386f2cce6",
       "version_major": 2,
       "version_minor": 0
      },
      "text/plain": [
       "HBox(children=(FloatProgress(value=0.0, max=12.0), HTML(value='')))"
      ]
     },
     "metadata": {},
     "output_type": "display_data"
    },
    {
     "name": "stdout",
     "output_type": "stream",
     "text": [
      "\n"
     ]
    },
    {
     "data": {
      "application/vnd.jupyter.widget-view+json": {
       "model_id": "104931436d9547d9a47e017e3f1f6aa2",
       "version_major": 2,
       "version_minor": 0
      },
      "text/plain": [
       "HBox(children=(FloatProgress(value=0.0, max=12.0), HTML(value='')))"
      ]
     },
     "metadata": {},
     "output_type": "display_data"
    },
    {
     "name": "stdout",
     "output_type": "stream",
     "text": [
      "\n"
     ]
    },
    {
     "data": {
      "application/vnd.jupyter.widget-view+json": {
       "model_id": "8adeaafbebc14485abadbc081e86899a",
       "version_major": 2,
       "version_minor": 0
      },
      "text/plain": [
       "HBox(children=(FloatProgress(value=0.0, max=12.0), HTML(value='')))"
      ]
     },
     "metadata": {},
     "output_type": "display_data"
    },
    {
     "name": "stdout",
     "output_type": "stream",
     "text": [
      "\n"
     ]
    },
    {
     "data": {
      "application/vnd.jupyter.widget-view+json": {
       "model_id": "bcd88651b1f64210b3ec78a339c158ee",
       "version_major": 2,
       "version_minor": 0
      },
      "text/plain": [
       "HBox(children=(FloatProgress(value=0.0, max=12.0), HTML(value='')))"
      ]
     },
     "metadata": {},
     "output_type": "display_data"
    },
    {
     "name": "stdout",
     "output_type": "stream",
     "text": [
      "\n",
      "\n"
     ]
    },
    {
     "data": {
      "application/vnd.jupyter.widget-view+json": {
       "model_id": "08439f361e8e46bb909706f2f5aeac2c",
       "version_major": 2,
       "version_minor": 0
      },
      "text/plain": [
       "HBox(children=(FloatProgress(value=0.0, max=10.0), HTML(value='')))"
      ]
     },
     "metadata": {},
     "output_type": "display_data"
    },
    {
     "data": {
      "application/vnd.jupyter.widget-view+json": {
       "model_id": "ed9881c58edf42b9901e95e7999bcf71",
       "version_major": 2,
       "version_minor": 0
      },
      "text/plain": [
       "HBox(children=(FloatProgress(value=0.0, max=12.0), HTML(value='')))"
      ]
     },
     "metadata": {},
     "output_type": "display_data"
    },
    {
     "name": "stdout",
     "output_type": "stream",
     "text": [
      "\n"
     ]
    },
    {
     "data": {
      "application/vnd.jupyter.widget-view+json": {
       "model_id": "062d78e8f6304908961c3b4692e2c40b",
       "version_major": 2,
       "version_minor": 0
      },
      "text/plain": [
       "HBox(children=(FloatProgress(value=0.0, max=12.0), HTML(value='')))"
      ]
     },
     "metadata": {},
     "output_type": "display_data"
    },
    {
     "name": "stdout",
     "output_type": "stream",
     "text": [
      "\n"
     ]
    },
    {
     "data": {
      "application/vnd.jupyter.widget-view+json": {
       "model_id": "5e653080a0eb4b65af1ead435a47f461",
       "version_major": 2,
       "version_minor": 0
      },
      "text/plain": [
       "HBox(children=(FloatProgress(value=0.0, max=12.0), HTML(value='')))"
      ]
     },
     "metadata": {},
     "output_type": "display_data"
    },
    {
     "name": "stdout",
     "output_type": "stream",
     "text": [
      "\n"
     ]
    },
    {
     "data": {
      "application/vnd.jupyter.widget-view+json": {
       "model_id": "e1b8307adb314960b5072ad367b759ae",
       "version_major": 2,
       "version_minor": 0
      },
      "text/plain": [
       "HBox(children=(FloatProgress(value=0.0, max=12.0), HTML(value='')))"
      ]
     },
     "metadata": {},
     "output_type": "display_data"
    },
    {
     "name": "stdout",
     "output_type": "stream",
     "text": [
      "\n"
     ]
    },
    {
     "data": {
      "application/vnd.jupyter.widget-view+json": {
       "model_id": "d8b9b925d40e40fa8715f41679367335",
       "version_major": 2,
       "version_minor": 0
      },
      "text/plain": [
       "HBox(children=(FloatProgress(value=0.0, max=12.0), HTML(value='')))"
      ]
     },
     "metadata": {},
     "output_type": "display_data"
    },
    {
     "name": "stdout",
     "output_type": "stream",
     "text": [
      "\n"
     ]
    },
    {
     "data": {
      "application/vnd.jupyter.widget-view+json": {
       "model_id": "f9482c00756341de8923f25c04e92655",
       "version_major": 2,
       "version_minor": 0
      },
      "text/plain": [
       "HBox(children=(FloatProgress(value=0.0, max=12.0), HTML(value='')))"
      ]
     },
     "metadata": {},
     "output_type": "display_data"
    },
    {
     "name": "stdout",
     "output_type": "stream",
     "text": [
      "\n"
     ]
    },
    {
     "data": {
      "application/vnd.jupyter.widget-view+json": {
       "model_id": "a146f6fb1a1a4a29bc926c1e0c24b01b",
       "version_major": 2,
       "version_minor": 0
      },
      "text/plain": [
       "HBox(children=(FloatProgress(value=0.0, max=12.0), HTML(value='')))"
      ]
     },
     "metadata": {},
     "output_type": "display_data"
    },
    {
     "name": "stdout",
     "output_type": "stream",
     "text": [
      "\n"
     ]
    },
    {
     "data": {
      "application/vnd.jupyter.widget-view+json": {
       "model_id": "4962234c5417476da6444bc1974ab9e1",
       "version_major": 2,
       "version_minor": 0
      },
      "text/plain": [
       "HBox(children=(FloatProgress(value=0.0, max=12.0), HTML(value='')))"
      ]
     },
     "metadata": {},
     "output_type": "display_data"
    },
    {
     "name": "stdout",
     "output_type": "stream",
     "text": [
      "\n"
     ]
    },
    {
     "data": {
      "application/vnd.jupyter.widget-view+json": {
       "model_id": "abda98783b8547e592a524d64fa4961c",
       "version_major": 2,
       "version_minor": 0
      },
      "text/plain": [
       "HBox(children=(FloatProgress(value=0.0, max=12.0), HTML(value='')))"
      ]
     },
     "metadata": {},
     "output_type": "display_data"
    },
    {
     "name": "stdout",
     "output_type": "stream",
     "text": [
      "\n"
     ]
    },
    {
     "data": {
      "application/vnd.jupyter.widget-view+json": {
       "model_id": "f824edf1b9f94354b4b41ca8d75002cc",
       "version_major": 2,
       "version_minor": 0
      },
      "text/plain": [
       "HBox(children=(FloatProgress(value=0.0, max=12.0), HTML(value='')))"
      ]
     },
     "metadata": {},
     "output_type": "display_data"
    },
    {
     "name": "stdout",
     "output_type": "stream",
     "text": [
      "\n",
      "\n",
      "\n"
     ]
    }
   ],
   "source": [
    "# ## 2000 ~ 2019년\n",
    "# # from \n",
    "# rankDATE=[]\n",
    "# name=[]\n",
    "# code=[]\n",
    "# from tqdm.notebook import tqdm\n",
    "# import time\n",
    "# from bs4 import BeautifulSoup\n",
    "# # 홈페이지 접속\n",
    "# options = webdriver.ChromeOptions()\n",
    "# options.add_argument('headless')    # 웹 브라우저를 띄우지 않는 headless chrome 옵션 적용\n",
    "# options.add_argument('disable-gpu')    # GPU 사용 안함\n",
    "# options.add_argument('lang=ko_KR')    # 언어 설정\n",
    "# driver = webdriver.Chrome('../chromedriver.exe', options=options) #  옵션 적용\n",
    "# driver.get('https://www.melon.com/chart/month/index.htm')\n",
    "# driver.find_element_by_xpath('//*[@id=\"conts\"]/div[3]/div/button').click()\n",
    "# driver.find_element_by_xpath('//*[@id=\"conts\"]/div[3]/div/div/dl/dd[2]/a').click()\n",
    "# driver.find_element_by_xpath('//*[@id=\"d_chart_search\"]/div/h4[2]/a').click()# 월별 차트 클릭\n",
    "# time.sleep(5)\n",
    "# for i in tqdm(range(2,4)):\n",
    "#     element = driver.find_element_by_xpath('//*[@id=\"decade_{}\"]'.format(str(i))) #년대 선택\n",
    "#     driver.execute_script(\"arguments[0].click();\", element) \n",
    "#     for j in tqdm(range(1,11)):\n",
    "#         element2 = driver.find_element_by_xpath('//*[@id=\"year_{}\"]'.format(str(j))) # 년도 선택\n",
    "#         driver.execute_script(\"arguments[0].click();\", element2) \n",
    "#         for k in tqdm(range(1,13)):\n",
    "#             element3 = driver.find_element_by_xpath('//*[@id=\"month_{}\"]'.format(str(k))) # 월 선택\n",
    "#             driver.execute_script(\"arguments[0].click();\", element3)\n",
    "#             time.sleep(5)\n",
    "#             if (i==3 and (j in range(6,11)) ):##2004년까지\n",
    "#                 element4 = driver.find_element_by_xpath('//*[@id=\"gnr_1\"]')  # 장르 선택\n",
    "#                 driver.execute_script(\"arguments[0].click();\", element4)\n",
    "#                 time.sleep(5)\n",
    "#                 driver.find_element_by_xpath('//*[@id=\"d_srch_form\"]/div[2]/button').click()\n",
    "#                 time.sleep(5)\n",
    "#                 html = driver.page_source\n",
    "#                 soup = BeautifulSoup(html, 'html.parser')\n",
    "#                 for l in soup.find_all('input',{'name':\"input_check\"}):\n",
    "#                     name.append(l.get('title')[:-5])\n",
    "#                     code.append(l.get('value'))       \n",
    "#             else :  # 2005년 ~2019년 12월\n",
    "#                 element5 = driver.find_element_by_xpath('//*[@id=\"gnr_2\"]')\n",
    "#                 time.sleep(5)\n",
    "#                 driver.execute_script(\"arguments[0].click();\", element5) # 장르 선택\n",
    "#                 time.sleep(5)\n",
    "#                 driver.find_element_by_xpath('//*[@id=\"d_srch_form\"]/div[2]/button').click()\n",
    "#                 html = driver.page_source\n",
    "#                 soup = BeautifulSoup(html, 'html.parser')\n",
    "#                 for l in soup.find_all('input',{'name':\"input_check\"}):\n",
    "#                     name.append(l.get('title')[:-5])\n",
    "#                     code.append(l.get('value'))\n",
    "#                     rankDATE.append('20{}{}년 {}월'.format((3-i),(10-j),k))\n",
    "               "
   ]
  },
  {
   "cell_type": "markdown",
   "metadata": {},
   "source": [
    "### 2020년 top100차트 가져오기"
   ]
  },
  {
   "cell_type": "code",
   "execution_count": 213,
   "metadata": {},
   "outputs": [
    {
     "data": {
      "application/vnd.jupyter.widget-view+json": {
       "model_id": "4d8df66e0549496298b5a409b0c694f5",
       "version_major": 2,
       "version_minor": 0
      },
      "text/plain": [
       "HBox(children=(FloatProgress(value=0.0, max=7.0), HTML(value='')))"
      ]
     },
     "metadata": {},
     "output_type": "display_data"
    },
    {
     "name": "stdout",
     "output_type": "stream",
     "text": [
      "\n"
     ]
    }
   ],
   "source": [
    "# ##2020년\n",
    "# # 홈페이지 접속\n",
    "# # options = webdriver.ChromeOptions()\n",
    "# # options.add_argument('headless')    # 웹 브라우저를 띄우지 않는 headless chrome 옵션 적용\n",
    "# # options.add_argument('disable-gpu')    # GPU 사용 안함\n",
    "# # options.add_argument('lang=ko_KR')    # 언어 설정\n",
    "# name2=[]\n",
    "# code2=[]\n",
    "# date=[]\n",
    "# driver = webdriver.Chrome('../chromedriver.exe') #  옵션 적용\n",
    "# driver.get('https://www.melon.com/chart/month/index.htm')\n",
    "# driver.find_element_by_xpath('//*[@id=\"conts\"]/div[3]/div/button').click()\n",
    "# driver.find_element_by_xpath('//*[@id=\"conts\"]/div[3]/div/div/dl/dd[2]/a').click()\n",
    "# driver.find_element_by_xpath('//*[@id=\"d_chart_search\"]/div/h4[2]/a').click()# 월별 차트 클릭\n",
    "# time.sleep(1)\n",
    "# element = driver.find_element_by_xpath('//*[@id=\"decade_1\"]') #년대 선택\n",
    "# driver.execute_script(\"arguments[0].click();\", element) \n",
    "# time.sleep(3)\n",
    "# element2 = driver.find_element_by_xpath('/html/body/div/div[3]/div/div/form/div[1]/div/div/div[2]/div[1]/ul/li/span/input') # 년도 선택\n",
    "# driver.execute_script(\"arguments[0].click();\", element2) \n",
    "\n",
    "# for k in tqdm(range(1,8)):\n",
    "#             element3 = driver.find_element_by_xpath('//*[@id=\"month_{}\"]'.format(str(k))) # 월 선택\n",
    "#             driver.execute_script(\"arguments[0].click();\", element3)\n",
    "#             time.sleep(1)\n",
    "#             element4 = driver.find_element_by_xpath('//*[@id=\"gnr_2\"]')  # 장르 선택\n",
    "#             time.sleep(1)\n",
    "#             driver.execute_script(\"arguments[0].click();\", element4)\n",
    "#             driver.find_element_by_xpath('//*[@id=\"d_srch_form\"]/div[2]/button').click()\n",
    "#             html = driver.page_source\n",
    "#             soup = BeautifulSoup(html, 'html.parser')\n",
    "#             for l in soup.find_all('input',{'name':\"input_check\"}):\n",
    "#                 name2.append(l.get('title')[:-5])\n",
    "#                 code2.append(l.get('value'))\n"
   ]
  },
  {
   "cell_type": "markdown",
   "metadata": {},
   "source": [
    "#### 2000~2019년 곡정보 + 2020년 곡 이름,코드 하나의 데이터프레임으로 합치기"
   ]
  },
  {
   "cell_type": "code",
   "execution_count": 8,
   "metadata": {
    "scrolled": true
   },
   "outputs": [],
   "source": [
    "import pandas as pd\n",
    "import numpy as np\n",
    "# df = pd.DataFrame(name,code).reset_index()\n",
    "# df2 = pd.DataFrame(name2,code2).reset_index()\n",
    "# df3= pd.concat([df,df2])\n",
    "# df3.columns =['code','name']"
   ]
  },
  {
   "cell_type": "code",
   "execution_count": 227,
   "metadata": {},
   "outputs": [
    {
     "data": {
      "text/plain": [
       "7760"
      ]
     },
     "execution_count": 227,
     "metadata": {},
     "output_type": "execute_result"
    }
   ],
   "source": [
    "len(df3.code.unique())"
   ]
  },
  {
   "cell_type": "markdown",
   "metadata": {},
   "source": [
    "#### 2000년~2020년의 데이터 중복제거"
   ]
  },
  {
   "cell_type": "code",
   "execution_count": 248,
   "metadata": {
    "scrolled": true
   },
   "outputs": [],
   "source": [
    "# top100=df3.drop_duplicates(['code']).reset_index(drop=True)"
   ]
  },
  {
   "cell_type": "markdown",
   "metadata": {},
   "source": [
    "#### csv파일로 저장"
   ]
  },
  {
   "cell_type": "code",
   "execution_count": 321,
   "metadata": {},
   "outputs": [],
   "source": [
    "df3.to_csv(\"곡이름코드원본.csv\",encoding='cp949',index=False)\n",
    "top100.to_csv(\"곡이름코드.csv\",encoding='cp949',index=False)\n",
    "# df.to_csv(\"곡이름.csv\")"
   ]
  },
  {
   "cell_type": "code",
   "execution_count": 11,
   "metadata": {},
   "outputs": [
    {
     "data": {
      "text/html": [
       "<div>\n",
       "<style scoped>\n",
       "    .dataframe tbody tr th:only-of-type {\n",
       "        vertical-align: middle;\n",
       "    }\n",
       "\n",
       "    .dataframe tbody tr th {\n",
       "        vertical-align: top;\n",
       "    }\n",
       "\n",
       "    .dataframe thead th {\n",
       "        text-align: right;\n",
       "    }\n",
       "</style>\n",
       "<table border=\"1\" class=\"dataframe\">\n",
       "  <thead>\n",
       "    <tr style=\"text-align: right;\">\n",
       "      <th></th>\n",
       "      <th>code</th>\n",
       "      <th>name</th>\n",
       "    </tr>\n",
       "  </thead>\n",
       "  <tbody>\n",
       "    <tr>\n",
       "      <th>0</th>\n",
       "      <td>31532643</td>\n",
       "      <td>넘쳐흘러</td>\n",
       "    </tr>\n",
       "    <tr>\n",
       "      <th>1</th>\n",
       "      <td>31532438</td>\n",
       "      <td>벌써 12시</td>\n",
       "    </tr>\n",
       "    <tr>\n",
       "      <th>2</th>\n",
       "      <td>31477685</td>\n",
       "      <td>180도</td>\n",
       "    </tr>\n",
       "    <tr>\n",
       "      <th>3</th>\n",
       "      <td>31406357</td>\n",
       "      <td>신용재</td>\n",
       "    </tr>\n",
       "    <tr>\n",
       "      <th>4</th>\n",
       "      <td>31417871</td>\n",
       "      <td>SOLO</td>\n",
       "    </tr>\n",
       "    <tr>\n",
       "      <th>...</th>\n",
       "      <td>...</td>\n",
       "      <td>...</td>\n",
       "    </tr>\n",
       "    <tr>\n",
       "      <th>7755</th>\n",
       "      <td>32620704</td>\n",
       "      <td>Poppin'</td>\n",
       "    </tr>\n",
       "    <tr>\n",
       "      <th>7756</th>\n",
       "      <td>32620703</td>\n",
       "      <td>Underwater</td>\n",
       "    </tr>\n",
       "    <tr>\n",
       "      <th>7757</th>\n",
       "      <td>32665408</td>\n",
       "      <td>작사가</td>\n",
       "    </tr>\n",
       "    <tr>\n",
       "      <th>7758</th>\n",
       "      <td>32620701</td>\n",
       "      <td>R U Ridin'?</td>\n",
       "    </tr>\n",
       "    <tr>\n",
       "      <th>7759</th>\n",
       "      <td>32620705</td>\n",
       "      <td>Ghost</td>\n",
       "    </tr>\n",
       "  </tbody>\n",
       "</table>\n",
       "<p>7760 rows × 2 columns</p>\n",
       "</div>"
      ],
      "text/plain": [
       "          code         name\n",
       "0     31532643         넘쳐흘러\n",
       "1     31532438       벌써 12시\n",
       "2     31477685         180도\n",
       "3     31406357          신용재\n",
       "4     31417871         SOLO\n",
       "...        ...          ...\n",
       "7755  32620704      Poppin'\n",
       "7756  32620703   Underwater\n",
       "7757  32665408          작사가\n",
       "7758  32620701  R U Ridin'?\n",
       "7759  32620705        Ghost\n",
       "\n",
       "[7760 rows x 2 columns]"
      ]
     },
     "execution_count": 11,
     "metadata": {},
     "output_type": "execute_result"
    }
   ],
   "source": [
    "df = pd.read_csv(\"곡이름코드.csv\",encoding='cp949')\n",
    "df"
   ]
  },
  {
   "cell_type": "markdown",
   "metadata": {},
   "source": [
    "### 2000년~2020년의 곡이름에 대한 정보(가사, 가수,장르,댓글정보, 발매일) 가져오기"
   ]
  },
  {
   "cell_type": "code",
   "execution_count": null,
   "metadata": {},
   "outputs": [],
   "source": [
    "lylicks=[]\n",
    "artist=[]\n",
    "date=[]\n",
    "comment=[]\n",
    "for i in top100['code']:\n",
    "    html='https://www.melon.com/song/detail.htm?songId={}'.format(i)\n",
    "    "
   ]
  },
  {
   "cell_type": "code",
   "execution_count": 20,
   "metadata": {
    "scrolled": true
   },
   "outputs": [
    {
     "data": {
      "text/plain": [
       "[]"
      ]
     },
     "execution_count": 20,
     "metadata": {},
     "output_type": "execute_result"
    }
   ],
   "source": [
    "lyric=[]\n",
    "artist=[]\n",
    "date=[]\n",
    "comment=[]\n",
    "genre=[]\n",
    "driver = webdriver.Chrome('./chromedriver.exe') #  옵션 적용\n",
    "driver.get('https://www.melon.com/song/detail.htm?songId=32224272')\n",
    "html = driver.page_source\n",
    "soup = BeautifulSoup(html, 'html.parser')\n",
    "artist.append(soup.find('div',class_='artist').text)\n",
    "date.append(soup.select('#downloadfrm > div > div > div.entry > div.meta > dl.list > dd')[1].text)\n",
    "genre.append(soup.select('#downloadfrm > div > div > div.entry > div.meta > dl.list > dd')[2].text)\n",
    "lyric.append(soup.find('div',class_='lyric').text)\n",
    "driver.find_element_by_xpath('//*[@id=\"d_cmtpgn_cmt_count_wrapper\"]/ul/li[2]/a').click()\n",
    "time.sleep(2)\n",
    "html = driver.page_source\n",
    "soup = BeautifulSoup(html, 'html.parser')\n",
    "soup.select('#d_cmtpgn_cmt_list_wrapper > ul > li:nth-child(100)')\n"
   ]
  },
  {
   "cell_type": "code",
   "execution_count": 98,
   "metadata": {
    "scrolled": true
   },
   "outputs": [
    {
     "data": {
      "text/plain": [
       "[<div class=\"cntt\"> <div class=\"cmt_text d_cmtpgn_cmt_full_contents\" style=\"-ms-word-break: break-all; word-break: break-all; word-break: break-word; word-wrap:break-word; -webkit-hyphens: auto; -ms-hyphens: auto; hyphens: auto; display:block\"> <div class=\"cmt_cont\"> <span class=\"none\">내용</span> </div>\t\t\t\t\t\t\t\t\t\t우리 로제도 솔로 데뷔 시켜주세요\t</div> </div>,\n",
       " <div class=\"cntt\"> <div class=\"cmt_text d_cmtpgn_cmt_full_contents\" style=\"-ms-word-break: break-all; word-break: break-all; word-break: break-word; word-wrap:break-word; -webkit-hyphens: auto; -ms-hyphens: auto; hyphens: auto; display:block\"> <div class=\"cmt_cont\"> <span class=\"none\">내용</span> </div>\t\t\t\t\t\t\t\t\t\t노래가 제니빨<br/>제니가 학교종이 땡땡만 불러도 멜론 100위 권 진입은 할 듯.\t</div> </div>,\n",
       " <div class=\"cntt\"> <div class=\"cmt_text d_cmtpgn_cmt_full_contents\" style=\"-ms-word-break: break-all; word-break: break-all; word-break: break-word; word-wrap:break-word; -webkit-hyphens: auto; -ms-hyphens: auto; hyphens: auto; display:block\"> <div class=\"cmt_cont\"> <span class=\"none\">내용</span> </div>\t\t\t\t\t\t\t\t\t\tㅋㅋㅋ노래 제목이 솔로라서 제니도 솔로여야 한다는 것들은 그걸 드립이라고 치는건지 생각이 덜 자란 건지 진심 모르겠네\t</div> </div>,\n",
       " <div class=\"cntt\"> <div class=\"cmt_text d_cmtpgn_cmt_full_contents\" style=\"-ms-word-break: break-all; word-break: break-all; word-break: break-word; word-wrap:break-word; -webkit-hyphens: auto; -ms-hyphens: auto; hyphens: auto; display:block\"> <div class=\"cmt_cont\"> <span class=\"none\">내용</span> </div>\t\t\t\t\t\t\t\t\t\t블랙핑크의 제니라는 가수가 불렀다는 걸 제외하고 봤을 때 지극히 평범한 곡일뿐인 곡인데, 예를 들면 후렴부분도 너무 약하고... 솔직히 이 정도면 노래가 제니 빨을 받았다고 할 수 밖에 없다.\t</div> </div>,\n",
       " <div class=\"cntt\"> <div class=\"cmt_text d_cmtpgn_cmt_full_contents\" style=\"-ms-word-break: break-all; word-break: break-all; word-break: break-word; word-wrap:break-word; -webkit-hyphens: auto; -ms-hyphens: auto; hyphens: auto; display:block\"> <div class=\"cmt_cont\"> <span class=\"none\">내용</span> </div>\t\t\t\t\t\t\t\t\t\t솔로 불렀다고 어이 없다고? 심장이 없어 부른 애한테 심장이 있는 데 왜 부르냐고는 왜 안하냐 ㅋㅋㅋ\t</div> </div>,\n",
       " <div class=\"cntt\"> <div class=\"cmt_text d_cmtpgn_cmt_full_contents\" style=\"-ms-word-break: break-all; word-break: break-all; word-break: break-word; word-wrap:break-word; -webkit-hyphens: auto; -ms-hyphens: auto; hyphens: auto; display:block\"> <div class=\"cmt_cont\"> <span class=\"none\">내용</span> </div>\t\t\t\t\t\t\t\t\t\t빛이 나는 솔로<br/>=Bitxh i'm solo<br/>=x년아 나는 솔로야 그래서 어쩔꺼<br/><br/>가사 노림수 보소 ㄷㄷ\t</div> </div>,\n",
       " <div class=\"cntt\"> <div class=\"cmt_text d_cmtpgn_cmt_full_contents\" style=\"-ms-word-break: break-all; word-break: break-all; word-break: break-word; word-wrap:break-word; -webkit-hyphens: auto; -ms-hyphens: auto; hyphens: auto; display:block\"> <div class=\"cmt_cont\"> <span class=\"none\">내용</span> </div>\t\t\t\t\t\t\t\t\t\t노래 다 좋고 계속 듣고있는데 태도논란에 대한 부분은 쉴드칠게 아니라 팬들이 나서서 고치도록 해줘야할것같음. 누가봐도 대충추는데 아니라고 해봤자 여론만 안좋아질듯. 나머지는 아티스트적인 부분으로서도 응원함\t</div> </div>,\n",
       " <div class=\"cntt\"> <div class=\"cmt_text d_cmtpgn_cmt_full_contents\" style=\"-ms-word-break: break-all; word-break: break-all; word-break: break-word; word-wrap:break-word; -webkit-hyphens: auto; -ms-hyphens: auto; hyphens: auto; display:block\"> <div class=\"cmt_cont\"> <span class=\"none\">내용</span> </div>\t\t\t\t\t\t\t\t\t\t내 가수가 못 이뤄본것들 다른 가수가 이루면 조작이고 사재기죠? 하루 빨리 현실을 받아들이는게 본인한테도 좋지 않을까요<div class=\"wrap_cmt_box_thum d_cmtpgn_atach_box\" data-atach-type=\"image\"> <div class=\"cmt_box_image\"> <div class=\"cmt_thumb_wrap\"> <a class=\"thumb d_cmtpgn_atach_content d_cmtpgn_atach_content_image\" href=\"https://cmtimg.melon.co.kr/20181125/482/29/153931_171.jpg/melon/resize/496x496&gt;/quality/80/optimize\" title=\"이미지 원본보기\"> <img alt=\"\" height=\"120\" onerror=\"WEBPOCIMG.defaultPhotoImg(this,120);\" src=\"https://cmtimg.melon.co.kr/20181125/482/29/153931_171.jpg/melon/resize/192x192/quality/80/optimize\" width=\"120\"/><span class=\"thumb_frame\"></span><span class=\"wrap_vertical\"></span><span class=\"icon\"></span><span class=\"icon_viewlk_image\"></span> </a> </div> </div> </div> </div> </div>,\n",
       " <div class=\"cntt\"> <div class=\"cmt_text d_cmtpgn_cmt_full_contents\" style=\"-ms-word-break: break-all; word-break: break-all; word-break: break-word; word-wrap:break-word; -webkit-hyphens: auto; -ms-hyphens: auto; hyphens: auto; display:block\"> <div class=\"cmt_cont\"> <span class=\"none\">내용</span> </div>\t\t\t\t\t\t\t\t\t\t도입부는 좋은데 뒤로 갈수록 너무 아쉽다. 그냥 테디 노래 짬♩시켜놓은 느낌.<br/>특히 solo-lo-lo-lo 이부분 듣고 완성도 확 떨어지는 느낌 받음.. 대충 만든 것 같다 제니의 넘치는 끼에 비해ㅠ\t</div> </div>,\n",
       " <div class=\"cntt\"> <div class=\"cmt_text d_cmtpgn_cmt_full_contents\" style=\"-ms-word-break: break-all; word-break: break-all; word-break: break-word; word-wrap:break-word; -webkit-hyphens: auto; -ms-hyphens: auto; hyphens: auto; display:block\"> <div class=\"cmt_cont\"> <span class=\"none\">내용</span> </div>\t\t\t\t\t\t\t\t\t\t1.김제니 첫 솔로 컴백으로 멜론 진입 1위<br/>2.김제니 첫 솔로 컴백으로 한국 음원 사이트 8대 1위 올킬<br/>3.김제니 첫 솔로 컴백으로 전 세계 40개국 1위<br/>4.김제니 첫 솔로 컴백으로 미국 아이튠즈 7위<br/>5.김제니 첫 솔로 컴백으로 아이튠즈 월드와이드 송 일간 1위(우리나라 여성 솔로가수 최초 1위)<br/>6.김제니 첫 솔로 컴백으로 영국 유튜브 트렌딩 1위<div class=\"wrap_cmt_box_thum d_cmtpgn_atach_box\" data-atach-type=\"image\"> <div class=\"cmt_box_image\"> <div class=\"cmt_thumb_wrap\"> <a class=\"thumb d_cmtpgn_atach_content d_cmtpgn_atach_content_image\" href=\"https://cmtimg.melon.co.kr/20181113/482/29/202545_341.jpg/melon/resize/496x496&gt;/quality/80/optimize\" title=\"이미지 원본보기\"> <img alt=\"\" height=\"120\" onerror=\"WEBPOCIMG.defaultPhotoImg(this,120);\" src=\"https://cmtimg.melon.co.kr/20181113/482/29/202545_341.jpg/melon/resize/192x192/quality/80/optimize\" width=\"120\"/><span class=\"thumb_frame\"></span><span class=\"wrap_vertical\"></span><span class=\"icon\"></span><span class=\"icon_viewlk_image\"></span> </a> </div> </div> </div> </div> </div>,\n",
       " <div class=\"cntt\"> <div class=\"reprt\"> <div class=\"heading\"> <p class=\"txt1\">신고는 반대의견을 표시하는 기능이 아닙니다.</p> <p class=\"txt2\">신고 대신 반대의견이나 답글을 적어 보시는 것은 어떨까요?<br/>허위신고일 경우, 신고자의 서비스 활동이 제한될 수 있습니다.</p> </div> <ul class=\"entry\"> <li class=\"item d_input_check on\"> <label><input checked=\"checked\" class=\"input_check\" id=\"option1\" name=\"reprt_radio\" type=\"radio\" value=\"advrt\"/><span class=\"icon\"></span>영리목적/홍보성</label> </li> <li class=\"item d_input_check\"> <label><input class=\"input_check\" id=\"option2\" name=\"reprt_radio\" type=\"radio\" value=\"badinfo\"/><span class=\"icon\"></span>불법정보</label> </li> <li class=\"item d_input_check\"> <label><input class=\"input_check\" id=\"option3\" name=\"reprt_radio\" type=\"radio\" value=\"badthing\"/><span class=\"icon\"></span>음란성/선정성</label> </li> <li class=\"item d_input_check\"> <label><input class=\"input_check\" id=\"option4\" name=\"reprt_radio\" type=\"radio\" value=\"abuse\"/><span class=\"icon\"></span>욕설/인신공격</label> </li> <li class=\"item d_input_check\"> <label><input class=\"input_check\" id=\"option5\" name=\"reprt_radio\" type=\"radio\" value=\"privacyd\"/><span class=\"icon\"></span>개인정보노출</label> </li> <li class=\"item d_input_check\"> <label><input class=\"input_check\" id=\"option6\" name=\"reprt_radio\" type=\"radio\" value=\"papering\"/><span class=\"icon\"></span>같은 내용 도배</label> </li> <li class=\"item etc d_input_check\"> <label><input class=\"input_check\" id=\"option7\" name=\"reprt_radio\" type=\"radio\" value=\"etc\"/><span class=\"icon\"></span>기타</label> <div class=\"text-area-wrap\"> <textarea cols=\"30\" disabled=\"\" id=\"d_cmtpgn_reprt_reson\" name=\"\" placeholder=\"기타 항목 선택 후 입력해 주세요.\" readonly=\"readonly\" rows=\"10\"></textarea> <span class=\"count\"><em>0</em> / 80자</span> </div> </li> <li class=\"item d_input_check\"> <label><input class=\"input_check\" id=\"option8\" name=\"reprt_radio\" type=\"radio\" value=\"breakright\"/><span class=\"icon\"></span>권리침해신고</label> </li> </ul> <p class=\"alert\">명예훼손, 저작권 등 권리침해 신고는 <a href=\"https://www.kakao.com/policy/right\">권리침해신고 사이트</a>에서 증빙서류를 다운받아 작성 후 <a href=\"https://cs.kakao.com/requests?category=63&amp;locale=ko&amp;service=41\">고객센터</a>로 추가 접수해주세요.</p> <div class=\"button_group half center\"> <button class=\"btn gray\" type=\"button\">확인</button> </div> </div> </div>]"
      ]
     },
     "execution_count": 98,
     "metadata": {},
     "output_type": "execute_result"
    }
   ],
   "source": [
    "soup.find_all('div',class_='cntt')[4:15]"
   ]
  },
  {
   "cell_type": "code",
   "execution_count": null,
   "metadata": {},
   "outputs": [],
   "source": [
    "soup.select()"
   ]
  },
  {
   "cell_type": "code",
   "execution_count": 115,
   "metadata": {},
   "outputs": [],
   "source": [
    "lyric=[]\n",
    "artist=[]\n",
    "date=[]\n",
    "comment=[]\n",
    "commentlist=[]\n",
    "genre=[]\n",
    "hdr = { 'User-Agent' : 'Mozilla/5.0'} #헤더설정\n",
    "url = 'https://www.melon.com/song/detail.htm?songId=31417871' ## 가사, 가수, 날짜, 장르에 대한 정보 \n",
    "req = urllib.request.Request(url, headers=hdr)\n",
    "html=urllib.request.urlopen(req).read()\n",
    "soup = BeautifulSoup(html,'html.parser')\n",
    "artist.append(soup.find('div',class_='artist').text)\n",
    "date.append(soup.select('#downloadfrm > div > div > div.entry > div.meta > dl.list > dd')[1].text)\n",
    "genre.append(soup.select('#downloadfrm > div > div > div.entry > div.meta > dl.list > dd')[2].text)\n",
    "lyric.append(soup.find('div',class_='lyric').text)\n",
    "# 댓글에 대한 정보, 동적인 페이지라 driver사용\n",
    "for i in range(1,10):\n",
    "    url2 = 'https://www.melon.com/song/detail.htm?songId=31417871#cmtpgn=&pageNo={}&sortType=1&srchType=2&srchWord'.format(i)\n",
    "    driver = webdriver.Chrome('./chromedriver.exe') #  옵션 적용\n",
    "    driver.get(url2)\n",
    "    html = driver.page_source\n",
    "    soup = BeautifulSoup(html,'html.parser')\n",
    "    for i in soup.find_all('div',class_='cntt')[4:14]:\n",
    "        comment.append(i.text)\n",
    "commentlist.append(comment)"
   ]
  },
  {
   "cell_type": "code",
   "execution_count": 117,
   "metadata": {},
   "outputs": [
    {
     "data": {
      "text/plain": [
       "['랩/힙합']"
      ]
     },
     "execution_count": 117,
     "metadata": {},
     "output_type": "execute_result"
    }
   ],
   "source": [
    "genre"
   ]
  },
  {
   "cell_type": "code",
   "execution_count": 112,
   "metadata": {
    "scrolled": false
   },
   "outputs": [
    {
     "data": {
      "text/plain": [
       "'진짜 트빡이들 1위뺏기니까 악플다는거봐 개역겹네 ㅋㅋㅋㅋ진짜 한심하다'"
      ]
     },
     "execution_count": 112,
     "metadata": {},
     "output_type": "execute_result"
    }
   ],
   "source": [
    "soup.find_all('div',class_='cntt')[7].text[16:-2]"
   ]
  },
  {
   "cell_type": "code",
   "execution_count": 102,
   "metadata": {},
   "outputs": [
    {
     "data": {
      "text/plain": [
       "[['   내용 \\t\\t\\t\\t\\t\\t\\t\\t\\t\\t우리 로제도 솔로 데뷔 시켜주세요\\t ',\n",
       "  '   내용 \\t\\t\\t\\t\\t\\t\\t\\t\\t\\t노래가 제니빨제니가 학교종이 땡땡만 불러도 멜론 100위 권 진입은 할 듯.\\t ',\n",
       "  '   내용 \\t\\t\\t\\t\\t\\t\\t\\t\\t\\tㅋㅋㅋ노래 제목이 솔로라서 제니도 솔로여야 한다는 것들은 그걸 드립이라고 치는건지 생각이 덜 자란 건지 진심 모르겠네\\t ',\n",
       "  '   내용 \\t\\t\\t\\t\\t\\t\\t\\t\\t\\t블랙핑크의 제니라는 가수가 불렀다는 걸 제외하고 봤을 때 지극히 평범한 곡일뿐인 곡인데, 예를 들면 후렴부분도 너무 약하고... 솔직히 이 정도면 노래가 제니 빨을 받았다고 할 수 밖에 없다.\\t ',\n",
       "  '   내용 \\t\\t\\t\\t\\t\\t\\t\\t\\t\\t솔로 불렀다고 어이 없다고? 심장이 없어 부른 애한테 심장이 있는 데 왜 부르냐고는 왜 안하냐 ㅋㅋㅋ\\t ',\n",
       "  \"   내용 \\t\\t\\t\\t\\t\\t\\t\\t\\t\\t빛이 나는 솔로=Bitxh i'm solo=x년아 나는 솔로야 그래서 어쩔꺼가사 노림수 보소 ㄷㄷ\\t \",\n",
       "  '   내용 \\t\\t\\t\\t\\t\\t\\t\\t\\t\\t노래 다 좋고 계속 듣고있는데 태도논란에 대한 부분은 쉴드칠게 아니라 팬들이 나서서 고치도록 해줘야할것같음. 누가봐도 대충추는데 아니라고 해봤자 여론만 안좋아질듯. 나머지는 아티스트적인 부분으로서도 응원함\\t ',\n",
       "  '   내용 \\t\\t\\t\\t\\t\\t\\t\\t\\t\\t내 가수가 못 이뤄본것들 다른 가수가 이루면 조작이고 사재기죠? 하루 빨리 현실을 받아들이는게 본인한테도 좋지 않을까요          ',\n",
       "  '   내용 \\t\\t\\t\\t\\t\\t\\t\\t\\t\\t도입부는 좋은데 뒤로 갈수록 너무 아쉽다. 그냥 테디 노래 짬♩시켜놓은 느낌.특히 solo-lo-lo-lo 이부분 듣고 완성도 확 떨어지는 느낌 받음.. 대충 만든 것 같다 제니의 넘치는 끼에 비해ㅠ\\t ',\n",
       "  '   내용 \\t\\t\\t\\t\\t\\t\\t\\t\\t\\t1.김제니 첫 솔로 컴백으로 멜론 진입 1위2.김제니 첫 솔로 컴백으로 한국 음원 사이트 8대 1위 올킬3.김제니 첫 솔로 컴백으로 전 세계 40개국 1위4.김제니 첫 솔로 컴백으로 미국 아이튠즈 7위5.김제니 첫 솔로 컴백으로 아이튠즈 월드와이드 송 일간 1위(우리나라 여성 솔로가수 최초 1위)6.김제니 첫 솔로 컴백으로 영국 유튜브 트렌딩 1위          ',\n",
       "  '   내용 \\t\\t\\t\\t\\t\\t\\t\\t\\t\\t아이코닉인데 개인적으로 와지아티스트 다 좋아하고  노래 다 믿는데 제니솔로 오래기다렸네요ㅎㅎ너무 기대됐는데 도입부 듣자마자 하트랑 평점 별5개 바로 눌렀어요ㅋㅋㅋ 블랙핑크 너무 이쁘고 진짜 개 좋아요 남자였음 블링크였을겁니다. 진짜로 1위하세용 블핑 블링크 화이팅!!아이콘노래 사이에 껴서 스밍할게요!          재생 다운로드    곡명 SOLO    아티스트명  제니 (JENNIE) 제니 (JENNIE)     앨범명 SOLO       ',\n",
       "  '  재생 다운로드    곡명 SOLO    아티스트명  제니 (JENNIE) 제니 (JENNIE)     앨범명 SOLO   ',\n",
       "  '   내용 \\t\\t\\t\\t\\t\\t\\t\\t\\t\\t솔직히 1 위할 노래는 아닌것 같은데\\t ',\n",
       "  '   내용 \\t\\t\\t\\t\\t\\t\\t\\t\\t\\t천사득...❤❤❤❤❤❤          ',\n",
       "  '   내용 \\t\\t\\t\\t\\t\\t\\t\\t\\t\\t제 2의 붙이는 건 별로 안 좋아하지만 블핑이야 말로 와이지 먹여살릴 빅뱅이 되진 않을지,, 나머지 보이그룹들은 그에 비해 성적이 아쉬운데 솔로가 이 정도면 진짜 대박\\t ',\n",
       "  '   내용 \\t\\t\\t\\t\\t\\t\\t\\t\\t\\t솔로 가지고 뭐라하는데 이거 테디가 작사 작곡한건데 제니가 곡 받을때 테디한테 \"저 솔로 아니라서 이 곡 안 할게요\" 라고 해야되냐??\\t ',\n",
       "  '   내용 \\t\\t\\t\\t\\t\\t\\t\\t\\t\\t제니야 이빨닦을때 뭘로닦아??빛이 나는 솔로\\t ',\n",
       "  '   내용 \\t\\t\\t\\t\\t\\t\\t\\t\\t\\t그냥 제니여서 1위인거지 ..ㅋㅋ\\t ',\n",
       "  '   내용 \\t\\t\\t\\t\\t\\t\\t\\t\\t\\t사람들이 왜 이렇게 팝송을 따라한다고뭐라하는지 이해가 안 감.솔직히 팬도 아니고 안티도 아닌 입장에서노래가 엄청 좋다고는 못하겠으나제니가 그만큼 소화를 잘 했고 제니의 목소리나 창법 같은 걸 봤을때도우리나라 정서의 음악보다 해외팝 같은 분위기의 노래가 더 잘 어울린다는걸 그만큼 알고 거기에 맞춰노래를 만든 것이라고 생각함.\\t ',\n",
       "  '   내용 \\t\\t\\t\\t\\t\\t\\t\\t\\t\\t진입 1위... 개쩐다\\t ',\n",
       "  '   내용 \\t\\t\\t\\t\\t\\t\\t\\t\\t\\t노래는 걍 무난한데 1위는 노이해\\t ',\n",
       "  '   내용 \\t\\t\\t\\t\\t\\t\\t\\t\\t\\t이런 소모적인 노래가 왜 뜨는지모르겠네...\\t ',\n",
       "  '   내용 \\t\\t\\t\\t\\t\\t\\t\\t\\t\\t확실히 블랙핑크는 멤버별 개성이 뚜렷하네. 이 네명이 합쳐졌을때 시너지 효과를 내어서 블랙핑크만의 독보적인 색깔을 나타낼 수 있는거고\\t ',\n",
       "  '   내용 \\t\\t\\t\\t\\t\\t\\t\\t\\t\\t아 노래 별로다\\t ',\n",
       "  '   내용 \\t\\t\\t\\t\\t\\t\\t\\t\\t\\t솔직히 노래 좋은거 모르겠으..평범..한데 또들으러옴... 중독성 오지네\\t ',\n",
       "  '   내용 \\t\\t\\t\\t\\t\\t\\t\\t\\t\\t곡 구성좀 바꿔라 맨날 똑같은 래파토리냐\\t ',\n",
       "  '   내용 \\t\\t\\t\\t\\t\\t\\t\\t\\t\\t이거 가사 의도한거죠빛이 나는 솔로Bitch 나는솔로개 멋있는데\\t ',\n",
       "  '   내용 \\t\\t\\t\\t\\t\\t\\t\\t\\t\\t빛이나는 쏠로 ㅋㅋㅋㅋㅋㅋㅋㅋㅋㅋㅋㅋㅋㅋㅋㅋㅋㅋㅋㅋㅋㅋㅋㅋㅋㅋㅋㅋㅋㅋㅋㅋㅋㅋㅋㅋㅋㅋㅋㅋㅋㅋㅋㅋㅋㅋㅋㅋ제니야  너도 개웃기지???     카이야  너도웃겼겠다\\t ',\n",
       "  '   내용 \\t\\t\\t\\t\\t\\t\\t\\t\\t\\t댓수준 역겨울정도인데좋으면듣고 싫으면 꺼지지 굳이 남 1등하는꼴못봐서 빼애액대냐..꼭 지가 빠는연애인 조금이라도 비아냥대면 열폭오지게하면서 남 잘되는꼴은 또 못봐요ㅋ\\t ',\n",
       "  '   내용 \\t\\t\\t\\t\\t\\t\\t\\t\\t\\t그냥 활동해주는게 고마운건데 연예인을 여친 혹은 남친이라 생각하지 말자 좀;\\t ',\n",
       "  '   내용 \\t\\t\\t\\t\\t\\t\\t\\t\\t\\t제니 요즘 태도논란도 있었는데 열애설까지̆̈ 뜨니까 흠ㅋㅋ YG 금기사항이⃕ 연애라는데 멤버들한테 미안한 마음 가져야겟네요 퓨\\t ',\n",
       "  '   내용 \\t\\t\\t\\t\\t\\t\\t\\t\\t\\t테디 제발 해외 팝송에서 들어본 적 있는 비트들로 찌개 끓이지 말고,..\\t ',\n",
       "  '   내용 \\t\\t\\t\\t\\t\\t\\t\\t\\t\\t제니만의 매력을 완전히는 못살린 느낌. 곡이 너무 익숙해서 보니 역시나 테디. 기존 테디곡들 믹스해놓은 것 같다. 다른 가수들도 생각나고...  YG도 테디그늘서 살짝 벋어나야 좀 새로우려나. 개인적으로 좀 아쉽다.\\t ',\n",
       "  '   내용 \\t\\t\\t\\t\\t\\t\\t\\t\\t\\t공검 1도 안되는 노래 부르느라 고생했다\\t ',\n",
       "  '   내용 \\t\\t\\t\\t\\t\\t\\t\\t\\t\\t난 제니님도 솔로일줄 알았지... 갓제니도 솔크당 했는데 그냥 빛이 나는 솔로 청소한다는 거였어\\t ',\n",
       "  '   내용 \\t\\t\\t\\t\\t\\t\\t\\t\\t\\tk-pop스타들이 성공하니 되게 다 팝느낌으로 가네.. 영어가 더 많은듯.. 한국어가 지워져 가는 것 같아서 좀 씁슬하네 한국어도 충분히 성공 할 수 있는데 방탄처럼..\\t ',\n",
       "  '   내용 \\t\\t\\t\\t\\t\\t\\t\\t\\t\\t제니 남돌들이랑 맞짱오지게 잘뜬다\\t ',\n",
       "  '   내용 \\t\\t\\t\\t\\t\\t\\t\\t\\t\\tㅠㅠ로제도 빨리 솔로내주세요..\\t ',\n",
       "  '   내용 \\t\\t\\t\\t\\t\\t\\t\\t\\t\\t요근래 나온 노래 중에서 젤 좋은듯 ㄹㅇ 진입 1위 ㄱ\\t ',\n",
       "  '   내용 \\t\\t\\t\\t\\t\\t\\t\\t\\t\\t진짜 이런게 빌보드 가야된다 ♩♪ yg 스타일 너무 사랑해\\t ',\n",
       "  '   내용 \\t\\t\\t\\t\\t\\t\\t\\t\\t\\t제니버프 빼고 객관적으로 노래만 딱 들어도 평타이상으로 귀에 감기는데 이노래가 구리면 도대체 무슨음악을 들어야함????? 2080년도 노래들 들으세요?? 존ㅡ나 트렌디한데 유로냄새도 나고 도대체 무슨노래가 좋은 노래인지 대댓에 추천좀 해주세요 들어보게\\t ',\n",
       "  '   내용 \\t\\t\\t\\t\\t\\t\\t\\t\\t\\t음 뭐라해야되지 좋다안좋다 표현을 못하겟는 그런 곡....? 그냥 옷가게 배경음악같은 느낌\\t ',\n",
       "  '   내용 \\t\\t\\t\\t\\t\\t\\t\\t\\t\\t이게 좋나..뭐 개취지만.. 그냥 어렴풋이 이미지잡힌걸로미국에 팝아이돌따라하는거같은..\\t ',\n",
       "  '   내용 \\t\\t\\t\\t\\t\\t\\t\\t\\t\\t당분간 와이지는 걸그룹 만들지말고 블랙핑크만 푸쉬해라. 사실상 빅뱅 대체할 그룹은 블핑밖에 없다\\t ',\n",
       "  '   내용 \\t\\t\\t\\t\\t\\t\\t\\t\\t\\t갓제니!!!이따 학원 끝나고 10시쯤에 음원 필요하신분 선물해드릴게요 그때까지 잘 버텨줘야되는데 ㅠㅠ 받으신 분들 메세지 보내주세요^^(선물 완료했고, 문상 생기면 이 댓글에 쓰신 분 중에 또 드릴게요!!)\\t ',\n",
       "  '   내용 \\t\\t\\t\\t\\t\\t\\t\\t\\t\\t제니의 연애사건은 훗날 일어난 사건들에 비해선 아무것도 아니였음 솔직히ㅜㅋㅋ\\t ',\n",
       "  '   내용 \\t\\t\\t\\t\\t\\t\\t\\t\\t\\t분명 중독성 있고 아직 먹히는 스타일인건 맞는 듯 하지만 작년 선미 노래랑 비슷한 느낌을 지울수가 없다어디서 들어본 것 같고 곡 분위기 뿐만 아니라 의상이나 전반적인 무드도 다..\\t ',\n",
       "  \"   내용 \\t\\t\\t\\t\\t\\t\\t\\t\\t\\t흐어ㅓ.. 제니님 '솔로'곡 진입 1위..ㄷㄷ          재생 다운로드    곡명 SOLO    아티스트명  제니 (JENNIE) 제니 (JENNIE)     앨범명 SOLO       \",\n",
       "  '  재생 다운로드    곡명 SOLO    아티스트명  제니 (JENNIE) 제니 (JENNIE)     앨범명 SOLO   ',\n",
       "  '   내용 \\t\\t\\t\\t\\t\\t\\t\\t\\t\\t솔로 데뷔곡 화력 개쩐다\\t ',\n",
       "  '   내용 \\t\\t\\t\\t\\t\\t\\t\\t\\t\\t솔로 낸지 얼마나 됬다고 듀오 됬네 :;;;;;;\\t ',\n",
       "  '   내용 \\t\\t\\t\\t\\t\\t\\t\\t\\t\\t아니 제니가 솔로냈다고 실제로도 솔로여야하나,, 그냥 혼자일때가 가장 나답다 이런 내용 아니야..?? 블랙핑크 멤버한테 피해가는건 알겠는데 몇몇은 도가 지나치게 욕해ㅠㅠ\\t ',\n",
       "  '   내용 \\t\\t\\t\\t\\t\\t\\t\\t\\t\\t엑소 연차도 쌓여서 그만큼 팬들도 예전보다 더 성숙하게 응원해주는데 블핑은 아직 더 빛날텐데 열애설터지면 타격감은 클 것 같아요ㅜㅜ팬분들도 여러모로 상처입을 것 같고ㅠㅠ하지만 이미 둘의 청춘이고 선택이니 엑소엘로써 전 둘 응원해요!예쁘게 사랑했으면 좋겠고 악플보고 너무 신경 안 쓰셨으면 좋겠어요!\\t ',\n",
       "  '   내용 \\t\\t\\t\\t\\t\\t\\t\\t\\t\\t회사에서 욕먹는건당연하다 비지니스 관계에서 큰 규칙을 어겼으니 알게모르게 탈덕하는 팬들도 많을꺼고 이미지도 안 좋아질걸... 제니 블핑 다른멤버를한테 미안한마음은 가져야겠다ㅋㅋ\\t ',\n",
       "  '   내용 \\t\\t\\t\\t\\t\\t\\t\\t\\t\\t?? 별점테러가 왜 우리야 우리라는 증거 있어 ? 아 무슨일인가해서 와봤더니\\t ',\n",
       "  '   내용 \\t\\t\\t\\t\\t\\t\\t\\t\\t\\t발렌타인때 편의점에서 페레로로쉐사서 이 노래들으면서 까먹었는데 앞으로 10년은 더 거뜬히 빛날수있겠다는 자신감이 생겼습니다. 감사합니다.\\t ',\n",
       "  '   내용 \\t\\t\\t\\t\\t\\t\\t\\t\\t\\t연애하는건 그렇다치더라도 솔로라는 노래 이제 사람들이 듣고 싶을까 싶다 웃겨섴ㅋㅋㅋㅋ한국사람들 가사이입 중요하게 여기는데 뭐 컨셉과 아예 다르니 빛이 나는 커플 이럼서 풍자하면서 들을듯ㅋㅋ들으면 들을수록 제니한테는 마이너스\\t ',\n",
       "  '   내용 \\t\\t\\t\\t\\t\\t\\t\\t\\t\\t솔직히 인기빨 소속사빨이지\\t ',\n",
       "  '   내용 \\t\\t\\t\\t\\t\\t\\t\\t\\t\\t츄리챙만 불쌍\\t ',\n",
       "  '   내용 \\t\\t\\t\\t\\t\\t\\t\\t\\t\\t연애는 좋은데 걸리진 말았어야지~ㅠㅠ          ',\n",
       "  '   내용 \\t\\t\\t\\t\\t\\t\\t\\t\\t\\t카이랑 제니 둘다 귀티나게 생겨서 그런가 비주얼적으로 되게 잘 어울림 예쁜 연애했음 좋겠다\\t ',\n",
       "  '   내용 \\t\\t\\t\\t\\t\\t\\t\\t\\t\\t제니 데뷔 초 인기가요 방송당시 발목 90도로 꺾여서 응급실가고 수액맞으면서 활동하다가 일본 콘서트때 다친발목 무대 계단 내려오다 또 접지름 그날 휠체어 타고 퇴근 , 다음날 정해진 동선 못하고 무대 계단에 앉아서 노래했음 공항에서 다친쪽 큰 캐리어에 또 부딪힘 백댄서분들이랑 사진찍은거 보면 발목보호대 항상 하고있음 이런제니에게 무대마다 항상 킬힐 신기고\\t ',\n",
       "  '   내용 \\t\\t\\t\\t\\t\\t\\t\\t\\t\\t가사 좀 공감된다 ㅋㅋㅋㅋ 매일 연락하는 거 지쳐서 헤어지면 그 사람이 없어졌고 내가 일방적으로 관계를 끊었다는 것에 대한후회와 미안함에 매일 울면서 감정낭비한다는게 .. 진짜 부질없다\\t ',\n",
       "  '   내용 \\t\\t\\t\\t\\t\\t\\t\\t\\t\\t비추 별점테러 꼭 워너블이라고 생각안해주셨으면합니다\\t ',\n",
       "  '   내용 \\t\\t\\t\\t\\t\\t\\t\\t\\t\\t우와ㅋㅋㅋㄲ 우리가 느그들 별점테러했다는 증거 어딨는데ㅋㅋㅋㄱㅋㅋ 울지말고 천천히 증거가지고 와서 따지삼ㅜㅜ 나도 제니 노래 좋다고 말하고 다녔는데 되지도않는 헛논리 들이밀면서 자들자들...재밌냐?\\t ',\n",
       "  '   내용 \\t\\t\\t\\t\\t\\t\\t\\t\\t\\t또또 트xx스, 엑x 팬새기들 지들 열심히 무한스밍 했는데도 제니한테 순위 뺏긴것 때문에 열등감 생겨버려서 여기까지 와서 다른 사람들 댓글에 비추박고 튀어버리기~~ 정작 지들이 빠는 그룹 앨범엔 비추 1도없는데 지들보다 높은 순위면 꼭 와서 비추박고가죠~ ㄹㅇ 열등감 하나는 종특인듯ㅋㅋ\\t ',\n",
       "  '   내용 \\t\\t\\t\\t\\t\\t\\t\\t\\t\\tㄹㅇ 와이지는 테디 덕분에 일단 반 이상은 먹고 산다\\t ',\n",
       "  '   내용 \\t\\t\\t\\t\\t\\t\\t\\t\\t\\t이용자수 보니까 제니는 대중픽인듯 진짜 대단함 노래 너무 좋음 하루종일 귀에 맴돌고있음\\t ',\n",
       "  '   내용 \\t\\t\\t\\t\\t\\t\\t\\t\\t\\t노래가 ㄹㅇ 힙한 팝송같음.좋음.\\t ',\n",
       "  '   내용 \\t\\t\\t\\t\\t\\t\\t\\t\\t\\t솔로로 나오기엔 좀 부족한듯노래도 그닥...\\t ',\n",
       "  '   내용 \\t\\t\\t\\t\\t\\t\\t\\t\\t\\t음원순위 조작은 무슨 ㅋㅋㅋㅋ 뚜두뚜두랑 추이 완전 다른데 개소리야 지금 계속 1위하는 이유 유입이 엄청 많아서 그런 것 같은데 뭐만 하면 사재기니 뭐니 하지 좀 마라 어? 지 가수 1위 못한다고 지.랄이여. 더군다나 노래도 짧은데\\t ',\n",
       "  '   내용 \\t\\t\\t\\t\\t\\t\\t\\t\\t\\t시바 YG는 테디좀 갖다 버려라 맨날 똑같은곡만 만드냐 가수가 ㄹㅇ 아깝다\\t ',\n",
       "  '   내용 \\t\\t\\t\\t\\t\\t\\t\\t\\t\\t아니 노래가 이게 후달린다고...? ㅋㅋㅋㅋㅋㅋㅋㅋㅋㅋㅋㅋㅋㅋㅋ 진짜 완전 깔끔하고 무명가수가 불럿어도 역주행에서 최소 10위권안으로 갓음 ㅋㅋㅋㅋㅋㅋㅋㅋㅋ 어이없는 소리다 진짜 노래가 안좋다는건\\t ',\n",
       "  \"   내용 \\t\\t\\t\\t\\t\\t\\t\\t\\t\\t아니..진짜 궁금한건데 노래 제목으로 드립치는 이유가 대체 뭐지?? '솔로'라는 이 제목이 제니가 쓴 건 아니잖아요. 연애하겠다는데 그냥 이쁜 연애하게 두세요. 블랙핑크 분들도, 엑소엘도 대부분 인정하고 이쁘게 사귀라고 하는데 왜 제3자가 나서요? 드립칠게 없어서 노래 제목으로 드립이나 치고..어이가 없다 진짜.\\t \",\n",
       "  '   내용 \\t\\t\\t\\t\\t\\t\\t\\t\\t\\t후렴구는 뭐..좋은데 ㅜㅜ 징짜 너무 기대햇는데 아쉽다 곡이.. 제니음색이라 좀 사는거지 곡자채는 진짜 별로인거같은데..\\t ',\n",
       "  '   내용 \\t\\t\\t\\t\\t\\t\\t\\t\\t\\t빛이 나는 솔로 bitch로 들리게 하는거 너무 좋다ㅎㅎ\\t ',\n",
       "  '   내용 \\t\\t\\t\\t\\t\\t\\t\\t\\t\\t제니처럼 춤추면서 노래하고 랩하는 매력적인 여자 솔로가 우리나라에 누가 있을까나\\t ',\n",
       "  '   내용 \\t\\t\\t\\t\\t\\t\\t\\t\\t\\t제니... 내 기준 얼굴 실력 뭐 하나 안 빠지는데 우리나라에서 유난히 저평가 받지 ㅋㅋㅋ 배우들이랑 비교당하고 얼평질에 에효... 제니 영원하자ㅠ\\t ',\n",
       "  '   내용 \\t\\t\\t\\t\\t\\t\\t\\t\\t\\t워너블인데 이번 제니 신곡 진짜 좋네요 진짜 블랙핑크 노래는 꼭 들어보는데 역대급ㅠ솔로로도 성공하는 모습 너무 보기 좋아요ㅠ+일부 무개념때문에맘 상하시지 않길 바랍니다ㅠ저희쪽 어그로나 무개념 무시해주시고같이 열심히 덕질해요!워너블중에서 무개념은 지극히 일부라는거 알아주세요ㅠ 개념너블도 있습니다ㅠ워너원도 흥하고 제니도 흥하길♡\\t ',\n",
       "  '   내용 \\t\\t\\t\\t\\t\\t\\t\\t\\t\\t제니 생각보다 대단~~대중픽인듯\\t ',\n",
       "  '   내용 \\t\\t\\t\\t\\t\\t\\t\\t\\t\\t도대체 어떤부분에서 선미야?????????\\t ',\n",
       "  '   내용 \\t\\t\\t\\t\\t\\t\\t\\t\\t\\t조금은 아쉬운 노래지만 첫 데뷔치고는 존재의 클래스를 알리기에 충분했다.. 샤넬 귀걸이와 옷이 이렇게 잘 어울리는 사람은 처음임.. 타팬이지만 케이팝 팬으로서 제니는 인정 다음 컴백부터는 작사작곡에 직접 참여해 좀 더 아티스트다운 면모를 보여줬으면!\\t ',\n",
       "  '   내용 \\t\\t\\t\\t\\t\\t\\t\\t\\t\\t하나하나 반대 누르고 가는거 애잔하다\\t ',\n",
       "  '   내용 \\t\\t\\t\\t\\t\\t\\t\\t\\t\\t진짜 트빡이들 1위뺏기니까 악플다는거봐 개역겹네 ㅋㅋㅋㅋ진짜 한심하다\\t ',\n",
       "  '   내용 \\t\\t\\t\\t\\t\\t\\t\\t\\t\\t와 ㄹㅇ 개쩐다 헐리우드에서 나올 법한 분위기 그냥 독보적\\t ',\n",
       "  '   내용 \\t\\t\\t\\t\\t\\t\\t\\t\\t\\t뭔데 1위 멋있지??          ',\n",
       "  '   내용 \\t\\t\\t\\t\\t\\t\\t\\t\\t\\t제니 목소리 너무좋아ㅠㅠㅠㅠㅠ 노래할때든 랩할때든 너무 내취향\\t ',\n",
       "  '   내용 \\t\\t\\t\\t\\t\\t\\t\\t\\t\\t태도..... 떳다하면 다들 태도가문제야 초심을 지켜야지... ㅉ 라고 적었놨었는데요 이제보니안티들이 일부씩 짤라서 고의적으로 올렸다고 하더군요... 앞으로는 더 잘알고 어그로끌겠습니다 ㅎ\\t ',\n",
       "  '   내용 \\t\\t\\t\\t\\t\\t\\t\\t\\t\\t참나 어이가없어섴ㅋ아니 비추박고 악플단거를 왜 워너블하고엑소엘분들께 뒤집어씌우는건지..저희가했다는 증거도 없지않습니까..추측만으로 몰아가지마세요.\\t ',\n",
       "  '   내용 \\t\\t\\t\\t\\t\\t\\t\\t\\t\\t노래 별론데 팬빨로 1등한다? 제니 혼자 팬빨로만 이렇게 길게 1등 찍는게 말이 된다고 생각하세요?ㅎㅎ 노래가 좋으니까 1등이죠~ 별로인 부분 비판하는건 좋은데 열등감쩌는 비난은 그만하세여ㅎㅎ 애잔합니다^^\\t '],\n",
       " ['   내용 \\t\\t\\t\\t\\t\\t\\t\\t\\t\\t우리 로제도 솔로 데뷔 시켜주세요\\t ',\n",
       "  '   내용 \\t\\t\\t\\t\\t\\t\\t\\t\\t\\t노래가 제니빨제니가 학교종이 땡땡만 불러도 멜론 100위 권 진입은 할 듯.\\t ',\n",
       "  '   내용 \\t\\t\\t\\t\\t\\t\\t\\t\\t\\tㅋㅋㅋ노래 제목이 솔로라서 제니도 솔로여야 한다는 것들은 그걸 드립이라고 치는건지 생각이 덜 자란 건지 진심 모르겠네\\t ',\n",
       "  '   내용 \\t\\t\\t\\t\\t\\t\\t\\t\\t\\t블랙핑크의 제니라는 가수가 불렀다는 걸 제외하고 봤을 때 지극히 평범한 곡일뿐인 곡인데, 예를 들면 후렴부분도 너무 약하고... 솔직히 이 정도면 노래가 제니 빨을 받았다고 할 수 밖에 없다.\\t ',\n",
       "  '   내용 \\t\\t\\t\\t\\t\\t\\t\\t\\t\\t솔로 불렀다고 어이 없다고? 심장이 없어 부른 애한테 심장이 있는 데 왜 부르냐고는 왜 안하냐 ㅋㅋㅋ\\t ',\n",
       "  \"   내용 \\t\\t\\t\\t\\t\\t\\t\\t\\t\\t빛이 나는 솔로=Bitxh i'm solo=x년아 나는 솔로야 그래서 어쩔꺼가사 노림수 보소 ㄷㄷ\\t \",\n",
       "  '   내용 \\t\\t\\t\\t\\t\\t\\t\\t\\t\\t노래 다 좋고 계속 듣고있는데 태도논란에 대한 부분은 쉴드칠게 아니라 팬들이 나서서 고치도록 해줘야할것같음. 누가봐도 대충추는데 아니라고 해봤자 여론만 안좋아질듯. 나머지는 아티스트적인 부분으로서도 응원함\\t ',\n",
       "  '   내용 \\t\\t\\t\\t\\t\\t\\t\\t\\t\\t내 가수가 못 이뤄본것들 다른 가수가 이루면 조작이고 사재기죠? 하루 빨리 현실을 받아들이는게 본인한테도 좋지 않을까요          ',\n",
       "  '   내용 \\t\\t\\t\\t\\t\\t\\t\\t\\t\\t도입부는 좋은데 뒤로 갈수록 너무 아쉽다. 그냥 테디 노래 짬♩시켜놓은 느낌.특히 solo-lo-lo-lo 이부분 듣고 완성도 확 떨어지는 느낌 받음.. 대충 만든 것 같다 제니의 넘치는 끼에 비해ㅠ\\t ',\n",
       "  '   내용 \\t\\t\\t\\t\\t\\t\\t\\t\\t\\t1.김제니 첫 솔로 컴백으로 멜론 진입 1위2.김제니 첫 솔로 컴백으로 한국 음원 사이트 8대 1위 올킬3.김제니 첫 솔로 컴백으로 전 세계 40개국 1위4.김제니 첫 솔로 컴백으로 미국 아이튠즈 7위5.김제니 첫 솔로 컴백으로 아이튠즈 월드와이드 송 일간 1위(우리나라 여성 솔로가수 최초 1위)6.김제니 첫 솔로 컴백으로 영국 유튜브 트렌딩 1위          ',\n",
       "  '   내용 \\t\\t\\t\\t\\t\\t\\t\\t\\t\\t아이코닉인데 개인적으로 와지아티스트 다 좋아하고  노래 다 믿는데 제니솔로 오래기다렸네요ㅎㅎ너무 기대됐는데 도입부 듣자마자 하트랑 평점 별5개 바로 눌렀어요ㅋㅋㅋ 블랙핑크 너무 이쁘고 진짜 개 좋아요 남자였음 블링크였을겁니다. 진짜로 1위하세용 블핑 블링크 화이팅!!아이콘노래 사이에 껴서 스밍할게요!          재생 다운로드    곡명 SOLO    아티스트명  제니 (JENNIE) 제니 (JENNIE)     앨범명 SOLO       ',\n",
       "  '  재생 다운로드    곡명 SOLO    아티스트명  제니 (JENNIE) 제니 (JENNIE)     앨범명 SOLO   ',\n",
       "  '   내용 \\t\\t\\t\\t\\t\\t\\t\\t\\t\\t솔직히 1 위할 노래는 아닌것 같은데\\t ',\n",
       "  '   내용 \\t\\t\\t\\t\\t\\t\\t\\t\\t\\t천사득...❤❤❤❤❤❤          ',\n",
       "  '   내용 \\t\\t\\t\\t\\t\\t\\t\\t\\t\\t제 2의 붙이는 건 별로 안 좋아하지만 블핑이야 말로 와이지 먹여살릴 빅뱅이 되진 않을지,, 나머지 보이그룹들은 그에 비해 성적이 아쉬운데 솔로가 이 정도면 진짜 대박\\t ',\n",
       "  '   내용 \\t\\t\\t\\t\\t\\t\\t\\t\\t\\t솔로 가지고 뭐라하는데 이거 테디가 작사 작곡한건데 제니가 곡 받을때 테디한테 \"저 솔로 아니라서 이 곡 안 할게요\" 라고 해야되냐??\\t ',\n",
       "  '   내용 \\t\\t\\t\\t\\t\\t\\t\\t\\t\\t제니야 이빨닦을때 뭘로닦아??빛이 나는 솔로\\t ',\n",
       "  '   내용 \\t\\t\\t\\t\\t\\t\\t\\t\\t\\t그냥 제니여서 1위인거지 ..ㅋㅋ\\t ',\n",
       "  '   내용 \\t\\t\\t\\t\\t\\t\\t\\t\\t\\t사람들이 왜 이렇게 팝송을 따라한다고뭐라하는지 이해가 안 감.솔직히 팬도 아니고 안티도 아닌 입장에서노래가 엄청 좋다고는 못하겠으나제니가 그만큼 소화를 잘 했고 제니의 목소리나 창법 같은 걸 봤을때도우리나라 정서의 음악보다 해외팝 같은 분위기의 노래가 더 잘 어울린다는걸 그만큼 알고 거기에 맞춰노래를 만든 것이라고 생각함.\\t ',\n",
       "  '   내용 \\t\\t\\t\\t\\t\\t\\t\\t\\t\\t진입 1위... 개쩐다\\t ',\n",
       "  '   내용 \\t\\t\\t\\t\\t\\t\\t\\t\\t\\t노래는 걍 무난한데 1위는 노이해\\t ',\n",
       "  '   내용 \\t\\t\\t\\t\\t\\t\\t\\t\\t\\t이런 소모적인 노래가 왜 뜨는지모르겠네...\\t ',\n",
       "  '   내용 \\t\\t\\t\\t\\t\\t\\t\\t\\t\\t확실히 블랙핑크는 멤버별 개성이 뚜렷하네. 이 네명이 합쳐졌을때 시너지 효과를 내어서 블랙핑크만의 독보적인 색깔을 나타낼 수 있는거고\\t ',\n",
       "  '   내용 \\t\\t\\t\\t\\t\\t\\t\\t\\t\\t아 노래 별로다\\t ',\n",
       "  '   내용 \\t\\t\\t\\t\\t\\t\\t\\t\\t\\t솔직히 노래 좋은거 모르겠으..평범..한데 또들으러옴... 중독성 오지네\\t ',\n",
       "  '   내용 \\t\\t\\t\\t\\t\\t\\t\\t\\t\\t곡 구성좀 바꿔라 맨날 똑같은 래파토리냐\\t ',\n",
       "  '   내용 \\t\\t\\t\\t\\t\\t\\t\\t\\t\\t이거 가사 의도한거죠빛이 나는 솔로Bitch 나는솔로개 멋있는데\\t ',\n",
       "  '   내용 \\t\\t\\t\\t\\t\\t\\t\\t\\t\\t빛이나는 쏠로 ㅋㅋㅋㅋㅋㅋㅋㅋㅋㅋㅋㅋㅋㅋㅋㅋㅋㅋㅋㅋㅋㅋㅋㅋㅋㅋㅋㅋㅋㅋㅋㅋㅋㅋㅋㅋㅋㅋㅋㅋㅋㅋㅋㅋㅋㅋㅋㅋ제니야  너도 개웃기지???     카이야  너도웃겼겠다\\t ',\n",
       "  '   내용 \\t\\t\\t\\t\\t\\t\\t\\t\\t\\t댓수준 역겨울정도인데좋으면듣고 싫으면 꺼지지 굳이 남 1등하는꼴못봐서 빼애액대냐..꼭 지가 빠는연애인 조금이라도 비아냥대면 열폭오지게하면서 남 잘되는꼴은 또 못봐요ㅋ\\t ',\n",
       "  '   내용 \\t\\t\\t\\t\\t\\t\\t\\t\\t\\t그냥 활동해주는게 고마운건데 연예인을 여친 혹은 남친이라 생각하지 말자 좀;\\t ',\n",
       "  '   내용 \\t\\t\\t\\t\\t\\t\\t\\t\\t\\t제니 요즘 태도논란도 있었는데 열애설까지̆̈ 뜨니까 흠ㅋㅋ YG 금기사항이⃕ 연애라는데 멤버들한테 미안한 마음 가져야겟네요 퓨\\t ',\n",
       "  '   내용 \\t\\t\\t\\t\\t\\t\\t\\t\\t\\t테디 제발 해외 팝송에서 들어본 적 있는 비트들로 찌개 끓이지 말고,..\\t ',\n",
       "  '   내용 \\t\\t\\t\\t\\t\\t\\t\\t\\t\\t제니만의 매력을 완전히는 못살린 느낌. 곡이 너무 익숙해서 보니 역시나 테디. 기존 테디곡들 믹스해놓은 것 같다. 다른 가수들도 생각나고...  YG도 테디그늘서 살짝 벋어나야 좀 새로우려나. 개인적으로 좀 아쉽다.\\t ',\n",
       "  '   내용 \\t\\t\\t\\t\\t\\t\\t\\t\\t\\t공검 1도 안되는 노래 부르느라 고생했다\\t ',\n",
       "  '   내용 \\t\\t\\t\\t\\t\\t\\t\\t\\t\\t난 제니님도 솔로일줄 알았지... 갓제니도 솔크당 했는데 그냥 빛이 나는 솔로 청소한다는 거였어\\t ',\n",
       "  '   내용 \\t\\t\\t\\t\\t\\t\\t\\t\\t\\tk-pop스타들이 성공하니 되게 다 팝느낌으로 가네.. 영어가 더 많은듯.. 한국어가 지워져 가는 것 같아서 좀 씁슬하네 한국어도 충분히 성공 할 수 있는데 방탄처럼..\\t ',\n",
       "  '   내용 \\t\\t\\t\\t\\t\\t\\t\\t\\t\\t제니 남돌들이랑 맞짱오지게 잘뜬다\\t ',\n",
       "  '   내용 \\t\\t\\t\\t\\t\\t\\t\\t\\t\\tㅠㅠ로제도 빨리 솔로내주세요..\\t ',\n",
       "  '   내용 \\t\\t\\t\\t\\t\\t\\t\\t\\t\\t요근래 나온 노래 중에서 젤 좋은듯 ㄹㅇ 진입 1위 ㄱ\\t ',\n",
       "  '   내용 \\t\\t\\t\\t\\t\\t\\t\\t\\t\\t진짜 이런게 빌보드 가야된다 ♩♪ yg 스타일 너무 사랑해\\t ',\n",
       "  '   내용 \\t\\t\\t\\t\\t\\t\\t\\t\\t\\t제니버프 빼고 객관적으로 노래만 딱 들어도 평타이상으로 귀에 감기는데 이노래가 구리면 도대체 무슨음악을 들어야함????? 2080년도 노래들 들으세요?? 존ㅡ나 트렌디한데 유로냄새도 나고 도대체 무슨노래가 좋은 노래인지 대댓에 추천좀 해주세요 들어보게\\t ',\n",
       "  '   내용 \\t\\t\\t\\t\\t\\t\\t\\t\\t\\t음 뭐라해야되지 좋다안좋다 표현을 못하겟는 그런 곡....? 그냥 옷가게 배경음악같은 느낌\\t ',\n",
       "  '   내용 \\t\\t\\t\\t\\t\\t\\t\\t\\t\\t이게 좋나..뭐 개취지만.. 그냥 어렴풋이 이미지잡힌걸로미국에 팝아이돌따라하는거같은..\\t ',\n",
       "  '   내용 \\t\\t\\t\\t\\t\\t\\t\\t\\t\\t당분간 와이지는 걸그룹 만들지말고 블랙핑크만 푸쉬해라. 사실상 빅뱅 대체할 그룹은 블핑밖에 없다\\t ',\n",
       "  '   내용 \\t\\t\\t\\t\\t\\t\\t\\t\\t\\t갓제니!!!이따 학원 끝나고 10시쯤에 음원 필요하신분 선물해드릴게요 그때까지 잘 버텨줘야되는데 ㅠㅠ 받으신 분들 메세지 보내주세요^^(선물 완료했고, 문상 생기면 이 댓글에 쓰신 분 중에 또 드릴게요!!)\\t ',\n",
       "  '   내용 \\t\\t\\t\\t\\t\\t\\t\\t\\t\\t제니의 연애사건은 훗날 일어난 사건들에 비해선 아무것도 아니였음 솔직히ㅜㅋㅋ\\t ',\n",
       "  '   내용 \\t\\t\\t\\t\\t\\t\\t\\t\\t\\t분명 중독성 있고 아직 먹히는 스타일인건 맞는 듯 하지만 작년 선미 노래랑 비슷한 느낌을 지울수가 없다어디서 들어본 것 같고 곡 분위기 뿐만 아니라 의상이나 전반적인 무드도 다..\\t ',\n",
       "  \"   내용 \\t\\t\\t\\t\\t\\t\\t\\t\\t\\t흐어ㅓ.. 제니님 '솔로'곡 진입 1위..ㄷㄷ          재생 다운로드    곡명 SOLO    아티스트명  제니 (JENNIE) 제니 (JENNIE)     앨범명 SOLO       \",\n",
       "  '  재생 다운로드    곡명 SOLO    아티스트명  제니 (JENNIE) 제니 (JENNIE)     앨범명 SOLO   ',\n",
       "  '   내용 \\t\\t\\t\\t\\t\\t\\t\\t\\t\\t솔로 데뷔곡 화력 개쩐다\\t ',\n",
       "  '   내용 \\t\\t\\t\\t\\t\\t\\t\\t\\t\\t솔로 낸지 얼마나 됬다고 듀오 됬네 :;;;;;;\\t ',\n",
       "  '   내용 \\t\\t\\t\\t\\t\\t\\t\\t\\t\\t아니 제니가 솔로냈다고 실제로도 솔로여야하나,, 그냥 혼자일때가 가장 나답다 이런 내용 아니야..?? 블랙핑크 멤버한테 피해가는건 알겠는데 몇몇은 도가 지나치게 욕해ㅠㅠ\\t ',\n",
       "  '   내용 \\t\\t\\t\\t\\t\\t\\t\\t\\t\\t엑소 연차도 쌓여서 그만큼 팬들도 예전보다 더 성숙하게 응원해주는데 블핑은 아직 더 빛날텐데 열애설터지면 타격감은 클 것 같아요ㅜㅜ팬분들도 여러모로 상처입을 것 같고ㅠㅠ하지만 이미 둘의 청춘이고 선택이니 엑소엘로써 전 둘 응원해요!예쁘게 사랑했으면 좋겠고 악플보고 너무 신경 안 쓰셨으면 좋겠어요!\\t ',\n",
       "  '   내용 \\t\\t\\t\\t\\t\\t\\t\\t\\t\\t회사에서 욕먹는건당연하다 비지니스 관계에서 큰 규칙을 어겼으니 알게모르게 탈덕하는 팬들도 많을꺼고 이미지도 안 좋아질걸... 제니 블핑 다른멤버를한테 미안한마음은 가져야겠다ㅋㅋ\\t ',\n",
       "  '   내용 \\t\\t\\t\\t\\t\\t\\t\\t\\t\\t?? 별점테러가 왜 우리야 우리라는 증거 있어 ? 아 무슨일인가해서 와봤더니\\t ',\n",
       "  '   내용 \\t\\t\\t\\t\\t\\t\\t\\t\\t\\t발렌타인때 편의점에서 페레로로쉐사서 이 노래들으면서 까먹었는데 앞으로 10년은 더 거뜬히 빛날수있겠다는 자신감이 생겼습니다. 감사합니다.\\t ',\n",
       "  '   내용 \\t\\t\\t\\t\\t\\t\\t\\t\\t\\t연애하는건 그렇다치더라도 솔로라는 노래 이제 사람들이 듣고 싶을까 싶다 웃겨섴ㅋㅋㅋㅋ한국사람들 가사이입 중요하게 여기는데 뭐 컨셉과 아예 다르니 빛이 나는 커플 이럼서 풍자하면서 들을듯ㅋㅋ들으면 들을수록 제니한테는 마이너스\\t ',\n",
       "  '   내용 \\t\\t\\t\\t\\t\\t\\t\\t\\t\\t솔직히 인기빨 소속사빨이지\\t ',\n",
       "  '   내용 \\t\\t\\t\\t\\t\\t\\t\\t\\t\\t츄리챙만 불쌍\\t ',\n",
       "  '   내용 \\t\\t\\t\\t\\t\\t\\t\\t\\t\\t연애는 좋은데 걸리진 말았어야지~ㅠㅠ          ',\n",
       "  '   내용 \\t\\t\\t\\t\\t\\t\\t\\t\\t\\t카이랑 제니 둘다 귀티나게 생겨서 그런가 비주얼적으로 되게 잘 어울림 예쁜 연애했음 좋겠다\\t ',\n",
       "  '   내용 \\t\\t\\t\\t\\t\\t\\t\\t\\t\\t제니 데뷔 초 인기가요 방송당시 발목 90도로 꺾여서 응급실가고 수액맞으면서 활동하다가 일본 콘서트때 다친발목 무대 계단 내려오다 또 접지름 그날 휠체어 타고 퇴근 , 다음날 정해진 동선 못하고 무대 계단에 앉아서 노래했음 공항에서 다친쪽 큰 캐리어에 또 부딪힘 백댄서분들이랑 사진찍은거 보면 발목보호대 항상 하고있음 이런제니에게 무대마다 항상 킬힐 신기고\\t ',\n",
       "  '   내용 \\t\\t\\t\\t\\t\\t\\t\\t\\t\\t가사 좀 공감된다 ㅋㅋㅋㅋ 매일 연락하는 거 지쳐서 헤어지면 그 사람이 없어졌고 내가 일방적으로 관계를 끊었다는 것에 대한후회와 미안함에 매일 울면서 감정낭비한다는게 .. 진짜 부질없다\\t ',\n",
       "  '   내용 \\t\\t\\t\\t\\t\\t\\t\\t\\t\\t비추 별점테러 꼭 워너블이라고 생각안해주셨으면합니다\\t ',\n",
       "  '   내용 \\t\\t\\t\\t\\t\\t\\t\\t\\t\\t우와ㅋㅋㅋㄲ 우리가 느그들 별점테러했다는 증거 어딨는데ㅋㅋㅋㄱㅋㅋ 울지말고 천천히 증거가지고 와서 따지삼ㅜㅜ 나도 제니 노래 좋다고 말하고 다녔는데 되지도않는 헛논리 들이밀면서 자들자들...재밌냐?\\t ',\n",
       "  '   내용 \\t\\t\\t\\t\\t\\t\\t\\t\\t\\t또또 트xx스, 엑x 팬새기들 지들 열심히 무한스밍 했는데도 제니한테 순위 뺏긴것 때문에 열등감 생겨버려서 여기까지 와서 다른 사람들 댓글에 비추박고 튀어버리기~~ 정작 지들이 빠는 그룹 앨범엔 비추 1도없는데 지들보다 높은 순위면 꼭 와서 비추박고가죠~ ㄹㅇ 열등감 하나는 종특인듯ㅋㅋ\\t ',\n",
       "  '   내용 \\t\\t\\t\\t\\t\\t\\t\\t\\t\\tㄹㅇ 와이지는 테디 덕분에 일단 반 이상은 먹고 산다\\t ',\n",
       "  '   내용 \\t\\t\\t\\t\\t\\t\\t\\t\\t\\t이용자수 보니까 제니는 대중픽인듯 진짜 대단함 노래 너무 좋음 하루종일 귀에 맴돌고있음\\t ',\n",
       "  '   내용 \\t\\t\\t\\t\\t\\t\\t\\t\\t\\t노래가 ㄹㅇ 힙한 팝송같음.좋음.\\t ',\n",
       "  '   내용 \\t\\t\\t\\t\\t\\t\\t\\t\\t\\t솔로로 나오기엔 좀 부족한듯노래도 그닥...\\t ',\n",
       "  '   내용 \\t\\t\\t\\t\\t\\t\\t\\t\\t\\t음원순위 조작은 무슨 ㅋㅋㅋㅋ 뚜두뚜두랑 추이 완전 다른데 개소리야 지금 계속 1위하는 이유 유입이 엄청 많아서 그런 것 같은데 뭐만 하면 사재기니 뭐니 하지 좀 마라 어? 지 가수 1위 못한다고 지.랄이여. 더군다나 노래도 짧은데\\t ',\n",
       "  '   내용 \\t\\t\\t\\t\\t\\t\\t\\t\\t\\t시바 YG는 테디좀 갖다 버려라 맨날 똑같은곡만 만드냐 가수가 ㄹㅇ 아깝다\\t ',\n",
       "  '   내용 \\t\\t\\t\\t\\t\\t\\t\\t\\t\\t아니 노래가 이게 후달린다고...? ㅋㅋㅋㅋㅋㅋㅋㅋㅋㅋㅋㅋㅋㅋㅋ 진짜 완전 깔끔하고 무명가수가 불럿어도 역주행에서 최소 10위권안으로 갓음 ㅋㅋㅋㅋㅋㅋㅋㅋㅋ 어이없는 소리다 진짜 노래가 안좋다는건\\t ',\n",
       "  \"   내용 \\t\\t\\t\\t\\t\\t\\t\\t\\t\\t아니..진짜 궁금한건데 노래 제목으로 드립치는 이유가 대체 뭐지?? '솔로'라는 이 제목이 제니가 쓴 건 아니잖아요. 연애하겠다는데 그냥 이쁜 연애하게 두세요. 블랙핑크 분들도, 엑소엘도 대부분 인정하고 이쁘게 사귀라고 하는데 왜 제3자가 나서요? 드립칠게 없어서 노래 제목으로 드립이나 치고..어이가 없다 진짜.\\t \",\n",
       "  '   내용 \\t\\t\\t\\t\\t\\t\\t\\t\\t\\t후렴구는 뭐..좋은데 ㅜㅜ 징짜 너무 기대햇는데 아쉽다 곡이.. 제니음색이라 좀 사는거지 곡자채는 진짜 별로인거같은데..\\t ',\n",
       "  '   내용 \\t\\t\\t\\t\\t\\t\\t\\t\\t\\t빛이 나는 솔로 bitch로 들리게 하는거 너무 좋다ㅎㅎ\\t ',\n",
       "  '   내용 \\t\\t\\t\\t\\t\\t\\t\\t\\t\\t제니처럼 춤추면서 노래하고 랩하는 매력적인 여자 솔로가 우리나라에 누가 있을까나\\t ',\n",
       "  '   내용 \\t\\t\\t\\t\\t\\t\\t\\t\\t\\t제니... 내 기준 얼굴 실력 뭐 하나 안 빠지는데 우리나라에서 유난히 저평가 받지 ㅋㅋㅋ 배우들이랑 비교당하고 얼평질에 에효... 제니 영원하자ㅠ\\t ',\n",
       "  '   내용 \\t\\t\\t\\t\\t\\t\\t\\t\\t\\t워너블인데 이번 제니 신곡 진짜 좋네요 진짜 블랙핑크 노래는 꼭 들어보는데 역대급ㅠ솔로로도 성공하는 모습 너무 보기 좋아요ㅠ+일부 무개념때문에맘 상하시지 않길 바랍니다ㅠ저희쪽 어그로나 무개념 무시해주시고같이 열심히 덕질해요!워너블중에서 무개념은 지극히 일부라는거 알아주세요ㅠ 개념너블도 있습니다ㅠ워너원도 흥하고 제니도 흥하길♡\\t ',\n",
       "  '   내용 \\t\\t\\t\\t\\t\\t\\t\\t\\t\\t제니 생각보다 대단~~대중픽인듯\\t ',\n",
       "  '   내용 \\t\\t\\t\\t\\t\\t\\t\\t\\t\\t도대체 어떤부분에서 선미야?????????\\t ',\n",
       "  '   내용 \\t\\t\\t\\t\\t\\t\\t\\t\\t\\t조금은 아쉬운 노래지만 첫 데뷔치고는 존재의 클래스를 알리기에 충분했다.. 샤넬 귀걸이와 옷이 이렇게 잘 어울리는 사람은 처음임.. 타팬이지만 케이팝 팬으로서 제니는 인정 다음 컴백부터는 작사작곡에 직접 참여해 좀 더 아티스트다운 면모를 보여줬으면!\\t ',\n",
       "  '   내용 \\t\\t\\t\\t\\t\\t\\t\\t\\t\\t하나하나 반대 누르고 가는거 애잔하다\\t ',\n",
       "  '   내용 \\t\\t\\t\\t\\t\\t\\t\\t\\t\\t진짜 트빡이들 1위뺏기니까 악플다는거봐 개역겹네 ㅋㅋㅋㅋ진짜 한심하다\\t ',\n",
       "  '   내용 \\t\\t\\t\\t\\t\\t\\t\\t\\t\\t와 ㄹㅇ 개쩐다 헐리우드에서 나올 법한 분위기 그냥 독보적\\t ',\n",
       "  '   내용 \\t\\t\\t\\t\\t\\t\\t\\t\\t\\t뭔데 1위 멋있지??          ',\n",
       "  '   내용 \\t\\t\\t\\t\\t\\t\\t\\t\\t\\t제니 목소리 너무좋아ㅠㅠㅠㅠㅠ 노래할때든 랩할때든 너무 내취향\\t ',\n",
       "  '   내용 \\t\\t\\t\\t\\t\\t\\t\\t\\t\\t태도..... 떳다하면 다들 태도가문제야 초심을 지켜야지... ㅉ 라고 적었놨었는데요 이제보니안티들이 일부씩 짤라서 고의적으로 올렸다고 하더군요... 앞으로는 더 잘알고 어그로끌겠습니다 ㅎ\\t ',\n",
       "  '   내용 \\t\\t\\t\\t\\t\\t\\t\\t\\t\\t참나 어이가없어섴ㅋ아니 비추박고 악플단거를 왜 워너블하고엑소엘분들께 뒤집어씌우는건지..저희가했다는 증거도 없지않습니까..추측만으로 몰아가지마세요.\\t ',\n",
       "  '   내용 \\t\\t\\t\\t\\t\\t\\t\\t\\t\\t노래 별론데 팬빨로 1등한다? 제니 혼자 팬빨로만 이렇게 길게 1등 찍는게 말이 된다고 생각하세요?ㅎㅎ 노래가 좋으니까 1등이죠~ 별로인 부분 비판하는건 좋은데 열등감쩌는 비난은 그만하세여ㅎㅎ 애잔합니다^^\\t '],\n",
       " ['   내용 \\t\\t\\t\\t\\t\\t\\t\\t\\t\\t우리 로제도 솔로 데뷔 시켜주세요\\t ',\n",
       "  '   내용 \\t\\t\\t\\t\\t\\t\\t\\t\\t\\t노래가 제니빨제니가 학교종이 땡땡만 불러도 멜론 100위 권 진입은 할 듯.\\t ',\n",
       "  '   내용 \\t\\t\\t\\t\\t\\t\\t\\t\\t\\tㅋㅋㅋ노래 제목이 솔로라서 제니도 솔로여야 한다는 것들은 그걸 드립이라고 치는건지 생각이 덜 자란 건지 진심 모르겠네\\t ',\n",
       "  '   내용 \\t\\t\\t\\t\\t\\t\\t\\t\\t\\t블랙핑크의 제니라는 가수가 불렀다는 걸 제외하고 봤을 때 지극히 평범한 곡일뿐인 곡인데, 예를 들면 후렴부분도 너무 약하고... 솔직히 이 정도면 노래가 제니 빨을 받았다고 할 수 밖에 없다.\\t ',\n",
       "  '   내용 \\t\\t\\t\\t\\t\\t\\t\\t\\t\\t솔로 불렀다고 어이 없다고? 심장이 없어 부른 애한테 심장이 있는 데 왜 부르냐고는 왜 안하냐 ㅋㅋㅋ\\t ',\n",
       "  \"   내용 \\t\\t\\t\\t\\t\\t\\t\\t\\t\\t빛이 나는 솔로=Bitxh i'm solo=x년아 나는 솔로야 그래서 어쩔꺼가사 노림수 보소 ㄷㄷ\\t \",\n",
       "  '   내용 \\t\\t\\t\\t\\t\\t\\t\\t\\t\\t노래 다 좋고 계속 듣고있는데 태도논란에 대한 부분은 쉴드칠게 아니라 팬들이 나서서 고치도록 해줘야할것같음. 누가봐도 대충추는데 아니라고 해봤자 여론만 안좋아질듯. 나머지는 아티스트적인 부분으로서도 응원함\\t ',\n",
       "  '   내용 \\t\\t\\t\\t\\t\\t\\t\\t\\t\\t내 가수가 못 이뤄본것들 다른 가수가 이루면 조작이고 사재기죠? 하루 빨리 현실을 받아들이는게 본인한테도 좋지 않을까요          ',\n",
       "  '   내용 \\t\\t\\t\\t\\t\\t\\t\\t\\t\\t도입부는 좋은데 뒤로 갈수록 너무 아쉽다. 그냥 테디 노래 짬♩시켜놓은 느낌.특히 solo-lo-lo-lo 이부분 듣고 완성도 확 떨어지는 느낌 받음.. 대충 만든 것 같다 제니의 넘치는 끼에 비해ㅠ\\t ',\n",
       "  '   내용 \\t\\t\\t\\t\\t\\t\\t\\t\\t\\t1.김제니 첫 솔로 컴백으로 멜론 진입 1위2.김제니 첫 솔로 컴백으로 한국 음원 사이트 8대 1위 올킬3.김제니 첫 솔로 컴백으로 전 세계 40개국 1위4.김제니 첫 솔로 컴백으로 미국 아이튠즈 7위5.김제니 첫 솔로 컴백으로 아이튠즈 월드와이드 송 일간 1위(우리나라 여성 솔로가수 최초 1위)6.김제니 첫 솔로 컴백으로 영국 유튜브 트렌딩 1위          ',\n",
       "  '   내용 \\t\\t\\t\\t\\t\\t\\t\\t\\t\\t아이코닉인데 개인적으로 와지아티스트 다 좋아하고  노래 다 믿는데 제니솔로 오래기다렸네요ㅎㅎ너무 기대됐는데 도입부 듣자마자 하트랑 평점 별5개 바로 눌렀어요ㅋㅋㅋ 블랙핑크 너무 이쁘고 진짜 개 좋아요 남자였음 블링크였을겁니다. 진짜로 1위하세용 블핑 블링크 화이팅!!아이콘노래 사이에 껴서 스밍할게요!          재생 다운로드    곡명 SOLO    아티스트명  제니 (JENNIE) 제니 (JENNIE)     앨범명 SOLO       ',\n",
       "  '  재생 다운로드    곡명 SOLO    아티스트명  제니 (JENNIE) 제니 (JENNIE)     앨범명 SOLO   ',\n",
       "  '   내용 \\t\\t\\t\\t\\t\\t\\t\\t\\t\\t솔직히 1 위할 노래는 아닌것 같은데\\t ',\n",
       "  '   내용 \\t\\t\\t\\t\\t\\t\\t\\t\\t\\t천사득...❤❤❤❤❤❤          ',\n",
       "  '   내용 \\t\\t\\t\\t\\t\\t\\t\\t\\t\\t제 2의 붙이는 건 별로 안 좋아하지만 블핑이야 말로 와이지 먹여살릴 빅뱅이 되진 않을지,, 나머지 보이그룹들은 그에 비해 성적이 아쉬운데 솔로가 이 정도면 진짜 대박\\t ',\n",
       "  '   내용 \\t\\t\\t\\t\\t\\t\\t\\t\\t\\t솔로 가지고 뭐라하는데 이거 테디가 작사 작곡한건데 제니가 곡 받을때 테디한테 \"저 솔로 아니라서 이 곡 안 할게요\" 라고 해야되냐??\\t ',\n",
       "  '   내용 \\t\\t\\t\\t\\t\\t\\t\\t\\t\\t제니야 이빨닦을때 뭘로닦아??빛이 나는 솔로\\t ',\n",
       "  '   내용 \\t\\t\\t\\t\\t\\t\\t\\t\\t\\t그냥 제니여서 1위인거지 ..ㅋㅋ\\t ',\n",
       "  '   내용 \\t\\t\\t\\t\\t\\t\\t\\t\\t\\t사람들이 왜 이렇게 팝송을 따라한다고뭐라하는지 이해가 안 감.솔직히 팬도 아니고 안티도 아닌 입장에서노래가 엄청 좋다고는 못하겠으나제니가 그만큼 소화를 잘 했고 제니의 목소리나 창법 같은 걸 봤을때도우리나라 정서의 음악보다 해외팝 같은 분위기의 노래가 더 잘 어울린다는걸 그만큼 알고 거기에 맞춰노래를 만든 것이라고 생각함.\\t ',\n",
       "  '   내용 \\t\\t\\t\\t\\t\\t\\t\\t\\t\\t진입 1위... 개쩐다\\t ',\n",
       "  '   내용 \\t\\t\\t\\t\\t\\t\\t\\t\\t\\t노래는 걍 무난한데 1위는 노이해\\t ',\n",
       "  '   내용 \\t\\t\\t\\t\\t\\t\\t\\t\\t\\t이런 소모적인 노래가 왜 뜨는지모르겠네...\\t ',\n",
       "  '   내용 \\t\\t\\t\\t\\t\\t\\t\\t\\t\\t확실히 블랙핑크는 멤버별 개성이 뚜렷하네. 이 네명이 합쳐졌을때 시너지 효과를 내어서 블랙핑크만의 독보적인 색깔을 나타낼 수 있는거고\\t ',\n",
       "  '   내용 \\t\\t\\t\\t\\t\\t\\t\\t\\t\\t아 노래 별로다\\t ',\n",
       "  '   내용 \\t\\t\\t\\t\\t\\t\\t\\t\\t\\t솔직히 노래 좋은거 모르겠으..평범..한데 또들으러옴... 중독성 오지네\\t ',\n",
       "  '   내용 \\t\\t\\t\\t\\t\\t\\t\\t\\t\\t곡 구성좀 바꿔라 맨날 똑같은 래파토리냐\\t ',\n",
       "  '   내용 \\t\\t\\t\\t\\t\\t\\t\\t\\t\\t이거 가사 의도한거죠빛이 나는 솔로Bitch 나는솔로개 멋있는데\\t ',\n",
       "  '   내용 \\t\\t\\t\\t\\t\\t\\t\\t\\t\\t빛이나는 쏠로 ㅋㅋㅋㅋㅋㅋㅋㅋㅋㅋㅋㅋㅋㅋㅋㅋㅋㅋㅋㅋㅋㅋㅋㅋㅋㅋㅋㅋㅋㅋㅋㅋㅋㅋㅋㅋㅋㅋㅋㅋㅋㅋㅋㅋㅋㅋㅋㅋ제니야  너도 개웃기지???     카이야  너도웃겼겠다\\t ',\n",
       "  '   내용 \\t\\t\\t\\t\\t\\t\\t\\t\\t\\t댓수준 역겨울정도인데좋으면듣고 싫으면 꺼지지 굳이 남 1등하는꼴못봐서 빼애액대냐..꼭 지가 빠는연애인 조금이라도 비아냥대면 열폭오지게하면서 남 잘되는꼴은 또 못봐요ㅋ\\t ',\n",
       "  '   내용 \\t\\t\\t\\t\\t\\t\\t\\t\\t\\t그냥 활동해주는게 고마운건데 연예인을 여친 혹은 남친이라 생각하지 말자 좀;\\t ',\n",
       "  '   내용 \\t\\t\\t\\t\\t\\t\\t\\t\\t\\t제니 요즘 태도논란도 있었는데 열애설까지̆̈ 뜨니까 흠ㅋㅋ YG 금기사항이⃕ 연애라는데 멤버들한테 미안한 마음 가져야겟네요 퓨\\t ',\n",
       "  '   내용 \\t\\t\\t\\t\\t\\t\\t\\t\\t\\t테디 제발 해외 팝송에서 들어본 적 있는 비트들로 찌개 끓이지 말고,..\\t ',\n",
       "  '   내용 \\t\\t\\t\\t\\t\\t\\t\\t\\t\\t제니만의 매력을 완전히는 못살린 느낌. 곡이 너무 익숙해서 보니 역시나 테디. 기존 테디곡들 믹스해놓은 것 같다. 다른 가수들도 생각나고...  YG도 테디그늘서 살짝 벋어나야 좀 새로우려나. 개인적으로 좀 아쉽다.\\t ',\n",
       "  '   내용 \\t\\t\\t\\t\\t\\t\\t\\t\\t\\t공검 1도 안되는 노래 부르느라 고생했다\\t ',\n",
       "  '   내용 \\t\\t\\t\\t\\t\\t\\t\\t\\t\\t난 제니님도 솔로일줄 알았지... 갓제니도 솔크당 했는데 그냥 빛이 나는 솔로 청소한다는 거였어\\t ',\n",
       "  '   내용 \\t\\t\\t\\t\\t\\t\\t\\t\\t\\tk-pop스타들이 성공하니 되게 다 팝느낌으로 가네.. 영어가 더 많은듯.. 한국어가 지워져 가는 것 같아서 좀 씁슬하네 한국어도 충분히 성공 할 수 있는데 방탄처럼..\\t ',\n",
       "  '   내용 \\t\\t\\t\\t\\t\\t\\t\\t\\t\\t제니 남돌들이랑 맞짱오지게 잘뜬다\\t ',\n",
       "  '   내용 \\t\\t\\t\\t\\t\\t\\t\\t\\t\\tㅠㅠ로제도 빨리 솔로내주세요..\\t ',\n",
       "  '   내용 \\t\\t\\t\\t\\t\\t\\t\\t\\t\\t요근래 나온 노래 중에서 젤 좋은듯 ㄹㅇ 진입 1위 ㄱ\\t ',\n",
       "  '   내용 \\t\\t\\t\\t\\t\\t\\t\\t\\t\\t진짜 이런게 빌보드 가야된다 ♩♪ yg 스타일 너무 사랑해\\t ',\n",
       "  '   내용 \\t\\t\\t\\t\\t\\t\\t\\t\\t\\t제니버프 빼고 객관적으로 노래만 딱 들어도 평타이상으로 귀에 감기는데 이노래가 구리면 도대체 무슨음악을 들어야함????? 2080년도 노래들 들으세요?? 존ㅡ나 트렌디한데 유로냄새도 나고 도대체 무슨노래가 좋은 노래인지 대댓에 추천좀 해주세요 들어보게\\t ',\n",
       "  '   내용 \\t\\t\\t\\t\\t\\t\\t\\t\\t\\t음 뭐라해야되지 좋다안좋다 표현을 못하겟는 그런 곡....? 그냥 옷가게 배경음악같은 느낌\\t ',\n",
       "  '   내용 \\t\\t\\t\\t\\t\\t\\t\\t\\t\\t이게 좋나..뭐 개취지만.. 그냥 어렴풋이 이미지잡힌걸로미국에 팝아이돌따라하는거같은..\\t ',\n",
       "  '   내용 \\t\\t\\t\\t\\t\\t\\t\\t\\t\\t당분간 와이지는 걸그룹 만들지말고 블랙핑크만 푸쉬해라. 사실상 빅뱅 대체할 그룹은 블핑밖에 없다\\t ',\n",
       "  '   내용 \\t\\t\\t\\t\\t\\t\\t\\t\\t\\t갓제니!!!이따 학원 끝나고 10시쯤에 음원 필요하신분 선물해드릴게요 그때까지 잘 버텨줘야되는데 ㅠㅠ 받으신 분들 메세지 보내주세요^^(선물 완료했고, 문상 생기면 이 댓글에 쓰신 분 중에 또 드릴게요!!)\\t ',\n",
       "  '   내용 \\t\\t\\t\\t\\t\\t\\t\\t\\t\\t제니의 연애사건은 훗날 일어난 사건들에 비해선 아무것도 아니였음 솔직히ㅜㅋㅋ\\t ',\n",
       "  '   내용 \\t\\t\\t\\t\\t\\t\\t\\t\\t\\t분명 중독성 있고 아직 먹히는 스타일인건 맞는 듯 하지만 작년 선미 노래랑 비슷한 느낌을 지울수가 없다어디서 들어본 것 같고 곡 분위기 뿐만 아니라 의상이나 전반적인 무드도 다..\\t ',\n",
       "  \"   내용 \\t\\t\\t\\t\\t\\t\\t\\t\\t\\t흐어ㅓ.. 제니님 '솔로'곡 진입 1위..ㄷㄷ          재생 다운로드    곡명 SOLO    아티스트명  제니 (JENNIE) 제니 (JENNIE)     앨범명 SOLO       \",\n",
       "  '  재생 다운로드    곡명 SOLO    아티스트명  제니 (JENNIE) 제니 (JENNIE)     앨범명 SOLO   ',\n",
       "  '   내용 \\t\\t\\t\\t\\t\\t\\t\\t\\t\\t솔로 데뷔곡 화력 개쩐다\\t ',\n",
       "  '   내용 \\t\\t\\t\\t\\t\\t\\t\\t\\t\\t솔로 낸지 얼마나 됬다고 듀오 됬네 :;;;;;;\\t ',\n",
       "  '   내용 \\t\\t\\t\\t\\t\\t\\t\\t\\t\\t아니 제니가 솔로냈다고 실제로도 솔로여야하나,, 그냥 혼자일때가 가장 나답다 이런 내용 아니야..?? 블랙핑크 멤버한테 피해가는건 알겠는데 몇몇은 도가 지나치게 욕해ㅠㅠ\\t ',\n",
       "  '   내용 \\t\\t\\t\\t\\t\\t\\t\\t\\t\\t엑소 연차도 쌓여서 그만큼 팬들도 예전보다 더 성숙하게 응원해주는데 블핑은 아직 더 빛날텐데 열애설터지면 타격감은 클 것 같아요ㅜㅜ팬분들도 여러모로 상처입을 것 같고ㅠㅠ하지만 이미 둘의 청춘이고 선택이니 엑소엘로써 전 둘 응원해요!예쁘게 사랑했으면 좋겠고 악플보고 너무 신경 안 쓰셨으면 좋겠어요!\\t ',\n",
       "  '   내용 \\t\\t\\t\\t\\t\\t\\t\\t\\t\\t회사에서 욕먹는건당연하다 비지니스 관계에서 큰 규칙을 어겼으니 알게모르게 탈덕하는 팬들도 많을꺼고 이미지도 안 좋아질걸... 제니 블핑 다른멤버를한테 미안한마음은 가져야겠다ㅋㅋ\\t ',\n",
       "  '   내용 \\t\\t\\t\\t\\t\\t\\t\\t\\t\\t?? 별점테러가 왜 우리야 우리라는 증거 있어 ? 아 무슨일인가해서 와봤더니\\t ',\n",
       "  '   내용 \\t\\t\\t\\t\\t\\t\\t\\t\\t\\t발렌타인때 편의점에서 페레로로쉐사서 이 노래들으면서 까먹었는데 앞으로 10년은 더 거뜬히 빛날수있겠다는 자신감이 생겼습니다. 감사합니다.\\t ',\n",
       "  '   내용 \\t\\t\\t\\t\\t\\t\\t\\t\\t\\t연애하는건 그렇다치더라도 솔로라는 노래 이제 사람들이 듣고 싶을까 싶다 웃겨섴ㅋㅋㅋㅋ한국사람들 가사이입 중요하게 여기는데 뭐 컨셉과 아예 다르니 빛이 나는 커플 이럼서 풍자하면서 들을듯ㅋㅋ들으면 들을수록 제니한테는 마이너스\\t ',\n",
       "  '   내용 \\t\\t\\t\\t\\t\\t\\t\\t\\t\\t솔직히 인기빨 소속사빨이지\\t ',\n",
       "  '   내용 \\t\\t\\t\\t\\t\\t\\t\\t\\t\\t츄리챙만 불쌍\\t ',\n",
       "  '   내용 \\t\\t\\t\\t\\t\\t\\t\\t\\t\\t연애는 좋은데 걸리진 말았어야지~ㅠㅠ          ',\n",
       "  '   내용 \\t\\t\\t\\t\\t\\t\\t\\t\\t\\t카이랑 제니 둘다 귀티나게 생겨서 그런가 비주얼적으로 되게 잘 어울림 예쁜 연애했음 좋겠다\\t ',\n",
       "  '   내용 \\t\\t\\t\\t\\t\\t\\t\\t\\t\\t제니 데뷔 초 인기가요 방송당시 발목 90도로 꺾여서 응급실가고 수액맞으면서 활동하다가 일본 콘서트때 다친발목 무대 계단 내려오다 또 접지름 그날 휠체어 타고 퇴근 , 다음날 정해진 동선 못하고 무대 계단에 앉아서 노래했음 공항에서 다친쪽 큰 캐리어에 또 부딪힘 백댄서분들이랑 사진찍은거 보면 발목보호대 항상 하고있음 이런제니에게 무대마다 항상 킬힐 신기고\\t ',\n",
       "  '   내용 \\t\\t\\t\\t\\t\\t\\t\\t\\t\\t가사 좀 공감된다 ㅋㅋㅋㅋ 매일 연락하는 거 지쳐서 헤어지면 그 사람이 없어졌고 내가 일방적으로 관계를 끊었다는 것에 대한후회와 미안함에 매일 울면서 감정낭비한다는게 .. 진짜 부질없다\\t ',\n",
       "  '   내용 \\t\\t\\t\\t\\t\\t\\t\\t\\t\\t비추 별점테러 꼭 워너블이라고 생각안해주셨으면합니다\\t ',\n",
       "  '   내용 \\t\\t\\t\\t\\t\\t\\t\\t\\t\\t우와ㅋㅋㅋㄲ 우리가 느그들 별점테러했다는 증거 어딨는데ㅋㅋㅋㄱㅋㅋ 울지말고 천천히 증거가지고 와서 따지삼ㅜㅜ 나도 제니 노래 좋다고 말하고 다녔는데 되지도않는 헛논리 들이밀면서 자들자들...재밌냐?\\t ',\n",
       "  '   내용 \\t\\t\\t\\t\\t\\t\\t\\t\\t\\t또또 트xx스, 엑x 팬새기들 지들 열심히 무한스밍 했는데도 제니한테 순위 뺏긴것 때문에 열등감 생겨버려서 여기까지 와서 다른 사람들 댓글에 비추박고 튀어버리기~~ 정작 지들이 빠는 그룹 앨범엔 비추 1도없는데 지들보다 높은 순위면 꼭 와서 비추박고가죠~ ㄹㅇ 열등감 하나는 종특인듯ㅋㅋ\\t ',\n",
       "  '   내용 \\t\\t\\t\\t\\t\\t\\t\\t\\t\\tㄹㅇ 와이지는 테디 덕분에 일단 반 이상은 먹고 산다\\t ',\n",
       "  '   내용 \\t\\t\\t\\t\\t\\t\\t\\t\\t\\t이용자수 보니까 제니는 대중픽인듯 진짜 대단함 노래 너무 좋음 하루종일 귀에 맴돌고있음\\t ',\n",
       "  '   내용 \\t\\t\\t\\t\\t\\t\\t\\t\\t\\t노래가 ㄹㅇ 힙한 팝송같음.좋음.\\t ',\n",
       "  '   내용 \\t\\t\\t\\t\\t\\t\\t\\t\\t\\t솔로로 나오기엔 좀 부족한듯노래도 그닥...\\t ',\n",
       "  '   내용 \\t\\t\\t\\t\\t\\t\\t\\t\\t\\t음원순위 조작은 무슨 ㅋㅋㅋㅋ 뚜두뚜두랑 추이 완전 다른데 개소리야 지금 계속 1위하는 이유 유입이 엄청 많아서 그런 것 같은데 뭐만 하면 사재기니 뭐니 하지 좀 마라 어? 지 가수 1위 못한다고 지.랄이여. 더군다나 노래도 짧은데\\t ',\n",
       "  '   내용 \\t\\t\\t\\t\\t\\t\\t\\t\\t\\t시바 YG는 테디좀 갖다 버려라 맨날 똑같은곡만 만드냐 가수가 ㄹㅇ 아깝다\\t ',\n",
       "  '   내용 \\t\\t\\t\\t\\t\\t\\t\\t\\t\\t아니 노래가 이게 후달린다고...? ㅋㅋㅋㅋㅋㅋㅋㅋㅋㅋㅋㅋㅋㅋㅋ 진짜 완전 깔끔하고 무명가수가 불럿어도 역주행에서 최소 10위권안으로 갓음 ㅋㅋㅋㅋㅋㅋㅋㅋㅋ 어이없는 소리다 진짜 노래가 안좋다는건\\t ',\n",
       "  \"   내용 \\t\\t\\t\\t\\t\\t\\t\\t\\t\\t아니..진짜 궁금한건데 노래 제목으로 드립치는 이유가 대체 뭐지?? '솔로'라는 이 제목이 제니가 쓴 건 아니잖아요. 연애하겠다는데 그냥 이쁜 연애하게 두세요. 블랙핑크 분들도, 엑소엘도 대부분 인정하고 이쁘게 사귀라고 하는데 왜 제3자가 나서요? 드립칠게 없어서 노래 제목으로 드립이나 치고..어이가 없다 진짜.\\t \",\n",
       "  '   내용 \\t\\t\\t\\t\\t\\t\\t\\t\\t\\t후렴구는 뭐..좋은데 ㅜㅜ 징짜 너무 기대햇는데 아쉽다 곡이.. 제니음색이라 좀 사는거지 곡자채는 진짜 별로인거같은데..\\t ',\n",
       "  '   내용 \\t\\t\\t\\t\\t\\t\\t\\t\\t\\t빛이 나는 솔로 bitch로 들리게 하는거 너무 좋다ㅎㅎ\\t ',\n",
       "  '   내용 \\t\\t\\t\\t\\t\\t\\t\\t\\t\\t제니처럼 춤추면서 노래하고 랩하는 매력적인 여자 솔로가 우리나라에 누가 있을까나\\t ',\n",
       "  '   내용 \\t\\t\\t\\t\\t\\t\\t\\t\\t\\t제니... 내 기준 얼굴 실력 뭐 하나 안 빠지는데 우리나라에서 유난히 저평가 받지 ㅋㅋㅋ 배우들이랑 비교당하고 얼평질에 에효... 제니 영원하자ㅠ\\t ',\n",
       "  '   내용 \\t\\t\\t\\t\\t\\t\\t\\t\\t\\t워너블인데 이번 제니 신곡 진짜 좋네요 진짜 블랙핑크 노래는 꼭 들어보는데 역대급ㅠ솔로로도 성공하는 모습 너무 보기 좋아요ㅠ+일부 무개념때문에맘 상하시지 않길 바랍니다ㅠ저희쪽 어그로나 무개념 무시해주시고같이 열심히 덕질해요!워너블중에서 무개념은 지극히 일부라는거 알아주세요ㅠ 개념너블도 있습니다ㅠ워너원도 흥하고 제니도 흥하길♡\\t ',\n",
       "  '   내용 \\t\\t\\t\\t\\t\\t\\t\\t\\t\\t제니 생각보다 대단~~대중픽인듯\\t ',\n",
       "  '   내용 \\t\\t\\t\\t\\t\\t\\t\\t\\t\\t도대체 어떤부분에서 선미야?????????\\t ',\n",
       "  '   내용 \\t\\t\\t\\t\\t\\t\\t\\t\\t\\t조금은 아쉬운 노래지만 첫 데뷔치고는 존재의 클래스를 알리기에 충분했다.. 샤넬 귀걸이와 옷이 이렇게 잘 어울리는 사람은 처음임.. 타팬이지만 케이팝 팬으로서 제니는 인정 다음 컴백부터는 작사작곡에 직접 참여해 좀 더 아티스트다운 면모를 보여줬으면!\\t ',\n",
       "  '   내용 \\t\\t\\t\\t\\t\\t\\t\\t\\t\\t하나하나 반대 누르고 가는거 애잔하다\\t ',\n",
       "  '   내용 \\t\\t\\t\\t\\t\\t\\t\\t\\t\\t진짜 트빡이들 1위뺏기니까 악플다는거봐 개역겹네 ㅋㅋㅋㅋ진짜 한심하다\\t ',\n",
       "  '   내용 \\t\\t\\t\\t\\t\\t\\t\\t\\t\\t와 ㄹㅇ 개쩐다 헐리우드에서 나올 법한 분위기 그냥 독보적\\t ',\n",
       "  '   내용 \\t\\t\\t\\t\\t\\t\\t\\t\\t\\t뭔데 1위 멋있지??          ',\n",
       "  '   내용 \\t\\t\\t\\t\\t\\t\\t\\t\\t\\t제니 목소리 너무좋아ㅠㅠㅠㅠㅠ 노래할때든 랩할때든 너무 내취향\\t ',\n",
       "  '   내용 \\t\\t\\t\\t\\t\\t\\t\\t\\t\\t태도..... 떳다하면 다들 태도가문제야 초심을 지켜야지... ㅉ 라고 적었놨었는데요 이제보니안티들이 일부씩 짤라서 고의적으로 올렸다고 하더군요... 앞으로는 더 잘알고 어그로끌겠습니다 ㅎ\\t ',\n",
       "  '   내용 \\t\\t\\t\\t\\t\\t\\t\\t\\t\\t참나 어이가없어섴ㅋ아니 비추박고 악플단거를 왜 워너블하고엑소엘분들께 뒤집어씌우는건지..저희가했다는 증거도 없지않습니까..추측만으로 몰아가지마세요.\\t ',\n",
       "  '   내용 \\t\\t\\t\\t\\t\\t\\t\\t\\t\\t노래 별론데 팬빨로 1등한다? 제니 혼자 팬빨로만 이렇게 길게 1등 찍는게 말이 된다고 생각하세요?ㅎㅎ 노래가 좋으니까 1등이죠~ 별로인 부분 비판하는건 좋은데 열등감쩌는 비난은 그만하세여ㅎㅎ 애잔합니다^^\\t '],\n",
       " ['   내용 \\t\\t\\t\\t\\t\\t\\t\\t\\t\\t우리 로제도 솔로 데뷔 시켜주세요\\t ',\n",
       "  '   내용 \\t\\t\\t\\t\\t\\t\\t\\t\\t\\t노래가 제니빨제니가 학교종이 땡땡만 불러도 멜론 100위 권 진입은 할 듯.\\t ',\n",
       "  '   내용 \\t\\t\\t\\t\\t\\t\\t\\t\\t\\tㅋㅋㅋ노래 제목이 솔로라서 제니도 솔로여야 한다는 것들은 그걸 드립이라고 치는건지 생각이 덜 자란 건지 진심 모르겠네\\t ',\n",
       "  '   내용 \\t\\t\\t\\t\\t\\t\\t\\t\\t\\t블랙핑크의 제니라는 가수가 불렀다는 걸 제외하고 봤을 때 지극히 평범한 곡일뿐인 곡인데, 예를 들면 후렴부분도 너무 약하고... 솔직히 이 정도면 노래가 제니 빨을 받았다고 할 수 밖에 없다.\\t ',\n",
       "  '   내용 \\t\\t\\t\\t\\t\\t\\t\\t\\t\\t솔로 불렀다고 어이 없다고? 심장이 없어 부른 애한테 심장이 있는 데 왜 부르냐고는 왜 안하냐 ㅋㅋㅋ\\t ',\n",
       "  \"   내용 \\t\\t\\t\\t\\t\\t\\t\\t\\t\\t빛이 나는 솔로=Bitxh i'm solo=x년아 나는 솔로야 그래서 어쩔꺼가사 노림수 보소 ㄷㄷ\\t \",\n",
       "  '   내용 \\t\\t\\t\\t\\t\\t\\t\\t\\t\\t노래 다 좋고 계속 듣고있는데 태도논란에 대한 부분은 쉴드칠게 아니라 팬들이 나서서 고치도록 해줘야할것같음. 누가봐도 대충추는데 아니라고 해봤자 여론만 안좋아질듯. 나머지는 아티스트적인 부분으로서도 응원함\\t ',\n",
       "  '   내용 \\t\\t\\t\\t\\t\\t\\t\\t\\t\\t내 가수가 못 이뤄본것들 다른 가수가 이루면 조작이고 사재기죠? 하루 빨리 현실을 받아들이는게 본인한테도 좋지 않을까요          ',\n",
       "  '   내용 \\t\\t\\t\\t\\t\\t\\t\\t\\t\\t도입부는 좋은데 뒤로 갈수록 너무 아쉽다. 그냥 테디 노래 짬♩시켜놓은 느낌.특히 solo-lo-lo-lo 이부분 듣고 완성도 확 떨어지는 느낌 받음.. 대충 만든 것 같다 제니의 넘치는 끼에 비해ㅠ\\t ',\n",
       "  '   내용 \\t\\t\\t\\t\\t\\t\\t\\t\\t\\t1.김제니 첫 솔로 컴백으로 멜론 진입 1위2.김제니 첫 솔로 컴백으로 한국 음원 사이트 8대 1위 올킬3.김제니 첫 솔로 컴백으로 전 세계 40개국 1위4.김제니 첫 솔로 컴백으로 미국 아이튠즈 7위5.김제니 첫 솔로 컴백으로 아이튠즈 월드와이드 송 일간 1위(우리나라 여성 솔로가수 최초 1위)6.김제니 첫 솔로 컴백으로 영국 유튜브 트렌딩 1위          ',\n",
       "  '   내용 \\t\\t\\t\\t\\t\\t\\t\\t\\t\\t아이코닉인데 개인적으로 와지아티스트 다 좋아하고  노래 다 믿는데 제니솔로 오래기다렸네요ㅎㅎ너무 기대됐는데 도입부 듣자마자 하트랑 평점 별5개 바로 눌렀어요ㅋㅋㅋ 블랙핑크 너무 이쁘고 진짜 개 좋아요 남자였음 블링크였을겁니다. 진짜로 1위하세용 블핑 블링크 화이팅!!아이콘노래 사이에 껴서 스밍할게요!          재생 다운로드    곡명 SOLO    아티스트명  제니 (JENNIE) 제니 (JENNIE)     앨범명 SOLO       ',\n",
       "  '  재생 다운로드    곡명 SOLO    아티스트명  제니 (JENNIE) 제니 (JENNIE)     앨범명 SOLO   ',\n",
       "  '   내용 \\t\\t\\t\\t\\t\\t\\t\\t\\t\\t솔직히 1 위할 노래는 아닌것 같은데\\t ',\n",
       "  '   내용 \\t\\t\\t\\t\\t\\t\\t\\t\\t\\t천사득...❤❤❤❤❤❤          ',\n",
       "  '   내용 \\t\\t\\t\\t\\t\\t\\t\\t\\t\\t제 2의 붙이는 건 별로 안 좋아하지만 블핑이야 말로 와이지 먹여살릴 빅뱅이 되진 않을지,, 나머지 보이그룹들은 그에 비해 성적이 아쉬운데 솔로가 이 정도면 진짜 대박\\t ',\n",
       "  '   내용 \\t\\t\\t\\t\\t\\t\\t\\t\\t\\t솔로 가지고 뭐라하는데 이거 테디가 작사 작곡한건데 제니가 곡 받을때 테디한테 \"저 솔로 아니라서 이 곡 안 할게요\" 라고 해야되냐??\\t ',\n",
       "  '   내용 \\t\\t\\t\\t\\t\\t\\t\\t\\t\\t제니야 이빨닦을때 뭘로닦아??빛이 나는 솔로\\t ',\n",
       "  '   내용 \\t\\t\\t\\t\\t\\t\\t\\t\\t\\t그냥 제니여서 1위인거지 ..ㅋㅋ\\t ',\n",
       "  '   내용 \\t\\t\\t\\t\\t\\t\\t\\t\\t\\t사람들이 왜 이렇게 팝송을 따라한다고뭐라하는지 이해가 안 감.솔직히 팬도 아니고 안티도 아닌 입장에서노래가 엄청 좋다고는 못하겠으나제니가 그만큼 소화를 잘 했고 제니의 목소리나 창법 같은 걸 봤을때도우리나라 정서의 음악보다 해외팝 같은 분위기의 노래가 더 잘 어울린다는걸 그만큼 알고 거기에 맞춰노래를 만든 것이라고 생각함.\\t ',\n",
       "  '   내용 \\t\\t\\t\\t\\t\\t\\t\\t\\t\\t진입 1위... 개쩐다\\t ',\n",
       "  '   내용 \\t\\t\\t\\t\\t\\t\\t\\t\\t\\t노래는 걍 무난한데 1위는 노이해\\t ',\n",
       "  '   내용 \\t\\t\\t\\t\\t\\t\\t\\t\\t\\t이런 소모적인 노래가 왜 뜨는지모르겠네...\\t ',\n",
       "  '   내용 \\t\\t\\t\\t\\t\\t\\t\\t\\t\\t확실히 블랙핑크는 멤버별 개성이 뚜렷하네. 이 네명이 합쳐졌을때 시너지 효과를 내어서 블랙핑크만의 독보적인 색깔을 나타낼 수 있는거고\\t ',\n",
       "  '   내용 \\t\\t\\t\\t\\t\\t\\t\\t\\t\\t아 노래 별로다\\t ',\n",
       "  '   내용 \\t\\t\\t\\t\\t\\t\\t\\t\\t\\t솔직히 노래 좋은거 모르겠으..평범..한데 또들으러옴... 중독성 오지네\\t ',\n",
       "  '   내용 \\t\\t\\t\\t\\t\\t\\t\\t\\t\\t곡 구성좀 바꿔라 맨날 똑같은 래파토리냐\\t ',\n",
       "  '   내용 \\t\\t\\t\\t\\t\\t\\t\\t\\t\\t이거 가사 의도한거죠빛이 나는 솔로Bitch 나는솔로개 멋있는데\\t ',\n",
       "  '   내용 \\t\\t\\t\\t\\t\\t\\t\\t\\t\\t빛이나는 쏠로 ㅋㅋㅋㅋㅋㅋㅋㅋㅋㅋㅋㅋㅋㅋㅋㅋㅋㅋㅋㅋㅋㅋㅋㅋㅋㅋㅋㅋㅋㅋㅋㅋㅋㅋㅋㅋㅋㅋㅋㅋㅋㅋㅋㅋㅋㅋㅋㅋ제니야  너도 개웃기지???     카이야  너도웃겼겠다\\t ',\n",
       "  '   내용 \\t\\t\\t\\t\\t\\t\\t\\t\\t\\t댓수준 역겨울정도인데좋으면듣고 싫으면 꺼지지 굳이 남 1등하는꼴못봐서 빼애액대냐..꼭 지가 빠는연애인 조금이라도 비아냥대면 열폭오지게하면서 남 잘되는꼴은 또 못봐요ㅋ\\t ',\n",
       "  '   내용 \\t\\t\\t\\t\\t\\t\\t\\t\\t\\t그냥 활동해주는게 고마운건데 연예인을 여친 혹은 남친이라 생각하지 말자 좀;\\t ',\n",
       "  '   내용 \\t\\t\\t\\t\\t\\t\\t\\t\\t\\t제니 요즘 태도논란도 있었는데 열애설까지̆̈ 뜨니까 흠ㅋㅋ YG 금기사항이⃕ 연애라는데 멤버들한테 미안한 마음 가져야겟네요 퓨\\t ',\n",
       "  '   내용 \\t\\t\\t\\t\\t\\t\\t\\t\\t\\t테디 제발 해외 팝송에서 들어본 적 있는 비트들로 찌개 끓이지 말고,..\\t ',\n",
       "  '   내용 \\t\\t\\t\\t\\t\\t\\t\\t\\t\\t제니만의 매력을 완전히는 못살린 느낌. 곡이 너무 익숙해서 보니 역시나 테디. 기존 테디곡들 믹스해놓은 것 같다. 다른 가수들도 생각나고...  YG도 테디그늘서 살짝 벋어나야 좀 새로우려나. 개인적으로 좀 아쉽다.\\t ',\n",
       "  '   내용 \\t\\t\\t\\t\\t\\t\\t\\t\\t\\t공검 1도 안되는 노래 부르느라 고생했다\\t ',\n",
       "  '   내용 \\t\\t\\t\\t\\t\\t\\t\\t\\t\\t난 제니님도 솔로일줄 알았지... 갓제니도 솔크당 했는데 그냥 빛이 나는 솔로 청소한다는 거였어\\t ',\n",
       "  '   내용 \\t\\t\\t\\t\\t\\t\\t\\t\\t\\tk-pop스타들이 성공하니 되게 다 팝느낌으로 가네.. 영어가 더 많은듯.. 한국어가 지워져 가는 것 같아서 좀 씁슬하네 한국어도 충분히 성공 할 수 있는데 방탄처럼..\\t ',\n",
       "  '   내용 \\t\\t\\t\\t\\t\\t\\t\\t\\t\\t제니 남돌들이랑 맞짱오지게 잘뜬다\\t ',\n",
       "  '   내용 \\t\\t\\t\\t\\t\\t\\t\\t\\t\\tㅠㅠ로제도 빨리 솔로내주세요..\\t ',\n",
       "  '   내용 \\t\\t\\t\\t\\t\\t\\t\\t\\t\\t요근래 나온 노래 중에서 젤 좋은듯 ㄹㅇ 진입 1위 ㄱ\\t ',\n",
       "  '   내용 \\t\\t\\t\\t\\t\\t\\t\\t\\t\\t진짜 이런게 빌보드 가야된다 ♩♪ yg 스타일 너무 사랑해\\t ',\n",
       "  '   내용 \\t\\t\\t\\t\\t\\t\\t\\t\\t\\t제니버프 빼고 객관적으로 노래만 딱 들어도 평타이상으로 귀에 감기는데 이노래가 구리면 도대체 무슨음악을 들어야함????? 2080년도 노래들 들으세요?? 존ㅡ나 트렌디한데 유로냄새도 나고 도대체 무슨노래가 좋은 노래인지 대댓에 추천좀 해주세요 들어보게\\t ',\n",
       "  '   내용 \\t\\t\\t\\t\\t\\t\\t\\t\\t\\t음 뭐라해야되지 좋다안좋다 표현을 못하겟는 그런 곡....? 그냥 옷가게 배경음악같은 느낌\\t ',\n",
       "  '   내용 \\t\\t\\t\\t\\t\\t\\t\\t\\t\\t이게 좋나..뭐 개취지만.. 그냥 어렴풋이 이미지잡힌걸로미국에 팝아이돌따라하는거같은..\\t ',\n",
       "  '   내용 \\t\\t\\t\\t\\t\\t\\t\\t\\t\\t당분간 와이지는 걸그룹 만들지말고 블랙핑크만 푸쉬해라. 사실상 빅뱅 대체할 그룹은 블핑밖에 없다\\t ',\n",
       "  '   내용 \\t\\t\\t\\t\\t\\t\\t\\t\\t\\t갓제니!!!이따 학원 끝나고 10시쯤에 음원 필요하신분 선물해드릴게요 그때까지 잘 버텨줘야되는데 ㅠㅠ 받으신 분들 메세지 보내주세요^^(선물 완료했고, 문상 생기면 이 댓글에 쓰신 분 중에 또 드릴게요!!)\\t ',\n",
       "  '   내용 \\t\\t\\t\\t\\t\\t\\t\\t\\t\\t제니의 연애사건은 훗날 일어난 사건들에 비해선 아무것도 아니였음 솔직히ㅜㅋㅋ\\t ',\n",
       "  '   내용 \\t\\t\\t\\t\\t\\t\\t\\t\\t\\t분명 중독성 있고 아직 먹히는 스타일인건 맞는 듯 하지만 작년 선미 노래랑 비슷한 느낌을 지울수가 없다어디서 들어본 것 같고 곡 분위기 뿐만 아니라 의상이나 전반적인 무드도 다..\\t ',\n",
       "  \"   내용 \\t\\t\\t\\t\\t\\t\\t\\t\\t\\t흐어ㅓ.. 제니님 '솔로'곡 진입 1위..ㄷㄷ          재생 다운로드    곡명 SOLO    아티스트명  제니 (JENNIE) 제니 (JENNIE)     앨범명 SOLO       \",\n",
       "  '  재생 다운로드    곡명 SOLO    아티스트명  제니 (JENNIE) 제니 (JENNIE)     앨범명 SOLO   ',\n",
       "  '   내용 \\t\\t\\t\\t\\t\\t\\t\\t\\t\\t솔로 데뷔곡 화력 개쩐다\\t ',\n",
       "  '   내용 \\t\\t\\t\\t\\t\\t\\t\\t\\t\\t솔로 낸지 얼마나 됬다고 듀오 됬네 :;;;;;;\\t ',\n",
       "  '   내용 \\t\\t\\t\\t\\t\\t\\t\\t\\t\\t아니 제니가 솔로냈다고 실제로도 솔로여야하나,, 그냥 혼자일때가 가장 나답다 이런 내용 아니야..?? 블랙핑크 멤버한테 피해가는건 알겠는데 몇몇은 도가 지나치게 욕해ㅠㅠ\\t ',\n",
       "  '   내용 \\t\\t\\t\\t\\t\\t\\t\\t\\t\\t엑소 연차도 쌓여서 그만큼 팬들도 예전보다 더 성숙하게 응원해주는데 블핑은 아직 더 빛날텐데 열애설터지면 타격감은 클 것 같아요ㅜㅜ팬분들도 여러모로 상처입을 것 같고ㅠㅠ하지만 이미 둘의 청춘이고 선택이니 엑소엘로써 전 둘 응원해요!예쁘게 사랑했으면 좋겠고 악플보고 너무 신경 안 쓰셨으면 좋겠어요!\\t ',\n",
       "  '   내용 \\t\\t\\t\\t\\t\\t\\t\\t\\t\\t회사에서 욕먹는건당연하다 비지니스 관계에서 큰 규칙을 어겼으니 알게모르게 탈덕하는 팬들도 많을꺼고 이미지도 안 좋아질걸... 제니 블핑 다른멤버를한테 미안한마음은 가져야겠다ㅋㅋ\\t ',\n",
       "  '   내용 \\t\\t\\t\\t\\t\\t\\t\\t\\t\\t?? 별점테러가 왜 우리야 우리라는 증거 있어 ? 아 무슨일인가해서 와봤더니\\t ',\n",
       "  '   내용 \\t\\t\\t\\t\\t\\t\\t\\t\\t\\t발렌타인때 편의점에서 페레로로쉐사서 이 노래들으면서 까먹었는데 앞으로 10년은 더 거뜬히 빛날수있겠다는 자신감이 생겼습니다. 감사합니다.\\t ',\n",
       "  '   내용 \\t\\t\\t\\t\\t\\t\\t\\t\\t\\t연애하는건 그렇다치더라도 솔로라는 노래 이제 사람들이 듣고 싶을까 싶다 웃겨섴ㅋㅋㅋㅋ한국사람들 가사이입 중요하게 여기는데 뭐 컨셉과 아예 다르니 빛이 나는 커플 이럼서 풍자하면서 들을듯ㅋㅋ들으면 들을수록 제니한테는 마이너스\\t ',\n",
       "  '   내용 \\t\\t\\t\\t\\t\\t\\t\\t\\t\\t솔직히 인기빨 소속사빨이지\\t ',\n",
       "  '   내용 \\t\\t\\t\\t\\t\\t\\t\\t\\t\\t츄리챙만 불쌍\\t ',\n",
       "  '   내용 \\t\\t\\t\\t\\t\\t\\t\\t\\t\\t연애는 좋은데 걸리진 말았어야지~ㅠㅠ          ',\n",
       "  '   내용 \\t\\t\\t\\t\\t\\t\\t\\t\\t\\t카이랑 제니 둘다 귀티나게 생겨서 그런가 비주얼적으로 되게 잘 어울림 예쁜 연애했음 좋겠다\\t ',\n",
       "  '   내용 \\t\\t\\t\\t\\t\\t\\t\\t\\t\\t제니 데뷔 초 인기가요 방송당시 발목 90도로 꺾여서 응급실가고 수액맞으면서 활동하다가 일본 콘서트때 다친발목 무대 계단 내려오다 또 접지름 그날 휠체어 타고 퇴근 , 다음날 정해진 동선 못하고 무대 계단에 앉아서 노래했음 공항에서 다친쪽 큰 캐리어에 또 부딪힘 백댄서분들이랑 사진찍은거 보면 발목보호대 항상 하고있음 이런제니에게 무대마다 항상 킬힐 신기고\\t ',\n",
       "  '   내용 \\t\\t\\t\\t\\t\\t\\t\\t\\t\\t가사 좀 공감된다 ㅋㅋㅋㅋ 매일 연락하는 거 지쳐서 헤어지면 그 사람이 없어졌고 내가 일방적으로 관계를 끊었다는 것에 대한후회와 미안함에 매일 울면서 감정낭비한다는게 .. 진짜 부질없다\\t ',\n",
       "  '   내용 \\t\\t\\t\\t\\t\\t\\t\\t\\t\\t비추 별점테러 꼭 워너블이라고 생각안해주셨으면합니다\\t ',\n",
       "  '   내용 \\t\\t\\t\\t\\t\\t\\t\\t\\t\\t우와ㅋㅋㅋㄲ 우리가 느그들 별점테러했다는 증거 어딨는데ㅋㅋㅋㄱㅋㅋ 울지말고 천천히 증거가지고 와서 따지삼ㅜㅜ 나도 제니 노래 좋다고 말하고 다녔는데 되지도않는 헛논리 들이밀면서 자들자들...재밌냐?\\t ',\n",
       "  '   내용 \\t\\t\\t\\t\\t\\t\\t\\t\\t\\t또또 트xx스, 엑x 팬새기들 지들 열심히 무한스밍 했는데도 제니한테 순위 뺏긴것 때문에 열등감 생겨버려서 여기까지 와서 다른 사람들 댓글에 비추박고 튀어버리기~~ 정작 지들이 빠는 그룹 앨범엔 비추 1도없는데 지들보다 높은 순위면 꼭 와서 비추박고가죠~ ㄹㅇ 열등감 하나는 종특인듯ㅋㅋ\\t ',\n",
       "  '   내용 \\t\\t\\t\\t\\t\\t\\t\\t\\t\\tㄹㅇ 와이지는 테디 덕분에 일단 반 이상은 먹고 산다\\t ',\n",
       "  '   내용 \\t\\t\\t\\t\\t\\t\\t\\t\\t\\t이용자수 보니까 제니는 대중픽인듯 진짜 대단함 노래 너무 좋음 하루종일 귀에 맴돌고있음\\t ',\n",
       "  '   내용 \\t\\t\\t\\t\\t\\t\\t\\t\\t\\t노래가 ㄹㅇ 힙한 팝송같음.좋음.\\t ',\n",
       "  '   내용 \\t\\t\\t\\t\\t\\t\\t\\t\\t\\t솔로로 나오기엔 좀 부족한듯노래도 그닥...\\t ',\n",
       "  '   내용 \\t\\t\\t\\t\\t\\t\\t\\t\\t\\t음원순위 조작은 무슨 ㅋㅋㅋㅋ 뚜두뚜두랑 추이 완전 다른데 개소리야 지금 계속 1위하는 이유 유입이 엄청 많아서 그런 것 같은데 뭐만 하면 사재기니 뭐니 하지 좀 마라 어? 지 가수 1위 못한다고 지.랄이여. 더군다나 노래도 짧은데\\t ',\n",
       "  '   내용 \\t\\t\\t\\t\\t\\t\\t\\t\\t\\t시바 YG는 테디좀 갖다 버려라 맨날 똑같은곡만 만드냐 가수가 ㄹㅇ 아깝다\\t ',\n",
       "  '   내용 \\t\\t\\t\\t\\t\\t\\t\\t\\t\\t아니 노래가 이게 후달린다고...? ㅋㅋㅋㅋㅋㅋㅋㅋㅋㅋㅋㅋㅋㅋㅋ 진짜 완전 깔끔하고 무명가수가 불럿어도 역주행에서 최소 10위권안으로 갓음 ㅋㅋㅋㅋㅋㅋㅋㅋㅋ 어이없는 소리다 진짜 노래가 안좋다는건\\t ',\n",
       "  \"   내용 \\t\\t\\t\\t\\t\\t\\t\\t\\t\\t아니..진짜 궁금한건데 노래 제목으로 드립치는 이유가 대체 뭐지?? '솔로'라는 이 제목이 제니가 쓴 건 아니잖아요. 연애하겠다는데 그냥 이쁜 연애하게 두세요. 블랙핑크 분들도, 엑소엘도 대부분 인정하고 이쁘게 사귀라고 하는데 왜 제3자가 나서요? 드립칠게 없어서 노래 제목으로 드립이나 치고..어이가 없다 진짜.\\t \",\n",
       "  '   내용 \\t\\t\\t\\t\\t\\t\\t\\t\\t\\t후렴구는 뭐..좋은데 ㅜㅜ 징짜 너무 기대햇는데 아쉽다 곡이.. 제니음색이라 좀 사는거지 곡자채는 진짜 별로인거같은데..\\t ',\n",
       "  '   내용 \\t\\t\\t\\t\\t\\t\\t\\t\\t\\t빛이 나는 솔로 bitch로 들리게 하는거 너무 좋다ㅎㅎ\\t ',\n",
       "  '   내용 \\t\\t\\t\\t\\t\\t\\t\\t\\t\\t제니처럼 춤추면서 노래하고 랩하는 매력적인 여자 솔로가 우리나라에 누가 있을까나\\t ',\n",
       "  '   내용 \\t\\t\\t\\t\\t\\t\\t\\t\\t\\t제니... 내 기준 얼굴 실력 뭐 하나 안 빠지는데 우리나라에서 유난히 저평가 받지 ㅋㅋㅋ 배우들이랑 비교당하고 얼평질에 에효... 제니 영원하자ㅠ\\t ',\n",
       "  '   내용 \\t\\t\\t\\t\\t\\t\\t\\t\\t\\t워너블인데 이번 제니 신곡 진짜 좋네요 진짜 블랙핑크 노래는 꼭 들어보는데 역대급ㅠ솔로로도 성공하는 모습 너무 보기 좋아요ㅠ+일부 무개념때문에맘 상하시지 않길 바랍니다ㅠ저희쪽 어그로나 무개념 무시해주시고같이 열심히 덕질해요!워너블중에서 무개념은 지극히 일부라는거 알아주세요ㅠ 개념너블도 있습니다ㅠ워너원도 흥하고 제니도 흥하길♡\\t ',\n",
       "  '   내용 \\t\\t\\t\\t\\t\\t\\t\\t\\t\\t제니 생각보다 대단~~대중픽인듯\\t ',\n",
       "  '   내용 \\t\\t\\t\\t\\t\\t\\t\\t\\t\\t도대체 어떤부분에서 선미야?????????\\t ',\n",
       "  '   내용 \\t\\t\\t\\t\\t\\t\\t\\t\\t\\t조금은 아쉬운 노래지만 첫 데뷔치고는 존재의 클래스를 알리기에 충분했다.. 샤넬 귀걸이와 옷이 이렇게 잘 어울리는 사람은 처음임.. 타팬이지만 케이팝 팬으로서 제니는 인정 다음 컴백부터는 작사작곡에 직접 참여해 좀 더 아티스트다운 면모를 보여줬으면!\\t ',\n",
       "  '   내용 \\t\\t\\t\\t\\t\\t\\t\\t\\t\\t하나하나 반대 누르고 가는거 애잔하다\\t ',\n",
       "  '   내용 \\t\\t\\t\\t\\t\\t\\t\\t\\t\\t진짜 트빡이들 1위뺏기니까 악플다는거봐 개역겹네 ㅋㅋㅋㅋ진짜 한심하다\\t ',\n",
       "  '   내용 \\t\\t\\t\\t\\t\\t\\t\\t\\t\\t와 ㄹㅇ 개쩐다 헐리우드에서 나올 법한 분위기 그냥 독보적\\t ',\n",
       "  '   내용 \\t\\t\\t\\t\\t\\t\\t\\t\\t\\t뭔데 1위 멋있지??          ',\n",
       "  '   내용 \\t\\t\\t\\t\\t\\t\\t\\t\\t\\t제니 목소리 너무좋아ㅠㅠㅠㅠㅠ 노래할때든 랩할때든 너무 내취향\\t ',\n",
       "  '   내용 \\t\\t\\t\\t\\t\\t\\t\\t\\t\\t태도..... 떳다하면 다들 태도가문제야 초심을 지켜야지... ㅉ 라고 적었놨었는데요 이제보니안티들이 일부씩 짤라서 고의적으로 올렸다고 하더군요... 앞으로는 더 잘알고 어그로끌겠습니다 ㅎ\\t ',\n",
       "  '   내용 \\t\\t\\t\\t\\t\\t\\t\\t\\t\\t참나 어이가없어섴ㅋ아니 비추박고 악플단거를 왜 워너블하고엑소엘분들께 뒤집어씌우는건지..저희가했다는 증거도 없지않습니까..추측만으로 몰아가지마세요.\\t ',\n",
       "  '   내용 \\t\\t\\t\\t\\t\\t\\t\\t\\t\\t노래 별론데 팬빨로 1등한다? 제니 혼자 팬빨로만 이렇게 길게 1등 찍는게 말이 된다고 생각하세요?ㅎㅎ 노래가 좋으니까 1등이죠~ 별로인 부분 비판하는건 좋은데 열등감쩌는 비난은 그만하세여ㅎㅎ 애잔합니다^^\\t '],\n",
       " ['   내용 \\t\\t\\t\\t\\t\\t\\t\\t\\t\\t우리 로제도 솔로 데뷔 시켜주세요\\t ',\n",
       "  '   내용 \\t\\t\\t\\t\\t\\t\\t\\t\\t\\t노래가 제니빨제니가 학교종이 땡땡만 불러도 멜론 100위 권 진입은 할 듯.\\t ',\n",
       "  '   내용 \\t\\t\\t\\t\\t\\t\\t\\t\\t\\tㅋㅋㅋ노래 제목이 솔로라서 제니도 솔로여야 한다는 것들은 그걸 드립이라고 치는건지 생각이 덜 자란 건지 진심 모르겠네\\t ',\n",
       "  '   내용 \\t\\t\\t\\t\\t\\t\\t\\t\\t\\t블랙핑크의 제니라는 가수가 불렀다는 걸 제외하고 봤을 때 지극히 평범한 곡일뿐인 곡인데, 예를 들면 후렴부분도 너무 약하고... 솔직히 이 정도면 노래가 제니 빨을 받았다고 할 수 밖에 없다.\\t ',\n",
       "  '   내용 \\t\\t\\t\\t\\t\\t\\t\\t\\t\\t솔로 불렀다고 어이 없다고? 심장이 없어 부른 애한테 심장이 있는 데 왜 부르냐고는 왜 안하냐 ㅋㅋㅋ\\t ',\n",
       "  \"   내용 \\t\\t\\t\\t\\t\\t\\t\\t\\t\\t빛이 나는 솔로=Bitxh i'm solo=x년아 나는 솔로야 그래서 어쩔꺼가사 노림수 보소 ㄷㄷ\\t \",\n",
       "  '   내용 \\t\\t\\t\\t\\t\\t\\t\\t\\t\\t노래 다 좋고 계속 듣고있는데 태도논란에 대한 부분은 쉴드칠게 아니라 팬들이 나서서 고치도록 해줘야할것같음. 누가봐도 대충추는데 아니라고 해봤자 여론만 안좋아질듯. 나머지는 아티스트적인 부분으로서도 응원함\\t ',\n",
       "  '   내용 \\t\\t\\t\\t\\t\\t\\t\\t\\t\\t내 가수가 못 이뤄본것들 다른 가수가 이루면 조작이고 사재기죠? 하루 빨리 현실을 받아들이는게 본인한테도 좋지 않을까요          ',\n",
       "  '   내용 \\t\\t\\t\\t\\t\\t\\t\\t\\t\\t도입부는 좋은데 뒤로 갈수록 너무 아쉽다. 그냥 테디 노래 짬♩시켜놓은 느낌.특히 solo-lo-lo-lo 이부분 듣고 완성도 확 떨어지는 느낌 받음.. 대충 만든 것 같다 제니의 넘치는 끼에 비해ㅠ\\t ',\n",
       "  '   내용 \\t\\t\\t\\t\\t\\t\\t\\t\\t\\t1.김제니 첫 솔로 컴백으로 멜론 진입 1위2.김제니 첫 솔로 컴백으로 한국 음원 사이트 8대 1위 올킬3.김제니 첫 솔로 컴백으로 전 세계 40개국 1위4.김제니 첫 솔로 컴백으로 미국 아이튠즈 7위5.김제니 첫 솔로 컴백으로 아이튠즈 월드와이드 송 일간 1위(우리나라 여성 솔로가수 최초 1위)6.김제니 첫 솔로 컴백으로 영국 유튜브 트렌딩 1위          ',\n",
       "  '   내용 \\t\\t\\t\\t\\t\\t\\t\\t\\t\\t아이코닉인데 개인적으로 와지아티스트 다 좋아하고  노래 다 믿는데 제니솔로 오래기다렸네요ㅎㅎ너무 기대됐는데 도입부 듣자마자 하트랑 평점 별5개 바로 눌렀어요ㅋㅋㅋ 블랙핑크 너무 이쁘고 진짜 개 좋아요 남자였음 블링크였을겁니다. 진짜로 1위하세용 블핑 블링크 화이팅!!아이콘노래 사이에 껴서 스밍할게요!          재생 다운로드    곡명 SOLO    아티스트명  제니 (JENNIE) 제니 (JENNIE)     앨범명 SOLO       ',\n",
       "  '  재생 다운로드    곡명 SOLO    아티스트명  제니 (JENNIE) 제니 (JENNIE)     앨범명 SOLO   ',\n",
       "  '   내용 \\t\\t\\t\\t\\t\\t\\t\\t\\t\\t솔직히 1 위할 노래는 아닌것 같은데\\t ',\n",
       "  '   내용 \\t\\t\\t\\t\\t\\t\\t\\t\\t\\t천사득...❤❤❤❤❤❤          ',\n",
       "  '   내용 \\t\\t\\t\\t\\t\\t\\t\\t\\t\\t제 2의 붙이는 건 별로 안 좋아하지만 블핑이야 말로 와이지 먹여살릴 빅뱅이 되진 않을지,, 나머지 보이그룹들은 그에 비해 성적이 아쉬운데 솔로가 이 정도면 진짜 대박\\t ',\n",
       "  '   내용 \\t\\t\\t\\t\\t\\t\\t\\t\\t\\t솔로 가지고 뭐라하는데 이거 테디가 작사 작곡한건데 제니가 곡 받을때 테디한테 \"저 솔로 아니라서 이 곡 안 할게요\" 라고 해야되냐??\\t ',\n",
       "  '   내용 \\t\\t\\t\\t\\t\\t\\t\\t\\t\\t제니야 이빨닦을때 뭘로닦아??빛이 나는 솔로\\t ',\n",
       "  '   내용 \\t\\t\\t\\t\\t\\t\\t\\t\\t\\t그냥 제니여서 1위인거지 ..ㅋㅋ\\t ',\n",
       "  '   내용 \\t\\t\\t\\t\\t\\t\\t\\t\\t\\t사람들이 왜 이렇게 팝송을 따라한다고뭐라하는지 이해가 안 감.솔직히 팬도 아니고 안티도 아닌 입장에서노래가 엄청 좋다고는 못하겠으나제니가 그만큼 소화를 잘 했고 제니의 목소리나 창법 같은 걸 봤을때도우리나라 정서의 음악보다 해외팝 같은 분위기의 노래가 더 잘 어울린다는걸 그만큼 알고 거기에 맞춰노래를 만든 것이라고 생각함.\\t ',\n",
       "  '   내용 \\t\\t\\t\\t\\t\\t\\t\\t\\t\\t진입 1위... 개쩐다\\t ',\n",
       "  '   내용 \\t\\t\\t\\t\\t\\t\\t\\t\\t\\t노래는 걍 무난한데 1위는 노이해\\t ',\n",
       "  '   내용 \\t\\t\\t\\t\\t\\t\\t\\t\\t\\t이런 소모적인 노래가 왜 뜨는지모르겠네...\\t ',\n",
       "  '   내용 \\t\\t\\t\\t\\t\\t\\t\\t\\t\\t확실히 블랙핑크는 멤버별 개성이 뚜렷하네. 이 네명이 합쳐졌을때 시너지 효과를 내어서 블랙핑크만의 독보적인 색깔을 나타낼 수 있는거고\\t ',\n",
       "  '   내용 \\t\\t\\t\\t\\t\\t\\t\\t\\t\\t아 노래 별로다\\t ',\n",
       "  '   내용 \\t\\t\\t\\t\\t\\t\\t\\t\\t\\t솔직히 노래 좋은거 모르겠으..평범..한데 또들으러옴... 중독성 오지네\\t ',\n",
       "  '   내용 \\t\\t\\t\\t\\t\\t\\t\\t\\t\\t곡 구성좀 바꿔라 맨날 똑같은 래파토리냐\\t ',\n",
       "  '   내용 \\t\\t\\t\\t\\t\\t\\t\\t\\t\\t이거 가사 의도한거죠빛이 나는 솔로Bitch 나는솔로개 멋있는데\\t ',\n",
       "  '   내용 \\t\\t\\t\\t\\t\\t\\t\\t\\t\\t빛이나는 쏠로 ㅋㅋㅋㅋㅋㅋㅋㅋㅋㅋㅋㅋㅋㅋㅋㅋㅋㅋㅋㅋㅋㅋㅋㅋㅋㅋㅋㅋㅋㅋㅋㅋㅋㅋㅋㅋㅋㅋㅋㅋㅋㅋㅋㅋㅋㅋㅋㅋ제니야  너도 개웃기지???     카이야  너도웃겼겠다\\t ',\n",
       "  '   내용 \\t\\t\\t\\t\\t\\t\\t\\t\\t\\t댓수준 역겨울정도인데좋으면듣고 싫으면 꺼지지 굳이 남 1등하는꼴못봐서 빼애액대냐..꼭 지가 빠는연애인 조금이라도 비아냥대면 열폭오지게하면서 남 잘되는꼴은 또 못봐요ㅋ\\t ',\n",
       "  '   내용 \\t\\t\\t\\t\\t\\t\\t\\t\\t\\t그냥 활동해주는게 고마운건데 연예인을 여친 혹은 남친이라 생각하지 말자 좀;\\t ',\n",
       "  '   내용 \\t\\t\\t\\t\\t\\t\\t\\t\\t\\t제니 요즘 태도논란도 있었는데 열애설까지̆̈ 뜨니까 흠ㅋㅋ YG 금기사항이⃕ 연애라는데 멤버들한테 미안한 마음 가져야겟네요 퓨\\t ',\n",
       "  '   내용 \\t\\t\\t\\t\\t\\t\\t\\t\\t\\t테디 제발 해외 팝송에서 들어본 적 있는 비트들로 찌개 끓이지 말고,..\\t ',\n",
       "  '   내용 \\t\\t\\t\\t\\t\\t\\t\\t\\t\\t제니만의 매력을 완전히는 못살린 느낌. 곡이 너무 익숙해서 보니 역시나 테디. 기존 테디곡들 믹스해놓은 것 같다. 다른 가수들도 생각나고...  YG도 테디그늘서 살짝 벋어나야 좀 새로우려나. 개인적으로 좀 아쉽다.\\t ',\n",
       "  '   내용 \\t\\t\\t\\t\\t\\t\\t\\t\\t\\t공검 1도 안되는 노래 부르느라 고생했다\\t ',\n",
       "  '   내용 \\t\\t\\t\\t\\t\\t\\t\\t\\t\\t난 제니님도 솔로일줄 알았지... 갓제니도 솔크당 했는데 그냥 빛이 나는 솔로 청소한다는 거였어\\t ',\n",
       "  '   내용 \\t\\t\\t\\t\\t\\t\\t\\t\\t\\tk-pop스타들이 성공하니 되게 다 팝느낌으로 가네.. 영어가 더 많은듯.. 한국어가 지워져 가는 것 같아서 좀 씁슬하네 한국어도 충분히 성공 할 수 있는데 방탄처럼..\\t ',\n",
       "  '   내용 \\t\\t\\t\\t\\t\\t\\t\\t\\t\\t제니 남돌들이랑 맞짱오지게 잘뜬다\\t ',\n",
       "  '   내용 \\t\\t\\t\\t\\t\\t\\t\\t\\t\\tㅠㅠ로제도 빨리 솔로내주세요..\\t ',\n",
       "  '   내용 \\t\\t\\t\\t\\t\\t\\t\\t\\t\\t요근래 나온 노래 중에서 젤 좋은듯 ㄹㅇ 진입 1위 ㄱ\\t ',\n",
       "  '   내용 \\t\\t\\t\\t\\t\\t\\t\\t\\t\\t진짜 이런게 빌보드 가야된다 ♩♪ yg 스타일 너무 사랑해\\t ',\n",
       "  '   내용 \\t\\t\\t\\t\\t\\t\\t\\t\\t\\t제니버프 빼고 객관적으로 노래만 딱 들어도 평타이상으로 귀에 감기는데 이노래가 구리면 도대체 무슨음악을 들어야함????? 2080년도 노래들 들으세요?? 존ㅡ나 트렌디한데 유로냄새도 나고 도대체 무슨노래가 좋은 노래인지 대댓에 추천좀 해주세요 들어보게\\t ',\n",
       "  '   내용 \\t\\t\\t\\t\\t\\t\\t\\t\\t\\t음 뭐라해야되지 좋다안좋다 표현을 못하겟는 그런 곡....? 그냥 옷가게 배경음악같은 느낌\\t ',\n",
       "  '   내용 \\t\\t\\t\\t\\t\\t\\t\\t\\t\\t이게 좋나..뭐 개취지만.. 그냥 어렴풋이 이미지잡힌걸로미국에 팝아이돌따라하는거같은..\\t ',\n",
       "  '   내용 \\t\\t\\t\\t\\t\\t\\t\\t\\t\\t당분간 와이지는 걸그룹 만들지말고 블랙핑크만 푸쉬해라. 사실상 빅뱅 대체할 그룹은 블핑밖에 없다\\t ',\n",
       "  '   내용 \\t\\t\\t\\t\\t\\t\\t\\t\\t\\t갓제니!!!이따 학원 끝나고 10시쯤에 음원 필요하신분 선물해드릴게요 그때까지 잘 버텨줘야되는데 ㅠㅠ 받으신 분들 메세지 보내주세요^^(선물 완료했고, 문상 생기면 이 댓글에 쓰신 분 중에 또 드릴게요!!)\\t ',\n",
       "  '   내용 \\t\\t\\t\\t\\t\\t\\t\\t\\t\\t제니의 연애사건은 훗날 일어난 사건들에 비해선 아무것도 아니였음 솔직히ㅜㅋㅋ\\t ',\n",
       "  '   내용 \\t\\t\\t\\t\\t\\t\\t\\t\\t\\t분명 중독성 있고 아직 먹히는 스타일인건 맞는 듯 하지만 작년 선미 노래랑 비슷한 느낌을 지울수가 없다어디서 들어본 것 같고 곡 분위기 뿐만 아니라 의상이나 전반적인 무드도 다..\\t ',\n",
       "  \"   내용 \\t\\t\\t\\t\\t\\t\\t\\t\\t\\t흐어ㅓ.. 제니님 '솔로'곡 진입 1위..ㄷㄷ          재생 다운로드    곡명 SOLO    아티스트명  제니 (JENNIE) 제니 (JENNIE)     앨범명 SOLO       \",\n",
       "  '  재생 다운로드    곡명 SOLO    아티스트명  제니 (JENNIE) 제니 (JENNIE)     앨범명 SOLO   ',\n",
       "  '   내용 \\t\\t\\t\\t\\t\\t\\t\\t\\t\\t솔로 데뷔곡 화력 개쩐다\\t ',\n",
       "  '   내용 \\t\\t\\t\\t\\t\\t\\t\\t\\t\\t솔로 낸지 얼마나 됬다고 듀오 됬네 :;;;;;;\\t ',\n",
       "  '   내용 \\t\\t\\t\\t\\t\\t\\t\\t\\t\\t아니 제니가 솔로냈다고 실제로도 솔로여야하나,, 그냥 혼자일때가 가장 나답다 이런 내용 아니야..?? 블랙핑크 멤버한테 피해가는건 알겠는데 몇몇은 도가 지나치게 욕해ㅠㅠ\\t ',\n",
       "  '   내용 \\t\\t\\t\\t\\t\\t\\t\\t\\t\\t엑소 연차도 쌓여서 그만큼 팬들도 예전보다 더 성숙하게 응원해주는데 블핑은 아직 더 빛날텐데 열애설터지면 타격감은 클 것 같아요ㅜㅜ팬분들도 여러모로 상처입을 것 같고ㅠㅠ하지만 이미 둘의 청춘이고 선택이니 엑소엘로써 전 둘 응원해요!예쁘게 사랑했으면 좋겠고 악플보고 너무 신경 안 쓰셨으면 좋겠어요!\\t ',\n",
       "  '   내용 \\t\\t\\t\\t\\t\\t\\t\\t\\t\\t회사에서 욕먹는건당연하다 비지니스 관계에서 큰 규칙을 어겼으니 알게모르게 탈덕하는 팬들도 많을꺼고 이미지도 안 좋아질걸... 제니 블핑 다른멤버를한테 미안한마음은 가져야겠다ㅋㅋ\\t ',\n",
       "  '   내용 \\t\\t\\t\\t\\t\\t\\t\\t\\t\\t?? 별점테러가 왜 우리야 우리라는 증거 있어 ? 아 무슨일인가해서 와봤더니\\t ',\n",
       "  '   내용 \\t\\t\\t\\t\\t\\t\\t\\t\\t\\t발렌타인때 편의점에서 페레로로쉐사서 이 노래들으면서 까먹었는데 앞으로 10년은 더 거뜬히 빛날수있겠다는 자신감이 생겼습니다. 감사합니다.\\t ',\n",
       "  '   내용 \\t\\t\\t\\t\\t\\t\\t\\t\\t\\t연애하는건 그렇다치더라도 솔로라는 노래 이제 사람들이 듣고 싶을까 싶다 웃겨섴ㅋㅋㅋㅋ한국사람들 가사이입 중요하게 여기는데 뭐 컨셉과 아예 다르니 빛이 나는 커플 이럼서 풍자하면서 들을듯ㅋㅋ들으면 들을수록 제니한테는 마이너스\\t ',\n",
       "  '   내용 \\t\\t\\t\\t\\t\\t\\t\\t\\t\\t솔직히 인기빨 소속사빨이지\\t ',\n",
       "  '   내용 \\t\\t\\t\\t\\t\\t\\t\\t\\t\\t츄리챙만 불쌍\\t ',\n",
       "  '   내용 \\t\\t\\t\\t\\t\\t\\t\\t\\t\\t연애는 좋은데 걸리진 말았어야지~ㅠㅠ          ',\n",
       "  '   내용 \\t\\t\\t\\t\\t\\t\\t\\t\\t\\t카이랑 제니 둘다 귀티나게 생겨서 그런가 비주얼적으로 되게 잘 어울림 예쁜 연애했음 좋겠다\\t ',\n",
       "  '   내용 \\t\\t\\t\\t\\t\\t\\t\\t\\t\\t제니 데뷔 초 인기가요 방송당시 발목 90도로 꺾여서 응급실가고 수액맞으면서 활동하다가 일본 콘서트때 다친발목 무대 계단 내려오다 또 접지름 그날 휠체어 타고 퇴근 , 다음날 정해진 동선 못하고 무대 계단에 앉아서 노래했음 공항에서 다친쪽 큰 캐리어에 또 부딪힘 백댄서분들이랑 사진찍은거 보면 발목보호대 항상 하고있음 이런제니에게 무대마다 항상 킬힐 신기고\\t ',\n",
       "  '   내용 \\t\\t\\t\\t\\t\\t\\t\\t\\t\\t가사 좀 공감된다 ㅋㅋㅋㅋ 매일 연락하는 거 지쳐서 헤어지면 그 사람이 없어졌고 내가 일방적으로 관계를 끊었다는 것에 대한후회와 미안함에 매일 울면서 감정낭비한다는게 .. 진짜 부질없다\\t ',\n",
       "  '   내용 \\t\\t\\t\\t\\t\\t\\t\\t\\t\\t비추 별점테러 꼭 워너블이라고 생각안해주셨으면합니다\\t ',\n",
       "  '   내용 \\t\\t\\t\\t\\t\\t\\t\\t\\t\\t우와ㅋㅋㅋㄲ 우리가 느그들 별점테러했다는 증거 어딨는데ㅋㅋㅋㄱㅋㅋ 울지말고 천천히 증거가지고 와서 따지삼ㅜㅜ 나도 제니 노래 좋다고 말하고 다녔는데 되지도않는 헛논리 들이밀면서 자들자들...재밌냐?\\t ',\n",
       "  '   내용 \\t\\t\\t\\t\\t\\t\\t\\t\\t\\t또또 트xx스, 엑x 팬새기들 지들 열심히 무한스밍 했는데도 제니한테 순위 뺏긴것 때문에 열등감 생겨버려서 여기까지 와서 다른 사람들 댓글에 비추박고 튀어버리기~~ 정작 지들이 빠는 그룹 앨범엔 비추 1도없는데 지들보다 높은 순위면 꼭 와서 비추박고가죠~ ㄹㅇ 열등감 하나는 종특인듯ㅋㅋ\\t ',\n",
       "  '   내용 \\t\\t\\t\\t\\t\\t\\t\\t\\t\\tㄹㅇ 와이지는 테디 덕분에 일단 반 이상은 먹고 산다\\t ',\n",
       "  '   내용 \\t\\t\\t\\t\\t\\t\\t\\t\\t\\t이용자수 보니까 제니는 대중픽인듯 진짜 대단함 노래 너무 좋음 하루종일 귀에 맴돌고있음\\t ',\n",
       "  '   내용 \\t\\t\\t\\t\\t\\t\\t\\t\\t\\t노래가 ㄹㅇ 힙한 팝송같음.좋음.\\t ',\n",
       "  '   내용 \\t\\t\\t\\t\\t\\t\\t\\t\\t\\t솔로로 나오기엔 좀 부족한듯노래도 그닥...\\t ',\n",
       "  '   내용 \\t\\t\\t\\t\\t\\t\\t\\t\\t\\t음원순위 조작은 무슨 ㅋㅋㅋㅋ 뚜두뚜두랑 추이 완전 다른데 개소리야 지금 계속 1위하는 이유 유입이 엄청 많아서 그런 것 같은데 뭐만 하면 사재기니 뭐니 하지 좀 마라 어? 지 가수 1위 못한다고 지.랄이여. 더군다나 노래도 짧은데\\t ',\n",
       "  '   내용 \\t\\t\\t\\t\\t\\t\\t\\t\\t\\t시바 YG는 테디좀 갖다 버려라 맨날 똑같은곡만 만드냐 가수가 ㄹㅇ 아깝다\\t ',\n",
       "  '   내용 \\t\\t\\t\\t\\t\\t\\t\\t\\t\\t아니 노래가 이게 후달린다고...? ㅋㅋㅋㅋㅋㅋㅋㅋㅋㅋㅋㅋㅋㅋㅋ 진짜 완전 깔끔하고 무명가수가 불럿어도 역주행에서 최소 10위권안으로 갓음 ㅋㅋㅋㅋㅋㅋㅋㅋㅋ 어이없는 소리다 진짜 노래가 안좋다는건\\t ',\n",
       "  \"   내용 \\t\\t\\t\\t\\t\\t\\t\\t\\t\\t아니..진짜 궁금한건데 노래 제목으로 드립치는 이유가 대체 뭐지?? '솔로'라는 이 제목이 제니가 쓴 건 아니잖아요. 연애하겠다는데 그냥 이쁜 연애하게 두세요. 블랙핑크 분들도, 엑소엘도 대부분 인정하고 이쁘게 사귀라고 하는데 왜 제3자가 나서요? 드립칠게 없어서 노래 제목으로 드립이나 치고..어이가 없다 진짜.\\t \",\n",
       "  '   내용 \\t\\t\\t\\t\\t\\t\\t\\t\\t\\t후렴구는 뭐..좋은데 ㅜㅜ 징짜 너무 기대햇는데 아쉽다 곡이.. 제니음색이라 좀 사는거지 곡자채는 진짜 별로인거같은데..\\t ',\n",
       "  '   내용 \\t\\t\\t\\t\\t\\t\\t\\t\\t\\t빛이 나는 솔로 bitch로 들리게 하는거 너무 좋다ㅎㅎ\\t ',\n",
       "  '   내용 \\t\\t\\t\\t\\t\\t\\t\\t\\t\\t제니처럼 춤추면서 노래하고 랩하는 매력적인 여자 솔로가 우리나라에 누가 있을까나\\t ',\n",
       "  '   내용 \\t\\t\\t\\t\\t\\t\\t\\t\\t\\t제니... 내 기준 얼굴 실력 뭐 하나 안 빠지는데 우리나라에서 유난히 저평가 받지 ㅋㅋㅋ 배우들이랑 비교당하고 얼평질에 에효... 제니 영원하자ㅠ\\t ',\n",
       "  '   내용 \\t\\t\\t\\t\\t\\t\\t\\t\\t\\t워너블인데 이번 제니 신곡 진짜 좋네요 진짜 블랙핑크 노래는 꼭 들어보는데 역대급ㅠ솔로로도 성공하는 모습 너무 보기 좋아요ㅠ+일부 무개념때문에맘 상하시지 않길 바랍니다ㅠ저희쪽 어그로나 무개념 무시해주시고같이 열심히 덕질해요!워너블중에서 무개념은 지극히 일부라는거 알아주세요ㅠ 개념너블도 있습니다ㅠ워너원도 흥하고 제니도 흥하길♡\\t ',\n",
       "  '   내용 \\t\\t\\t\\t\\t\\t\\t\\t\\t\\t제니 생각보다 대단~~대중픽인듯\\t ',\n",
       "  '   내용 \\t\\t\\t\\t\\t\\t\\t\\t\\t\\t도대체 어떤부분에서 선미야?????????\\t ',\n",
       "  '   내용 \\t\\t\\t\\t\\t\\t\\t\\t\\t\\t조금은 아쉬운 노래지만 첫 데뷔치고는 존재의 클래스를 알리기에 충분했다.. 샤넬 귀걸이와 옷이 이렇게 잘 어울리는 사람은 처음임.. 타팬이지만 케이팝 팬으로서 제니는 인정 다음 컴백부터는 작사작곡에 직접 참여해 좀 더 아티스트다운 면모를 보여줬으면!\\t ',\n",
       "  '   내용 \\t\\t\\t\\t\\t\\t\\t\\t\\t\\t하나하나 반대 누르고 가는거 애잔하다\\t ',\n",
       "  '   내용 \\t\\t\\t\\t\\t\\t\\t\\t\\t\\t진짜 트빡이들 1위뺏기니까 악플다는거봐 개역겹네 ㅋㅋㅋㅋ진짜 한심하다\\t ',\n",
       "  '   내용 \\t\\t\\t\\t\\t\\t\\t\\t\\t\\t와 ㄹㅇ 개쩐다 헐리우드에서 나올 법한 분위기 그냥 독보적\\t ',\n",
       "  '   내용 \\t\\t\\t\\t\\t\\t\\t\\t\\t\\t뭔데 1위 멋있지??          ',\n",
       "  '   내용 \\t\\t\\t\\t\\t\\t\\t\\t\\t\\t제니 목소리 너무좋아ㅠㅠㅠㅠㅠ 노래할때든 랩할때든 너무 내취향\\t ',\n",
       "  '   내용 \\t\\t\\t\\t\\t\\t\\t\\t\\t\\t태도..... 떳다하면 다들 태도가문제야 초심을 지켜야지... ㅉ 라고 적었놨었는데요 이제보니안티들이 일부씩 짤라서 고의적으로 올렸다고 하더군요... 앞으로는 더 잘알고 어그로끌겠습니다 ㅎ\\t ',\n",
       "  '   내용 \\t\\t\\t\\t\\t\\t\\t\\t\\t\\t참나 어이가없어섴ㅋ아니 비추박고 악플단거를 왜 워너블하고엑소엘분들께 뒤집어씌우는건지..저희가했다는 증거도 없지않습니까..추측만으로 몰아가지마세요.\\t ',\n",
       "  '   내용 \\t\\t\\t\\t\\t\\t\\t\\t\\t\\t노래 별론데 팬빨로 1등한다? 제니 혼자 팬빨로만 이렇게 길게 1등 찍는게 말이 된다고 생각하세요?ㅎㅎ 노래가 좋으니까 1등이죠~ 별로인 부분 비판하는건 좋은데 열등감쩌는 비난은 그만하세여ㅎㅎ 애잔합니다^^\\t '],\n",
       " ['   내용 \\t\\t\\t\\t\\t\\t\\t\\t\\t\\t우리 로제도 솔로 데뷔 시켜주세요\\t ',\n",
       "  '   내용 \\t\\t\\t\\t\\t\\t\\t\\t\\t\\t노래가 제니빨제니가 학교종이 땡땡만 불러도 멜론 100위 권 진입은 할 듯.\\t ',\n",
       "  '   내용 \\t\\t\\t\\t\\t\\t\\t\\t\\t\\tㅋㅋㅋ노래 제목이 솔로라서 제니도 솔로여야 한다는 것들은 그걸 드립이라고 치는건지 생각이 덜 자란 건지 진심 모르겠네\\t ',\n",
       "  '   내용 \\t\\t\\t\\t\\t\\t\\t\\t\\t\\t블랙핑크의 제니라는 가수가 불렀다는 걸 제외하고 봤을 때 지극히 평범한 곡일뿐인 곡인데, 예를 들면 후렴부분도 너무 약하고... 솔직히 이 정도면 노래가 제니 빨을 받았다고 할 수 밖에 없다.\\t ',\n",
       "  '   내용 \\t\\t\\t\\t\\t\\t\\t\\t\\t\\t솔로 불렀다고 어이 없다고? 심장이 없어 부른 애한테 심장이 있는 데 왜 부르냐고는 왜 안하냐 ㅋㅋㅋ\\t ',\n",
       "  \"   내용 \\t\\t\\t\\t\\t\\t\\t\\t\\t\\t빛이 나는 솔로=Bitxh i'm solo=x년아 나는 솔로야 그래서 어쩔꺼가사 노림수 보소 ㄷㄷ\\t \",\n",
       "  '   내용 \\t\\t\\t\\t\\t\\t\\t\\t\\t\\t노래 다 좋고 계속 듣고있는데 태도논란에 대한 부분은 쉴드칠게 아니라 팬들이 나서서 고치도록 해줘야할것같음. 누가봐도 대충추는데 아니라고 해봤자 여론만 안좋아질듯. 나머지는 아티스트적인 부분으로서도 응원함\\t ',\n",
       "  '   내용 \\t\\t\\t\\t\\t\\t\\t\\t\\t\\t내 가수가 못 이뤄본것들 다른 가수가 이루면 조작이고 사재기죠? 하루 빨리 현실을 받아들이는게 본인한테도 좋지 않을까요          ',\n",
       "  '   내용 \\t\\t\\t\\t\\t\\t\\t\\t\\t\\t도입부는 좋은데 뒤로 갈수록 너무 아쉽다. 그냥 테디 노래 짬♩시켜놓은 느낌.특히 solo-lo-lo-lo 이부분 듣고 완성도 확 떨어지는 느낌 받음.. 대충 만든 것 같다 제니의 넘치는 끼에 비해ㅠ\\t ',\n",
       "  '   내용 \\t\\t\\t\\t\\t\\t\\t\\t\\t\\t1.김제니 첫 솔로 컴백으로 멜론 진입 1위2.김제니 첫 솔로 컴백으로 한국 음원 사이트 8대 1위 올킬3.김제니 첫 솔로 컴백으로 전 세계 40개국 1위4.김제니 첫 솔로 컴백으로 미국 아이튠즈 7위5.김제니 첫 솔로 컴백으로 아이튠즈 월드와이드 송 일간 1위(우리나라 여성 솔로가수 최초 1위)6.김제니 첫 솔로 컴백으로 영국 유튜브 트렌딩 1위          ',\n",
       "  '   내용 \\t\\t\\t\\t\\t\\t\\t\\t\\t\\t아이코닉인데 개인적으로 와지아티스트 다 좋아하고  노래 다 믿는데 제니솔로 오래기다렸네요ㅎㅎ너무 기대됐는데 도입부 듣자마자 하트랑 평점 별5개 바로 눌렀어요ㅋㅋㅋ 블랙핑크 너무 이쁘고 진짜 개 좋아요 남자였음 블링크였을겁니다. 진짜로 1위하세용 블핑 블링크 화이팅!!아이콘노래 사이에 껴서 스밍할게요!          재생 다운로드    곡명 SOLO    아티스트명  제니 (JENNIE) 제니 (JENNIE)     앨범명 SOLO       ',\n",
       "  '  재생 다운로드    곡명 SOLO    아티스트명  제니 (JENNIE) 제니 (JENNIE)     앨범명 SOLO   ',\n",
       "  '   내용 \\t\\t\\t\\t\\t\\t\\t\\t\\t\\t솔직히 1 위할 노래는 아닌것 같은데\\t ',\n",
       "  '   내용 \\t\\t\\t\\t\\t\\t\\t\\t\\t\\t천사득...❤❤❤❤❤❤          ',\n",
       "  '   내용 \\t\\t\\t\\t\\t\\t\\t\\t\\t\\t제 2의 붙이는 건 별로 안 좋아하지만 블핑이야 말로 와이지 먹여살릴 빅뱅이 되진 않을지,, 나머지 보이그룹들은 그에 비해 성적이 아쉬운데 솔로가 이 정도면 진짜 대박\\t ',\n",
       "  '   내용 \\t\\t\\t\\t\\t\\t\\t\\t\\t\\t솔로 가지고 뭐라하는데 이거 테디가 작사 작곡한건데 제니가 곡 받을때 테디한테 \"저 솔로 아니라서 이 곡 안 할게요\" 라고 해야되냐??\\t ',\n",
       "  '   내용 \\t\\t\\t\\t\\t\\t\\t\\t\\t\\t제니야 이빨닦을때 뭘로닦아??빛이 나는 솔로\\t ',\n",
       "  '   내용 \\t\\t\\t\\t\\t\\t\\t\\t\\t\\t그냥 제니여서 1위인거지 ..ㅋㅋ\\t ',\n",
       "  '   내용 \\t\\t\\t\\t\\t\\t\\t\\t\\t\\t사람들이 왜 이렇게 팝송을 따라한다고뭐라하는지 이해가 안 감.솔직히 팬도 아니고 안티도 아닌 입장에서노래가 엄청 좋다고는 못하겠으나제니가 그만큼 소화를 잘 했고 제니의 목소리나 창법 같은 걸 봤을때도우리나라 정서의 음악보다 해외팝 같은 분위기의 노래가 더 잘 어울린다는걸 그만큼 알고 거기에 맞춰노래를 만든 것이라고 생각함.\\t ',\n",
       "  '   내용 \\t\\t\\t\\t\\t\\t\\t\\t\\t\\t진입 1위... 개쩐다\\t ',\n",
       "  '   내용 \\t\\t\\t\\t\\t\\t\\t\\t\\t\\t노래는 걍 무난한데 1위는 노이해\\t ',\n",
       "  '   내용 \\t\\t\\t\\t\\t\\t\\t\\t\\t\\t이런 소모적인 노래가 왜 뜨는지모르겠네...\\t ',\n",
       "  '   내용 \\t\\t\\t\\t\\t\\t\\t\\t\\t\\t확실히 블랙핑크는 멤버별 개성이 뚜렷하네. 이 네명이 합쳐졌을때 시너지 효과를 내어서 블랙핑크만의 독보적인 색깔을 나타낼 수 있는거고\\t ',\n",
       "  '   내용 \\t\\t\\t\\t\\t\\t\\t\\t\\t\\t아 노래 별로다\\t ',\n",
       "  '   내용 \\t\\t\\t\\t\\t\\t\\t\\t\\t\\t솔직히 노래 좋은거 모르겠으..평범..한데 또들으러옴... 중독성 오지네\\t ',\n",
       "  '   내용 \\t\\t\\t\\t\\t\\t\\t\\t\\t\\t곡 구성좀 바꿔라 맨날 똑같은 래파토리냐\\t ',\n",
       "  '   내용 \\t\\t\\t\\t\\t\\t\\t\\t\\t\\t이거 가사 의도한거죠빛이 나는 솔로Bitch 나는솔로개 멋있는데\\t ',\n",
       "  '   내용 \\t\\t\\t\\t\\t\\t\\t\\t\\t\\t빛이나는 쏠로 ㅋㅋㅋㅋㅋㅋㅋㅋㅋㅋㅋㅋㅋㅋㅋㅋㅋㅋㅋㅋㅋㅋㅋㅋㅋㅋㅋㅋㅋㅋㅋㅋㅋㅋㅋㅋㅋㅋㅋㅋㅋㅋㅋㅋㅋㅋㅋㅋ제니야  너도 개웃기지???     카이야  너도웃겼겠다\\t ',\n",
       "  '   내용 \\t\\t\\t\\t\\t\\t\\t\\t\\t\\t댓수준 역겨울정도인데좋으면듣고 싫으면 꺼지지 굳이 남 1등하는꼴못봐서 빼애액대냐..꼭 지가 빠는연애인 조금이라도 비아냥대면 열폭오지게하면서 남 잘되는꼴은 또 못봐요ㅋ\\t ',\n",
       "  '   내용 \\t\\t\\t\\t\\t\\t\\t\\t\\t\\t그냥 활동해주는게 고마운건데 연예인을 여친 혹은 남친이라 생각하지 말자 좀;\\t ',\n",
       "  '   내용 \\t\\t\\t\\t\\t\\t\\t\\t\\t\\t제니 요즘 태도논란도 있었는데 열애설까지̆̈ 뜨니까 흠ㅋㅋ YG 금기사항이⃕ 연애라는데 멤버들한테 미안한 마음 가져야겟네요 퓨\\t ',\n",
       "  '   내용 \\t\\t\\t\\t\\t\\t\\t\\t\\t\\t테디 제발 해외 팝송에서 들어본 적 있는 비트들로 찌개 끓이지 말고,..\\t ',\n",
       "  '   내용 \\t\\t\\t\\t\\t\\t\\t\\t\\t\\t제니만의 매력을 완전히는 못살린 느낌. 곡이 너무 익숙해서 보니 역시나 테디. 기존 테디곡들 믹스해놓은 것 같다. 다른 가수들도 생각나고...  YG도 테디그늘서 살짝 벋어나야 좀 새로우려나. 개인적으로 좀 아쉽다.\\t ',\n",
       "  '   내용 \\t\\t\\t\\t\\t\\t\\t\\t\\t\\t공검 1도 안되는 노래 부르느라 고생했다\\t ',\n",
       "  '   내용 \\t\\t\\t\\t\\t\\t\\t\\t\\t\\t난 제니님도 솔로일줄 알았지... 갓제니도 솔크당 했는데 그냥 빛이 나는 솔로 청소한다는 거였어\\t ',\n",
       "  '   내용 \\t\\t\\t\\t\\t\\t\\t\\t\\t\\tk-pop스타들이 성공하니 되게 다 팝느낌으로 가네.. 영어가 더 많은듯.. 한국어가 지워져 가는 것 같아서 좀 씁슬하네 한국어도 충분히 성공 할 수 있는데 방탄처럼..\\t ',\n",
       "  '   내용 \\t\\t\\t\\t\\t\\t\\t\\t\\t\\t제니 남돌들이랑 맞짱오지게 잘뜬다\\t ',\n",
       "  '   내용 \\t\\t\\t\\t\\t\\t\\t\\t\\t\\tㅠㅠ로제도 빨리 솔로내주세요..\\t ',\n",
       "  '   내용 \\t\\t\\t\\t\\t\\t\\t\\t\\t\\t요근래 나온 노래 중에서 젤 좋은듯 ㄹㅇ 진입 1위 ㄱ\\t ',\n",
       "  '   내용 \\t\\t\\t\\t\\t\\t\\t\\t\\t\\t진짜 이런게 빌보드 가야된다 ♩♪ yg 스타일 너무 사랑해\\t ',\n",
       "  '   내용 \\t\\t\\t\\t\\t\\t\\t\\t\\t\\t제니버프 빼고 객관적으로 노래만 딱 들어도 평타이상으로 귀에 감기는데 이노래가 구리면 도대체 무슨음악을 들어야함????? 2080년도 노래들 들으세요?? 존ㅡ나 트렌디한데 유로냄새도 나고 도대체 무슨노래가 좋은 노래인지 대댓에 추천좀 해주세요 들어보게\\t ',\n",
       "  '   내용 \\t\\t\\t\\t\\t\\t\\t\\t\\t\\t음 뭐라해야되지 좋다안좋다 표현을 못하겟는 그런 곡....? 그냥 옷가게 배경음악같은 느낌\\t ',\n",
       "  '   내용 \\t\\t\\t\\t\\t\\t\\t\\t\\t\\t이게 좋나..뭐 개취지만.. 그냥 어렴풋이 이미지잡힌걸로미국에 팝아이돌따라하는거같은..\\t ',\n",
       "  '   내용 \\t\\t\\t\\t\\t\\t\\t\\t\\t\\t당분간 와이지는 걸그룹 만들지말고 블랙핑크만 푸쉬해라. 사실상 빅뱅 대체할 그룹은 블핑밖에 없다\\t ',\n",
       "  '   내용 \\t\\t\\t\\t\\t\\t\\t\\t\\t\\t갓제니!!!이따 학원 끝나고 10시쯤에 음원 필요하신분 선물해드릴게요 그때까지 잘 버텨줘야되는데 ㅠㅠ 받으신 분들 메세지 보내주세요^^(선물 완료했고, 문상 생기면 이 댓글에 쓰신 분 중에 또 드릴게요!!)\\t ',\n",
       "  '   내용 \\t\\t\\t\\t\\t\\t\\t\\t\\t\\t제니의 연애사건은 훗날 일어난 사건들에 비해선 아무것도 아니였음 솔직히ㅜㅋㅋ\\t ',\n",
       "  '   내용 \\t\\t\\t\\t\\t\\t\\t\\t\\t\\t분명 중독성 있고 아직 먹히는 스타일인건 맞는 듯 하지만 작년 선미 노래랑 비슷한 느낌을 지울수가 없다어디서 들어본 것 같고 곡 분위기 뿐만 아니라 의상이나 전반적인 무드도 다..\\t ',\n",
       "  \"   내용 \\t\\t\\t\\t\\t\\t\\t\\t\\t\\t흐어ㅓ.. 제니님 '솔로'곡 진입 1위..ㄷㄷ          재생 다운로드    곡명 SOLO    아티스트명  제니 (JENNIE) 제니 (JENNIE)     앨범명 SOLO       \",\n",
       "  '  재생 다운로드    곡명 SOLO    아티스트명  제니 (JENNIE) 제니 (JENNIE)     앨범명 SOLO   ',\n",
       "  '   내용 \\t\\t\\t\\t\\t\\t\\t\\t\\t\\t솔로 데뷔곡 화력 개쩐다\\t ',\n",
       "  '   내용 \\t\\t\\t\\t\\t\\t\\t\\t\\t\\t솔로 낸지 얼마나 됬다고 듀오 됬네 :;;;;;;\\t ',\n",
       "  '   내용 \\t\\t\\t\\t\\t\\t\\t\\t\\t\\t아니 제니가 솔로냈다고 실제로도 솔로여야하나,, 그냥 혼자일때가 가장 나답다 이런 내용 아니야..?? 블랙핑크 멤버한테 피해가는건 알겠는데 몇몇은 도가 지나치게 욕해ㅠㅠ\\t ',\n",
       "  '   내용 \\t\\t\\t\\t\\t\\t\\t\\t\\t\\t엑소 연차도 쌓여서 그만큼 팬들도 예전보다 더 성숙하게 응원해주는데 블핑은 아직 더 빛날텐데 열애설터지면 타격감은 클 것 같아요ㅜㅜ팬분들도 여러모로 상처입을 것 같고ㅠㅠ하지만 이미 둘의 청춘이고 선택이니 엑소엘로써 전 둘 응원해요!예쁘게 사랑했으면 좋겠고 악플보고 너무 신경 안 쓰셨으면 좋겠어요!\\t ',\n",
       "  '   내용 \\t\\t\\t\\t\\t\\t\\t\\t\\t\\t회사에서 욕먹는건당연하다 비지니스 관계에서 큰 규칙을 어겼으니 알게모르게 탈덕하는 팬들도 많을꺼고 이미지도 안 좋아질걸... 제니 블핑 다른멤버를한테 미안한마음은 가져야겠다ㅋㅋ\\t ',\n",
       "  '   내용 \\t\\t\\t\\t\\t\\t\\t\\t\\t\\t?? 별점테러가 왜 우리야 우리라는 증거 있어 ? 아 무슨일인가해서 와봤더니\\t ',\n",
       "  '   내용 \\t\\t\\t\\t\\t\\t\\t\\t\\t\\t발렌타인때 편의점에서 페레로로쉐사서 이 노래들으면서 까먹었는데 앞으로 10년은 더 거뜬히 빛날수있겠다는 자신감이 생겼습니다. 감사합니다.\\t ',\n",
       "  '   내용 \\t\\t\\t\\t\\t\\t\\t\\t\\t\\t연애하는건 그렇다치더라도 솔로라는 노래 이제 사람들이 듣고 싶을까 싶다 웃겨섴ㅋㅋㅋㅋ한국사람들 가사이입 중요하게 여기는데 뭐 컨셉과 아예 다르니 빛이 나는 커플 이럼서 풍자하면서 들을듯ㅋㅋ들으면 들을수록 제니한테는 마이너스\\t ',\n",
       "  '   내용 \\t\\t\\t\\t\\t\\t\\t\\t\\t\\t솔직히 인기빨 소속사빨이지\\t ',\n",
       "  '   내용 \\t\\t\\t\\t\\t\\t\\t\\t\\t\\t츄리챙만 불쌍\\t ',\n",
       "  '   내용 \\t\\t\\t\\t\\t\\t\\t\\t\\t\\t연애는 좋은데 걸리진 말았어야지~ㅠㅠ          ',\n",
       "  '   내용 \\t\\t\\t\\t\\t\\t\\t\\t\\t\\t카이랑 제니 둘다 귀티나게 생겨서 그런가 비주얼적으로 되게 잘 어울림 예쁜 연애했음 좋겠다\\t ',\n",
       "  '   내용 \\t\\t\\t\\t\\t\\t\\t\\t\\t\\t제니 데뷔 초 인기가요 방송당시 발목 90도로 꺾여서 응급실가고 수액맞으면서 활동하다가 일본 콘서트때 다친발목 무대 계단 내려오다 또 접지름 그날 휠체어 타고 퇴근 , 다음날 정해진 동선 못하고 무대 계단에 앉아서 노래했음 공항에서 다친쪽 큰 캐리어에 또 부딪힘 백댄서분들이랑 사진찍은거 보면 발목보호대 항상 하고있음 이런제니에게 무대마다 항상 킬힐 신기고\\t ',\n",
       "  '   내용 \\t\\t\\t\\t\\t\\t\\t\\t\\t\\t가사 좀 공감된다 ㅋㅋㅋㅋ 매일 연락하는 거 지쳐서 헤어지면 그 사람이 없어졌고 내가 일방적으로 관계를 끊었다는 것에 대한후회와 미안함에 매일 울면서 감정낭비한다는게 .. 진짜 부질없다\\t ',\n",
       "  '   내용 \\t\\t\\t\\t\\t\\t\\t\\t\\t\\t비추 별점테러 꼭 워너블이라고 생각안해주셨으면합니다\\t ',\n",
       "  '   내용 \\t\\t\\t\\t\\t\\t\\t\\t\\t\\t우와ㅋㅋㅋㄲ 우리가 느그들 별점테러했다는 증거 어딨는데ㅋㅋㅋㄱㅋㅋ 울지말고 천천히 증거가지고 와서 따지삼ㅜㅜ 나도 제니 노래 좋다고 말하고 다녔는데 되지도않는 헛논리 들이밀면서 자들자들...재밌냐?\\t ',\n",
       "  '   내용 \\t\\t\\t\\t\\t\\t\\t\\t\\t\\t또또 트xx스, 엑x 팬새기들 지들 열심히 무한스밍 했는데도 제니한테 순위 뺏긴것 때문에 열등감 생겨버려서 여기까지 와서 다른 사람들 댓글에 비추박고 튀어버리기~~ 정작 지들이 빠는 그룹 앨범엔 비추 1도없는데 지들보다 높은 순위면 꼭 와서 비추박고가죠~ ㄹㅇ 열등감 하나는 종특인듯ㅋㅋ\\t ',\n",
       "  '   내용 \\t\\t\\t\\t\\t\\t\\t\\t\\t\\tㄹㅇ 와이지는 테디 덕분에 일단 반 이상은 먹고 산다\\t ',\n",
       "  '   내용 \\t\\t\\t\\t\\t\\t\\t\\t\\t\\t이용자수 보니까 제니는 대중픽인듯 진짜 대단함 노래 너무 좋음 하루종일 귀에 맴돌고있음\\t ',\n",
       "  '   내용 \\t\\t\\t\\t\\t\\t\\t\\t\\t\\t노래가 ㄹㅇ 힙한 팝송같음.좋음.\\t ',\n",
       "  '   내용 \\t\\t\\t\\t\\t\\t\\t\\t\\t\\t솔로로 나오기엔 좀 부족한듯노래도 그닥...\\t ',\n",
       "  '   내용 \\t\\t\\t\\t\\t\\t\\t\\t\\t\\t음원순위 조작은 무슨 ㅋㅋㅋㅋ 뚜두뚜두랑 추이 완전 다른데 개소리야 지금 계속 1위하는 이유 유입이 엄청 많아서 그런 것 같은데 뭐만 하면 사재기니 뭐니 하지 좀 마라 어? 지 가수 1위 못한다고 지.랄이여. 더군다나 노래도 짧은데\\t ',\n",
       "  '   내용 \\t\\t\\t\\t\\t\\t\\t\\t\\t\\t시바 YG는 테디좀 갖다 버려라 맨날 똑같은곡만 만드냐 가수가 ㄹㅇ 아깝다\\t ',\n",
       "  '   내용 \\t\\t\\t\\t\\t\\t\\t\\t\\t\\t아니 노래가 이게 후달린다고...? ㅋㅋㅋㅋㅋㅋㅋㅋㅋㅋㅋㅋㅋㅋㅋ 진짜 완전 깔끔하고 무명가수가 불럿어도 역주행에서 최소 10위권안으로 갓음 ㅋㅋㅋㅋㅋㅋㅋㅋㅋ 어이없는 소리다 진짜 노래가 안좋다는건\\t ',\n",
       "  \"   내용 \\t\\t\\t\\t\\t\\t\\t\\t\\t\\t아니..진짜 궁금한건데 노래 제목으로 드립치는 이유가 대체 뭐지?? '솔로'라는 이 제목이 제니가 쓴 건 아니잖아요. 연애하겠다는데 그냥 이쁜 연애하게 두세요. 블랙핑크 분들도, 엑소엘도 대부분 인정하고 이쁘게 사귀라고 하는데 왜 제3자가 나서요? 드립칠게 없어서 노래 제목으로 드립이나 치고..어이가 없다 진짜.\\t \",\n",
       "  '   내용 \\t\\t\\t\\t\\t\\t\\t\\t\\t\\t후렴구는 뭐..좋은데 ㅜㅜ 징짜 너무 기대햇는데 아쉽다 곡이.. 제니음색이라 좀 사는거지 곡자채는 진짜 별로인거같은데..\\t ',\n",
       "  '   내용 \\t\\t\\t\\t\\t\\t\\t\\t\\t\\t빛이 나는 솔로 bitch로 들리게 하는거 너무 좋다ㅎㅎ\\t ',\n",
       "  '   내용 \\t\\t\\t\\t\\t\\t\\t\\t\\t\\t제니처럼 춤추면서 노래하고 랩하는 매력적인 여자 솔로가 우리나라에 누가 있을까나\\t ',\n",
       "  '   내용 \\t\\t\\t\\t\\t\\t\\t\\t\\t\\t제니... 내 기준 얼굴 실력 뭐 하나 안 빠지는데 우리나라에서 유난히 저평가 받지 ㅋㅋㅋ 배우들이랑 비교당하고 얼평질에 에효... 제니 영원하자ㅠ\\t ',\n",
       "  '   내용 \\t\\t\\t\\t\\t\\t\\t\\t\\t\\t워너블인데 이번 제니 신곡 진짜 좋네요 진짜 블랙핑크 노래는 꼭 들어보는데 역대급ㅠ솔로로도 성공하는 모습 너무 보기 좋아요ㅠ+일부 무개념때문에맘 상하시지 않길 바랍니다ㅠ저희쪽 어그로나 무개념 무시해주시고같이 열심히 덕질해요!워너블중에서 무개념은 지극히 일부라는거 알아주세요ㅠ 개념너블도 있습니다ㅠ워너원도 흥하고 제니도 흥하길♡\\t ',\n",
       "  '   내용 \\t\\t\\t\\t\\t\\t\\t\\t\\t\\t제니 생각보다 대단~~대중픽인듯\\t ',\n",
       "  '   내용 \\t\\t\\t\\t\\t\\t\\t\\t\\t\\t도대체 어떤부분에서 선미야?????????\\t ',\n",
       "  '   내용 \\t\\t\\t\\t\\t\\t\\t\\t\\t\\t조금은 아쉬운 노래지만 첫 데뷔치고는 존재의 클래스를 알리기에 충분했다.. 샤넬 귀걸이와 옷이 이렇게 잘 어울리는 사람은 처음임.. 타팬이지만 케이팝 팬으로서 제니는 인정 다음 컴백부터는 작사작곡에 직접 참여해 좀 더 아티스트다운 면모를 보여줬으면!\\t ',\n",
       "  '   내용 \\t\\t\\t\\t\\t\\t\\t\\t\\t\\t하나하나 반대 누르고 가는거 애잔하다\\t ',\n",
       "  '   내용 \\t\\t\\t\\t\\t\\t\\t\\t\\t\\t진짜 트빡이들 1위뺏기니까 악플다는거봐 개역겹네 ㅋㅋㅋㅋ진짜 한심하다\\t ',\n",
       "  '   내용 \\t\\t\\t\\t\\t\\t\\t\\t\\t\\t와 ㄹㅇ 개쩐다 헐리우드에서 나올 법한 분위기 그냥 독보적\\t ',\n",
       "  '   내용 \\t\\t\\t\\t\\t\\t\\t\\t\\t\\t뭔데 1위 멋있지??          ',\n",
       "  '   내용 \\t\\t\\t\\t\\t\\t\\t\\t\\t\\t제니 목소리 너무좋아ㅠㅠㅠㅠㅠ 노래할때든 랩할때든 너무 내취향\\t ',\n",
       "  '   내용 \\t\\t\\t\\t\\t\\t\\t\\t\\t\\t태도..... 떳다하면 다들 태도가문제야 초심을 지켜야지... ㅉ 라고 적었놨었는데요 이제보니안티들이 일부씩 짤라서 고의적으로 올렸다고 하더군요... 앞으로는 더 잘알고 어그로끌겠습니다 ㅎ\\t ',\n",
       "  '   내용 \\t\\t\\t\\t\\t\\t\\t\\t\\t\\t참나 어이가없어섴ㅋ아니 비추박고 악플단거를 왜 워너블하고엑소엘분들께 뒤집어씌우는건지..저희가했다는 증거도 없지않습니까..추측만으로 몰아가지마세요.\\t ',\n",
       "  '   내용 \\t\\t\\t\\t\\t\\t\\t\\t\\t\\t노래 별론데 팬빨로 1등한다? 제니 혼자 팬빨로만 이렇게 길게 1등 찍는게 말이 된다고 생각하세요?ㅎㅎ 노래가 좋으니까 1등이죠~ 별로인 부분 비판하는건 좋은데 열등감쩌는 비난은 그만하세여ㅎㅎ 애잔합니다^^\\t '],\n",
       " ['   내용 \\t\\t\\t\\t\\t\\t\\t\\t\\t\\t우리 로제도 솔로 데뷔 시켜주세요\\t ',\n",
       "  '   내용 \\t\\t\\t\\t\\t\\t\\t\\t\\t\\t노래가 제니빨제니가 학교종이 땡땡만 불러도 멜론 100위 권 진입은 할 듯.\\t ',\n",
       "  '   내용 \\t\\t\\t\\t\\t\\t\\t\\t\\t\\tㅋㅋㅋ노래 제목이 솔로라서 제니도 솔로여야 한다는 것들은 그걸 드립이라고 치는건지 생각이 덜 자란 건지 진심 모르겠네\\t ',\n",
       "  '   내용 \\t\\t\\t\\t\\t\\t\\t\\t\\t\\t블랙핑크의 제니라는 가수가 불렀다는 걸 제외하고 봤을 때 지극히 평범한 곡일뿐인 곡인데, 예를 들면 후렴부분도 너무 약하고... 솔직히 이 정도면 노래가 제니 빨을 받았다고 할 수 밖에 없다.\\t ',\n",
       "  '   내용 \\t\\t\\t\\t\\t\\t\\t\\t\\t\\t솔로 불렀다고 어이 없다고? 심장이 없어 부른 애한테 심장이 있는 데 왜 부르냐고는 왜 안하냐 ㅋㅋㅋ\\t ',\n",
       "  \"   내용 \\t\\t\\t\\t\\t\\t\\t\\t\\t\\t빛이 나는 솔로=Bitxh i'm solo=x년아 나는 솔로야 그래서 어쩔꺼가사 노림수 보소 ㄷㄷ\\t \",\n",
       "  '   내용 \\t\\t\\t\\t\\t\\t\\t\\t\\t\\t노래 다 좋고 계속 듣고있는데 태도논란에 대한 부분은 쉴드칠게 아니라 팬들이 나서서 고치도록 해줘야할것같음. 누가봐도 대충추는데 아니라고 해봤자 여론만 안좋아질듯. 나머지는 아티스트적인 부분으로서도 응원함\\t ',\n",
       "  '   내용 \\t\\t\\t\\t\\t\\t\\t\\t\\t\\t내 가수가 못 이뤄본것들 다른 가수가 이루면 조작이고 사재기죠? 하루 빨리 현실을 받아들이는게 본인한테도 좋지 않을까요          ',\n",
       "  '   내용 \\t\\t\\t\\t\\t\\t\\t\\t\\t\\t도입부는 좋은데 뒤로 갈수록 너무 아쉽다. 그냥 테디 노래 짬♩시켜놓은 느낌.특히 solo-lo-lo-lo 이부분 듣고 완성도 확 떨어지는 느낌 받음.. 대충 만든 것 같다 제니의 넘치는 끼에 비해ㅠ\\t ',\n",
       "  '   내용 \\t\\t\\t\\t\\t\\t\\t\\t\\t\\t1.김제니 첫 솔로 컴백으로 멜론 진입 1위2.김제니 첫 솔로 컴백으로 한국 음원 사이트 8대 1위 올킬3.김제니 첫 솔로 컴백으로 전 세계 40개국 1위4.김제니 첫 솔로 컴백으로 미국 아이튠즈 7위5.김제니 첫 솔로 컴백으로 아이튠즈 월드와이드 송 일간 1위(우리나라 여성 솔로가수 최초 1위)6.김제니 첫 솔로 컴백으로 영국 유튜브 트렌딩 1위          ',\n",
       "  '   내용 \\t\\t\\t\\t\\t\\t\\t\\t\\t\\t아이코닉인데 개인적으로 와지아티스트 다 좋아하고  노래 다 믿는데 제니솔로 오래기다렸네요ㅎㅎ너무 기대됐는데 도입부 듣자마자 하트랑 평점 별5개 바로 눌렀어요ㅋㅋㅋ 블랙핑크 너무 이쁘고 진짜 개 좋아요 남자였음 블링크였을겁니다. 진짜로 1위하세용 블핑 블링크 화이팅!!아이콘노래 사이에 껴서 스밍할게요!          재생 다운로드    곡명 SOLO    아티스트명  제니 (JENNIE) 제니 (JENNIE)     앨범명 SOLO       ',\n",
       "  '  재생 다운로드    곡명 SOLO    아티스트명  제니 (JENNIE) 제니 (JENNIE)     앨범명 SOLO   ',\n",
       "  '   내용 \\t\\t\\t\\t\\t\\t\\t\\t\\t\\t솔직히 1 위할 노래는 아닌것 같은데\\t ',\n",
       "  '   내용 \\t\\t\\t\\t\\t\\t\\t\\t\\t\\t천사득...❤❤❤❤❤❤          ',\n",
       "  '   내용 \\t\\t\\t\\t\\t\\t\\t\\t\\t\\t제 2의 붙이는 건 별로 안 좋아하지만 블핑이야 말로 와이지 먹여살릴 빅뱅이 되진 않을지,, 나머지 보이그룹들은 그에 비해 성적이 아쉬운데 솔로가 이 정도면 진짜 대박\\t ',\n",
       "  '   내용 \\t\\t\\t\\t\\t\\t\\t\\t\\t\\t솔로 가지고 뭐라하는데 이거 테디가 작사 작곡한건데 제니가 곡 받을때 테디한테 \"저 솔로 아니라서 이 곡 안 할게요\" 라고 해야되냐??\\t ',\n",
       "  '   내용 \\t\\t\\t\\t\\t\\t\\t\\t\\t\\t제니야 이빨닦을때 뭘로닦아??빛이 나는 솔로\\t ',\n",
       "  '   내용 \\t\\t\\t\\t\\t\\t\\t\\t\\t\\t그냥 제니여서 1위인거지 ..ㅋㅋ\\t ',\n",
       "  '   내용 \\t\\t\\t\\t\\t\\t\\t\\t\\t\\t사람들이 왜 이렇게 팝송을 따라한다고뭐라하는지 이해가 안 감.솔직히 팬도 아니고 안티도 아닌 입장에서노래가 엄청 좋다고는 못하겠으나제니가 그만큼 소화를 잘 했고 제니의 목소리나 창법 같은 걸 봤을때도우리나라 정서의 음악보다 해외팝 같은 분위기의 노래가 더 잘 어울린다는걸 그만큼 알고 거기에 맞춰노래를 만든 것이라고 생각함.\\t ',\n",
       "  '   내용 \\t\\t\\t\\t\\t\\t\\t\\t\\t\\t진입 1위... 개쩐다\\t ',\n",
       "  '   내용 \\t\\t\\t\\t\\t\\t\\t\\t\\t\\t노래는 걍 무난한데 1위는 노이해\\t ',\n",
       "  '   내용 \\t\\t\\t\\t\\t\\t\\t\\t\\t\\t이런 소모적인 노래가 왜 뜨는지모르겠네...\\t ',\n",
       "  '   내용 \\t\\t\\t\\t\\t\\t\\t\\t\\t\\t확실히 블랙핑크는 멤버별 개성이 뚜렷하네. 이 네명이 합쳐졌을때 시너지 효과를 내어서 블랙핑크만의 독보적인 색깔을 나타낼 수 있는거고\\t ',\n",
       "  '   내용 \\t\\t\\t\\t\\t\\t\\t\\t\\t\\t아 노래 별로다\\t ',\n",
       "  '   내용 \\t\\t\\t\\t\\t\\t\\t\\t\\t\\t솔직히 노래 좋은거 모르겠으..평범..한데 또들으러옴... 중독성 오지네\\t ',\n",
       "  '   내용 \\t\\t\\t\\t\\t\\t\\t\\t\\t\\t곡 구성좀 바꿔라 맨날 똑같은 래파토리냐\\t ',\n",
       "  '   내용 \\t\\t\\t\\t\\t\\t\\t\\t\\t\\t이거 가사 의도한거죠빛이 나는 솔로Bitch 나는솔로개 멋있는데\\t ',\n",
       "  '   내용 \\t\\t\\t\\t\\t\\t\\t\\t\\t\\t빛이나는 쏠로 ㅋㅋㅋㅋㅋㅋㅋㅋㅋㅋㅋㅋㅋㅋㅋㅋㅋㅋㅋㅋㅋㅋㅋㅋㅋㅋㅋㅋㅋㅋㅋㅋㅋㅋㅋㅋㅋㅋㅋㅋㅋㅋㅋㅋㅋㅋㅋㅋ제니야  너도 개웃기지???     카이야  너도웃겼겠다\\t ',\n",
       "  '   내용 \\t\\t\\t\\t\\t\\t\\t\\t\\t\\t댓수준 역겨울정도인데좋으면듣고 싫으면 꺼지지 굳이 남 1등하는꼴못봐서 빼애액대냐..꼭 지가 빠는연애인 조금이라도 비아냥대면 열폭오지게하면서 남 잘되는꼴은 또 못봐요ㅋ\\t ',\n",
       "  '   내용 \\t\\t\\t\\t\\t\\t\\t\\t\\t\\t그냥 활동해주는게 고마운건데 연예인을 여친 혹은 남친이라 생각하지 말자 좀;\\t ',\n",
       "  '   내용 \\t\\t\\t\\t\\t\\t\\t\\t\\t\\t제니 요즘 태도논란도 있었는데 열애설까지̆̈ 뜨니까 흠ㅋㅋ YG 금기사항이⃕ 연애라는데 멤버들한테 미안한 마음 가져야겟네요 퓨\\t ',\n",
       "  '   내용 \\t\\t\\t\\t\\t\\t\\t\\t\\t\\t테디 제발 해외 팝송에서 들어본 적 있는 비트들로 찌개 끓이지 말고,..\\t ',\n",
       "  '   내용 \\t\\t\\t\\t\\t\\t\\t\\t\\t\\t제니만의 매력을 완전히는 못살린 느낌. 곡이 너무 익숙해서 보니 역시나 테디. 기존 테디곡들 믹스해놓은 것 같다. 다른 가수들도 생각나고...  YG도 테디그늘서 살짝 벋어나야 좀 새로우려나. 개인적으로 좀 아쉽다.\\t ',\n",
       "  '   내용 \\t\\t\\t\\t\\t\\t\\t\\t\\t\\t공검 1도 안되는 노래 부르느라 고생했다\\t ',\n",
       "  '   내용 \\t\\t\\t\\t\\t\\t\\t\\t\\t\\t난 제니님도 솔로일줄 알았지... 갓제니도 솔크당 했는데 그냥 빛이 나는 솔로 청소한다는 거였어\\t ',\n",
       "  '   내용 \\t\\t\\t\\t\\t\\t\\t\\t\\t\\tk-pop스타들이 성공하니 되게 다 팝느낌으로 가네.. 영어가 더 많은듯.. 한국어가 지워져 가는 것 같아서 좀 씁슬하네 한국어도 충분히 성공 할 수 있는데 방탄처럼..\\t ',\n",
       "  '   내용 \\t\\t\\t\\t\\t\\t\\t\\t\\t\\t제니 남돌들이랑 맞짱오지게 잘뜬다\\t ',\n",
       "  '   내용 \\t\\t\\t\\t\\t\\t\\t\\t\\t\\tㅠㅠ로제도 빨리 솔로내주세요..\\t ',\n",
       "  '   내용 \\t\\t\\t\\t\\t\\t\\t\\t\\t\\t요근래 나온 노래 중에서 젤 좋은듯 ㄹㅇ 진입 1위 ㄱ\\t ',\n",
       "  '   내용 \\t\\t\\t\\t\\t\\t\\t\\t\\t\\t진짜 이런게 빌보드 가야된다 ♩♪ yg 스타일 너무 사랑해\\t ',\n",
       "  '   내용 \\t\\t\\t\\t\\t\\t\\t\\t\\t\\t제니버프 빼고 객관적으로 노래만 딱 들어도 평타이상으로 귀에 감기는데 이노래가 구리면 도대체 무슨음악을 들어야함????? 2080년도 노래들 들으세요?? 존ㅡ나 트렌디한데 유로냄새도 나고 도대체 무슨노래가 좋은 노래인지 대댓에 추천좀 해주세요 들어보게\\t ',\n",
       "  '   내용 \\t\\t\\t\\t\\t\\t\\t\\t\\t\\t음 뭐라해야되지 좋다안좋다 표현을 못하겟는 그런 곡....? 그냥 옷가게 배경음악같은 느낌\\t ',\n",
       "  '   내용 \\t\\t\\t\\t\\t\\t\\t\\t\\t\\t이게 좋나..뭐 개취지만.. 그냥 어렴풋이 이미지잡힌걸로미국에 팝아이돌따라하는거같은..\\t ',\n",
       "  '   내용 \\t\\t\\t\\t\\t\\t\\t\\t\\t\\t당분간 와이지는 걸그룹 만들지말고 블랙핑크만 푸쉬해라. 사실상 빅뱅 대체할 그룹은 블핑밖에 없다\\t ',\n",
       "  '   내용 \\t\\t\\t\\t\\t\\t\\t\\t\\t\\t갓제니!!!이따 학원 끝나고 10시쯤에 음원 필요하신분 선물해드릴게요 그때까지 잘 버텨줘야되는데 ㅠㅠ 받으신 분들 메세지 보내주세요^^(선물 완료했고, 문상 생기면 이 댓글에 쓰신 분 중에 또 드릴게요!!)\\t ',\n",
       "  '   내용 \\t\\t\\t\\t\\t\\t\\t\\t\\t\\t제니의 연애사건은 훗날 일어난 사건들에 비해선 아무것도 아니였음 솔직히ㅜㅋㅋ\\t ',\n",
       "  '   내용 \\t\\t\\t\\t\\t\\t\\t\\t\\t\\t분명 중독성 있고 아직 먹히는 스타일인건 맞는 듯 하지만 작년 선미 노래랑 비슷한 느낌을 지울수가 없다어디서 들어본 것 같고 곡 분위기 뿐만 아니라 의상이나 전반적인 무드도 다..\\t ',\n",
       "  \"   내용 \\t\\t\\t\\t\\t\\t\\t\\t\\t\\t흐어ㅓ.. 제니님 '솔로'곡 진입 1위..ㄷㄷ          재생 다운로드    곡명 SOLO    아티스트명  제니 (JENNIE) 제니 (JENNIE)     앨범명 SOLO       \",\n",
       "  '  재생 다운로드    곡명 SOLO    아티스트명  제니 (JENNIE) 제니 (JENNIE)     앨범명 SOLO   ',\n",
       "  '   내용 \\t\\t\\t\\t\\t\\t\\t\\t\\t\\t솔로 데뷔곡 화력 개쩐다\\t ',\n",
       "  '   내용 \\t\\t\\t\\t\\t\\t\\t\\t\\t\\t솔로 낸지 얼마나 됬다고 듀오 됬네 :;;;;;;\\t ',\n",
       "  '   내용 \\t\\t\\t\\t\\t\\t\\t\\t\\t\\t아니 제니가 솔로냈다고 실제로도 솔로여야하나,, 그냥 혼자일때가 가장 나답다 이런 내용 아니야..?? 블랙핑크 멤버한테 피해가는건 알겠는데 몇몇은 도가 지나치게 욕해ㅠㅠ\\t ',\n",
       "  '   내용 \\t\\t\\t\\t\\t\\t\\t\\t\\t\\t엑소 연차도 쌓여서 그만큼 팬들도 예전보다 더 성숙하게 응원해주는데 블핑은 아직 더 빛날텐데 열애설터지면 타격감은 클 것 같아요ㅜㅜ팬분들도 여러모로 상처입을 것 같고ㅠㅠ하지만 이미 둘의 청춘이고 선택이니 엑소엘로써 전 둘 응원해요!예쁘게 사랑했으면 좋겠고 악플보고 너무 신경 안 쓰셨으면 좋겠어요!\\t ',\n",
       "  '   내용 \\t\\t\\t\\t\\t\\t\\t\\t\\t\\t회사에서 욕먹는건당연하다 비지니스 관계에서 큰 규칙을 어겼으니 알게모르게 탈덕하는 팬들도 많을꺼고 이미지도 안 좋아질걸... 제니 블핑 다른멤버를한테 미안한마음은 가져야겠다ㅋㅋ\\t ',\n",
       "  '   내용 \\t\\t\\t\\t\\t\\t\\t\\t\\t\\t?? 별점테러가 왜 우리야 우리라는 증거 있어 ? 아 무슨일인가해서 와봤더니\\t ',\n",
       "  '   내용 \\t\\t\\t\\t\\t\\t\\t\\t\\t\\t발렌타인때 편의점에서 페레로로쉐사서 이 노래들으면서 까먹었는데 앞으로 10년은 더 거뜬히 빛날수있겠다는 자신감이 생겼습니다. 감사합니다.\\t ',\n",
       "  '   내용 \\t\\t\\t\\t\\t\\t\\t\\t\\t\\t연애하는건 그렇다치더라도 솔로라는 노래 이제 사람들이 듣고 싶을까 싶다 웃겨섴ㅋㅋㅋㅋ한국사람들 가사이입 중요하게 여기는데 뭐 컨셉과 아예 다르니 빛이 나는 커플 이럼서 풍자하면서 들을듯ㅋㅋ들으면 들을수록 제니한테는 마이너스\\t ',\n",
       "  '   내용 \\t\\t\\t\\t\\t\\t\\t\\t\\t\\t솔직히 인기빨 소속사빨이지\\t ',\n",
       "  '   내용 \\t\\t\\t\\t\\t\\t\\t\\t\\t\\t츄리챙만 불쌍\\t ',\n",
       "  '   내용 \\t\\t\\t\\t\\t\\t\\t\\t\\t\\t연애는 좋은데 걸리진 말았어야지~ㅠㅠ          ',\n",
       "  '   내용 \\t\\t\\t\\t\\t\\t\\t\\t\\t\\t카이랑 제니 둘다 귀티나게 생겨서 그런가 비주얼적으로 되게 잘 어울림 예쁜 연애했음 좋겠다\\t ',\n",
       "  '   내용 \\t\\t\\t\\t\\t\\t\\t\\t\\t\\t제니 데뷔 초 인기가요 방송당시 발목 90도로 꺾여서 응급실가고 수액맞으면서 활동하다가 일본 콘서트때 다친발목 무대 계단 내려오다 또 접지름 그날 휠체어 타고 퇴근 , 다음날 정해진 동선 못하고 무대 계단에 앉아서 노래했음 공항에서 다친쪽 큰 캐리어에 또 부딪힘 백댄서분들이랑 사진찍은거 보면 발목보호대 항상 하고있음 이런제니에게 무대마다 항상 킬힐 신기고\\t ',\n",
       "  '   내용 \\t\\t\\t\\t\\t\\t\\t\\t\\t\\t가사 좀 공감된다 ㅋㅋㅋㅋ 매일 연락하는 거 지쳐서 헤어지면 그 사람이 없어졌고 내가 일방적으로 관계를 끊었다는 것에 대한후회와 미안함에 매일 울면서 감정낭비한다는게 .. 진짜 부질없다\\t ',\n",
       "  '   내용 \\t\\t\\t\\t\\t\\t\\t\\t\\t\\t비추 별점테러 꼭 워너블이라고 생각안해주셨으면합니다\\t ',\n",
       "  '   내용 \\t\\t\\t\\t\\t\\t\\t\\t\\t\\t우와ㅋㅋㅋㄲ 우리가 느그들 별점테러했다는 증거 어딨는데ㅋㅋㅋㄱㅋㅋ 울지말고 천천히 증거가지고 와서 따지삼ㅜㅜ 나도 제니 노래 좋다고 말하고 다녔는데 되지도않는 헛논리 들이밀면서 자들자들...재밌냐?\\t ',\n",
       "  '   내용 \\t\\t\\t\\t\\t\\t\\t\\t\\t\\t또또 트xx스, 엑x 팬새기들 지들 열심히 무한스밍 했는데도 제니한테 순위 뺏긴것 때문에 열등감 생겨버려서 여기까지 와서 다른 사람들 댓글에 비추박고 튀어버리기~~ 정작 지들이 빠는 그룹 앨범엔 비추 1도없는데 지들보다 높은 순위면 꼭 와서 비추박고가죠~ ㄹㅇ 열등감 하나는 종특인듯ㅋㅋ\\t ',\n",
       "  '   내용 \\t\\t\\t\\t\\t\\t\\t\\t\\t\\tㄹㅇ 와이지는 테디 덕분에 일단 반 이상은 먹고 산다\\t ',\n",
       "  '   내용 \\t\\t\\t\\t\\t\\t\\t\\t\\t\\t이용자수 보니까 제니는 대중픽인듯 진짜 대단함 노래 너무 좋음 하루종일 귀에 맴돌고있음\\t ',\n",
       "  '   내용 \\t\\t\\t\\t\\t\\t\\t\\t\\t\\t노래가 ㄹㅇ 힙한 팝송같음.좋음.\\t ',\n",
       "  '   내용 \\t\\t\\t\\t\\t\\t\\t\\t\\t\\t솔로로 나오기엔 좀 부족한듯노래도 그닥...\\t ',\n",
       "  '   내용 \\t\\t\\t\\t\\t\\t\\t\\t\\t\\t음원순위 조작은 무슨 ㅋㅋㅋㅋ 뚜두뚜두랑 추이 완전 다른데 개소리야 지금 계속 1위하는 이유 유입이 엄청 많아서 그런 것 같은데 뭐만 하면 사재기니 뭐니 하지 좀 마라 어? 지 가수 1위 못한다고 지.랄이여. 더군다나 노래도 짧은데\\t ',\n",
       "  '   내용 \\t\\t\\t\\t\\t\\t\\t\\t\\t\\t시바 YG는 테디좀 갖다 버려라 맨날 똑같은곡만 만드냐 가수가 ㄹㅇ 아깝다\\t ',\n",
       "  '   내용 \\t\\t\\t\\t\\t\\t\\t\\t\\t\\t아니 노래가 이게 후달린다고...? ㅋㅋㅋㅋㅋㅋㅋㅋㅋㅋㅋㅋㅋㅋㅋ 진짜 완전 깔끔하고 무명가수가 불럿어도 역주행에서 최소 10위권안으로 갓음 ㅋㅋㅋㅋㅋㅋㅋㅋㅋ 어이없는 소리다 진짜 노래가 안좋다는건\\t ',\n",
       "  \"   내용 \\t\\t\\t\\t\\t\\t\\t\\t\\t\\t아니..진짜 궁금한건데 노래 제목으로 드립치는 이유가 대체 뭐지?? '솔로'라는 이 제목이 제니가 쓴 건 아니잖아요. 연애하겠다는데 그냥 이쁜 연애하게 두세요. 블랙핑크 분들도, 엑소엘도 대부분 인정하고 이쁘게 사귀라고 하는데 왜 제3자가 나서요? 드립칠게 없어서 노래 제목으로 드립이나 치고..어이가 없다 진짜.\\t \",\n",
       "  '   내용 \\t\\t\\t\\t\\t\\t\\t\\t\\t\\t후렴구는 뭐..좋은데 ㅜㅜ 징짜 너무 기대햇는데 아쉽다 곡이.. 제니음색이라 좀 사는거지 곡자채는 진짜 별로인거같은데..\\t ',\n",
       "  '   내용 \\t\\t\\t\\t\\t\\t\\t\\t\\t\\t빛이 나는 솔로 bitch로 들리게 하는거 너무 좋다ㅎㅎ\\t ',\n",
       "  '   내용 \\t\\t\\t\\t\\t\\t\\t\\t\\t\\t제니처럼 춤추면서 노래하고 랩하는 매력적인 여자 솔로가 우리나라에 누가 있을까나\\t ',\n",
       "  '   내용 \\t\\t\\t\\t\\t\\t\\t\\t\\t\\t제니... 내 기준 얼굴 실력 뭐 하나 안 빠지는데 우리나라에서 유난히 저평가 받지 ㅋㅋㅋ 배우들이랑 비교당하고 얼평질에 에효... 제니 영원하자ㅠ\\t ',\n",
       "  '   내용 \\t\\t\\t\\t\\t\\t\\t\\t\\t\\t워너블인데 이번 제니 신곡 진짜 좋네요 진짜 블랙핑크 노래는 꼭 들어보는데 역대급ㅠ솔로로도 성공하는 모습 너무 보기 좋아요ㅠ+일부 무개념때문에맘 상하시지 않길 바랍니다ㅠ저희쪽 어그로나 무개념 무시해주시고같이 열심히 덕질해요!워너블중에서 무개념은 지극히 일부라는거 알아주세요ㅠ 개념너블도 있습니다ㅠ워너원도 흥하고 제니도 흥하길♡\\t ',\n",
       "  '   내용 \\t\\t\\t\\t\\t\\t\\t\\t\\t\\t제니 생각보다 대단~~대중픽인듯\\t ',\n",
       "  '   내용 \\t\\t\\t\\t\\t\\t\\t\\t\\t\\t도대체 어떤부분에서 선미야?????????\\t ',\n",
       "  '   내용 \\t\\t\\t\\t\\t\\t\\t\\t\\t\\t조금은 아쉬운 노래지만 첫 데뷔치고는 존재의 클래스를 알리기에 충분했다.. 샤넬 귀걸이와 옷이 이렇게 잘 어울리는 사람은 처음임.. 타팬이지만 케이팝 팬으로서 제니는 인정 다음 컴백부터는 작사작곡에 직접 참여해 좀 더 아티스트다운 면모를 보여줬으면!\\t ',\n",
       "  '   내용 \\t\\t\\t\\t\\t\\t\\t\\t\\t\\t하나하나 반대 누르고 가는거 애잔하다\\t ',\n",
       "  '   내용 \\t\\t\\t\\t\\t\\t\\t\\t\\t\\t진짜 트빡이들 1위뺏기니까 악플다는거봐 개역겹네 ㅋㅋㅋㅋ진짜 한심하다\\t ',\n",
       "  '   내용 \\t\\t\\t\\t\\t\\t\\t\\t\\t\\t와 ㄹㅇ 개쩐다 헐리우드에서 나올 법한 분위기 그냥 독보적\\t ',\n",
       "  '   내용 \\t\\t\\t\\t\\t\\t\\t\\t\\t\\t뭔데 1위 멋있지??          ',\n",
       "  '   내용 \\t\\t\\t\\t\\t\\t\\t\\t\\t\\t제니 목소리 너무좋아ㅠㅠㅠㅠㅠ 노래할때든 랩할때든 너무 내취향\\t ',\n",
       "  '   내용 \\t\\t\\t\\t\\t\\t\\t\\t\\t\\t태도..... 떳다하면 다들 태도가문제야 초심을 지켜야지... ㅉ 라고 적었놨었는데요 이제보니안티들이 일부씩 짤라서 고의적으로 올렸다고 하더군요... 앞으로는 더 잘알고 어그로끌겠습니다 ㅎ\\t ',\n",
       "  '   내용 \\t\\t\\t\\t\\t\\t\\t\\t\\t\\t참나 어이가없어섴ㅋ아니 비추박고 악플단거를 왜 워너블하고엑소엘분들께 뒤집어씌우는건지..저희가했다는 증거도 없지않습니까..추측만으로 몰아가지마세요.\\t ',\n",
       "  '   내용 \\t\\t\\t\\t\\t\\t\\t\\t\\t\\t노래 별론데 팬빨로 1등한다? 제니 혼자 팬빨로만 이렇게 길게 1등 찍는게 말이 된다고 생각하세요?ㅎㅎ 노래가 좋으니까 1등이죠~ 별로인 부분 비판하는건 좋은데 열등감쩌는 비난은 그만하세여ㅎㅎ 애잔합니다^^\\t '],\n",
       " ['   내용 \\t\\t\\t\\t\\t\\t\\t\\t\\t\\t우리 로제도 솔로 데뷔 시켜주세요\\t ',\n",
       "  '   내용 \\t\\t\\t\\t\\t\\t\\t\\t\\t\\t노래가 제니빨제니가 학교종이 땡땡만 불러도 멜론 100위 권 진입은 할 듯.\\t ',\n",
       "  '   내용 \\t\\t\\t\\t\\t\\t\\t\\t\\t\\tㅋㅋㅋ노래 제목이 솔로라서 제니도 솔로여야 한다는 것들은 그걸 드립이라고 치는건지 생각이 덜 자란 건지 진심 모르겠네\\t ',\n",
       "  '   내용 \\t\\t\\t\\t\\t\\t\\t\\t\\t\\t블랙핑크의 제니라는 가수가 불렀다는 걸 제외하고 봤을 때 지극히 평범한 곡일뿐인 곡인데, 예를 들면 후렴부분도 너무 약하고... 솔직히 이 정도면 노래가 제니 빨을 받았다고 할 수 밖에 없다.\\t ',\n",
       "  '   내용 \\t\\t\\t\\t\\t\\t\\t\\t\\t\\t솔로 불렀다고 어이 없다고? 심장이 없어 부른 애한테 심장이 있는 데 왜 부르냐고는 왜 안하냐 ㅋㅋㅋ\\t ',\n",
       "  \"   내용 \\t\\t\\t\\t\\t\\t\\t\\t\\t\\t빛이 나는 솔로=Bitxh i'm solo=x년아 나는 솔로야 그래서 어쩔꺼가사 노림수 보소 ㄷㄷ\\t \",\n",
       "  '   내용 \\t\\t\\t\\t\\t\\t\\t\\t\\t\\t노래 다 좋고 계속 듣고있는데 태도논란에 대한 부분은 쉴드칠게 아니라 팬들이 나서서 고치도록 해줘야할것같음. 누가봐도 대충추는데 아니라고 해봤자 여론만 안좋아질듯. 나머지는 아티스트적인 부분으로서도 응원함\\t ',\n",
       "  '   내용 \\t\\t\\t\\t\\t\\t\\t\\t\\t\\t내 가수가 못 이뤄본것들 다른 가수가 이루면 조작이고 사재기죠? 하루 빨리 현실을 받아들이는게 본인한테도 좋지 않을까요          ',\n",
       "  '   내용 \\t\\t\\t\\t\\t\\t\\t\\t\\t\\t도입부는 좋은데 뒤로 갈수록 너무 아쉽다. 그냥 테디 노래 짬♩시켜놓은 느낌.특히 solo-lo-lo-lo 이부분 듣고 완성도 확 떨어지는 느낌 받음.. 대충 만든 것 같다 제니의 넘치는 끼에 비해ㅠ\\t ',\n",
       "  '   내용 \\t\\t\\t\\t\\t\\t\\t\\t\\t\\t1.김제니 첫 솔로 컴백으로 멜론 진입 1위2.김제니 첫 솔로 컴백으로 한국 음원 사이트 8대 1위 올킬3.김제니 첫 솔로 컴백으로 전 세계 40개국 1위4.김제니 첫 솔로 컴백으로 미국 아이튠즈 7위5.김제니 첫 솔로 컴백으로 아이튠즈 월드와이드 송 일간 1위(우리나라 여성 솔로가수 최초 1위)6.김제니 첫 솔로 컴백으로 영국 유튜브 트렌딩 1위          ',\n",
       "  '   내용 \\t\\t\\t\\t\\t\\t\\t\\t\\t\\t아이코닉인데 개인적으로 와지아티스트 다 좋아하고  노래 다 믿는데 제니솔로 오래기다렸네요ㅎㅎ너무 기대됐는데 도입부 듣자마자 하트랑 평점 별5개 바로 눌렀어요ㅋㅋㅋ 블랙핑크 너무 이쁘고 진짜 개 좋아요 남자였음 블링크였을겁니다. 진짜로 1위하세용 블핑 블링크 화이팅!!아이콘노래 사이에 껴서 스밍할게요!          재생 다운로드    곡명 SOLO    아티스트명  제니 (JENNIE) 제니 (JENNIE)     앨범명 SOLO       ',\n",
       "  '  재생 다운로드    곡명 SOLO    아티스트명  제니 (JENNIE) 제니 (JENNIE)     앨범명 SOLO   ',\n",
       "  '   내용 \\t\\t\\t\\t\\t\\t\\t\\t\\t\\t솔직히 1 위할 노래는 아닌것 같은데\\t ',\n",
       "  '   내용 \\t\\t\\t\\t\\t\\t\\t\\t\\t\\t천사득...❤❤❤❤❤❤          ',\n",
       "  '   내용 \\t\\t\\t\\t\\t\\t\\t\\t\\t\\t제 2의 붙이는 건 별로 안 좋아하지만 블핑이야 말로 와이지 먹여살릴 빅뱅이 되진 않을지,, 나머지 보이그룹들은 그에 비해 성적이 아쉬운데 솔로가 이 정도면 진짜 대박\\t ',\n",
       "  '   내용 \\t\\t\\t\\t\\t\\t\\t\\t\\t\\t솔로 가지고 뭐라하는데 이거 테디가 작사 작곡한건데 제니가 곡 받을때 테디한테 \"저 솔로 아니라서 이 곡 안 할게요\" 라고 해야되냐??\\t ',\n",
       "  '   내용 \\t\\t\\t\\t\\t\\t\\t\\t\\t\\t제니야 이빨닦을때 뭘로닦아??빛이 나는 솔로\\t ',\n",
       "  '   내용 \\t\\t\\t\\t\\t\\t\\t\\t\\t\\t그냥 제니여서 1위인거지 ..ㅋㅋ\\t ',\n",
       "  '   내용 \\t\\t\\t\\t\\t\\t\\t\\t\\t\\t사람들이 왜 이렇게 팝송을 따라한다고뭐라하는지 이해가 안 감.솔직히 팬도 아니고 안티도 아닌 입장에서노래가 엄청 좋다고는 못하겠으나제니가 그만큼 소화를 잘 했고 제니의 목소리나 창법 같은 걸 봤을때도우리나라 정서의 음악보다 해외팝 같은 분위기의 노래가 더 잘 어울린다는걸 그만큼 알고 거기에 맞춰노래를 만든 것이라고 생각함.\\t ',\n",
       "  '   내용 \\t\\t\\t\\t\\t\\t\\t\\t\\t\\t진입 1위... 개쩐다\\t ',\n",
       "  '   내용 \\t\\t\\t\\t\\t\\t\\t\\t\\t\\t노래는 걍 무난한데 1위는 노이해\\t ',\n",
       "  '   내용 \\t\\t\\t\\t\\t\\t\\t\\t\\t\\t이런 소모적인 노래가 왜 뜨는지모르겠네...\\t ',\n",
       "  '   내용 \\t\\t\\t\\t\\t\\t\\t\\t\\t\\t확실히 블랙핑크는 멤버별 개성이 뚜렷하네. 이 네명이 합쳐졌을때 시너지 효과를 내어서 블랙핑크만의 독보적인 색깔을 나타낼 수 있는거고\\t ',\n",
       "  '   내용 \\t\\t\\t\\t\\t\\t\\t\\t\\t\\t아 노래 별로다\\t ',\n",
       "  '   내용 \\t\\t\\t\\t\\t\\t\\t\\t\\t\\t솔직히 노래 좋은거 모르겠으..평범..한데 또들으러옴... 중독성 오지네\\t ',\n",
       "  '   내용 \\t\\t\\t\\t\\t\\t\\t\\t\\t\\t곡 구성좀 바꿔라 맨날 똑같은 래파토리냐\\t ',\n",
       "  '   내용 \\t\\t\\t\\t\\t\\t\\t\\t\\t\\t이거 가사 의도한거죠빛이 나는 솔로Bitch 나는솔로개 멋있는데\\t ',\n",
       "  '   내용 \\t\\t\\t\\t\\t\\t\\t\\t\\t\\t빛이나는 쏠로 ㅋㅋㅋㅋㅋㅋㅋㅋㅋㅋㅋㅋㅋㅋㅋㅋㅋㅋㅋㅋㅋㅋㅋㅋㅋㅋㅋㅋㅋㅋㅋㅋㅋㅋㅋㅋㅋㅋㅋㅋㅋㅋㅋㅋㅋㅋㅋㅋ제니야  너도 개웃기지???     카이야  너도웃겼겠다\\t ',\n",
       "  '   내용 \\t\\t\\t\\t\\t\\t\\t\\t\\t\\t댓수준 역겨울정도인데좋으면듣고 싫으면 꺼지지 굳이 남 1등하는꼴못봐서 빼애액대냐..꼭 지가 빠는연애인 조금이라도 비아냥대면 열폭오지게하면서 남 잘되는꼴은 또 못봐요ㅋ\\t ',\n",
       "  '   내용 \\t\\t\\t\\t\\t\\t\\t\\t\\t\\t그냥 활동해주는게 고마운건데 연예인을 여친 혹은 남친이라 생각하지 말자 좀;\\t ',\n",
       "  '   내용 \\t\\t\\t\\t\\t\\t\\t\\t\\t\\t제니 요즘 태도논란도 있었는데 열애설까지̆̈ 뜨니까 흠ㅋㅋ YG 금기사항이⃕ 연애라는데 멤버들한테 미안한 마음 가져야겟네요 퓨\\t ',\n",
       "  '   내용 \\t\\t\\t\\t\\t\\t\\t\\t\\t\\t테디 제발 해외 팝송에서 들어본 적 있는 비트들로 찌개 끓이지 말고,..\\t ',\n",
       "  '   내용 \\t\\t\\t\\t\\t\\t\\t\\t\\t\\t제니만의 매력을 완전히는 못살린 느낌. 곡이 너무 익숙해서 보니 역시나 테디. 기존 테디곡들 믹스해놓은 것 같다. 다른 가수들도 생각나고...  YG도 테디그늘서 살짝 벋어나야 좀 새로우려나. 개인적으로 좀 아쉽다.\\t ',\n",
       "  '   내용 \\t\\t\\t\\t\\t\\t\\t\\t\\t\\t공검 1도 안되는 노래 부르느라 고생했다\\t ',\n",
       "  '   내용 \\t\\t\\t\\t\\t\\t\\t\\t\\t\\t난 제니님도 솔로일줄 알았지... 갓제니도 솔크당 했는데 그냥 빛이 나는 솔로 청소한다는 거였어\\t ',\n",
       "  '   내용 \\t\\t\\t\\t\\t\\t\\t\\t\\t\\tk-pop스타들이 성공하니 되게 다 팝느낌으로 가네.. 영어가 더 많은듯.. 한국어가 지워져 가는 것 같아서 좀 씁슬하네 한국어도 충분히 성공 할 수 있는데 방탄처럼..\\t ',\n",
       "  '   내용 \\t\\t\\t\\t\\t\\t\\t\\t\\t\\t제니 남돌들이랑 맞짱오지게 잘뜬다\\t ',\n",
       "  '   내용 \\t\\t\\t\\t\\t\\t\\t\\t\\t\\tㅠㅠ로제도 빨리 솔로내주세요..\\t ',\n",
       "  '   내용 \\t\\t\\t\\t\\t\\t\\t\\t\\t\\t요근래 나온 노래 중에서 젤 좋은듯 ㄹㅇ 진입 1위 ㄱ\\t ',\n",
       "  '   내용 \\t\\t\\t\\t\\t\\t\\t\\t\\t\\t진짜 이런게 빌보드 가야된다 ♩♪ yg 스타일 너무 사랑해\\t ',\n",
       "  '   내용 \\t\\t\\t\\t\\t\\t\\t\\t\\t\\t제니버프 빼고 객관적으로 노래만 딱 들어도 평타이상으로 귀에 감기는데 이노래가 구리면 도대체 무슨음악을 들어야함????? 2080년도 노래들 들으세요?? 존ㅡ나 트렌디한데 유로냄새도 나고 도대체 무슨노래가 좋은 노래인지 대댓에 추천좀 해주세요 들어보게\\t ',\n",
       "  '   내용 \\t\\t\\t\\t\\t\\t\\t\\t\\t\\t음 뭐라해야되지 좋다안좋다 표현을 못하겟는 그런 곡....? 그냥 옷가게 배경음악같은 느낌\\t ',\n",
       "  '   내용 \\t\\t\\t\\t\\t\\t\\t\\t\\t\\t이게 좋나..뭐 개취지만.. 그냥 어렴풋이 이미지잡힌걸로미국에 팝아이돌따라하는거같은..\\t ',\n",
       "  '   내용 \\t\\t\\t\\t\\t\\t\\t\\t\\t\\t당분간 와이지는 걸그룹 만들지말고 블랙핑크만 푸쉬해라. 사실상 빅뱅 대체할 그룹은 블핑밖에 없다\\t ',\n",
       "  '   내용 \\t\\t\\t\\t\\t\\t\\t\\t\\t\\t갓제니!!!이따 학원 끝나고 10시쯤에 음원 필요하신분 선물해드릴게요 그때까지 잘 버텨줘야되는데 ㅠㅠ 받으신 분들 메세지 보내주세요^^(선물 완료했고, 문상 생기면 이 댓글에 쓰신 분 중에 또 드릴게요!!)\\t ',\n",
       "  '   내용 \\t\\t\\t\\t\\t\\t\\t\\t\\t\\t제니의 연애사건은 훗날 일어난 사건들에 비해선 아무것도 아니였음 솔직히ㅜㅋㅋ\\t ',\n",
       "  '   내용 \\t\\t\\t\\t\\t\\t\\t\\t\\t\\t분명 중독성 있고 아직 먹히는 스타일인건 맞는 듯 하지만 작년 선미 노래랑 비슷한 느낌을 지울수가 없다어디서 들어본 것 같고 곡 분위기 뿐만 아니라 의상이나 전반적인 무드도 다..\\t ',\n",
       "  \"   내용 \\t\\t\\t\\t\\t\\t\\t\\t\\t\\t흐어ㅓ.. 제니님 '솔로'곡 진입 1위..ㄷㄷ          재생 다운로드    곡명 SOLO    아티스트명  제니 (JENNIE) 제니 (JENNIE)     앨범명 SOLO       \",\n",
       "  '  재생 다운로드    곡명 SOLO    아티스트명  제니 (JENNIE) 제니 (JENNIE)     앨범명 SOLO   ',\n",
       "  '   내용 \\t\\t\\t\\t\\t\\t\\t\\t\\t\\t솔로 데뷔곡 화력 개쩐다\\t ',\n",
       "  '   내용 \\t\\t\\t\\t\\t\\t\\t\\t\\t\\t솔로 낸지 얼마나 됬다고 듀오 됬네 :;;;;;;\\t ',\n",
       "  '   내용 \\t\\t\\t\\t\\t\\t\\t\\t\\t\\t아니 제니가 솔로냈다고 실제로도 솔로여야하나,, 그냥 혼자일때가 가장 나답다 이런 내용 아니야..?? 블랙핑크 멤버한테 피해가는건 알겠는데 몇몇은 도가 지나치게 욕해ㅠㅠ\\t ',\n",
       "  '   내용 \\t\\t\\t\\t\\t\\t\\t\\t\\t\\t엑소 연차도 쌓여서 그만큼 팬들도 예전보다 더 성숙하게 응원해주는데 블핑은 아직 더 빛날텐데 열애설터지면 타격감은 클 것 같아요ㅜㅜ팬분들도 여러모로 상처입을 것 같고ㅠㅠ하지만 이미 둘의 청춘이고 선택이니 엑소엘로써 전 둘 응원해요!예쁘게 사랑했으면 좋겠고 악플보고 너무 신경 안 쓰셨으면 좋겠어요!\\t ',\n",
       "  '   내용 \\t\\t\\t\\t\\t\\t\\t\\t\\t\\t회사에서 욕먹는건당연하다 비지니스 관계에서 큰 규칙을 어겼으니 알게모르게 탈덕하는 팬들도 많을꺼고 이미지도 안 좋아질걸... 제니 블핑 다른멤버를한테 미안한마음은 가져야겠다ㅋㅋ\\t ',\n",
       "  '   내용 \\t\\t\\t\\t\\t\\t\\t\\t\\t\\t?? 별점테러가 왜 우리야 우리라는 증거 있어 ? 아 무슨일인가해서 와봤더니\\t ',\n",
       "  '   내용 \\t\\t\\t\\t\\t\\t\\t\\t\\t\\t발렌타인때 편의점에서 페레로로쉐사서 이 노래들으면서 까먹었는데 앞으로 10년은 더 거뜬히 빛날수있겠다는 자신감이 생겼습니다. 감사합니다.\\t ',\n",
       "  '   내용 \\t\\t\\t\\t\\t\\t\\t\\t\\t\\t연애하는건 그렇다치더라도 솔로라는 노래 이제 사람들이 듣고 싶을까 싶다 웃겨섴ㅋㅋㅋㅋ한국사람들 가사이입 중요하게 여기는데 뭐 컨셉과 아예 다르니 빛이 나는 커플 이럼서 풍자하면서 들을듯ㅋㅋ들으면 들을수록 제니한테는 마이너스\\t ',\n",
       "  '   내용 \\t\\t\\t\\t\\t\\t\\t\\t\\t\\t솔직히 인기빨 소속사빨이지\\t ',\n",
       "  '   내용 \\t\\t\\t\\t\\t\\t\\t\\t\\t\\t츄리챙만 불쌍\\t ',\n",
       "  '   내용 \\t\\t\\t\\t\\t\\t\\t\\t\\t\\t연애는 좋은데 걸리진 말았어야지~ㅠㅠ          ',\n",
       "  '   내용 \\t\\t\\t\\t\\t\\t\\t\\t\\t\\t카이랑 제니 둘다 귀티나게 생겨서 그런가 비주얼적으로 되게 잘 어울림 예쁜 연애했음 좋겠다\\t ',\n",
       "  '   내용 \\t\\t\\t\\t\\t\\t\\t\\t\\t\\t제니 데뷔 초 인기가요 방송당시 발목 90도로 꺾여서 응급실가고 수액맞으면서 활동하다가 일본 콘서트때 다친발목 무대 계단 내려오다 또 접지름 그날 휠체어 타고 퇴근 , 다음날 정해진 동선 못하고 무대 계단에 앉아서 노래했음 공항에서 다친쪽 큰 캐리어에 또 부딪힘 백댄서분들이랑 사진찍은거 보면 발목보호대 항상 하고있음 이런제니에게 무대마다 항상 킬힐 신기고\\t ',\n",
       "  '   내용 \\t\\t\\t\\t\\t\\t\\t\\t\\t\\t가사 좀 공감된다 ㅋㅋㅋㅋ 매일 연락하는 거 지쳐서 헤어지면 그 사람이 없어졌고 내가 일방적으로 관계를 끊었다는 것에 대한후회와 미안함에 매일 울면서 감정낭비한다는게 .. 진짜 부질없다\\t ',\n",
       "  '   내용 \\t\\t\\t\\t\\t\\t\\t\\t\\t\\t비추 별점테러 꼭 워너블이라고 생각안해주셨으면합니다\\t ',\n",
       "  '   내용 \\t\\t\\t\\t\\t\\t\\t\\t\\t\\t우와ㅋㅋㅋㄲ 우리가 느그들 별점테러했다는 증거 어딨는데ㅋㅋㅋㄱㅋㅋ 울지말고 천천히 증거가지고 와서 따지삼ㅜㅜ 나도 제니 노래 좋다고 말하고 다녔는데 되지도않는 헛논리 들이밀면서 자들자들...재밌냐?\\t ',\n",
       "  '   내용 \\t\\t\\t\\t\\t\\t\\t\\t\\t\\t또또 트xx스, 엑x 팬새기들 지들 열심히 무한스밍 했는데도 제니한테 순위 뺏긴것 때문에 열등감 생겨버려서 여기까지 와서 다른 사람들 댓글에 비추박고 튀어버리기~~ 정작 지들이 빠는 그룹 앨범엔 비추 1도없는데 지들보다 높은 순위면 꼭 와서 비추박고가죠~ ㄹㅇ 열등감 하나는 종특인듯ㅋㅋ\\t ',\n",
       "  '   내용 \\t\\t\\t\\t\\t\\t\\t\\t\\t\\tㄹㅇ 와이지는 테디 덕분에 일단 반 이상은 먹고 산다\\t ',\n",
       "  '   내용 \\t\\t\\t\\t\\t\\t\\t\\t\\t\\t이용자수 보니까 제니는 대중픽인듯 진짜 대단함 노래 너무 좋음 하루종일 귀에 맴돌고있음\\t ',\n",
       "  '   내용 \\t\\t\\t\\t\\t\\t\\t\\t\\t\\t노래가 ㄹㅇ 힙한 팝송같음.좋음.\\t ',\n",
       "  '   내용 \\t\\t\\t\\t\\t\\t\\t\\t\\t\\t솔로로 나오기엔 좀 부족한듯노래도 그닥...\\t ',\n",
       "  '   내용 \\t\\t\\t\\t\\t\\t\\t\\t\\t\\t음원순위 조작은 무슨 ㅋㅋㅋㅋ 뚜두뚜두랑 추이 완전 다른데 개소리야 지금 계속 1위하는 이유 유입이 엄청 많아서 그런 것 같은데 뭐만 하면 사재기니 뭐니 하지 좀 마라 어? 지 가수 1위 못한다고 지.랄이여. 더군다나 노래도 짧은데\\t ',\n",
       "  '   내용 \\t\\t\\t\\t\\t\\t\\t\\t\\t\\t시바 YG는 테디좀 갖다 버려라 맨날 똑같은곡만 만드냐 가수가 ㄹㅇ 아깝다\\t ',\n",
       "  '   내용 \\t\\t\\t\\t\\t\\t\\t\\t\\t\\t아니 노래가 이게 후달린다고...? ㅋㅋㅋㅋㅋㅋㅋㅋㅋㅋㅋㅋㅋㅋㅋ 진짜 완전 깔끔하고 무명가수가 불럿어도 역주행에서 최소 10위권안으로 갓음 ㅋㅋㅋㅋㅋㅋㅋㅋㅋ 어이없는 소리다 진짜 노래가 안좋다는건\\t ',\n",
       "  \"   내용 \\t\\t\\t\\t\\t\\t\\t\\t\\t\\t아니..진짜 궁금한건데 노래 제목으로 드립치는 이유가 대체 뭐지?? '솔로'라는 이 제목이 제니가 쓴 건 아니잖아요. 연애하겠다는데 그냥 이쁜 연애하게 두세요. 블랙핑크 분들도, 엑소엘도 대부분 인정하고 이쁘게 사귀라고 하는데 왜 제3자가 나서요? 드립칠게 없어서 노래 제목으로 드립이나 치고..어이가 없다 진짜.\\t \",\n",
       "  '   내용 \\t\\t\\t\\t\\t\\t\\t\\t\\t\\t후렴구는 뭐..좋은데 ㅜㅜ 징짜 너무 기대햇는데 아쉽다 곡이.. 제니음색이라 좀 사는거지 곡자채는 진짜 별로인거같은데..\\t ',\n",
       "  '   내용 \\t\\t\\t\\t\\t\\t\\t\\t\\t\\t빛이 나는 솔로 bitch로 들리게 하는거 너무 좋다ㅎㅎ\\t ',\n",
       "  '   내용 \\t\\t\\t\\t\\t\\t\\t\\t\\t\\t제니처럼 춤추면서 노래하고 랩하는 매력적인 여자 솔로가 우리나라에 누가 있을까나\\t ',\n",
       "  '   내용 \\t\\t\\t\\t\\t\\t\\t\\t\\t\\t제니... 내 기준 얼굴 실력 뭐 하나 안 빠지는데 우리나라에서 유난히 저평가 받지 ㅋㅋㅋ 배우들이랑 비교당하고 얼평질에 에효... 제니 영원하자ㅠ\\t ',\n",
       "  '   내용 \\t\\t\\t\\t\\t\\t\\t\\t\\t\\t워너블인데 이번 제니 신곡 진짜 좋네요 진짜 블랙핑크 노래는 꼭 들어보는데 역대급ㅠ솔로로도 성공하는 모습 너무 보기 좋아요ㅠ+일부 무개념때문에맘 상하시지 않길 바랍니다ㅠ저희쪽 어그로나 무개념 무시해주시고같이 열심히 덕질해요!워너블중에서 무개념은 지극히 일부라는거 알아주세요ㅠ 개념너블도 있습니다ㅠ워너원도 흥하고 제니도 흥하길♡\\t ',\n",
       "  '   내용 \\t\\t\\t\\t\\t\\t\\t\\t\\t\\t제니 생각보다 대단~~대중픽인듯\\t ',\n",
       "  '   내용 \\t\\t\\t\\t\\t\\t\\t\\t\\t\\t도대체 어떤부분에서 선미야?????????\\t ',\n",
       "  '   내용 \\t\\t\\t\\t\\t\\t\\t\\t\\t\\t조금은 아쉬운 노래지만 첫 데뷔치고는 존재의 클래스를 알리기에 충분했다.. 샤넬 귀걸이와 옷이 이렇게 잘 어울리는 사람은 처음임.. 타팬이지만 케이팝 팬으로서 제니는 인정 다음 컴백부터는 작사작곡에 직접 참여해 좀 더 아티스트다운 면모를 보여줬으면!\\t ',\n",
       "  '   내용 \\t\\t\\t\\t\\t\\t\\t\\t\\t\\t하나하나 반대 누르고 가는거 애잔하다\\t ',\n",
       "  '   내용 \\t\\t\\t\\t\\t\\t\\t\\t\\t\\t진짜 트빡이들 1위뺏기니까 악플다는거봐 개역겹네 ㅋㅋㅋㅋ진짜 한심하다\\t ',\n",
       "  '   내용 \\t\\t\\t\\t\\t\\t\\t\\t\\t\\t와 ㄹㅇ 개쩐다 헐리우드에서 나올 법한 분위기 그냥 독보적\\t ',\n",
       "  '   내용 \\t\\t\\t\\t\\t\\t\\t\\t\\t\\t뭔데 1위 멋있지??          ',\n",
       "  '   내용 \\t\\t\\t\\t\\t\\t\\t\\t\\t\\t제니 목소리 너무좋아ㅠㅠㅠㅠㅠ 노래할때든 랩할때든 너무 내취향\\t ',\n",
       "  '   내용 \\t\\t\\t\\t\\t\\t\\t\\t\\t\\t태도..... 떳다하면 다들 태도가문제야 초심을 지켜야지... ㅉ 라고 적었놨었는데요 이제보니안티들이 일부씩 짤라서 고의적으로 올렸다고 하더군요... 앞으로는 더 잘알고 어그로끌겠습니다 ㅎ\\t ',\n",
       "  '   내용 \\t\\t\\t\\t\\t\\t\\t\\t\\t\\t참나 어이가없어섴ㅋ아니 비추박고 악플단거를 왜 워너블하고엑소엘분들께 뒤집어씌우는건지..저희가했다는 증거도 없지않습니까..추측만으로 몰아가지마세요.\\t ',\n",
       "  '   내용 \\t\\t\\t\\t\\t\\t\\t\\t\\t\\t노래 별론데 팬빨로 1등한다? 제니 혼자 팬빨로만 이렇게 길게 1등 찍는게 말이 된다고 생각하세요?ㅎㅎ 노래가 좋으니까 1등이죠~ 별로인 부분 비판하는건 좋은데 열등감쩌는 비난은 그만하세여ㅎㅎ 애잔합니다^^\\t '],\n",
       " ['   내용 \\t\\t\\t\\t\\t\\t\\t\\t\\t\\t우리 로제도 솔로 데뷔 시켜주세요\\t ',\n",
       "  '   내용 \\t\\t\\t\\t\\t\\t\\t\\t\\t\\t노래가 제니빨제니가 학교종이 땡땡만 불러도 멜론 100위 권 진입은 할 듯.\\t ',\n",
       "  '   내용 \\t\\t\\t\\t\\t\\t\\t\\t\\t\\tㅋㅋㅋ노래 제목이 솔로라서 제니도 솔로여야 한다는 것들은 그걸 드립이라고 치는건지 생각이 덜 자란 건지 진심 모르겠네\\t ',\n",
       "  '   내용 \\t\\t\\t\\t\\t\\t\\t\\t\\t\\t블랙핑크의 제니라는 가수가 불렀다는 걸 제외하고 봤을 때 지극히 평범한 곡일뿐인 곡인데, 예를 들면 후렴부분도 너무 약하고... 솔직히 이 정도면 노래가 제니 빨을 받았다고 할 수 밖에 없다.\\t ',\n",
       "  '   내용 \\t\\t\\t\\t\\t\\t\\t\\t\\t\\t솔로 불렀다고 어이 없다고? 심장이 없어 부른 애한테 심장이 있는 데 왜 부르냐고는 왜 안하냐 ㅋㅋㅋ\\t ',\n",
       "  \"   내용 \\t\\t\\t\\t\\t\\t\\t\\t\\t\\t빛이 나는 솔로=Bitxh i'm solo=x년아 나는 솔로야 그래서 어쩔꺼가사 노림수 보소 ㄷㄷ\\t \",\n",
       "  '   내용 \\t\\t\\t\\t\\t\\t\\t\\t\\t\\t노래 다 좋고 계속 듣고있는데 태도논란에 대한 부분은 쉴드칠게 아니라 팬들이 나서서 고치도록 해줘야할것같음. 누가봐도 대충추는데 아니라고 해봤자 여론만 안좋아질듯. 나머지는 아티스트적인 부분으로서도 응원함\\t ',\n",
       "  '   내용 \\t\\t\\t\\t\\t\\t\\t\\t\\t\\t내 가수가 못 이뤄본것들 다른 가수가 이루면 조작이고 사재기죠? 하루 빨리 현실을 받아들이는게 본인한테도 좋지 않을까요          ',\n",
       "  '   내용 \\t\\t\\t\\t\\t\\t\\t\\t\\t\\t도입부는 좋은데 뒤로 갈수록 너무 아쉽다. 그냥 테디 노래 짬♩시켜놓은 느낌.특히 solo-lo-lo-lo 이부분 듣고 완성도 확 떨어지는 느낌 받음.. 대충 만든 것 같다 제니의 넘치는 끼에 비해ㅠ\\t ',\n",
       "  '   내용 \\t\\t\\t\\t\\t\\t\\t\\t\\t\\t1.김제니 첫 솔로 컴백으로 멜론 진입 1위2.김제니 첫 솔로 컴백으로 한국 음원 사이트 8대 1위 올킬3.김제니 첫 솔로 컴백으로 전 세계 40개국 1위4.김제니 첫 솔로 컴백으로 미국 아이튠즈 7위5.김제니 첫 솔로 컴백으로 아이튠즈 월드와이드 송 일간 1위(우리나라 여성 솔로가수 최초 1위)6.김제니 첫 솔로 컴백으로 영국 유튜브 트렌딩 1위          ',\n",
       "  '   내용 \\t\\t\\t\\t\\t\\t\\t\\t\\t\\t아이코닉인데 개인적으로 와지아티스트 다 좋아하고  노래 다 믿는데 제니솔로 오래기다렸네요ㅎㅎ너무 기대됐는데 도입부 듣자마자 하트랑 평점 별5개 바로 눌렀어요ㅋㅋㅋ 블랙핑크 너무 이쁘고 진짜 개 좋아요 남자였음 블링크였을겁니다. 진짜로 1위하세용 블핑 블링크 화이팅!!아이콘노래 사이에 껴서 스밍할게요!          재생 다운로드    곡명 SOLO    아티스트명  제니 (JENNIE) 제니 (JENNIE)     앨범명 SOLO       ',\n",
       "  '  재생 다운로드    곡명 SOLO    아티스트명  제니 (JENNIE) 제니 (JENNIE)     앨범명 SOLO   ',\n",
       "  '   내용 \\t\\t\\t\\t\\t\\t\\t\\t\\t\\t솔직히 1 위할 노래는 아닌것 같은데\\t ',\n",
       "  '   내용 \\t\\t\\t\\t\\t\\t\\t\\t\\t\\t천사득...❤❤❤❤❤❤          ',\n",
       "  '   내용 \\t\\t\\t\\t\\t\\t\\t\\t\\t\\t제 2의 붙이는 건 별로 안 좋아하지만 블핑이야 말로 와이지 먹여살릴 빅뱅이 되진 않을지,, 나머지 보이그룹들은 그에 비해 성적이 아쉬운데 솔로가 이 정도면 진짜 대박\\t ',\n",
       "  '   내용 \\t\\t\\t\\t\\t\\t\\t\\t\\t\\t솔로 가지고 뭐라하는데 이거 테디가 작사 작곡한건데 제니가 곡 받을때 테디한테 \"저 솔로 아니라서 이 곡 안 할게요\" 라고 해야되냐??\\t ',\n",
       "  '   내용 \\t\\t\\t\\t\\t\\t\\t\\t\\t\\t제니야 이빨닦을때 뭘로닦아??빛이 나는 솔로\\t ',\n",
       "  '   내용 \\t\\t\\t\\t\\t\\t\\t\\t\\t\\t그냥 제니여서 1위인거지 ..ㅋㅋ\\t ',\n",
       "  '   내용 \\t\\t\\t\\t\\t\\t\\t\\t\\t\\t사람들이 왜 이렇게 팝송을 따라한다고뭐라하는지 이해가 안 감.솔직히 팬도 아니고 안티도 아닌 입장에서노래가 엄청 좋다고는 못하겠으나제니가 그만큼 소화를 잘 했고 제니의 목소리나 창법 같은 걸 봤을때도우리나라 정서의 음악보다 해외팝 같은 분위기의 노래가 더 잘 어울린다는걸 그만큼 알고 거기에 맞춰노래를 만든 것이라고 생각함.\\t ',\n",
       "  '   내용 \\t\\t\\t\\t\\t\\t\\t\\t\\t\\t진입 1위... 개쩐다\\t ',\n",
       "  '   내용 \\t\\t\\t\\t\\t\\t\\t\\t\\t\\t노래는 걍 무난한데 1위는 노이해\\t ',\n",
       "  '   내용 \\t\\t\\t\\t\\t\\t\\t\\t\\t\\t이런 소모적인 노래가 왜 뜨는지모르겠네...\\t ',\n",
       "  '   내용 \\t\\t\\t\\t\\t\\t\\t\\t\\t\\t확실히 블랙핑크는 멤버별 개성이 뚜렷하네. 이 네명이 합쳐졌을때 시너지 효과를 내어서 블랙핑크만의 독보적인 색깔을 나타낼 수 있는거고\\t ',\n",
       "  '   내용 \\t\\t\\t\\t\\t\\t\\t\\t\\t\\t아 노래 별로다\\t ',\n",
       "  '   내용 \\t\\t\\t\\t\\t\\t\\t\\t\\t\\t솔직히 노래 좋은거 모르겠으..평범..한데 또들으러옴... 중독성 오지네\\t ',\n",
       "  '   내용 \\t\\t\\t\\t\\t\\t\\t\\t\\t\\t곡 구성좀 바꿔라 맨날 똑같은 래파토리냐\\t ',\n",
       "  '   내용 \\t\\t\\t\\t\\t\\t\\t\\t\\t\\t이거 가사 의도한거죠빛이 나는 솔로Bitch 나는솔로개 멋있는데\\t ',\n",
       "  '   내용 \\t\\t\\t\\t\\t\\t\\t\\t\\t\\t빛이나는 쏠로 ㅋㅋㅋㅋㅋㅋㅋㅋㅋㅋㅋㅋㅋㅋㅋㅋㅋㅋㅋㅋㅋㅋㅋㅋㅋㅋㅋㅋㅋㅋㅋㅋㅋㅋㅋㅋㅋㅋㅋㅋㅋㅋㅋㅋㅋㅋㅋㅋ제니야  너도 개웃기지???     카이야  너도웃겼겠다\\t ',\n",
       "  '   내용 \\t\\t\\t\\t\\t\\t\\t\\t\\t\\t댓수준 역겨울정도인데좋으면듣고 싫으면 꺼지지 굳이 남 1등하는꼴못봐서 빼애액대냐..꼭 지가 빠는연애인 조금이라도 비아냥대면 열폭오지게하면서 남 잘되는꼴은 또 못봐요ㅋ\\t ',\n",
       "  '   내용 \\t\\t\\t\\t\\t\\t\\t\\t\\t\\t그냥 활동해주는게 고마운건데 연예인을 여친 혹은 남친이라 생각하지 말자 좀;\\t ',\n",
       "  '   내용 \\t\\t\\t\\t\\t\\t\\t\\t\\t\\t제니 요즘 태도논란도 있었는데 열애설까지̆̈ 뜨니까 흠ㅋㅋ YG 금기사항이⃕ 연애라는데 멤버들한테 미안한 마음 가져야겟네요 퓨\\t ',\n",
       "  '   내용 \\t\\t\\t\\t\\t\\t\\t\\t\\t\\t테디 제발 해외 팝송에서 들어본 적 있는 비트들로 찌개 끓이지 말고,..\\t ',\n",
       "  '   내용 \\t\\t\\t\\t\\t\\t\\t\\t\\t\\t제니만의 매력을 완전히는 못살린 느낌. 곡이 너무 익숙해서 보니 역시나 테디. 기존 테디곡들 믹스해놓은 것 같다. 다른 가수들도 생각나고...  YG도 테디그늘서 살짝 벋어나야 좀 새로우려나. 개인적으로 좀 아쉽다.\\t ',\n",
       "  '   내용 \\t\\t\\t\\t\\t\\t\\t\\t\\t\\t공검 1도 안되는 노래 부르느라 고생했다\\t ',\n",
       "  '   내용 \\t\\t\\t\\t\\t\\t\\t\\t\\t\\t난 제니님도 솔로일줄 알았지... 갓제니도 솔크당 했는데 그냥 빛이 나는 솔로 청소한다는 거였어\\t ',\n",
       "  '   내용 \\t\\t\\t\\t\\t\\t\\t\\t\\t\\tk-pop스타들이 성공하니 되게 다 팝느낌으로 가네.. 영어가 더 많은듯.. 한국어가 지워져 가는 것 같아서 좀 씁슬하네 한국어도 충분히 성공 할 수 있는데 방탄처럼..\\t ',\n",
       "  '   내용 \\t\\t\\t\\t\\t\\t\\t\\t\\t\\t제니 남돌들이랑 맞짱오지게 잘뜬다\\t ',\n",
       "  '   내용 \\t\\t\\t\\t\\t\\t\\t\\t\\t\\tㅠㅠ로제도 빨리 솔로내주세요..\\t ',\n",
       "  '   내용 \\t\\t\\t\\t\\t\\t\\t\\t\\t\\t요근래 나온 노래 중에서 젤 좋은듯 ㄹㅇ 진입 1위 ㄱ\\t ',\n",
       "  '   내용 \\t\\t\\t\\t\\t\\t\\t\\t\\t\\t진짜 이런게 빌보드 가야된다 ♩♪ yg 스타일 너무 사랑해\\t ',\n",
       "  '   내용 \\t\\t\\t\\t\\t\\t\\t\\t\\t\\t제니버프 빼고 객관적으로 노래만 딱 들어도 평타이상으로 귀에 감기는데 이노래가 구리면 도대체 무슨음악을 들어야함????? 2080년도 노래들 들으세요?? 존ㅡ나 트렌디한데 유로냄새도 나고 도대체 무슨노래가 좋은 노래인지 대댓에 추천좀 해주세요 들어보게\\t ',\n",
       "  '   내용 \\t\\t\\t\\t\\t\\t\\t\\t\\t\\t음 뭐라해야되지 좋다안좋다 표현을 못하겟는 그런 곡....? 그냥 옷가게 배경음악같은 느낌\\t ',\n",
       "  '   내용 \\t\\t\\t\\t\\t\\t\\t\\t\\t\\t이게 좋나..뭐 개취지만.. 그냥 어렴풋이 이미지잡힌걸로미국에 팝아이돌따라하는거같은..\\t ',\n",
       "  '   내용 \\t\\t\\t\\t\\t\\t\\t\\t\\t\\t당분간 와이지는 걸그룹 만들지말고 블랙핑크만 푸쉬해라. 사실상 빅뱅 대체할 그룹은 블핑밖에 없다\\t ',\n",
       "  '   내용 \\t\\t\\t\\t\\t\\t\\t\\t\\t\\t갓제니!!!이따 학원 끝나고 10시쯤에 음원 필요하신분 선물해드릴게요 그때까지 잘 버텨줘야되는데 ㅠㅠ 받으신 분들 메세지 보내주세요^^(선물 완료했고, 문상 생기면 이 댓글에 쓰신 분 중에 또 드릴게요!!)\\t ',\n",
       "  '   내용 \\t\\t\\t\\t\\t\\t\\t\\t\\t\\t제니의 연애사건은 훗날 일어난 사건들에 비해선 아무것도 아니였음 솔직히ㅜㅋㅋ\\t ',\n",
       "  '   내용 \\t\\t\\t\\t\\t\\t\\t\\t\\t\\t분명 중독성 있고 아직 먹히는 스타일인건 맞는 듯 하지만 작년 선미 노래랑 비슷한 느낌을 지울수가 없다어디서 들어본 것 같고 곡 분위기 뿐만 아니라 의상이나 전반적인 무드도 다..\\t ',\n",
       "  \"   내용 \\t\\t\\t\\t\\t\\t\\t\\t\\t\\t흐어ㅓ.. 제니님 '솔로'곡 진입 1위..ㄷㄷ          재생 다운로드    곡명 SOLO    아티스트명  제니 (JENNIE) 제니 (JENNIE)     앨범명 SOLO       \",\n",
       "  '  재생 다운로드    곡명 SOLO    아티스트명  제니 (JENNIE) 제니 (JENNIE)     앨범명 SOLO   ',\n",
       "  '   내용 \\t\\t\\t\\t\\t\\t\\t\\t\\t\\t솔로 데뷔곡 화력 개쩐다\\t ',\n",
       "  '   내용 \\t\\t\\t\\t\\t\\t\\t\\t\\t\\t솔로 낸지 얼마나 됬다고 듀오 됬네 :;;;;;;\\t ',\n",
       "  '   내용 \\t\\t\\t\\t\\t\\t\\t\\t\\t\\t아니 제니가 솔로냈다고 실제로도 솔로여야하나,, 그냥 혼자일때가 가장 나답다 이런 내용 아니야..?? 블랙핑크 멤버한테 피해가는건 알겠는데 몇몇은 도가 지나치게 욕해ㅠㅠ\\t ',\n",
       "  '   내용 \\t\\t\\t\\t\\t\\t\\t\\t\\t\\t엑소 연차도 쌓여서 그만큼 팬들도 예전보다 더 성숙하게 응원해주는데 블핑은 아직 더 빛날텐데 열애설터지면 타격감은 클 것 같아요ㅜㅜ팬분들도 여러모로 상처입을 것 같고ㅠㅠ하지만 이미 둘의 청춘이고 선택이니 엑소엘로써 전 둘 응원해요!예쁘게 사랑했으면 좋겠고 악플보고 너무 신경 안 쓰셨으면 좋겠어요!\\t ',\n",
       "  '   내용 \\t\\t\\t\\t\\t\\t\\t\\t\\t\\t회사에서 욕먹는건당연하다 비지니스 관계에서 큰 규칙을 어겼으니 알게모르게 탈덕하는 팬들도 많을꺼고 이미지도 안 좋아질걸... 제니 블핑 다른멤버를한테 미안한마음은 가져야겠다ㅋㅋ\\t ',\n",
       "  '   내용 \\t\\t\\t\\t\\t\\t\\t\\t\\t\\t?? 별점테러가 왜 우리야 우리라는 증거 있어 ? 아 무슨일인가해서 와봤더니\\t ',\n",
       "  '   내용 \\t\\t\\t\\t\\t\\t\\t\\t\\t\\t발렌타인때 편의점에서 페레로로쉐사서 이 노래들으면서 까먹었는데 앞으로 10년은 더 거뜬히 빛날수있겠다는 자신감이 생겼습니다. 감사합니다.\\t ',\n",
       "  '   내용 \\t\\t\\t\\t\\t\\t\\t\\t\\t\\t연애하는건 그렇다치더라도 솔로라는 노래 이제 사람들이 듣고 싶을까 싶다 웃겨섴ㅋㅋㅋㅋ한국사람들 가사이입 중요하게 여기는데 뭐 컨셉과 아예 다르니 빛이 나는 커플 이럼서 풍자하면서 들을듯ㅋㅋ들으면 들을수록 제니한테는 마이너스\\t ',\n",
       "  '   내용 \\t\\t\\t\\t\\t\\t\\t\\t\\t\\t솔직히 인기빨 소속사빨이지\\t ',\n",
       "  '   내용 \\t\\t\\t\\t\\t\\t\\t\\t\\t\\t츄리챙만 불쌍\\t ',\n",
       "  '   내용 \\t\\t\\t\\t\\t\\t\\t\\t\\t\\t연애는 좋은데 걸리진 말았어야지~ㅠㅠ          ',\n",
       "  '   내용 \\t\\t\\t\\t\\t\\t\\t\\t\\t\\t카이랑 제니 둘다 귀티나게 생겨서 그런가 비주얼적으로 되게 잘 어울림 예쁜 연애했음 좋겠다\\t ',\n",
       "  '   내용 \\t\\t\\t\\t\\t\\t\\t\\t\\t\\t제니 데뷔 초 인기가요 방송당시 발목 90도로 꺾여서 응급실가고 수액맞으면서 활동하다가 일본 콘서트때 다친발목 무대 계단 내려오다 또 접지름 그날 휠체어 타고 퇴근 , 다음날 정해진 동선 못하고 무대 계단에 앉아서 노래했음 공항에서 다친쪽 큰 캐리어에 또 부딪힘 백댄서분들이랑 사진찍은거 보면 발목보호대 항상 하고있음 이런제니에게 무대마다 항상 킬힐 신기고\\t ',\n",
       "  '   내용 \\t\\t\\t\\t\\t\\t\\t\\t\\t\\t가사 좀 공감된다 ㅋㅋㅋㅋ 매일 연락하는 거 지쳐서 헤어지면 그 사람이 없어졌고 내가 일방적으로 관계를 끊었다는 것에 대한후회와 미안함에 매일 울면서 감정낭비한다는게 .. 진짜 부질없다\\t ',\n",
       "  '   내용 \\t\\t\\t\\t\\t\\t\\t\\t\\t\\t비추 별점테러 꼭 워너블이라고 생각안해주셨으면합니다\\t ',\n",
       "  '   내용 \\t\\t\\t\\t\\t\\t\\t\\t\\t\\t우와ㅋㅋㅋㄲ 우리가 느그들 별점테러했다는 증거 어딨는데ㅋㅋㅋㄱㅋㅋ 울지말고 천천히 증거가지고 와서 따지삼ㅜㅜ 나도 제니 노래 좋다고 말하고 다녔는데 되지도않는 헛논리 들이밀면서 자들자들...재밌냐?\\t ',\n",
       "  '   내용 \\t\\t\\t\\t\\t\\t\\t\\t\\t\\t또또 트xx스, 엑x 팬새기들 지들 열심히 무한스밍 했는데도 제니한테 순위 뺏긴것 때문에 열등감 생겨버려서 여기까지 와서 다른 사람들 댓글에 비추박고 튀어버리기~~ 정작 지들이 빠는 그룹 앨범엔 비추 1도없는데 지들보다 높은 순위면 꼭 와서 비추박고가죠~ ㄹㅇ 열등감 하나는 종특인듯ㅋㅋ\\t ',\n",
       "  '   내용 \\t\\t\\t\\t\\t\\t\\t\\t\\t\\tㄹㅇ 와이지는 테디 덕분에 일단 반 이상은 먹고 산다\\t ',\n",
       "  '   내용 \\t\\t\\t\\t\\t\\t\\t\\t\\t\\t이용자수 보니까 제니는 대중픽인듯 진짜 대단함 노래 너무 좋음 하루종일 귀에 맴돌고있음\\t ',\n",
       "  '   내용 \\t\\t\\t\\t\\t\\t\\t\\t\\t\\t노래가 ㄹㅇ 힙한 팝송같음.좋음.\\t ',\n",
       "  '   내용 \\t\\t\\t\\t\\t\\t\\t\\t\\t\\t솔로로 나오기엔 좀 부족한듯노래도 그닥...\\t ',\n",
       "  '   내용 \\t\\t\\t\\t\\t\\t\\t\\t\\t\\t음원순위 조작은 무슨 ㅋㅋㅋㅋ 뚜두뚜두랑 추이 완전 다른데 개소리야 지금 계속 1위하는 이유 유입이 엄청 많아서 그런 것 같은데 뭐만 하면 사재기니 뭐니 하지 좀 마라 어? 지 가수 1위 못한다고 지.랄이여. 더군다나 노래도 짧은데\\t ',\n",
       "  '   내용 \\t\\t\\t\\t\\t\\t\\t\\t\\t\\t시바 YG는 테디좀 갖다 버려라 맨날 똑같은곡만 만드냐 가수가 ㄹㅇ 아깝다\\t ',\n",
       "  '   내용 \\t\\t\\t\\t\\t\\t\\t\\t\\t\\t아니 노래가 이게 후달린다고...? ㅋㅋㅋㅋㅋㅋㅋㅋㅋㅋㅋㅋㅋㅋㅋ 진짜 완전 깔끔하고 무명가수가 불럿어도 역주행에서 최소 10위권안으로 갓음 ㅋㅋㅋㅋㅋㅋㅋㅋㅋ 어이없는 소리다 진짜 노래가 안좋다는건\\t ',\n",
       "  \"   내용 \\t\\t\\t\\t\\t\\t\\t\\t\\t\\t아니..진짜 궁금한건데 노래 제목으로 드립치는 이유가 대체 뭐지?? '솔로'라는 이 제목이 제니가 쓴 건 아니잖아요. 연애하겠다는데 그냥 이쁜 연애하게 두세요. 블랙핑크 분들도, 엑소엘도 대부분 인정하고 이쁘게 사귀라고 하는데 왜 제3자가 나서요? 드립칠게 없어서 노래 제목으로 드립이나 치고..어이가 없다 진짜.\\t \",\n",
       "  '   내용 \\t\\t\\t\\t\\t\\t\\t\\t\\t\\t후렴구는 뭐..좋은데 ㅜㅜ 징짜 너무 기대햇는데 아쉽다 곡이.. 제니음색이라 좀 사는거지 곡자채는 진짜 별로인거같은데..\\t ',\n",
       "  '   내용 \\t\\t\\t\\t\\t\\t\\t\\t\\t\\t빛이 나는 솔로 bitch로 들리게 하는거 너무 좋다ㅎㅎ\\t ',\n",
       "  '   내용 \\t\\t\\t\\t\\t\\t\\t\\t\\t\\t제니처럼 춤추면서 노래하고 랩하는 매력적인 여자 솔로가 우리나라에 누가 있을까나\\t ',\n",
       "  '   내용 \\t\\t\\t\\t\\t\\t\\t\\t\\t\\t제니... 내 기준 얼굴 실력 뭐 하나 안 빠지는데 우리나라에서 유난히 저평가 받지 ㅋㅋㅋ 배우들이랑 비교당하고 얼평질에 에효... 제니 영원하자ㅠ\\t ',\n",
       "  '   내용 \\t\\t\\t\\t\\t\\t\\t\\t\\t\\t워너블인데 이번 제니 신곡 진짜 좋네요 진짜 블랙핑크 노래는 꼭 들어보는데 역대급ㅠ솔로로도 성공하는 모습 너무 보기 좋아요ㅠ+일부 무개념때문에맘 상하시지 않길 바랍니다ㅠ저희쪽 어그로나 무개념 무시해주시고같이 열심히 덕질해요!워너블중에서 무개념은 지극히 일부라는거 알아주세요ㅠ 개념너블도 있습니다ㅠ워너원도 흥하고 제니도 흥하길♡\\t ',\n",
       "  '   내용 \\t\\t\\t\\t\\t\\t\\t\\t\\t\\t제니 생각보다 대단~~대중픽인듯\\t ',\n",
       "  '   내용 \\t\\t\\t\\t\\t\\t\\t\\t\\t\\t도대체 어떤부분에서 선미야?????????\\t ',\n",
       "  '   내용 \\t\\t\\t\\t\\t\\t\\t\\t\\t\\t조금은 아쉬운 노래지만 첫 데뷔치고는 존재의 클래스를 알리기에 충분했다.. 샤넬 귀걸이와 옷이 이렇게 잘 어울리는 사람은 처음임.. 타팬이지만 케이팝 팬으로서 제니는 인정 다음 컴백부터는 작사작곡에 직접 참여해 좀 더 아티스트다운 면모를 보여줬으면!\\t ',\n",
       "  '   내용 \\t\\t\\t\\t\\t\\t\\t\\t\\t\\t하나하나 반대 누르고 가는거 애잔하다\\t ',\n",
       "  '   내용 \\t\\t\\t\\t\\t\\t\\t\\t\\t\\t진짜 트빡이들 1위뺏기니까 악플다는거봐 개역겹네 ㅋㅋㅋㅋ진짜 한심하다\\t ',\n",
       "  '   내용 \\t\\t\\t\\t\\t\\t\\t\\t\\t\\t와 ㄹㅇ 개쩐다 헐리우드에서 나올 법한 분위기 그냥 독보적\\t ',\n",
       "  '   내용 \\t\\t\\t\\t\\t\\t\\t\\t\\t\\t뭔데 1위 멋있지??          ',\n",
       "  '   내용 \\t\\t\\t\\t\\t\\t\\t\\t\\t\\t제니 목소리 너무좋아ㅠㅠㅠㅠㅠ 노래할때든 랩할때든 너무 내취향\\t ',\n",
       "  '   내용 \\t\\t\\t\\t\\t\\t\\t\\t\\t\\t태도..... 떳다하면 다들 태도가문제야 초심을 지켜야지... ㅉ 라고 적었놨었는데요 이제보니안티들이 일부씩 짤라서 고의적으로 올렸다고 하더군요... 앞으로는 더 잘알고 어그로끌겠습니다 ㅎ\\t ',\n",
       "  '   내용 \\t\\t\\t\\t\\t\\t\\t\\t\\t\\t참나 어이가없어섴ㅋ아니 비추박고 악플단거를 왜 워너블하고엑소엘분들께 뒤집어씌우는건지..저희가했다는 증거도 없지않습니까..추측만으로 몰아가지마세요.\\t ',\n",
       "  '   내용 \\t\\t\\t\\t\\t\\t\\t\\t\\t\\t노래 별론데 팬빨로 1등한다? 제니 혼자 팬빨로만 이렇게 길게 1등 찍는게 말이 된다고 생각하세요?ㅎㅎ 노래가 좋으니까 1등이죠~ 별로인 부분 비판하는건 좋은데 열등감쩌는 비난은 그만하세여ㅎㅎ 애잔합니다^^\\t ']]"
      ]
     },
     "execution_count": 102,
     "metadata": {},
     "output_type": "execute_result"
    }
   ],
   "source": [
    "commentlist"
   ]
  },
  {
   "cell_type": "code",
   "execution_count": 70,
   "metadata": {},
   "outputs": [],
   "source": [
    "url2 = 'https://www.melon.com/song/detail.htm?songId=31417871#cmtpgn=&pageNo=1&sortType=1&srchType=2&srchWord='\n",
    "req = urllib.request.Request(url2,headers=hdr)\n",
    "html=urllib.request.urlopen(req).read()\n",
    "soup = BeautifulSoup(html,'html.parser')"
   ]
  },
  {
   "cell_type": "code",
   "execution_count": 74,
   "metadata": {},
   "outputs": [
    {
     "data": {
      "text/plain": [
       "\"\\r\\n\\t\\t\\t\\t\\t\\t\\t천진난만 청순가련새침한 척 이젠 지쳐 나귀찮아매일 뭐 해 어디야 밥은 잘 자Baby 자기 여보 보고 싶어다 부질없어You got me like이건 아무 감동 없는Love Story어떤 설렘도 어떤 의미도네겐 미안하지만I’m not sorry오늘부터 난 난 난빛이 나는 솔로빛이 나는 솔로I’m going solo lo lo lo lo loI’m going solo lo lo lo lo loUsed to be your girlNow I’m used tobeing the GOATYou’re sittin’ on your feelingsI’m sittin’ on my throneI ain’t got no timefor the troubles in your eyesThis time I’m only lookin’ at memyself and II’m goin' soloI’ma do it on my own nowNow that you’re alonegot you lookin’ for a clone nowSo lowThat’s how I’m gettin’ downDestined for this and the crownSing it loud like이건 아무 감동 없는Love Story어떤 설렘도 어떤 의미도네겐 미안하지만I’m not sorry오늘부터 난 난 난빛이 나는 솔로빛이 나는 솔로I’m going solo lo lo lo lo loI’m going solo lo lo lo lo lo만남 설렘 감동 뒤엔이별 눈물 후회 그리움홀로인 게 좋아 난 나다워야 하니까자유로운 바람처럼구름 위에 별들처럼멀리 가고 싶어 밝게 빛나고 싶어빛이 나는 솔로I’m going solo lo lo lo lo loI’m going solo lo lo lo lo lo\\n\""
      ]
     },
     "execution_count": 74,
     "metadata": {},
     "output_type": "execute_result"
    }
   ],
   "source": [
    "soup.find('div',class_='lyric').text"
   ]
  },
  {
   "cell_type": "code",
   "execution_count": 72,
   "metadata": {
    "scrolled": false
   },
   "outputs": [
    {
     "data": {
      "text/plain": [
       "[]"
      ]
     },
     "execution_count": 72,
     "metadata": {},
     "output_type": "execute_result"
    }
   ],
   "source": [
    "soup.select('#d_cmtpgn_cmt_list_wrapper > ul > li:nth-child(2)')"
   ]
  },
  {
   "cell_type": "code",
   "execution_count": null,
   "metadata": {},
   "outputs": [],
   "source": []
  },
  {
   "cell_type": "code",
   "execution_count": 17,
   "metadata": {},
   "outputs": [
    {
     "data": {
      "text/plain": [
       "['랩/힙합']"
      ]
     },
     "execution_count": 17,
     "metadata": {},
     "output_type": "execute_result"
    }
   ],
   "source": [
    "genre"
   ]
  },
  {
   "cell_type": "code",
   "execution_count": null,
   "metadata": {},
   "outputs": [],
   "source": [
    "https://www.melon.com/song/detail.htm?songId=32224272#cmtpgn=&pageNo=1&sortType=1&srchType=2&srchWord="
   ]
  },
  {
   "cell_type": "code",
   "execution_count": 319,
   "metadata": {
    "scrolled": true
   },
   "outputs": [
    {
     "ename": "HTTPError",
     "evalue": "HTTP Error 406: Not Acceptable",
     "output_type": "error",
     "traceback": [
      "\u001b[1;31m---------------------------------------------------------------------------\u001b[0m",
      "\u001b[1;31mHTTPError\u001b[0m                                 Traceback (most recent call last)",
      "\u001b[1;32m<ipython-input-319-2910ec2579b8>\u001b[0m in \u001b[0;36m<module>\u001b[1;34m\u001b[0m\n\u001b[0;32m      1\u001b[0m \u001b[1;32mfrom\u001b[0m \u001b[0murllib\u001b[0m\u001b[1;33m.\u001b[0m\u001b[0mrequest\u001b[0m \u001b[1;32mimport\u001b[0m \u001b[0murlopen\u001b[0m\u001b[1;33m\u001b[0m\u001b[1;33m\u001b[0m\u001b[0m\n\u001b[1;32m----> 2\u001b[1;33m \u001b[0mhtml\u001b[0m \u001b[1;33m=\u001b[0m \u001b[0murlopen\u001b[0m\u001b[1;33m(\u001b[0m\u001b[1;34m'https://www.melon.com/song/detail.htm?songId=32224272#cmtpgn=&pageNo=1&sortType=1&srchType=2&srchWord='\u001b[0m\u001b[1;33m)\u001b[0m\u001b[1;33m\u001b[0m\u001b[1;33m\u001b[0m\u001b[0m\n\u001b[0m\u001b[0;32m      3\u001b[0m \u001b[0msoup\u001b[0m \u001b[1;33m=\u001b[0m \u001b[0mBeautifulSoup\u001b[0m\u001b[1;33m(\u001b[0m\u001b[0mhtml\u001b[0m\u001b[1;33m,\u001b[0m \u001b[1;34m'html.parser'\u001b[0m\u001b[1;33m)\u001b[0m\u001b[1;33m\u001b[0m\u001b[1;33m\u001b[0m\u001b[0m\n",
      "\u001b[1;32mc:\\python37\\lib\\urllib\\request.py\u001b[0m in \u001b[0;36murlopen\u001b[1;34m(url, data, timeout, cafile, capath, cadefault, context)\u001b[0m\n\u001b[0;32m    220\u001b[0m     \u001b[1;32melse\u001b[0m\u001b[1;33m:\u001b[0m\u001b[1;33m\u001b[0m\u001b[1;33m\u001b[0m\u001b[0m\n\u001b[0;32m    221\u001b[0m         \u001b[0mopener\u001b[0m \u001b[1;33m=\u001b[0m \u001b[0m_opener\u001b[0m\u001b[1;33m\u001b[0m\u001b[1;33m\u001b[0m\u001b[0m\n\u001b[1;32m--> 222\u001b[1;33m     \u001b[1;32mreturn\u001b[0m \u001b[0mopener\u001b[0m\u001b[1;33m.\u001b[0m\u001b[0mopen\u001b[0m\u001b[1;33m(\u001b[0m\u001b[0murl\u001b[0m\u001b[1;33m,\u001b[0m \u001b[0mdata\u001b[0m\u001b[1;33m,\u001b[0m \u001b[0mtimeout\u001b[0m\u001b[1;33m)\u001b[0m\u001b[1;33m\u001b[0m\u001b[1;33m\u001b[0m\u001b[0m\n\u001b[0m\u001b[0;32m    223\u001b[0m \u001b[1;33m\u001b[0m\u001b[0m\n\u001b[0;32m    224\u001b[0m \u001b[1;32mdef\u001b[0m \u001b[0minstall_opener\u001b[0m\u001b[1;33m(\u001b[0m\u001b[0mopener\u001b[0m\u001b[1;33m)\u001b[0m\u001b[1;33m:\u001b[0m\u001b[1;33m\u001b[0m\u001b[1;33m\u001b[0m\u001b[0m\n",
      "\u001b[1;32mc:\\python37\\lib\\urllib\\request.py\u001b[0m in \u001b[0;36mopen\u001b[1;34m(self, fullurl, data, timeout)\u001b[0m\n\u001b[0;32m    529\u001b[0m         \u001b[1;32mfor\u001b[0m \u001b[0mprocessor\u001b[0m \u001b[1;32min\u001b[0m \u001b[0mself\u001b[0m\u001b[1;33m.\u001b[0m\u001b[0mprocess_response\u001b[0m\u001b[1;33m.\u001b[0m\u001b[0mget\u001b[0m\u001b[1;33m(\u001b[0m\u001b[0mprotocol\u001b[0m\u001b[1;33m,\u001b[0m \u001b[1;33m[\u001b[0m\u001b[1;33m]\u001b[0m\u001b[1;33m)\u001b[0m\u001b[1;33m:\u001b[0m\u001b[1;33m\u001b[0m\u001b[1;33m\u001b[0m\u001b[0m\n\u001b[0;32m    530\u001b[0m             \u001b[0mmeth\u001b[0m \u001b[1;33m=\u001b[0m \u001b[0mgetattr\u001b[0m\u001b[1;33m(\u001b[0m\u001b[0mprocessor\u001b[0m\u001b[1;33m,\u001b[0m \u001b[0mmeth_name\u001b[0m\u001b[1;33m)\u001b[0m\u001b[1;33m\u001b[0m\u001b[1;33m\u001b[0m\u001b[0m\n\u001b[1;32m--> 531\u001b[1;33m             \u001b[0mresponse\u001b[0m \u001b[1;33m=\u001b[0m \u001b[0mmeth\u001b[0m\u001b[1;33m(\u001b[0m\u001b[0mreq\u001b[0m\u001b[1;33m,\u001b[0m \u001b[0mresponse\u001b[0m\u001b[1;33m)\u001b[0m\u001b[1;33m\u001b[0m\u001b[1;33m\u001b[0m\u001b[0m\n\u001b[0m\u001b[0;32m    532\u001b[0m \u001b[1;33m\u001b[0m\u001b[0m\n\u001b[0;32m    533\u001b[0m         \u001b[1;32mreturn\u001b[0m \u001b[0mresponse\u001b[0m\u001b[1;33m\u001b[0m\u001b[1;33m\u001b[0m\u001b[0m\n",
      "\u001b[1;32mc:\\python37\\lib\\urllib\\request.py\u001b[0m in \u001b[0;36mhttp_response\u001b[1;34m(self, request, response)\u001b[0m\n\u001b[0;32m    639\u001b[0m         \u001b[1;32mif\u001b[0m \u001b[1;32mnot\u001b[0m \u001b[1;33m(\u001b[0m\u001b[1;36m200\u001b[0m \u001b[1;33m<=\u001b[0m \u001b[0mcode\u001b[0m \u001b[1;33m<\u001b[0m \u001b[1;36m300\u001b[0m\u001b[1;33m)\u001b[0m\u001b[1;33m:\u001b[0m\u001b[1;33m\u001b[0m\u001b[1;33m\u001b[0m\u001b[0m\n\u001b[0;32m    640\u001b[0m             response = self.parent.error(\n\u001b[1;32m--> 641\u001b[1;33m                 'http', request, response, code, msg, hdrs)\n\u001b[0m\u001b[0;32m    642\u001b[0m \u001b[1;33m\u001b[0m\u001b[0m\n\u001b[0;32m    643\u001b[0m         \u001b[1;32mreturn\u001b[0m \u001b[0mresponse\u001b[0m\u001b[1;33m\u001b[0m\u001b[1;33m\u001b[0m\u001b[0m\n",
      "\u001b[1;32mc:\\python37\\lib\\urllib\\request.py\u001b[0m in \u001b[0;36merror\u001b[1;34m(self, proto, *args)\u001b[0m\n\u001b[0;32m    567\u001b[0m         \u001b[1;32mif\u001b[0m \u001b[0mhttp_err\u001b[0m\u001b[1;33m:\u001b[0m\u001b[1;33m\u001b[0m\u001b[1;33m\u001b[0m\u001b[0m\n\u001b[0;32m    568\u001b[0m             \u001b[0margs\u001b[0m \u001b[1;33m=\u001b[0m \u001b[1;33m(\u001b[0m\u001b[0mdict\u001b[0m\u001b[1;33m,\u001b[0m \u001b[1;34m'default'\u001b[0m\u001b[1;33m,\u001b[0m \u001b[1;34m'http_error_default'\u001b[0m\u001b[1;33m)\u001b[0m \u001b[1;33m+\u001b[0m \u001b[0morig_args\u001b[0m\u001b[1;33m\u001b[0m\u001b[1;33m\u001b[0m\u001b[0m\n\u001b[1;32m--> 569\u001b[1;33m             \u001b[1;32mreturn\u001b[0m \u001b[0mself\u001b[0m\u001b[1;33m.\u001b[0m\u001b[0m_call_chain\u001b[0m\u001b[1;33m(\u001b[0m\u001b[1;33m*\u001b[0m\u001b[0margs\u001b[0m\u001b[1;33m)\u001b[0m\u001b[1;33m\u001b[0m\u001b[1;33m\u001b[0m\u001b[0m\n\u001b[0m\u001b[0;32m    570\u001b[0m \u001b[1;33m\u001b[0m\u001b[0m\n\u001b[0;32m    571\u001b[0m \u001b[1;31m# XXX probably also want an abstract factory that knows when it makes\u001b[0m\u001b[1;33m\u001b[0m\u001b[1;33m\u001b[0m\u001b[1;33m\u001b[0m\u001b[0m\n",
      "\u001b[1;32mc:\\python37\\lib\\urllib\\request.py\u001b[0m in \u001b[0;36m_call_chain\u001b[1;34m(self, chain, kind, meth_name, *args)\u001b[0m\n\u001b[0;32m    501\u001b[0m         \u001b[1;32mfor\u001b[0m \u001b[0mhandler\u001b[0m \u001b[1;32min\u001b[0m \u001b[0mhandlers\u001b[0m\u001b[1;33m:\u001b[0m\u001b[1;33m\u001b[0m\u001b[1;33m\u001b[0m\u001b[0m\n\u001b[0;32m    502\u001b[0m             \u001b[0mfunc\u001b[0m \u001b[1;33m=\u001b[0m \u001b[0mgetattr\u001b[0m\u001b[1;33m(\u001b[0m\u001b[0mhandler\u001b[0m\u001b[1;33m,\u001b[0m \u001b[0mmeth_name\u001b[0m\u001b[1;33m)\u001b[0m\u001b[1;33m\u001b[0m\u001b[1;33m\u001b[0m\u001b[0m\n\u001b[1;32m--> 503\u001b[1;33m             \u001b[0mresult\u001b[0m \u001b[1;33m=\u001b[0m \u001b[0mfunc\u001b[0m\u001b[1;33m(\u001b[0m\u001b[1;33m*\u001b[0m\u001b[0margs\u001b[0m\u001b[1;33m)\u001b[0m\u001b[1;33m\u001b[0m\u001b[1;33m\u001b[0m\u001b[0m\n\u001b[0m\u001b[0;32m    504\u001b[0m             \u001b[1;32mif\u001b[0m \u001b[0mresult\u001b[0m \u001b[1;32mis\u001b[0m \u001b[1;32mnot\u001b[0m \u001b[1;32mNone\u001b[0m\u001b[1;33m:\u001b[0m\u001b[1;33m\u001b[0m\u001b[1;33m\u001b[0m\u001b[0m\n\u001b[0;32m    505\u001b[0m                 \u001b[1;32mreturn\u001b[0m \u001b[0mresult\u001b[0m\u001b[1;33m\u001b[0m\u001b[1;33m\u001b[0m\u001b[0m\n",
      "\u001b[1;32mc:\\python37\\lib\\urllib\\request.py\u001b[0m in \u001b[0;36mhttp_error_default\u001b[1;34m(self, req, fp, code, msg, hdrs)\u001b[0m\n\u001b[0;32m    647\u001b[0m \u001b[1;32mclass\u001b[0m \u001b[0mHTTPDefaultErrorHandler\u001b[0m\u001b[1;33m(\u001b[0m\u001b[0mBaseHandler\u001b[0m\u001b[1;33m)\u001b[0m\u001b[1;33m:\u001b[0m\u001b[1;33m\u001b[0m\u001b[1;33m\u001b[0m\u001b[0m\n\u001b[0;32m    648\u001b[0m     \u001b[1;32mdef\u001b[0m \u001b[0mhttp_error_default\u001b[0m\u001b[1;33m(\u001b[0m\u001b[0mself\u001b[0m\u001b[1;33m,\u001b[0m \u001b[0mreq\u001b[0m\u001b[1;33m,\u001b[0m \u001b[0mfp\u001b[0m\u001b[1;33m,\u001b[0m \u001b[0mcode\u001b[0m\u001b[1;33m,\u001b[0m \u001b[0mmsg\u001b[0m\u001b[1;33m,\u001b[0m \u001b[0mhdrs\u001b[0m\u001b[1;33m)\u001b[0m\u001b[1;33m:\u001b[0m\u001b[1;33m\u001b[0m\u001b[1;33m\u001b[0m\u001b[0m\n\u001b[1;32m--> 649\u001b[1;33m         \u001b[1;32mraise\u001b[0m \u001b[0mHTTPError\u001b[0m\u001b[1;33m(\u001b[0m\u001b[0mreq\u001b[0m\u001b[1;33m.\u001b[0m\u001b[0mfull_url\u001b[0m\u001b[1;33m,\u001b[0m \u001b[0mcode\u001b[0m\u001b[1;33m,\u001b[0m \u001b[0mmsg\u001b[0m\u001b[1;33m,\u001b[0m \u001b[0mhdrs\u001b[0m\u001b[1;33m,\u001b[0m \u001b[0mfp\u001b[0m\u001b[1;33m)\u001b[0m\u001b[1;33m\u001b[0m\u001b[1;33m\u001b[0m\u001b[0m\n\u001b[0m\u001b[0;32m    650\u001b[0m \u001b[1;33m\u001b[0m\u001b[0m\n\u001b[0;32m    651\u001b[0m \u001b[1;32mclass\u001b[0m \u001b[0mHTTPRedirectHandler\u001b[0m\u001b[1;33m(\u001b[0m\u001b[0mBaseHandler\u001b[0m\u001b[1;33m)\u001b[0m\u001b[1;33m:\u001b[0m\u001b[1;33m\u001b[0m\u001b[1;33m\u001b[0m\u001b[0m\n",
      "\u001b[1;31mHTTPError\u001b[0m: HTTP Error 406: Not Acceptable"
     ]
    }
   ],
   "source": [
    "from urllib.request import urlopen\n",
    "html = urlopen('https://www.melon.com/song/detail.htm?songId=32224272#cmtpgn=&pageNo=1&sortType=1&srchType=2&srchWord=')\n",
    "soup = BeautifulSoup(html, 'html.parser')"
   ]
  }
 ],
 "metadata": {
  "kernelspec": {
   "display_name": "Python 3",
   "language": "python",
   "name": "python3"
  },
  "language_info": {
   "codemirror_mode": {
    "name": "ipython",
    "version": 3
   },
   "file_extension": ".py",
   "mimetype": "text/x-python",
   "name": "python",
   "nbconvert_exporter": "python",
   "pygments_lexer": "ipython3",
   "version": "3.7.6"
  }
 },
 "nbformat": 4,
 "nbformat_minor": 4
}
