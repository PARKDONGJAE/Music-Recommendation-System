{
 "cells": [
  {
   "cell_type": "markdown",
   "metadata": {},
   "source": [
    "# 가사분석 기반 음악 추천 시스템"
   ]
  },
  {
   "cell_type": "markdown",
   "metadata": {},
   "source": [
    "## 멜론 음원사이트 - 곡 장르, 가사, 리뷰정보 2000년~2020년 월간 top100 정보 가져오기"
   ]
  },
  {
   "cell_type": "markdown",
   "metadata": {},
   "source": [
    "### 필요한 라이브러리 호출"
   ]
  },
  {
   "cell_type": "code",
   "execution_count": 2,
   "metadata": {},
   "outputs": [],
   "source": [
    "import pandas as pd\n",
    "import numpy as np\n",
    "from tqdm.notebook import tqdm\n",
    "import time\n",
    "from bs4 import BeautifulSoup\n",
    "import urllib.request\n",
    "import urllib.parse\n",
    "import requests"
   ]
  },
  {
   "cell_type": "markdown",
   "metadata": {},
   "source": [
    "#### 드라이버 설정"
   ]
  },
  {
   "cell_type": "code",
   "execution_count": 3,
   "metadata": {},
   "outputs": [],
   "source": [
    "from selenium import webdriver\n",
    "options = webdriver.ChromeOptions()\n",
    "options.add_argument('headless')    # 웹 브라우저를 띄우지 않는 headless chrome 옵션 적용\n",
    "options.add_argument('disable-gpu')    # GPU 사용 안함\n",
    "options.add_argument('lang=ko_KR')    # 언어 설정\n",
    "driver = webdriver.Chrome('./chromedriver.exe', options=options) #  옵션 적용"
   ]
  },
  {
   "cell_type": "markdown",
   "metadata": {},
   "source": [
    "### 2000년~2019년 top100차트 가져오기"
   ]
  },
  {
   "cell_type": "code",
   "execution_count": 4,
   "metadata": {
    "scrolled": true
   },
   "outputs": [],
   "source": [
    "# ## 2000 ~ 2019년\n",
    "# # from \n",
    "# rankDATE=[]\n",
    "# name=[]\n",
    "# code=[]\n",
    "# from tqdm.notebook import tqdm\n",
    "# import time\n",
    "# from bs4 import BeautifulSoup\n",
    "# # 홈페이지 접속\n",
    "# options = webdriver.ChromeOptions()\n",
    "# options.add_argument('headless')    # 웹 브라우저를 띄우지 않는 headless chrome 옵션 적용\n",
    "# options.add_argument('disable-gpu')    # GPU 사용 안함\n",
    "# options.add_argument('lang=ko_KR')    # 언어 설정\n",
    "# driver = webdriver.Chrome('../chromedriver.exe', options=options) #  옵션 적용\n",
    "# driver.get('https://www.melon.com/chart/month/index.htm')\n",
    "# driver.find_element_by_xpath('//*[@id=\"conts\"]/div[3]/div/button').click()\n",
    "# driver.find_element_by_xpath('//*[@id=\"conts\"]/div[3]/div/div/dl/dd[2]/a').click()\n",
    "# driver.find_element_by_xpath('//*[@id=\"d_chart_search\"]/div/h4[2]/a').click()# 월별 차트 클릭\n",
    "# time.sleep(5)\n",
    "# for i in tqdm(range(2,4)):\n",
    "#     element = driver.find_element_by_xpath('//*[@id=\"decade_{}\"]'.format(str(i))) #년대 선택\n",
    "#     driver.execute_script(\"arguments[0].click();\", element) \n",
    "#     for j in tqdm(range(1,11)):\n",
    "#         element2 = driver.find_element_by_xpath('//*[@id=\"year_{}\"]'.format(str(j))) # 년도 선택\n",
    "#         driver.execute_script(\"arguments[0].click();\", element2) \n",
    "#         for k in tqdm(range(1,13)):\n",
    "#             element3 = driver.find_element_by_xpath('//*[@id=\"month_{}\"]'.format(str(k))) # 월 선택\n",
    "#             driver.execute_script(\"arguments[0].click();\", element3)\n",
    "#             time.sleep(5)\n",
    "#             if (i==3 and (j in range(6,11)) ):##2004년까지\n",
    "#                 element4 = driver.find_element_by_xpath('//*[@id=\"gnr_1\"]')  # 장르 선택\n",
    "#                 driver.execute_script(\"arguments[0].click();\", element4)\n",
    "#                 time.sleep(5)\n",
    "#                 driver.find_element_by_xpath('//*[@id=\"d_srch_form\"]/div[2]/button').click()\n",
    "#                 time.sleep(5)\n",
    "#                 html = driver.page_source\n",
    "#                 soup = BeautifulSoup(html, 'html.parser')\n",
    "#                 for l in soup.find_all('input',{'name':\"input_check\"}):\n",
    "#                     name.append(l.get('title')[:-5])\n",
    "#                     code.append(l.get('value'))       \n",
    "#             else :  # 2005년 ~2019년 12월\n",
    "#                 element5 = driver.find_element_by_xpath('//*[@id=\"gnr_2\"]')\n",
    "#                 time.sleep(5)\n",
    "#                 driver.execute_script(\"arguments[0].click();\", element5) # 장르 선택\n",
    "#                 time.sleep(5)\n",
    "#                 driver.find_element_by_xpath('//*[@id=\"d_srch_form\"]/div[2]/button').click()\n",
    "#                 html = driver.page_source\n",
    "#                 soup = BeautifulSoup(html, 'html.parser')\n",
    "#                 for l in soup.find_all('input',{'name':\"input_check\"}):\n",
    "#                     name.append(l.get('title')[:-5])\n",
    "#                     code.append(l.get('value'))\n",
    "#                     rankDATE.append('20{}{}년 {}월'.format((3-i),(10-j),k))\n",
    "               "
   ]
  },
  {
   "cell_type": "markdown",
   "metadata": {},
   "source": [
    "### 2020년 top100차트 가져오기"
   ]
  },
  {
   "cell_type": "code",
   "execution_count": 5,
   "metadata": {},
   "outputs": [],
   "source": [
    "# ##2020년\n",
    "# # 홈페이지 접속\n",
    "# # options = webdriver.ChromeOptions()\n",
    "# # options.add_argument('headless')    # 웹 브라우저를 띄우지 않는 headless chrome 옵션 적용\n",
    "# # options.add_argument('disable-gpu')    # GPU 사용 안함\n",
    "# # options.add_argument('lang=ko_KR')    # 언어 설정\n",
    "# name2=[]\n",
    "# code2=[]\n",
    "# date=[]\n",
    "# driver = webdriver.Chrome('../chromedriver.exe') #  옵션 적용\n",
    "# driver.get('https://www.melon.com/chart/month/index.htm')\n",
    "# driver.find_element_by_xpath('//*[@id=\"conts\"]/div[3]/div/button').click()\n",
    "# driver.find_element_by_xpath('//*[@id=\"conts\"]/div[3]/div/div/dl/dd[2]/a').click()\n",
    "# driver.find_element_by_xpath('//*[@id=\"d_chart_search\"]/div/h4[2]/a').click()# 월별 차트 클릭\n",
    "# time.sleep(1)\n",
    "# element = driver.find_element_by_xpath('//*[@id=\"decade_1\"]') #년대 선택\n",
    "# driver.execute_script(\"arguments[0].click();\", element) \n",
    "# time.sleep(3)\n",
    "# element2 = driver.find_element_by_xpath('/html/body/div/div[3]/div/div/form/div[1]/div/div/div[2]/div[1]/ul/li/span/input') # 년도 선택\n",
    "# driver.execute_script(\"arguments[0].click();\", element2) \n",
    "\n",
    "# for k in tqdm(range(1,8)):\n",
    "#             element3 = driver.find_element_by_xpath('//*[@id=\"month_{}\"]'.format(str(k))) # 월 선택\n",
    "#             driver.execute_script(\"arguments[0].click();\", element3)\n",
    "#             time.sleep(1)\n",
    "#             element4 = driver.find_element_by_xpath('//*[@id=\"gnr_2\"]')  # 장르 선택\n",
    "#             time.sleep(1)\n",
    "#             driver.execute_script(\"arguments[0].click();\", element4)\n",
    "#             driver.find_element_by_xpath('//*[@id=\"d_srch_form\"]/div[2]/button').click()\n",
    "#             html = driver.page_source\n",
    "#             soup = BeautifulSoup(html, 'html.parser')\n",
    "#             for l in soup.find_all('input',{'name':\"input_check\"}):\n",
    "#                 name2.append(l.get('title')[:-5])\n",
    "#                 code2.append(l.get('value'))\n"
   ]
  },
  {
   "cell_type": "markdown",
   "metadata": {},
   "source": [
    "#### 2000~2019년 곡정보 + 2020년 곡 이름,코드 하나의 데이터프레임으로 합치기"
   ]
  },
  {
   "cell_type": "code",
   "execution_count": 6,
   "metadata": {
    "scrolled": true
   },
   "outputs": [],
   "source": [
    "# df = pd.DataFrame(name,code).reset_index()\n",
    "# df2 = pd.DataFrame(name2,code2).reset_index()\n",
    "# df3= pd.concat([df,df2])\n",
    "# df3.columns =['code','name']"
   ]
  },
  {
   "cell_type": "markdown",
   "metadata": {},
   "source": [
    "#### 2000년~2020년의 데이터 중복제거"
   ]
  },
  {
   "cell_type": "code",
   "execution_count": 7,
   "metadata": {
    "scrolled": true
   },
   "outputs": [],
   "source": [
    "# top100=df3.drop_duplicates(['code']).reset_index(drop=True)"
   ]
  },
  {
   "cell_type": "markdown",
   "metadata": {},
   "source": [
    "#### csv파일로 저장"
   ]
  },
  {
   "cell_type": "code",
   "execution_count": 8,
   "metadata": {},
   "outputs": [],
   "source": [
    "# df3.to_csv(\"곡이름코드원본.csv\",encoding='cp949',index=False)\n",
    "# top100.to_csv(\"곡이름코드.csv\",encoding='cp949',index=False)\n",
    "# df.to_csv(\"곡이름.csv\")"
   ]
  },
  {
   "cell_type": "code",
   "execution_count": 9,
   "metadata": {},
   "outputs": [
    {
     "data": {
      "text/html": [
       "<div>\n",
       "<style scoped>\n",
       "    .dataframe tbody tr th:only-of-type {\n",
       "        vertical-align: middle;\n",
       "    }\n",
       "\n",
       "    .dataframe tbody tr th {\n",
       "        vertical-align: top;\n",
       "    }\n",
       "\n",
       "    .dataframe thead th {\n",
       "        text-align: right;\n",
       "    }\n",
       "</style>\n",
       "<table border=\"1\" class=\"dataframe\">\n",
       "  <thead>\n",
       "    <tr style=\"text-align: right;\">\n",
       "      <th></th>\n",
       "      <th>code</th>\n",
       "      <th>name</th>\n",
       "    </tr>\n",
       "  </thead>\n",
       "  <tbody>\n",
       "    <tr>\n",
       "      <th>0</th>\n",
       "      <td>31532643</td>\n",
       "      <td>넘쳐흘러</td>\n",
       "    </tr>\n",
       "    <tr>\n",
       "      <th>1</th>\n",
       "      <td>31532438</td>\n",
       "      <td>벌써 12시</td>\n",
       "    </tr>\n",
       "    <tr>\n",
       "      <th>2</th>\n",
       "      <td>31477685</td>\n",
       "      <td>180도</td>\n",
       "    </tr>\n",
       "    <tr>\n",
       "      <th>3</th>\n",
       "      <td>31406357</td>\n",
       "      <td>신용재</td>\n",
       "    </tr>\n",
       "    <tr>\n",
       "      <th>4</th>\n",
       "      <td>31417871</td>\n",
       "      <td>SOLO</td>\n",
       "    </tr>\n",
       "    <tr>\n",
       "      <th>...</th>\n",
       "      <td>...</td>\n",
       "      <td>...</td>\n",
       "    </tr>\n",
       "    <tr>\n",
       "      <th>7755</th>\n",
       "      <td>32620704</td>\n",
       "      <td>Poppin'</td>\n",
       "    </tr>\n",
       "    <tr>\n",
       "      <th>7756</th>\n",
       "      <td>32620703</td>\n",
       "      <td>Underwater</td>\n",
       "    </tr>\n",
       "    <tr>\n",
       "      <th>7757</th>\n",
       "      <td>32665408</td>\n",
       "      <td>작사가</td>\n",
       "    </tr>\n",
       "    <tr>\n",
       "      <th>7758</th>\n",
       "      <td>32620701</td>\n",
       "      <td>R U Ridin'?</td>\n",
       "    </tr>\n",
       "    <tr>\n",
       "      <th>7759</th>\n",
       "      <td>32620705</td>\n",
       "      <td>Ghost</td>\n",
       "    </tr>\n",
       "  </tbody>\n",
       "</table>\n",
       "<p>7760 rows × 2 columns</p>\n",
       "</div>"
      ],
      "text/plain": [
       "          code         name\n",
       "0     31532643         넘쳐흘러\n",
       "1     31532438       벌써 12시\n",
       "2     31477685         180도\n",
       "3     31406357          신용재\n",
       "4     31417871         SOLO\n",
       "...        ...          ...\n",
       "7755  32620704      Poppin'\n",
       "7756  32620703   Underwater\n",
       "7757  32665408          작사가\n",
       "7758  32620701  R U Ridin'?\n",
       "7759  32620705        Ghost\n",
       "\n",
       "[7760 rows x 2 columns]"
      ]
     },
     "execution_count": 9,
     "metadata": {},
     "output_type": "execute_result"
    }
   ],
   "source": [
    "df = pd.read_csv(\"곡이름코드.csv\",encoding='cp949')\n",
    "df"
   ]
  },
  {
   "cell_type": "markdown",
   "metadata": {},
   "source": [
    "### 2000년~2020년의 곡이름에 대한 정보(가사, 가수,장르,댓글정보, 발매일) 가져오기"
   ]
  },
  {
   "cell_type": "code",
   "execution_count": 10,
   "metadata": {
    "scrolled": true
   },
   "outputs": [],
   "source": [
    "# import pandas as pd\n",
    "# import numpy as np\n",
    "# from tqdm.notebook import tqdm\n",
    "# import time\n",
    "# from bs4 import BeautifulSoup\n",
    "# import urllib.request\n",
    "# import urllib.parse\n",
    "# import requests\n",
    "# lyric=[]\n",
    "# artist=[]\n",
    "# date=[]\n",
    "# comment=[]\n",
    "# commentlist=[]\n",
    "# genre=[]\n",
    "# hdr = { 'User-Agent' : 'Mozilla/5.0'} #헤더설정\n",
    "# lyric=[]\n",
    "# artist=[]\n",
    "# date=[]\n",
    "# comment=[]\n",
    "# commentlist=[]\n",
    "# genre=[]\n",
    "# for i in tqdm(df['code'][7000:7760]):\n",
    "#     url='https://www.melon.com/song/detail.htm?songId={}'.format(i)\n",
    "#     req = urllib.request.Request(url, headers=hdr)\n",
    "#     html=urllib.request.urlopen(req).read()\n",
    "#     soup = BeautifulSoup(html,'html.parser')\n",
    "#     try:\n",
    "#         artist.append(soup.find('div',class_='artist').text[1:-1])\n",
    "#     except Exception as err:\n",
    "#         artist.append(None)\n",
    "#     try:\n",
    "#         date.append(soup.select('#downloadfrm > div > div > div.entry > div.meta > dl.list > dd')[1].text)\n",
    "#     except Exception as err:\n",
    "#         date.append(None)\n",
    "#     try:\n",
    "#         genre.append(soup.select('#downloadfrm > div > div > div.entry > div.meta > dl.list > dd')[2].text)\n",
    "#     except Exception as err:\n",
    "#         genre.append(None)\n",
    "#     try:\n",
    "#         lyric.append(soup.find('div',class_='lyric').text[9:-1])\n",
    "#     except Exception as err: \n",
    "#         lyric.append(None)\n",
    "        \n",
    "# # # 댓글에 대한 정보, 동적인 페이지라 driver사용 (추천수 댓글 10개만)\n",
    "# #     url2 = 'https://www.melon.com/song/detail.htm?songId={}#cmtpgn=&pageNo=1&sortType=1&srchType=2&srchWord'.format(i)\n",
    "# #     driver = webdriver.Chrome('./chromedriver.exe',options=options) #  옵션 적용\n",
    "# #     driver.get(url2)\n",
    "# #     html = driver.page_source\n",
    "# #     soup = BeautifulSoup(html,'html.parser')\n",
    "# #     for k in soup.find_all('div',class_='cntt')[4:9]:\n",
    "# #         try:\n",
    "# #             comment.append(k.text[16:-2])\n",
    "# #         except AttributeError as err:\n",
    "# #             comment.append(None)\n",
    "# #     commentlist.append(comment)\n",
    "    \n"
   ]
  },
  {
   "cell_type": "markdown",
   "metadata": {},
   "source": [
    "### 댓글정보가 크롤링이 막혀 우선은 가사정보로만 감성분석하기로 결정"
   ]
  },
  {
   "cell_type": "code",
   "execution_count": 11,
   "metadata": {},
   "outputs": [],
   "source": [
    "### 가사정보도 크롤링이 한번에 되지 않아 7760개의 데이터를 나눠서 크롤링해왔다"
   ]
  },
  {
   "cell_type": "code",
   "execution_count": 12,
   "metadata": {
    "scrolled": true
   },
   "outputs": [],
   "source": [
    "# s1000 = pd.DataFrame(data={'artist':artist, 'genre':genre, 'lyric':lyric ,'date':date})\n",
    "# s1000.to_csv('s1000.csv',encoding='utf-8',index=False)"
   ]
  },
  {
   "cell_type": "code",
   "execution_count": 13,
   "metadata": {},
   "outputs": [],
   "source": [
    "# s2000 = pd.DataFrame(data={'artist':artist, 'genre':genre, 'lyric':lyric ,'date':date})\n",
    "# s2000.to_csv('s2000.csv',encoding='utf-8',index=False)"
   ]
  },
  {
   "cell_type": "code",
   "execution_count": 14,
   "metadata": {},
   "outputs": [],
   "source": [
    "# s3000 = pd.DataFrame(data={'artist':artist, 'genre':genre, 'lyric':lyric ,'date':date})\n",
    "# s3000.to_csv('s3000.csv',encoding='utf-8',index=False)"
   ]
  },
  {
   "cell_type": "code",
   "execution_count": 15,
   "metadata": {
    "scrolled": false
   },
   "outputs": [],
   "source": [
    "# s4000 = pd.DataFrame(data={'artist':artist, 'genre':genre, 'lyric':lyric ,'date':date})\n",
    "# s4000.to_csv('s3000.csv',encoding='utf-8',index=False)"
   ]
  },
  {
   "cell_type": "code",
   "execution_count": 16,
   "metadata": {
    "scrolled": false
   },
   "outputs": [],
   "source": [
    "# s5000 = pd.DataFrame(data={'artist':artist, 'genre':genre, 'lyric':lyric ,'date':date})\n",
    "# s5000.to_csv('s5000.csv',encoding='utf-8',index=False)"
   ]
  },
  {
   "cell_type": "code",
   "execution_count": 17,
   "metadata": {},
   "outputs": [],
   "source": [
    "# s6000 = pd.DataFrame(data={'artist':artist, 'genre':genre, 'lyric':lyric ,'date':date})\n",
    "# s6000.to_csv('s6000.csv',encoding='utf-8',index=False)"
   ]
  },
  {
   "cell_type": "code",
   "execution_count": 18,
   "metadata": {},
   "outputs": [],
   "source": [
    "# s6500 = pd.DataFrame(data={'artist':artist[1000:], 'genre':genre[1000:], 'lyric':lyric[1000:] ,'date':date[1000:]})\n",
    "# s6500.to_csv('s6500.csv',encoding='utf-8',index=False)"
   ]
  },
  {
   "cell_type": "code",
   "execution_count": 19,
   "metadata": {},
   "outputs": [],
   "source": [
    "# s7000 = pd.DataFrame(data={'artist':artist, 'genre':genre, 'lyric':lyric ,'date':date})\n",
    "# s7000.to_csv('s7000.csv',encoding='utf-8',index=False)"
   ]
  },
  {
   "cell_type": "code",
   "execution_count": 20,
   "metadata": {},
   "outputs": [],
   "source": [
    "# s7600 = pd.DataFrame(data={'artist':artist, 'genre':genre, 'lyric':lyric ,'date':date})\n",
    "# s7600.to_csv('s7600.csv',encoding='utf-8',index=False)"
   ]
  },
  {
   "cell_type": "code",
   "execution_count": 21,
   "metadata": {},
   "outputs": [],
   "source": [
    "## 나눠서 크롤링해온 자료 통합"
   ]
  },
  {
   "cell_type": "code",
   "execution_count": 22,
   "metadata": {
    "scrolled": true
   },
   "outputs": [],
   "source": [
    "# s1=pd.read_csv('s1000.csv')\n",
    "# s2=pd.read_csv('s2000.csv')\n",
    "# s3=pd.read_csv('s3000.csv')\n",
    "# s4=pd.read_csv('s4000.csv')\n",
    "# s5=pd.read_csv('s5000.csv')\n",
    "# s6=pd.read_csv('s6000.csv')\n",
    "# s7=pd.read_csv('s6500.csv')\n",
    "# s8=pd.read_csv('s7000.csv')\n",
    "# s9=pd.read_csv('s7600.csv')\n",
    "# df2 = pd.concat([s1,s2,s3,s4,s5,s6,s7,s8,s9]).reset_index(drop=True)"
   ]
  },
  {
   "cell_type": "code",
   "execution_count": 23,
   "metadata": {
    "scrolled": true
   },
   "outputs": [],
   "source": [
    "# df_final= pd.concat([df,df2],axis=1) # 앞으로 쓸 최종 데이터\n",
    "# df_final.to_csv('final.csv',encoding='utf-8',index=False)"
   ]
  },
  {
   "cell_type": "code",
   "execution_count": 24,
   "metadata": {},
   "outputs": [],
   "source": [
    "## 최종 데이터 가져오기"
   ]
  },
  {
   "cell_type": "code",
   "execution_count": 25,
   "metadata": {},
   "outputs": [
    {
     "data": {
      "text/html": [
       "<div>\n",
       "<style scoped>\n",
       "    .dataframe tbody tr th:only-of-type {\n",
       "        vertical-align: middle;\n",
       "    }\n",
       "\n",
       "    .dataframe tbody tr th {\n",
       "        vertical-align: top;\n",
       "    }\n",
       "\n",
       "    .dataframe thead th {\n",
       "        text-align: right;\n",
       "    }\n",
       "</style>\n",
       "<table border=\"1\" class=\"dataframe\">\n",
       "  <thead>\n",
       "    <tr style=\"text-align: right;\">\n",
       "      <th></th>\n",
       "      <th>code</th>\n",
       "      <th>name</th>\n",
       "      <th>artist</th>\n",
       "      <th>genre</th>\n",
       "      <th>lyric</th>\n",
       "      <th>date</th>\n",
       "    </tr>\n",
       "  </thead>\n",
       "  <tbody>\n",
       "    <tr>\n",
       "      <th>0</th>\n",
       "      <td>31532643</td>\n",
       "      <td>넘쳐흘러</td>\n",
       "      <td>엠씨더맥스 (M.C the MAX)</td>\n",
       "      <td>발라드</td>\n",
       "      <td>나는 그대를 뒤로한 채로우리 사랑을 놓아요차오르는 추억을 헝클어뜨려모두 일어나지 않...</td>\n",
       "      <td>2019.01.02</td>\n",
       "    </tr>\n",
       "    <tr>\n",
       "      <th>1</th>\n",
       "      <td>31532438</td>\n",
       "      <td>벌써 12시</td>\n",
       "      <td>청하</td>\n",
       "      <td>댄스</td>\n",
       "      <td>Yeah I like it네가 말을 놓는 것도Like it 너의 작은 말투도나쁘지 ...</td>\n",
       "      <td>2019.01.02</td>\n",
       "    </tr>\n",
       "    <tr>\n",
       "      <th>2</th>\n",
       "      <td>31477685</td>\n",
       "      <td>180도</td>\n",
       "      <td>벤</td>\n",
       "      <td>발라드</td>\n",
       "      <td>사랑 다 비슷해 그래 다 비슷해너는 다르길 바랐는데넌 뭐가 미안해 왜 맨날 미안해헤...</td>\n",
       "      <td>2018.12.07</td>\n",
       "    </tr>\n",
       "    <tr>\n",
       "      <th>3</th>\n",
       "      <td>31406357</td>\n",
       "      <td>신용재</td>\n",
       "      <td>하은</td>\n",
       "      <td>발라드</td>\n",
       "      <td>매일 같은 옷을 입는 이유 너와 함께 입던 옷이라서혹시 어디선가 알아보고 날 찾아줄...</td>\n",
       "      <td>2018.11.06</td>\n",
       "    </tr>\n",
       "    <tr>\n",
       "      <th>4</th>\n",
       "      <td>31417871</td>\n",
       "      <td>SOLO</td>\n",
       "      <td>제니 (JENNIE)</td>\n",
       "      <td>랩/힙합</td>\n",
       "      <td>천진난만 청순가련새침한 척 이젠 지쳐 나귀찮아매일 뭐 해 어디야 밥은 잘 자Baby...</td>\n",
       "      <td>2018.11.12</td>\n",
       "    </tr>\n",
       "    <tr>\n",
       "      <th>...</th>\n",
       "      <td>...</td>\n",
       "      <td>...</td>\n",
       "      <td>...</td>\n",
       "      <td>...</td>\n",
       "      <td>...</td>\n",
       "      <td>...</td>\n",
       "    </tr>\n",
       "    <tr>\n",
       "      <th>7755</th>\n",
       "      <td>32620704</td>\n",
       "      <td>Poppin'</td>\n",
       "      <td>백현 (BAEKHYUN)</td>\n",
       "      <td>R&amp;B/Soul</td>\n",
       "      <td>너는 들을수록자꾸 좋아지는 노래보고 또 봐도 귀여운사랑스런 영화 같은데커플들의 클리...</td>\n",
       "      <td>2020.05.25</td>\n",
       "    </tr>\n",
       "    <tr>\n",
       "      <th>7756</th>\n",
       "      <td>32620703</td>\n",
       "      <td>Underwater</td>\n",
       "      <td>백현 (BAEKHYUN)</td>\n",
       "      <td>R&amp;B/Soul</td>\n",
       "      <td>귀찮게 또 울린 phone잠깐 airplane mode불 꺼진 방에 홀로 눈 감은 ...</td>\n",
       "      <td>2020.05.25</td>\n",
       "    </tr>\n",
       "    <tr>\n",
       "      <th>7757</th>\n",
       "      <td>32665408</td>\n",
       "      <td>작사가</td>\n",
       "      <td>헤이즈 (Heize)</td>\n",
       "      <td>R&amp;B/Soul</td>\n",
       "      <td>천사와 악마가 내 손끝에 웃어도 울어도 가사를 적네 종이가 다 젖어도 나는 멈추지 ...</td>\n",
       "      <td>2020.06.10</td>\n",
       "    </tr>\n",
       "    <tr>\n",
       "      <th>7758</th>\n",
       "      <td>32620701</td>\n",
       "      <td>R U Ridin'?</td>\n",
       "      <td>백현 (BAEKHYUN)</td>\n",
       "      <td>R&amp;B/Soul</td>\n",
       "      <td>가볍게 널 스치는 바람이 좋아 보여그 표정을 읽을 수는 없는데크게 튼 음악 볼륨 속...</td>\n",
       "      <td>2020.05.25</td>\n",
       "    </tr>\n",
       "    <tr>\n",
       "      <th>7759</th>\n",
       "      <td>32620705</td>\n",
       "      <td>Ghost</td>\n",
       "      <td>백현 (BAEKHYUN)</td>\n",
       "      <td>R&amp;B/Soul</td>\n",
       "      <td>넌 고요한 정적이 감싸면 꿈속에가둬 날 깊숙이 더욱 깊숙이또 가만히 밀려와 잔잔한 ...</td>\n",
       "      <td>2020.05.25</td>\n",
       "    </tr>\n",
       "  </tbody>\n",
       "</table>\n",
       "<p>7760 rows × 6 columns</p>\n",
       "</div>"
      ],
      "text/plain": [
       "          code         name               artist     genre  \\\n",
       "0     31532643         넘쳐흘러  엠씨더맥스 (M.C the MAX)       발라드   \n",
       "1     31532438       벌써 12시                   청하        댄스   \n",
       "2     31477685         180도                    벤       발라드   \n",
       "3     31406357          신용재                   하은       발라드   \n",
       "4     31417871         SOLO          제니 (JENNIE)      랩/힙합   \n",
       "...        ...          ...                  ...       ...   \n",
       "7755  32620704      Poppin'        백현 (BAEKHYUN)  R&B/Soul   \n",
       "7756  32620703   Underwater        백현 (BAEKHYUN)  R&B/Soul   \n",
       "7757  32665408          작사가          헤이즈 (Heize)  R&B/Soul   \n",
       "7758  32620701  R U Ridin'?        백현 (BAEKHYUN)  R&B/Soul   \n",
       "7759  32620705        Ghost        백현 (BAEKHYUN)  R&B/Soul   \n",
       "\n",
       "                                                  lyric        date  \n",
       "0     나는 그대를 뒤로한 채로우리 사랑을 놓아요차오르는 추억을 헝클어뜨려모두 일어나지 않...  2019.01.02  \n",
       "1     Yeah I like it네가 말을 놓는 것도Like it 너의 작은 말투도나쁘지 ...  2019.01.02  \n",
       "2     사랑 다 비슷해 그래 다 비슷해너는 다르길 바랐는데넌 뭐가 미안해 왜 맨날 미안해헤...  2018.12.07  \n",
       "3     매일 같은 옷을 입는 이유 너와 함께 입던 옷이라서혹시 어디선가 알아보고 날 찾아줄...  2018.11.06  \n",
       "4     천진난만 청순가련새침한 척 이젠 지쳐 나귀찮아매일 뭐 해 어디야 밥은 잘 자Baby...  2018.11.12  \n",
       "...                                                 ...         ...  \n",
       "7755  너는 들을수록자꾸 좋아지는 노래보고 또 봐도 귀여운사랑스런 영화 같은데커플들의 클리...  2020.05.25  \n",
       "7756  귀찮게 또 울린 phone잠깐 airplane mode불 꺼진 방에 홀로 눈 감은 ...  2020.05.25  \n",
       "7757  천사와 악마가 내 손끝에 웃어도 울어도 가사를 적네 종이가 다 젖어도 나는 멈추지 ...  2020.06.10  \n",
       "7758  가볍게 널 스치는 바람이 좋아 보여그 표정을 읽을 수는 없는데크게 튼 음악 볼륨 속...  2020.05.25  \n",
       "7759  넌 고요한 정적이 감싸면 꿈속에가둬 날 깊숙이 더욱 깊숙이또 가만히 밀려와 잔잔한 ...  2020.05.25  \n",
       "\n",
       "[7760 rows x 6 columns]"
      ]
     },
     "execution_count": 25,
     "metadata": {},
     "output_type": "execute_result"
    }
   ],
   "source": [
    "df = pd.read_csv('final.csv')\n",
    "df"
   ]
  },
  {
   "cell_type": "markdown",
   "metadata": {},
   "source": [
    "#### null값 처리"
   ]
  },
  {
   "cell_type": "code",
   "execution_count": 26,
   "metadata": {},
   "outputs": [
    {
     "data": {
      "text/plain": [
       "code        0\n",
       "name        0\n",
       "artist     10\n",
       "genre      10\n",
       "lyric     154\n",
       "date       10\n",
       "dtype: int64"
      ]
     },
     "execution_count": 26,
     "metadata": {},
     "output_type": "execute_result"
    }
   ],
   "source": [
    "df.isnull().sum()"
   ]
  },
  {
   "cell_type": "code",
   "execution_count": 27,
   "metadata": {
    "scrolled": true
   },
   "outputs": [
    {
     "data": {
      "text/html": [
       "<div>\n",
       "<style scoped>\n",
       "    .dataframe tbody tr th:only-of-type {\n",
       "        vertical-align: middle;\n",
       "    }\n",
       "\n",
       "    .dataframe tbody tr th {\n",
       "        vertical-align: top;\n",
       "    }\n",
       "\n",
       "    .dataframe thead th {\n",
       "        text-align: right;\n",
       "    }\n",
       "</style>\n",
       "<table border=\"1\" class=\"dataframe\">\n",
       "  <thead>\n",
       "    <tr style=\"text-align: right;\">\n",
       "      <th></th>\n",
       "      <th>code</th>\n",
       "      <th>name</th>\n",
       "      <th>artist</th>\n",
       "      <th>genre</th>\n",
       "      <th>lyric</th>\n",
       "      <th>date</th>\n",
       "    </tr>\n",
       "  </thead>\n",
       "  <tbody>\n",
       "    <tr>\n",
       "      <th>47</th>\n",
       "      <td>31144690</td>\n",
       "      <td>IndiGO</td>\n",
       "      <td>저스디스 (JUSTHIS), Kid Milli, NO:EL, 양홍원</td>\n",
       "      <td>랩/힙합</td>\n",
       "      <td>NaN</td>\n",
       "      <td>2018.06.24</td>\n",
       "    </tr>\n",
       "    <tr>\n",
       "      <th>213</th>\n",
       "      <td>31854689</td>\n",
       "      <td>BAND</td>\n",
       "      <td>창모 (CHANGMO), Hash Swan, ASH ISLAND, 김효은</td>\n",
       "      <td>랩/힙합</td>\n",
       "      <td>NaN</td>\n",
       "      <td>2019.06.08</td>\n",
       "    </tr>\n",
       "    <tr>\n",
       "      <th>433</th>\n",
       "      <td>30688501</td>\n",
       "      <td>노땡큐 (Feat. MINO, 사이먼 도미닉, 더콰이엇)</td>\n",
       "      <td>에픽하이 (EPIK HIGH)</td>\n",
       "      <td>랩/힙합</td>\n",
       "      <td>NaN</td>\n",
       "      <td>2017.10.23</td>\n",
       "    </tr>\n",
       "    <tr>\n",
       "      <th>511</th>\n",
       "      <td>31004548</td>\n",
       "      <td>탓 (Prod. BOYCOLD)</td>\n",
       "      <td>빈첸 (VINXEN)</td>\n",
       "      <td>랩/힙합</td>\n",
       "      <td>NaN</td>\n",
       "      <td>2018.04.07</td>\n",
       "    </tr>\n",
       "    <tr>\n",
       "      <th>744</th>\n",
       "      <td>8276708</td>\n",
       "      <td>마에스트로 (Maestro)</td>\n",
       "      <td>창모 (CHANGMO)</td>\n",
       "      <td>랩/힙합</td>\n",
       "      <td>NaN</td>\n",
       "      <td>2016.07.21</td>\n",
       "    </tr>\n",
       "    <tr>\n",
       "      <th>...</th>\n",
       "      <td>...</td>\n",
       "      <td>...</td>\n",
       "      <td>...</td>\n",
       "      <td>...</td>\n",
       "      <td>...</td>\n",
       "      <td>...</td>\n",
       "    </tr>\n",
       "    <tr>\n",
       "      <th>7592</th>\n",
       "      <td>2975256</td>\n",
       "      <td>결혼 행진곡</td>\n",
       "      <td>Felix Mendelssohn</td>\n",
       "      <td>클래식</td>\n",
       "      <td>NaN</td>\n",
       "      <td>2000.06</td>\n",
       "    </tr>\n",
       "    <tr>\n",
       "      <th>7597</th>\n",
       "      <td>3454850</td>\n",
       "      <td>Age Of Peace</td>\n",
       "      <td>H.O.T.</td>\n",
       "      <td>국내영화</td>\n",
       "      <td>NaN</td>\n",
       "      <td>2010.07.15</td>\n",
       "    </tr>\n",
       "    <tr>\n",
       "      <th>7608</th>\n",
       "      <td>2962491</td>\n",
       "      <td>Hey Girl</td>\n",
       "      <td>NaN</td>\n",
       "      <td>NaN</td>\n",
       "      <td>NaN</td>\n",
       "      <td>NaN</td>\n",
       "    </tr>\n",
       "    <tr>\n",
       "      <th>7611</th>\n",
       "      <td>1706205</td>\n",
       "      <td>파리넬리 - 울게하소서</td>\n",
       "      <td>조관우</td>\n",
       "      <td>발라드</td>\n",
       "      <td>NaN</td>\n",
       "      <td>2000.06</td>\n",
       "    </tr>\n",
       "    <tr>\n",
       "      <th>7632</th>\n",
       "      <td>87908</td>\n",
       "      <td>나만의 사랑 ~ Just My Love ~</td>\n",
       "      <td>김원준</td>\n",
       "      <td>발라드, 댄스</td>\n",
       "      <td>NaN</td>\n",
       "      <td>2000.06.20</td>\n",
       "    </tr>\n",
       "  </tbody>\n",
       "</table>\n",
       "<p>154 rows × 6 columns</p>\n",
       "</div>"
      ],
      "text/plain": [
       "          code                             name  \\\n",
       "47    31144690                           IndiGO   \n",
       "213   31854689                             BAND   \n",
       "433   30688501  노땡큐 (Feat. MINO, 사이먼 도미닉, 더콰이엇)   \n",
       "511   31004548                탓 (Prod. BOYCOLD)   \n",
       "744    8276708                  마에스트로 (Maestro)   \n",
       "...        ...                              ...   \n",
       "7592   2975256                           결혼 행진곡   \n",
       "7597   3454850                     Age Of Peace   \n",
       "7608   2962491                         Hey Girl   \n",
       "7611   1706205                     파리넬리 - 울게하소서   \n",
       "7632     87908          나만의 사랑 ~ Just My Love ~   \n",
       "\n",
       "                                        artist    genre lyric        date  \n",
       "47       저스디스 (JUSTHIS), Kid Milli, NO:EL, 양홍원     랩/힙합   NaN  2018.06.24  \n",
       "213   창모 (CHANGMO), Hash Swan, ASH ISLAND, 김효은     랩/힙합   NaN  2019.06.08  \n",
       "433                           에픽하이 (EPIK HIGH)     랩/힙합   NaN  2017.10.23  \n",
       "511                                빈첸 (VINXEN)     랩/힙합   NaN  2018.04.07  \n",
       "744                               창모 (CHANGMO)     랩/힙합   NaN  2016.07.21  \n",
       "...                                        ...      ...   ...         ...  \n",
       "7592                         Felix Mendelssohn      클래식   NaN     2000.06  \n",
       "7597                                    H.O.T.     국내영화   NaN  2010.07.15  \n",
       "7608                                       NaN      NaN   NaN         NaN  \n",
       "7611                                       조관우      발라드   NaN     2000.06  \n",
       "7632                                       김원준  발라드, 댄스   NaN  2000.06.20  \n",
       "\n",
       "[154 rows x 6 columns]"
      ]
     },
     "execution_count": 27,
     "metadata": {},
     "output_type": "execute_result"
    }
   ],
   "source": [
    "df[df['lyric'].isnull()] "
   ]
  },
  {
   "cell_type": "code",
   "execution_count": 28,
   "metadata": {
    "scrolled": true
   },
   "outputs": [],
   "source": [
    "df = df.dropna().reset_index(drop=True) ## 가사가 없는 곡은 이용할 수 없기 때문에 삭제한다"
   ]
  },
  {
   "cell_type": "code",
   "execution_count": 29,
   "metadata": {},
   "outputs": [
    {
     "data": {
      "text/html": [
       "<div>\n",
       "<style scoped>\n",
       "    .dataframe tbody tr th:only-of-type {\n",
       "        vertical-align: middle;\n",
       "    }\n",
       "\n",
       "    .dataframe tbody tr th {\n",
       "        vertical-align: top;\n",
       "    }\n",
       "\n",
       "    .dataframe thead th {\n",
       "        text-align: right;\n",
       "    }\n",
       "</style>\n",
       "<table border=\"1\" class=\"dataframe\">\n",
       "  <thead>\n",
       "    <tr style=\"text-align: right;\">\n",
       "      <th></th>\n",
       "      <th>code</th>\n",
       "      <th>name</th>\n",
       "      <th>artist</th>\n",
       "      <th>genre</th>\n",
       "      <th>lyric</th>\n",
       "      <th>date</th>\n",
       "    </tr>\n",
       "  </thead>\n",
       "  <tbody>\n",
       "    <tr>\n",
       "      <th>0</th>\n",
       "      <td>31532643</td>\n",
       "      <td>넘쳐흘러</td>\n",
       "      <td>엠씨더맥스 (M.C the MAX)</td>\n",
       "      <td>발라드</td>\n",
       "      <td>나는 그대를 뒤로한 채로우리 사랑을 놓아요차오르는 추억을 헝클어뜨려모두 일어나지 않...</td>\n",
       "      <td>2019.01.02</td>\n",
       "    </tr>\n",
       "    <tr>\n",
       "      <th>1</th>\n",
       "      <td>31532438</td>\n",
       "      <td>벌써 12시</td>\n",
       "      <td>청하</td>\n",
       "      <td>댄스</td>\n",
       "      <td>Yeah I like it네가 말을 놓는 것도Like it 너의 작은 말투도나쁘지 ...</td>\n",
       "      <td>2019.01.02</td>\n",
       "    </tr>\n",
       "    <tr>\n",
       "      <th>2</th>\n",
       "      <td>31477685</td>\n",
       "      <td>180도</td>\n",
       "      <td>벤</td>\n",
       "      <td>발라드</td>\n",
       "      <td>사랑 다 비슷해 그래 다 비슷해너는 다르길 바랐는데넌 뭐가 미안해 왜 맨날 미안해헤...</td>\n",
       "      <td>2018.12.07</td>\n",
       "    </tr>\n",
       "    <tr>\n",
       "      <th>3</th>\n",
       "      <td>31406357</td>\n",
       "      <td>신용재</td>\n",
       "      <td>하은</td>\n",
       "      <td>발라드</td>\n",
       "      <td>매일 같은 옷을 입는 이유 너와 함께 입던 옷이라서혹시 어디선가 알아보고 날 찾아줄...</td>\n",
       "      <td>2018.11.06</td>\n",
       "    </tr>\n",
       "    <tr>\n",
       "      <th>4</th>\n",
       "      <td>31417871</td>\n",
       "      <td>SOLO</td>\n",
       "      <td>제니 (JENNIE)</td>\n",
       "      <td>랩/힙합</td>\n",
       "      <td>천진난만 청순가련새침한 척 이젠 지쳐 나귀찮아매일 뭐 해 어디야 밥은 잘 자Baby...</td>\n",
       "      <td>2018.11.12</td>\n",
       "    </tr>\n",
       "    <tr>\n",
       "      <th>...</th>\n",
       "      <td>...</td>\n",
       "      <td>...</td>\n",
       "      <td>...</td>\n",
       "      <td>...</td>\n",
       "      <td>...</td>\n",
       "      <td>...</td>\n",
       "    </tr>\n",
       "    <tr>\n",
       "      <th>7601</th>\n",
       "      <td>32620704</td>\n",
       "      <td>Poppin'</td>\n",
       "      <td>백현 (BAEKHYUN)</td>\n",
       "      <td>R&amp;B/Soul</td>\n",
       "      <td>너는 들을수록자꾸 좋아지는 노래보고 또 봐도 귀여운사랑스런 영화 같은데커플들의 클리...</td>\n",
       "      <td>2020.05.25</td>\n",
       "    </tr>\n",
       "    <tr>\n",
       "      <th>7602</th>\n",
       "      <td>32620703</td>\n",
       "      <td>Underwater</td>\n",
       "      <td>백현 (BAEKHYUN)</td>\n",
       "      <td>R&amp;B/Soul</td>\n",
       "      <td>귀찮게 또 울린 phone잠깐 airplane mode불 꺼진 방에 홀로 눈 감은 ...</td>\n",
       "      <td>2020.05.25</td>\n",
       "    </tr>\n",
       "    <tr>\n",
       "      <th>7603</th>\n",
       "      <td>32665408</td>\n",
       "      <td>작사가</td>\n",
       "      <td>헤이즈 (Heize)</td>\n",
       "      <td>R&amp;B/Soul</td>\n",
       "      <td>천사와 악마가 내 손끝에 웃어도 울어도 가사를 적네 종이가 다 젖어도 나는 멈추지 ...</td>\n",
       "      <td>2020.06.10</td>\n",
       "    </tr>\n",
       "    <tr>\n",
       "      <th>7604</th>\n",
       "      <td>32620701</td>\n",
       "      <td>R U Ridin'?</td>\n",
       "      <td>백현 (BAEKHYUN)</td>\n",
       "      <td>R&amp;B/Soul</td>\n",
       "      <td>가볍게 널 스치는 바람이 좋아 보여그 표정을 읽을 수는 없는데크게 튼 음악 볼륨 속...</td>\n",
       "      <td>2020.05.25</td>\n",
       "    </tr>\n",
       "    <tr>\n",
       "      <th>7605</th>\n",
       "      <td>32620705</td>\n",
       "      <td>Ghost</td>\n",
       "      <td>백현 (BAEKHYUN)</td>\n",
       "      <td>R&amp;B/Soul</td>\n",
       "      <td>넌 고요한 정적이 감싸면 꿈속에가둬 날 깊숙이 더욱 깊숙이또 가만히 밀려와 잔잔한 ...</td>\n",
       "      <td>2020.05.25</td>\n",
       "    </tr>\n",
       "  </tbody>\n",
       "</table>\n",
       "<p>7606 rows × 6 columns</p>\n",
       "</div>"
      ],
      "text/plain": [
       "          code         name               artist     genre  \\\n",
       "0     31532643         넘쳐흘러  엠씨더맥스 (M.C the MAX)       발라드   \n",
       "1     31532438       벌써 12시                   청하        댄스   \n",
       "2     31477685         180도                    벤       발라드   \n",
       "3     31406357          신용재                   하은       발라드   \n",
       "4     31417871         SOLO          제니 (JENNIE)      랩/힙합   \n",
       "...        ...          ...                  ...       ...   \n",
       "7601  32620704      Poppin'        백현 (BAEKHYUN)  R&B/Soul   \n",
       "7602  32620703   Underwater        백현 (BAEKHYUN)  R&B/Soul   \n",
       "7603  32665408          작사가          헤이즈 (Heize)  R&B/Soul   \n",
       "7604  32620701  R U Ridin'?        백현 (BAEKHYUN)  R&B/Soul   \n",
       "7605  32620705        Ghost        백현 (BAEKHYUN)  R&B/Soul   \n",
       "\n",
       "                                                  lyric        date  \n",
       "0     나는 그대를 뒤로한 채로우리 사랑을 놓아요차오르는 추억을 헝클어뜨려모두 일어나지 않...  2019.01.02  \n",
       "1     Yeah I like it네가 말을 놓는 것도Like it 너의 작은 말투도나쁘지 ...  2019.01.02  \n",
       "2     사랑 다 비슷해 그래 다 비슷해너는 다르길 바랐는데넌 뭐가 미안해 왜 맨날 미안해헤...  2018.12.07  \n",
       "3     매일 같은 옷을 입는 이유 너와 함께 입던 옷이라서혹시 어디선가 알아보고 날 찾아줄...  2018.11.06  \n",
       "4     천진난만 청순가련새침한 척 이젠 지쳐 나귀찮아매일 뭐 해 어디야 밥은 잘 자Baby...  2018.11.12  \n",
       "...                                                 ...         ...  \n",
       "7601  너는 들을수록자꾸 좋아지는 노래보고 또 봐도 귀여운사랑스런 영화 같은데커플들의 클리...  2020.05.25  \n",
       "7602  귀찮게 또 울린 phone잠깐 airplane mode불 꺼진 방에 홀로 눈 감은 ...  2020.05.25  \n",
       "7603  천사와 악마가 내 손끝에 웃어도 울어도 가사를 적네 종이가 다 젖어도 나는 멈추지 ...  2020.06.10  \n",
       "7604  가볍게 널 스치는 바람이 좋아 보여그 표정을 읽을 수는 없는데크게 튼 음악 볼륨 속...  2020.05.25  \n",
       "7605  넌 고요한 정적이 감싸면 꿈속에가둬 날 깊숙이 더욱 깊숙이또 가만히 밀려와 잔잔한 ...  2020.05.25  \n",
       "\n",
       "[7606 rows x 6 columns]"
      ]
     },
     "execution_count": 29,
     "metadata": {},
     "output_type": "execute_result"
    }
   ],
   "source": [
    "df"
   ]
  },
  {
   "cell_type": "code",
   "execution_count": 30,
   "metadata": {},
   "outputs": [],
   "source": [
    "##가사 데이터 전처리"
   ]
  },
  {
   "cell_type": "code",
   "execution_count": 31,
   "metadata": {},
   "outputs": [],
   "source": [
    "##토큰화"
   ]
  },
  {
   "cell_type": "code",
   "execution_count": 32,
   "metadata": {},
   "outputs": [],
   "source": [
    "from konlpy.tag import Okt, Komoran, Mecab, Hannanum, Kkma\n",
    "from konlpy.utils import pprint\n",
    "def get_tokenizer(tokenizer_name):\n",
    "    if tokenizer_name == \"komoran\":\n",
    "        tokenizer = Komoran()\n",
    "    elif tokenizer_name == \"okt\":\n",
    "        tokenizer = Okt()\n",
    "    elif tokenizer_name == \"mecab\":\n",
    "        tokenizer = Mecab()\n",
    "    elif tokenizer_name == \"hannanum\":\n",
    "        tokenizer = Hannanum()\n",
    "    elif tokenizer_name == \"kkma\":\n",
    "        tokenizer = Kkma()\n",
    "    elif tokenizer_name == \"khaiii\":\n",
    "        tokenizer = KhaiiiApi()\n",
    "    else:\n",
    "        tokenizer = Mecab()\n",
    "    return tokenizer"
   ]
  },
  {
   "cell_type": "code",
   "execution_count": 33,
   "metadata": {},
   "outputs": [],
   "source": [
    "##성능비교"
   ]
  },
  {
   "cell_type": "code",
   "execution_count": 34,
   "metadata": {},
   "outputs": [],
   "source": [
    "## OKt 사용\n",
    "tokenizer = get_tokenizer(\"okt\")"
   ]
  },
  {
   "cell_type": "code",
   "execution_count": 35,
   "metadata": {},
   "outputs": [
    {
     "data": {
      "text/plain": [
       "['나',\n",
       " '는',\n",
       " '그대',\n",
       " '를',\n",
       " '뒤',\n",
       " '로',\n",
       " '한',\n",
       " '채',\n",
       " '로',\n",
       " '우리',\n",
       " '사랑',\n",
       " '을',\n",
       " '놓다',\n",
       " '차오르다',\n",
       " '추억',\n",
       " '을',\n",
       " '헝클어뜨리다',\n",
       " '모두',\n",
       " '일어나지',\n",
       " '않다',\n",
       " '일',\n",
       " '처럼',\n",
       " '고',\n",
       " '개다',\n",
       " '저',\n",
       " '어',\n",
       " '모르다',\n",
       " '꿈',\n",
       " '이라',\n",
       " '말',\n",
       " '하고',\n",
       " '있다',\n",
       " '남다',\n",
       " '모르다',\n",
       " '마음',\n",
       " '이나',\n",
       " '를',\n",
       " '향',\n",
       " '하다',\n",
       " '힘껏',\n",
       " '달다',\n",
       " '어느',\n",
       " '끝',\n",
       " '멈추다',\n",
       " '그',\n",
       " '거리',\n",
       " '에',\n",
       " '그대',\n",
       " '다',\n",
       " '찢기다',\n",
       " '버리다',\n",
       " '사이',\n",
       " '더',\n",
       " '기다',\n",
       " '보다',\n",
       " '다시',\n",
       " '그때',\n",
       " '로',\n",
       " '우리',\n",
       " '되돌리다',\n",
       " '놓다',\n",
       " '수',\n",
       " '없다',\n",
       " '그',\n",
       " '얘기',\n",
       " '날카롭다',\n",
       " '패인',\n",
       " '이',\n",
       " '상처',\n",
       " '가',\n",
       " '깊다',\n",
       " '수',\n",
       " '없다',\n",
       " '떠나가다',\n",
       " '떨구다',\n",
       " '눈물',\n",
       " '은',\n",
       " '가슴',\n",
       " '에',\n",
       " '담다',\n",
       " '이제',\n",
       " '더',\n",
       " '는',\n",
       " '채우다',\n",
       " '자리',\n",
       " '없이',\n",
       " '넘치다',\n",
       " '흐르다',\n",
       " '그대',\n",
       " '인지',\n",
       " '모르다',\n",
       " '얼굴',\n",
       " '이나',\n",
       " '를',\n",
       " '향',\n",
       " '하다',\n",
       " '웃음',\n",
       " '지',\n",
       " '어도',\n",
       " '손',\n",
       " '내미다',\n",
       " '수도',\n",
       " '없다',\n",
       " '거리',\n",
       " '에',\n",
       " '그대',\n",
       " '또',\n",
       " '주저앉다',\n",
       " '수',\n",
       " '밖에',\n",
       " '무너지다',\n",
       " '이',\n",
       " '사랑',\n",
       " '과',\n",
       " '그',\n",
       " '대의',\n",
       " '모든',\n",
       " '흔적',\n",
       " '을',\n",
       " '그립다',\n",
       " '일만이',\n",
       " '더',\n",
       " '하다',\n",
       " '게',\n",
       " '없다',\n",
       " '무력하다',\n",
       " '가다',\n",
       " '내',\n",
       " '가',\n",
       " '싫다',\n",
       " '그대',\n",
       " '를',\n",
       " '보내다',\n",
       " '싫다',\n",
       " '다',\n",
       " '찢기다',\n",
       " '버리다',\n",
       " '사이',\n",
       " '더',\n",
       " '기다',\n",
       " '보다',\n",
       " '다시',\n",
       " '그때',\n",
       " '로',\n",
       " '우릴',\n",
       " '되돌리다',\n",
       " '수',\n",
       " '없다',\n",
       " '그',\n",
       " '얘기',\n",
       " '날카롭다',\n",
       " '패인',\n",
       " '이',\n",
       " '상처',\n",
       " '가',\n",
       " '깊다',\n",
       " '수',\n",
       " '없다',\n",
       " '떠나가다']"
      ]
     },
     "execution_count": 35,
     "metadata": {},
     "output_type": "execute_result"
    }
   ],
   "source": [
    "tokenizer.morphs(df.lyric[0],stem=True)"
   ]
  },
  {
   "cell_type": "code",
   "execution_count": 36,
   "metadata": {
    "scrolled": true
   },
   "outputs": [
    {
     "data": {
      "text/plain": [
       "2"
      ]
     },
     "execution_count": 36,
     "metadata": {},
     "output_type": "execute_result"
    }
   ],
   "source": [
    "len(tokenizer.morphs(df.lyric[0])[2])"
   ]
  },
  {
   "cell_type": "code",
   "execution_count": 37,
   "metadata": {},
   "outputs": [],
   "source": [
    "## 정제(Cleaning) and 정규화(Normalization)"
   ]
  },
  {
   "cell_type": "code",
   "execution_count": 38,
   "metadata": {},
   "outputs": [],
   "source": [
    "# 한글 제외 문자 제거\n",
    "df.lyric=df.lyric.str.replace(\"[^ㄱ-ㅎㅏ-ㅣ가-힣 ]\",\"\")\n",
    "# 불용어 사전\n",
    "stopwords = list(pd.read_csv('./한국어불용어100.txt',encoding='utf-8').iloc[:,0].str.replace(\"[^ㄱ-ㅎㅏ-ㅣ가-힣 ]\",\"\"))"
   ]
  },
  {
   "cell_type": "code",
   "execution_count": 39,
   "metadata": {},
   "outputs": [],
   "source": [
    "# stopwords"
   ]
  },
  {
   "cell_type": "code",
   "execution_count": 40,
   "metadata": {
    "scrolled": true
   },
   "outputs": [
    {
     "ename": "KeyboardInterrupt",
     "evalue": "",
     "output_type": "error",
     "traceback": [
      "\u001b[1;31m---------------------------------------------------------------------------\u001b[0m",
      "\u001b[1;31mKeyboardInterrupt\u001b[0m                         Traceback (most recent call last)",
      "\u001b[1;32m<ipython-input-40-46445220e59e>\u001b[0m in \u001b[0;36m<module>\u001b[1;34m\u001b[0m\n\u001b[0;32m      1\u001b[0m \u001b[0mtokendata\u001b[0m \u001b[1;33m=\u001b[0m \u001b[1;33m[\u001b[0m\u001b[1;33m]\u001b[0m\u001b[1;33m\u001b[0m\u001b[1;33m\u001b[0m\u001b[0m\n\u001b[0;32m      2\u001b[0m \u001b[1;32mfor\u001b[0m \u001b[0msentence\u001b[0m \u001b[1;32min\u001b[0m \u001b[0mdf\u001b[0m\u001b[1;33m.\u001b[0m\u001b[0mlyric\u001b[0m\u001b[1;33m:\u001b[0m\u001b[1;33m\u001b[0m\u001b[1;33m\u001b[0m\u001b[0m\n\u001b[1;32m----> 3\u001b[1;33m     \u001b[0mtoken\u001b[0m \u001b[1;33m=\u001b[0m \u001b[0mtokenizer\u001b[0m\u001b[1;33m.\u001b[0m\u001b[0mmorphs\u001b[0m\u001b[1;33m(\u001b[0m\u001b[0msentence\u001b[0m\u001b[1;33m,\u001b[0m \u001b[0mstem\u001b[0m\u001b[1;33m=\u001b[0m\u001b[1;32mTrue\u001b[0m\u001b[1;33m)\u001b[0m \u001b[1;31m# 토큰화\u001b[0m\u001b[1;33m\u001b[0m\u001b[1;33m\u001b[0m\u001b[0m\n\u001b[0m\u001b[0;32m      4\u001b[0m     \u001b[0mtoken\u001b[0m \u001b[1;33m=\u001b[0m \u001b[1;33m[\u001b[0m\u001b[0mword\u001b[0m \u001b[1;32mfor\u001b[0m \u001b[0mword\u001b[0m \u001b[1;32min\u001b[0m \u001b[0mtoken\u001b[0m \u001b[1;32mif\u001b[0m \u001b[0mword\u001b[0m \u001b[1;32mnot\u001b[0m \u001b[1;32min\u001b[0m \u001b[0mstopwords\u001b[0m \u001b[1;32mand\u001b[0m \u001b[0mlen\u001b[0m\u001b[1;33m(\u001b[0m\u001b[0mword\u001b[0m\u001b[1;33m)\u001b[0m\u001b[1;33m>\u001b[0m\u001b[1;36m1\u001b[0m\u001b[1;33m]\u001b[0m \u001b[1;31m# 불용어 제거\u001b[0m\u001b[1;33m\u001b[0m\u001b[1;33m\u001b[0m\u001b[0m\n\u001b[0;32m      5\u001b[0m     \u001b[0mtokendata\u001b[0m\u001b[1;33m.\u001b[0m\u001b[0mappend\u001b[0m\u001b[1;33m(\u001b[0m\u001b[0mtoken\u001b[0m\u001b[1;33m)\u001b[0m\u001b[1;33m\u001b[0m\u001b[1;33m\u001b[0m\u001b[0m\n",
      "\u001b[1;32m~\\anaconda3\\lib\\site-packages\\konlpy\\tag\\_okt.py\u001b[0m in \u001b[0;36mmorphs\u001b[1;34m(self, phrase, norm, stem)\u001b[0m\n\u001b[0;32m     76\u001b[0m         \u001b[1;34m\"\"\"Parse phrase to morphemes.\"\"\"\u001b[0m\u001b[1;33m\u001b[0m\u001b[1;33m\u001b[0m\u001b[0m\n\u001b[0;32m     77\u001b[0m \u001b[1;33m\u001b[0m\u001b[0m\n\u001b[1;32m---> 78\u001b[1;33m         \u001b[1;32mreturn\u001b[0m \u001b[1;33m[\u001b[0m\u001b[0ms\u001b[0m \u001b[1;32mfor\u001b[0m \u001b[0ms\u001b[0m\u001b[1;33m,\u001b[0m \u001b[0mt\u001b[0m \u001b[1;32min\u001b[0m \u001b[0mself\u001b[0m\u001b[1;33m.\u001b[0m\u001b[0mpos\u001b[0m\u001b[1;33m(\u001b[0m\u001b[0mphrase\u001b[0m\u001b[1;33m,\u001b[0m \u001b[0mnorm\u001b[0m\u001b[1;33m=\u001b[0m\u001b[0mnorm\u001b[0m\u001b[1;33m,\u001b[0m \u001b[0mstem\u001b[0m\u001b[1;33m=\u001b[0m\u001b[0mstem\u001b[0m\u001b[1;33m)\u001b[0m\u001b[1;33m]\u001b[0m\u001b[1;33m\u001b[0m\u001b[1;33m\u001b[0m\u001b[0m\n\u001b[0m\u001b[0;32m     79\u001b[0m \u001b[1;33m\u001b[0m\u001b[0m\n\u001b[0;32m     80\u001b[0m     \u001b[1;32mdef\u001b[0m \u001b[0mphrases\u001b[0m\u001b[1;33m(\u001b[0m\u001b[0mself\u001b[0m\u001b[1;33m,\u001b[0m \u001b[0mphrase\u001b[0m\u001b[1;33m)\u001b[0m\u001b[1;33m:\u001b[0m\u001b[1;33m\u001b[0m\u001b[1;33m\u001b[0m\u001b[0m\n",
      "\u001b[1;32m~\\anaconda3\\lib\\site-packages\\konlpy\\tag\\_okt.py\u001b[0m in \u001b[0;36mpos\u001b[1;34m(self, phrase, norm, stem, join)\u001b[0m\n\u001b[0;32m     61\u001b[0m                     \u001b[0mphrase\u001b[0m\u001b[1;33m,\u001b[0m\u001b[1;33m\u001b[0m\u001b[1;33m\u001b[0m\u001b[0m\n\u001b[0;32m     62\u001b[0m                     \u001b[0mjpype\u001b[0m\u001b[1;33m.\u001b[0m\u001b[0mjava\u001b[0m\u001b[1;33m.\u001b[0m\u001b[0mlang\u001b[0m\u001b[1;33m.\u001b[0m\u001b[0mBoolean\u001b[0m\u001b[1;33m(\u001b[0m\u001b[0mnorm\u001b[0m\u001b[1;33m)\u001b[0m\u001b[1;33m,\u001b[0m\u001b[1;33m\u001b[0m\u001b[1;33m\u001b[0m\u001b[0m\n\u001b[1;32m---> 63\u001b[1;33m                     jpype.java.lang.Boolean(stem)).toArray()\n\u001b[0m\u001b[0;32m     64\u001b[0m         \u001b[1;32mif\u001b[0m \u001b[0mjoin\u001b[0m\u001b[1;33m:\u001b[0m\u001b[1;33m\u001b[0m\u001b[1;33m\u001b[0m\u001b[0m\n\u001b[0;32m     65\u001b[0m             \u001b[1;32mreturn\u001b[0m \u001b[1;33m[\u001b[0m\u001b[0mt\u001b[0m \u001b[1;32mfor\u001b[0m \u001b[0mt\u001b[0m \u001b[1;32min\u001b[0m \u001b[0mtokens\u001b[0m\u001b[1;33m]\u001b[0m\u001b[1;33m\u001b[0m\u001b[1;33m\u001b[0m\u001b[0m\n",
      "\u001b[1;31mKeyboardInterrupt\u001b[0m: "
     ]
    }
   ],
   "source": [
    "tokendata = []\n",
    "for sentence in df.lyric:\n",
    "    token = tokenizer.morphs(sentence, stem=True) # 토큰화\n",
    "    token = [word for word in token if word not in stopwords and len(word)>1] # 불용어 제거\n",
    "    tokendata.append(token)"
   ]
  },
  {
   "cell_type": "code",
   "execution_count": null,
   "metadata": {},
   "outputs": [],
   "source": [
    "tokendata.to_csv('tokendata.csv', header=False, index=False) # csv파일로 저장"
   ]
  },
  {
   "cell_type": "code",
   "execution_count": null,
   "metadata": {},
   "outputs": [],
   "source": [
    "%matplotlib inline\n",
    "# 가사 길이 분포 확인\n",
    "print('가사의 최대 길이 :',max(len(l) for l in tokendata))\n",
    "print('가사의 평균 길이 :',sum(map(len, tokendata))/len(tokendata))\n",
    "plt.hist([len(s) for s in tokendata], bins=50)\n",
    "plt.xlabel('length of samples')\n",
    "plt.ylabel('number of samples')\n",
    "plt.show()"
   ]
  },
  {
   "cell_type": "code",
   "execution_count": null,
   "metadata": {},
   "outputs": [],
   "source": [
    "## 단어중심의 임베딩 word2vec"
   ]
  },
  {
   "cell_type": "code",
   "execution_count": null,
   "metadata": {},
   "outputs": [],
   "source": [
    "from gensim.models import Word2Vec\n",
    "model = Word2Vec(sentences = tokendata, size = 100, window = 5, min_count = 5, workers = 4, sg = 0)"
   ]
  },
  {
   "cell_type": "code",
   "execution_count": null,
   "metadata": {},
   "outputs": [],
   "source": [
    "##모델저장\n",
    "from gensim.models import KeyedVectors\n",
    "model.wv.save_word2vec_format('musicword') # 모델 저장\n",
    "loaded_model = KeyedVectors.load_word2vec_format(\"musicword\") # 모델 로드"
   ]
  },
  {
   "cell_type": "code",
   "execution_count": null,
   "metadata": {
    "scrolled": true
   },
   "outputs": [],
   "source": [
    "model.wv.vectors.shape"
   ]
  },
  {
   "cell_type": "code",
   "execution_count": null,
   "metadata": {},
   "outputs": [],
   "source": [
    "model"
   ]
  },
  {
   "cell_type": "code",
   "execution_count": null,
   "metadata": {
    "scrolled": false
   },
   "outputs": [],
   "source": [
    "loaded_model"
   ]
  },
  {
   "cell_type": "code",
   "execution_count": null,
   "metadata": {
    "scrolled": true
   },
   "outputs": [],
   "source": [
    "model.wv.most_similar(\"희망\")"
   ]
  },
  {
   "cell_type": "markdown",
   "metadata": {},
   "source": [
    "## Word2Vec으로 벡터화 한 단어를 t-SNE 를 통해 시각화"
   ]
  },
  {
   "cell_type": "code",
   "execution_count": null,
   "metadata": {},
   "outputs": [],
   "source": [
    "from sklearn.manifold import TSNE\n",
    "import matplotlib as mpl\n",
    "import matplotlib.pyplot as plt\n",
    "import gensim \n",
    "import gensim.models as g"
   ]
  },
  {
   "cell_type": "code",
   "execution_count": null,
   "metadata": {},
   "outputs": [],
   "source": [
    "model.wv.vocab"
   ]
  },
  {
   "cell_type": "code",
   "execution_count": null,
   "metadata": {},
   "outputs": [],
   "source": [
    "# 그래프에서 마이너스 폰트 깨지는 문제에 대한 대처\n",
    "mpl.rcParams['axes.unicode_minus'] = False\n",
    "\n",
    "vocab = list(model.wv.vocab)\n",
    "X = model[vocab]\n",
    "\n",
    "print(len(X))\n",
    "print(X[0][:10])\n",
    "tsne = TSNE(n_components=2)\n",
    "X_tsne = tsne.fit_transform(X[:200,:])"
   ]
  },
  {
   "cell_type": "code",
   "execution_count": null,
   "metadata": {},
   "outputs": [],
   "source": [
    "df = pd.DataFrame(X_tsne, index=vocab[:200], columns=['x', 'y'])\n",
    "df.shape"
   ]
  },
  {
   "cell_type": "code",
   "execution_count": null,
   "metadata": {},
   "outputs": [],
   "source": [
    "df"
   ]
  },
  {
   "cell_type": "code",
   "execution_count": null,
   "metadata": {},
   "outputs": [],
   "source": [
    "fig = plt.figure()\n",
    "fig.set_size_inches(40, 20)\n",
    "ax = fig.add_subplot(1, 1, 1)\n",
    "\n",
    "ax.scatter(df['x'], df['y'])\n",
    "\n",
    "for word, pos in df.iterrows():\n",
    "    ax.annotate(word, pos, fontsize=30)\n",
    "plt.show()"
   ]
  },
  {
   "cell_type": "code",
   "execution_count": null,
   "metadata": {},
   "outputs": [],
   "source": [
    "# 유사도로 추천하기"
   ]
  },
  {
   "cell_type": "code",
   "execution_count": 68,
   "metadata": {},
   "outputs": [],
   "source": [
    "## 노래제목을 적으면 거기에 맞는 토픽에 따른 노래추천"
   ]
  },
  {
   "cell_type": "code",
   "execution_count": null,
   "metadata": {},
   "outputs": [],
   "source": [
    "## 노래에 맞는 키워드 토픽 모델링"
   ]
  },
  {
   "cell_type": "code",
   "execution_count": null,
   "metadata": {},
   "outputs": [],
   "source": [
    "## 키워드를 적으면 텍스트 유사도에 기반한 노래추천"
   ]
  },
  {
   "cell_type": "code",
   "execution_count": null,
   "metadata": {},
   "outputs": [],
   "source": [
    "## 키워드와 유사한 단어들을 문장으로 구성 그 문장과 연관성이있는 가사 추천"
   ]
  },
  {
   "cell_type": "code",
   "execution_count": null,
   "metadata": {},
   "outputs": [],
   "source": []
  },
  {
   "cell_type": "code",
   "execution_count": null,
   "metadata": {},
   "outputs": [],
   "source": []
  },
  {
   "cell_type": "code",
   "execution_count": null,
   "metadata": {},
   "outputs": [],
   "source": []
  },
  {
   "cell_type": "code",
   "execution_count": 38,
   "metadata": {},
   "outputs": [],
   "source": [
    "## 문장중심의 임베딩 elmo, bert"
   ]
  },
  {
   "cell_type": "code",
   "execution_count": null,
   "metadata": {},
   "outputs": [],
   "source": []
  }
 ],
 "metadata": {
  "kernelspec": {
   "display_name": "Python 3",
   "language": "python",
   "name": "python3"
  },
  "language_info": {
   "codemirror_mode": {
    "name": "ipython",
    "version": 3
   },
   "file_extension": ".py",
   "mimetype": "text/x-python",
   "name": "python",
   "nbconvert_exporter": "python",
   "pygments_lexer": "ipython3",
   "version": "3.7.6"
  }
 },
 "nbformat": 4,
 "nbformat_minor": 4
}
