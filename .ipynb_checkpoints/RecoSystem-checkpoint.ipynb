{
 "cells": [
  {
   "cell_type": "markdown",
   "metadata": {},
   "source": [
    "# 감성분석 기반 음악 추천 시스템"
   ]
  },
  {
   "cell_type": "markdown",
   "metadata": {},
   "source": [
    "## 멜론 음원사이트 - 곡 장르, 가사, 리뷰정보 2000년~2020년 월간 top100 정보 가져오기"
   ]
  },
  {
   "cell_type": "markdown",
   "metadata": {},
   "source": [
    "### 필요한 라이브러리 호출"
   ]
  },
  {
   "cell_type": "code",
   "execution_count": 1,
   "metadata": {},
   "outputs": [],
   "source": [
    "import pandas as pd\n",
    "import numpy as np\n",
    "from tqdm.notebook import tqdm\n",
    "import time\n",
    "from bs4 import BeautifulSoup\n",
    "import urllib.request\n",
    "import urllib.parse\n",
    "import requests"
   ]
  },
  {
   "cell_type": "markdown",
   "metadata": {},
   "source": [
    "#### 드라이버 설정"
   ]
  },
  {
   "cell_type": "code",
   "execution_count": 3,
   "metadata": {},
   "outputs": [],
   "source": [
    "from selenium import webdriver\n",
    "options = webdriver.ChromeOptions()\n",
    "options.add_argument('headless')    # 웹 브라우저를 띄우지 않는 headless chrome 옵션 적용\n",
    "options.add_argument('disable-gpu')    # GPU 사용 안함\n",
    "options.add_argument('lang=ko_KR')    # 언어 설정\n",
    "driver = webdriver.Chrome('./chromedriver.exe', options=options) #  옵션 적용"
   ]
  },
  {
   "cell_type": "markdown",
   "metadata": {},
   "source": [
    "### 2000년~2019년 top100차트 가져오기"
   ]
  },
  {
   "cell_type": "code",
   "execution_count": 4,
   "metadata": {
    "scrolled": true
   },
   "outputs": [],
   "source": [
    "# ## 2000 ~ 2019년\n",
    "# # from \n",
    "# rankDATE=[]\n",
    "# name=[]\n",
    "# code=[]\n",
    "# from tqdm.notebook import tqdm\n",
    "# import time\n",
    "# from bs4 import BeautifulSoup\n",
    "# # 홈페이지 접속\n",
    "# options = webdriver.ChromeOptions()\n",
    "# options.add_argument('headless')    # 웹 브라우저를 띄우지 않는 headless chrome 옵션 적용\n",
    "# options.add_argument('disable-gpu')    # GPU 사용 안함\n",
    "# options.add_argument('lang=ko_KR')    # 언어 설정\n",
    "# driver = webdriver.Chrome('../chromedriver.exe', options=options) #  옵션 적용\n",
    "# driver.get('https://www.melon.com/chart/month/index.htm')\n",
    "# driver.find_element_by_xpath('//*[@id=\"conts\"]/div[3]/div/button').click()\n",
    "# driver.find_element_by_xpath('//*[@id=\"conts\"]/div[3]/div/div/dl/dd[2]/a').click()\n",
    "# driver.find_element_by_xpath('//*[@id=\"d_chart_search\"]/div/h4[2]/a').click()# 월별 차트 클릭\n",
    "# time.sleep(5)\n",
    "# for i in tqdm(range(2,4)):\n",
    "#     element = driver.find_element_by_xpath('//*[@id=\"decade_{}\"]'.format(str(i))) #년대 선택\n",
    "#     driver.execute_script(\"arguments[0].click();\", element) \n",
    "#     for j in tqdm(range(1,11)):\n",
    "#         element2 = driver.find_element_by_xpath('//*[@id=\"year_{}\"]'.format(str(j))) # 년도 선택\n",
    "#         driver.execute_script(\"arguments[0].click();\", element2) \n",
    "#         for k in tqdm(range(1,13)):\n",
    "#             element3 = driver.find_element_by_xpath('//*[@id=\"month_{}\"]'.format(str(k))) # 월 선택\n",
    "#             driver.execute_script(\"arguments[0].click();\", element3)\n",
    "#             time.sleep(5)\n",
    "#             if (i==3 and (j in range(6,11)) ):##2004년까지\n",
    "#                 element4 = driver.find_element_by_xpath('//*[@id=\"gnr_1\"]')  # 장르 선택\n",
    "#                 driver.execute_script(\"arguments[0].click();\", element4)\n",
    "#                 time.sleep(5)\n",
    "#                 driver.find_element_by_xpath('//*[@id=\"d_srch_form\"]/div[2]/button').click()\n",
    "#                 time.sleep(5)\n",
    "#                 html = driver.page_source\n",
    "#                 soup = BeautifulSoup(html, 'html.parser')\n",
    "#                 for l in soup.find_all('input',{'name':\"input_check\"}):\n",
    "#                     name.append(l.get('title')[:-5])\n",
    "#                     code.append(l.get('value'))       \n",
    "#             else :  # 2005년 ~2019년 12월\n",
    "#                 element5 = driver.find_element_by_xpath('//*[@id=\"gnr_2\"]')\n",
    "#                 time.sleep(5)\n",
    "#                 driver.execute_script(\"arguments[0].click();\", element5) # 장르 선택\n",
    "#                 time.sleep(5)\n",
    "#                 driver.find_element_by_xpath('//*[@id=\"d_srch_form\"]/div[2]/button').click()\n",
    "#                 html = driver.page_source\n",
    "#                 soup = BeautifulSoup(html, 'html.parser')\n",
    "#                 for l in soup.find_all('input',{'name':\"input_check\"}):\n",
    "#                     name.append(l.get('title')[:-5])\n",
    "#                     code.append(l.get('value'))\n",
    "#                     rankDATE.append('20{}{}년 {}월'.format((3-i),(10-j),k))\n",
    "               "
   ]
  },
  {
   "cell_type": "markdown",
   "metadata": {},
   "source": [
    "### 2020년 top100차트 가져오기"
   ]
  },
  {
   "cell_type": "code",
   "execution_count": 5,
   "metadata": {},
   "outputs": [],
   "source": [
    "# ##2020년\n",
    "# # 홈페이지 접속\n",
    "# # options = webdriver.ChromeOptions()\n",
    "# # options.add_argument('headless')    # 웹 브라우저를 띄우지 않는 headless chrome 옵션 적용\n",
    "# # options.add_argument('disable-gpu')    # GPU 사용 안함\n",
    "# # options.add_argument('lang=ko_KR')    # 언어 설정\n",
    "# name2=[]\n",
    "# code2=[]\n",
    "# date=[]\n",
    "# driver = webdriver.Chrome('../chromedriver.exe') #  옵션 적용\n",
    "# driver.get('https://www.melon.com/chart/month/index.htm')\n",
    "# driver.find_element_by_xpath('//*[@id=\"conts\"]/div[3]/div/button').click()\n",
    "# driver.find_element_by_xpath('//*[@id=\"conts\"]/div[3]/div/div/dl/dd[2]/a').click()\n",
    "# driver.find_element_by_xpath('//*[@id=\"d_chart_search\"]/div/h4[2]/a').click()# 월별 차트 클릭\n",
    "# time.sleep(1)\n",
    "# element = driver.find_element_by_xpath('//*[@id=\"decade_1\"]') #년대 선택\n",
    "# driver.execute_script(\"arguments[0].click();\", element) \n",
    "# time.sleep(3)\n",
    "# element2 = driver.find_element_by_xpath('/html/body/div/div[3]/div/div/form/div[1]/div/div/div[2]/div[1]/ul/li/span/input') # 년도 선택\n",
    "# driver.execute_script(\"arguments[0].click();\", element2) \n",
    "\n",
    "# for k in tqdm(range(1,8)):\n",
    "#             element3 = driver.find_element_by_xpath('//*[@id=\"month_{}\"]'.format(str(k))) # 월 선택\n",
    "#             driver.execute_script(\"arguments[0].click();\", element3)\n",
    "#             time.sleep(1)\n",
    "#             element4 = driver.find_element_by_xpath('//*[@id=\"gnr_2\"]')  # 장르 선택\n",
    "#             time.sleep(1)\n",
    "#             driver.execute_script(\"arguments[0].click();\", element4)\n",
    "#             driver.find_element_by_xpath('//*[@id=\"d_srch_form\"]/div[2]/button').click()\n",
    "#             html = driver.page_source\n",
    "#             soup = BeautifulSoup(html, 'html.parser')\n",
    "#             for l in soup.find_all('input',{'name':\"input_check\"}):\n",
    "#                 name2.append(l.get('title')[:-5])\n",
    "#                 code2.append(l.get('value'))\n"
   ]
  },
  {
   "cell_type": "markdown",
   "metadata": {},
   "source": [
    "#### 2000~2019년 곡정보 + 2020년 곡 이름,코드 하나의 데이터프레임으로 합치기"
   ]
  },
  {
   "cell_type": "code",
   "execution_count": 7,
   "metadata": {
    "scrolled": true
   },
   "outputs": [],
   "source": [
    "# df = pd.DataFrame(name,code).reset_index()\n",
    "# df2 = pd.DataFrame(name2,code2).reset_index()\n",
    "# df3= pd.concat([df,df2])\n",
    "# df3.columns =['code','name']"
   ]
  },
  {
   "cell_type": "markdown",
   "metadata": {},
   "source": [
    "#### 2000년~2020년의 데이터 중복제거"
   ]
  },
  {
   "cell_type": "code",
   "execution_count": 9,
   "metadata": {
    "scrolled": true
   },
   "outputs": [],
   "source": [
    "# top100=df3.drop_duplicates(['code']).reset_index(drop=True)"
   ]
  },
  {
   "cell_type": "markdown",
   "metadata": {},
   "source": [
    "#### csv파일로 저장"
   ]
  },
  {
   "cell_type": "code",
   "execution_count": 321,
   "metadata": {},
   "outputs": [],
   "source": [
    "# df3.to_csv(\"곡이름코드원본.csv\",encoding='cp949',index=False)\n",
    "# top100.to_csv(\"곡이름코드.csv\",encoding='cp949',index=False)\n",
    "# df.to_csv(\"곡이름.csv\")"
   ]
  },
  {
   "cell_type": "code",
   "execution_count": 10,
   "metadata": {},
   "outputs": [
    {
     "data": {
      "text/html": [
       "<div>\n",
       "<style scoped>\n",
       "    .dataframe tbody tr th:only-of-type {\n",
       "        vertical-align: middle;\n",
       "    }\n",
       "\n",
       "    .dataframe tbody tr th {\n",
       "        vertical-align: top;\n",
       "    }\n",
       "\n",
       "    .dataframe thead th {\n",
       "        text-align: right;\n",
       "    }\n",
       "</style>\n",
       "<table border=\"1\" class=\"dataframe\">\n",
       "  <thead>\n",
       "    <tr style=\"text-align: right;\">\n",
       "      <th></th>\n",
       "      <th>code</th>\n",
       "      <th>name</th>\n",
       "    </tr>\n",
       "  </thead>\n",
       "  <tbody>\n",
       "    <tr>\n",
       "      <th>0</th>\n",
       "      <td>31532643</td>\n",
       "      <td>넘쳐흘러</td>\n",
       "    </tr>\n",
       "    <tr>\n",
       "      <th>1</th>\n",
       "      <td>31532438</td>\n",
       "      <td>벌써 12시</td>\n",
       "    </tr>\n",
       "    <tr>\n",
       "      <th>2</th>\n",
       "      <td>31477685</td>\n",
       "      <td>180도</td>\n",
       "    </tr>\n",
       "    <tr>\n",
       "      <th>3</th>\n",
       "      <td>31406357</td>\n",
       "      <td>신용재</td>\n",
       "    </tr>\n",
       "    <tr>\n",
       "      <th>4</th>\n",
       "      <td>31417871</td>\n",
       "      <td>SOLO</td>\n",
       "    </tr>\n",
       "    <tr>\n",
       "      <th>...</th>\n",
       "      <td>...</td>\n",
       "      <td>...</td>\n",
       "    </tr>\n",
       "    <tr>\n",
       "      <th>7755</th>\n",
       "      <td>32620704</td>\n",
       "      <td>Poppin'</td>\n",
       "    </tr>\n",
       "    <tr>\n",
       "      <th>7756</th>\n",
       "      <td>32620703</td>\n",
       "      <td>Underwater</td>\n",
       "    </tr>\n",
       "    <tr>\n",
       "      <th>7757</th>\n",
       "      <td>32665408</td>\n",
       "      <td>작사가</td>\n",
       "    </tr>\n",
       "    <tr>\n",
       "      <th>7758</th>\n",
       "      <td>32620701</td>\n",
       "      <td>R U Ridin'?</td>\n",
       "    </tr>\n",
       "    <tr>\n",
       "      <th>7759</th>\n",
       "      <td>32620705</td>\n",
       "      <td>Ghost</td>\n",
       "    </tr>\n",
       "  </tbody>\n",
       "</table>\n",
       "<p>7760 rows × 2 columns</p>\n",
       "</div>"
      ],
      "text/plain": [
       "          code         name\n",
       "0     31532643         넘쳐흘러\n",
       "1     31532438       벌써 12시\n",
       "2     31477685         180도\n",
       "3     31406357          신용재\n",
       "4     31417871         SOLO\n",
       "...        ...          ...\n",
       "7755  32620704      Poppin'\n",
       "7756  32620703   Underwater\n",
       "7757  32665408          작사가\n",
       "7758  32620701  R U Ridin'?\n",
       "7759  32620705        Ghost\n",
       "\n",
       "[7760 rows x 2 columns]"
      ]
     },
     "execution_count": 10,
     "metadata": {},
     "output_type": "execute_result"
    }
   ],
   "source": [
    "df = pd.read_csv(\"곡이름코드.csv\",encoding='cp949')\n",
    "df"
   ]
  },
  {
   "cell_type": "markdown",
   "metadata": {},
   "source": [
    "### 2000년~2020년의 곡이름에 대한 정보(가사, 가수,장르,댓글정보, 발매일) 가져오기"
   ]
  },
  {
   "cell_type": "code",
   "execution_count": 15,
   "metadata": {},
   "outputs": [
    {
     "name": "stdout",
     "output_type": "stream",
     "text": [
      "31532643\n",
      "31532438\n",
      "31477685\n"
     ]
    }
   ],
   "source": [
    "for i in df['code'][:3]:\n",
    "    print(i)"
   ]
  },
  {
   "cell_type": "code",
   "execution_count": 71,
   "metadata": {},
   "outputs": [
    {
     "data": {
      "text/plain": [
       "31144690"
      ]
     },
     "execution_count": 71,
     "metadata": {},
     "output_type": "execute_result"
    }
   ],
   "source": [
    "df['code'][47]"
   ]
  },
  {
   "cell_type": "code",
   "execution_count": 83,
   "metadata": {},
   "outputs": [
    {
     "name": "stdout",
     "output_type": "stream",
     "text": [
      "3331\n"
     ]
    }
   ],
   "source": [
    "if(soup.find('div',class_='artist').text[1:-1]):\n",
    "    print(3331)"
   ]
  },
  {
   "cell_type": "code",
   "execution_count": 81,
   "metadata": {},
   "outputs": [
    {
     "data": {
      "text/plain": [
       "'저스디스 (JUSTHIS), Kid Milli, NO:EL, 양홍원'"
      ]
     },
     "execution_count": 81,
     "metadata": {},
     "output_type": "execute_result"
    }
   ],
   "source": [
    "soup.find('div',class_='artist').text[1:-1]"
   ]
  },
  {
   "cell_type": "code",
   "execution_count": 186,
   "metadata": {},
   "outputs": [
    {
     "data": {
      "text/plain": [
       "7760"
      ]
     },
     "execution_count": 186,
     "metadata": {},
     "output_type": "execute_result"
    }
   ],
   "source": [
    "len(df)"
   ]
  },
  {
   "cell_type": "code",
   "execution_count": 190,
   "metadata": {},
   "outputs": [
    {
     "data": {
      "text/html": [
       "<div>\n",
       "<style scoped>\n",
       "    .dataframe tbody tr th:only-of-type {\n",
       "        vertical-align: middle;\n",
       "    }\n",
       "\n",
       "    .dataframe tbody tr th {\n",
       "        vertical-align: top;\n",
       "    }\n",
       "\n",
       "    .dataframe thead th {\n",
       "        text-align: right;\n",
       "    }\n",
       "</style>\n",
       "<table border=\"1\" class=\"dataframe\">\n",
       "  <thead>\n",
       "    <tr style=\"text-align: right;\">\n",
       "      <th></th>\n",
       "      <th>code</th>\n",
       "      <th>name</th>\n",
       "    </tr>\n",
       "  </thead>\n",
       "  <tbody>\n",
       "    <tr>\n",
       "      <th>6000</th>\n",
       "      <td>1267377</td>\n",
       "      <td>가능성 (Unplugged)</td>\n",
       "    </tr>\n",
       "    <tr>\n",
       "      <th>6001</th>\n",
       "      <td>1265756</td>\n",
       "      <td>가라</td>\n",
       "    </tr>\n",
       "    <tr>\n",
       "      <th>6002</th>\n",
       "      <td>1268553</td>\n",
       "      <td>사랑할 수 밖에 없었던</td>\n",
       "    </tr>\n",
       "    <tr>\n",
       "      <th>6003</th>\n",
       "      <td>1145090</td>\n",
       "      <td>I Wish</td>\n",
       "    </tr>\n",
       "    <tr>\n",
       "      <th>6004</th>\n",
       "      <td>1268247</td>\n",
       "      <td>아내에게</td>\n",
       "    </tr>\n",
       "    <tr>\n",
       "      <th>...</th>\n",
       "      <td>...</td>\n",
       "      <td>...</td>\n",
       "    </tr>\n",
       "    <tr>\n",
       "      <th>7755</th>\n",
       "      <td>32620704</td>\n",
       "      <td>Poppin'</td>\n",
       "    </tr>\n",
       "    <tr>\n",
       "      <th>7756</th>\n",
       "      <td>32620703</td>\n",
       "      <td>Underwater</td>\n",
       "    </tr>\n",
       "    <tr>\n",
       "      <th>7757</th>\n",
       "      <td>32665408</td>\n",
       "      <td>작사가</td>\n",
       "    </tr>\n",
       "    <tr>\n",
       "      <th>7758</th>\n",
       "      <td>32620701</td>\n",
       "      <td>R U Ridin'?</td>\n",
       "    </tr>\n",
       "    <tr>\n",
       "      <th>7759</th>\n",
       "      <td>32620705</td>\n",
       "      <td>Ghost</td>\n",
       "    </tr>\n",
       "  </tbody>\n",
       "</table>\n",
       "<p>1760 rows × 2 columns</p>\n",
       "</div>"
      ],
      "text/plain": [
       "          code             name\n",
       "6000   1267377  가능성 (Unplugged)\n",
       "6001   1265756               가라\n",
       "6002   1268553     사랑할 수 밖에 없었던\n",
       "6003   1145090           I Wish\n",
       "6004   1268247             아내에게\n",
       "...        ...              ...\n",
       "7755  32620704          Poppin'\n",
       "7756  32620703       Underwater\n",
       "7757  32665408              작사가\n",
       "7758  32620701      R U Ridin'?\n",
       "7759  32620705            Ghost\n",
       "\n",
       "[1760 rows x 2 columns]"
      ]
     },
     "execution_count": 190,
     "metadata": {},
     "output_type": "execute_result"
    }
   ],
   "source": [
    "df[6000:7760]"
   ]
  },
  {
   "cell_type": "code",
   "execution_count": 180,
   "metadata": {
    "scrolled": true
   },
   "outputs": [
    {
     "data": {
      "application/vnd.jupyter.widget-view+json": {
       "model_id": "38fefcbf9dbf412ab32166477c19e627",
       "version_major": 2,
       "version_minor": 0
      },
      "text/plain": [
       "HBox(children=(FloatProgress(value=0.0, max=1000.0), HTML(value='')))"
      ]
     },
     "metadata": {},
     "output_type": "display_data"
    },
    {
     "name": "stdout",
     "output_type": "stream",
     "text": [
      "\n"
     ]
    },
    {
     "ename": "HTTPError",
     "evalue": "HTTP Error 406: Not Acceptable",
     "output_type": "error",
     "traceback": [
      "\u001b[1;31m---------------------------------------------------------------------------\u001b[0m",
      "\u001b[1;31mHTTPError\u001b[0m                                 Traceback (most recent call last)",
      "\u001b[1;32m<ipython-input-180-fae6ba03c11c>\u001b[0m in \u001b[0;36m<module>\u001b[1;34m\u001b[0m\n\u001b[0;32m     18\u001b[0m     \u001b[0murl\u001b[0m\u001b[1;33m=\u001b[0m\u001b[1;34m'https://www.melon.com/song/detail.htm?songId={}'\u001b[0m\u001b[1;33m.\u001b[0m\u001b[0mformat\u001b[0m\u001b[1;33m(\u001b[0m\u001b[0mi\u001b[0m\u001b[1;33m)\u001b[0m\u001b[1;33m\u001b[0m\u001b[1;33m\u001b[0m\u001b[0m\n\u001b[0;32m     19\u001b[0m     \u001b[0mreq\u001b[0m \u001b[1;33m=\u001b[0m \u001b[0murllib\u001b[0m\u001b[1;33m.\u001b[0m\u001b[0mrequest\u001b[0m\u001b[1;33m.\u001b[0m\u001b[0mRequest\u001b[0m\u001b[1;33m(\u001b[0m\u001b[0murl\u001b[0m\u001b[1;33m,\u001b[0m \u001b[0mheaders\u001b[0m\u001b[1;33m=\u001b[0m\u001b[0mhdr\u001b[0m\u001b[1;33m)\u001b[0m\u001b[1;33m\u001b[0m\u001b[1;33m\u001b[0m\u001b[0m\n\u001b[1;32m---> 20\u001b[1;33m     \u001b[0mhtml\u001b[0m\u001b[1;33m=\u001b[0m\u001b[0murllib\u001b[0m\u001b[1;33m.\u001b[0m\u001b[0mrequest\u001b[0m\u001b[1;33m.\u001b[0m\u001b[0murlopen\u001b[0m\u001b[1;33m(\u001b[0m\u001b[0mreq\u001b[0m\u001b[1;33m)\u001b[0m\u001b[1;33m.\u001b[0m\u001b[0mread\u001b[0m\u001b[1;33m(\u001b[0m\u001b[1;33m)\u001b[0m\u001b[1;33m\u001b[0m\u001b[1;33m\u001b[0m\u001b[0m\n\u001b[0m\u001b[0;32m     21\u001b[0m     \u001b[0msoup\u001b[0m \u001b[1;33m=\u001b[0m \u001b[0mBeautifulSoup\u001b[0m\u001b[1;33m(\u001b[0m\u001b[0mhtml\u001b[0m\u001b[1;33m,\u001b[0m\u001b[1;34m'html.parser'\u001b[0m\u001b[1;33m)\u001b[0m\u001b[1;33m\u001b[0m\u001b[1;33m\u001b[0m\u001b[0m\n\u001b[0;32m     22\u001b[0m     \u001b[1;32mtry\u001b[0m\u001b[1;33m:\u001b[0m\u001b[1;33m\u001b[0m\u001b[1;33m\u001b[0m\u001b[0m\n",
      "\u001b[1;32mc:\\python37\\lib\\urllib\\request.py\u001b[0m in \u001b[0;36murlopen\u001b[1;34m(url, data, timeout, cafile, capath, cadefault, context)\u001b[0m\n\u001b[0;32m    220\u001b[0m     \u001b[1;32melse\u001b[0m\u001b[1;33m:\u001b[0m\u001b[1;33m\u001b[0m\u001b[1;33m\u001b[0m\u001b[0m\n\u001b[0;32m    221\u001b[0m         \u001b[0mopener\u001b[0m \u001b[1;33m=\u001b[0m \u001b[0m_opener\u001b[0m\u001b[1;33m\u001b[0m\u001b[1;33m\u001b[0m\u001b[0m\n\u001b[1;32m--> 222\u001b[1;33m     \u001b[1;32mreturn\u001b[0m \u001b[0mopener\u001b[0m\u001b[1;33m.\u001b[0m\u001b[0mopen\u001b[0m\u001b[1;33m(\u001b[0m\u001b[0murl\u001b[0m\u001b[1;33m,\u001b[0m \u001b[0mdata\u001b[0m\u001b[1;33m,\u001b[0m \u001b[0mtimeout\u001b[0m\u001b[1;33m)\u001b[0m\u001b[1;33m\u001b[0m\u001b[1;33m\u001b[0m\u001b[0m\n\u001b[0m\u001b[0;32m    223\u001b[0m \u001b[1;33m\u001b[0m\u001b[0m\n\u001b[0;32m    224\u001b[0m \u001b[1;32mdef\u001b[0m \u001b[0minstall_opener\u001b[0m\u001b[1;33m(\u001b[0m\u001b[0mopener\u001b[0m\u001b[1;33m)\u001b[0m\u001b[1;33m:\u001b[0m\u001b[1;33m\u001b[0m\u001b[1;33m\u001b[0m\u001b[0m\n",
      "\u001b[1;32mc:\\python37\\lib\\urllib\\request.py\u001b[0m in \u001b[0;36mopen\u001b[1;34m(self, fullurl, data, timeout)\u001b[0m\n\u001b[0;32m    529\u001b[0m         \u001b[1;32mfor\u001b[0m \u001b[0mprocessor\u001b[0m \u001b[1;32min\u001b[0m \u001b[0mself\u001b[0m\u001b[1;33m.\u001b[0m\u001b[0mprocess_response\u001b[0m\u001b[1;33m.\u001b[0m\u001b[0mget\u001b[0m\u001b[1;33m(\u001b[0m\u001b[0mprotocol\u001b[0m\u001b[1;33m,\u001b[0m \u001b[1;33m[\u001b[0m\u001b[1;33m]\u001b[0m\u001b[1;33m)\u001b[0m\u001b[1;33m:\u001b[0m\u001b[1;33m\u001b[0m\u001b[1;33m\u001b[0m\u001b[0m\n\u001b[0;32m    530\u001b[0m             \u001b[0mmeth\u001b[0m \u001b[1;33m=\u001b[0m \u001b[0mgetattr\u001b[0m\u001b[1;33m(\u001b[0m\u001b[0mprocessor\u001b[0m\u001b[1;33m,\u001b[0m \u001b[0mmeth_name\u001b[0m\u001b[1;33m)\u001b[0m\u001b[1;33m\u001b[0m\u001b[1;33m\u001b[0m\u001b[0m\n\u001b[1;32m--> 531\u001b[1;33m             \u001b[0mresponse\u001b[0m \u001b[1;33m=\u001b[0m \u001b[0mmeth\u001b[0m\u001b[1;33m(\u001b[0m\u001b[0mreq\u001b[0m\u001b[1;33m,\u001b[0m \u001b[0mresponse\u001b[0m\u001b[1;33m)\u001b[0m\u001b[1;33m\u001b[0m\u001b[1;33m\u001b[0m\u001b[0m\n\u001b[0m\u001b[0;32m    532\u001b[0m \u001b[1;33m\u001b[0m\u001b[0m\n\u001b[0;32m    533\u001b[0m         \u001b[1;32mreturn\u001b[0m \u001b[0mresponse\u001b[0m\u001b[1;33m\u001b[0m\u001b[1;33m\u001b[0m\u001b[0m\n",
      "\u001b[1;32mc:\\python37\\lib\\urllib\\request.py\u001b[0m in \u001b[0;36mhttp_response\u001b[1;34m(self, request, response)\u001b[0m\n\u001b[0;32m    639\u001b[0m         \u001b[1;32mif\u001b[0m \u001b[1;32mnot\u001b[0m \u001b[1;33m(\u001b[0m\u001b[1;36m200\u001b[0m \u001b[1;33m<=\u001b[0m \u001b[0mcode\u001b[0m \u001b[1;33m<\u001b[0m \u001b[1;36m300\u001b[0m\u001b[1;33m)\u001b[0m\u001b[1;33m:\u001b[0m\u001b[1;33m\u001b[0m\u001b[1;33m\u001b[0m\u001b[0m\n\u001b[0;32m    640\u001b[0m             response = self.parent.error(\n\u001b[1;32m--> 641\u001b[1;33m                 'http', request, response, code, msg, hdrs)\n\u001b[0m\u001b[0;32m    642\u001b[0m \u001b[1;33m\u001b[0m\u001b[0m\n\u001b[0;32m    643\u001b[0m         \u001b[1;32mreturn\u001b[0m \u001b[0mresponse\u001b[0m\u001b[1;33m\u001b[0m\u001b[1;33m\u001b[0m\u001b[0m\n",
      "\u001b[1;32mc:\\python37\\lib\\urllib\\request.py\u001b[0m in \u001b[0;36merror\u001b[1;34m(self, proto, *args)\u001b[0m\n\u001b[0;32m    567\u001b[0m         \u001b[1;32mif\u001b[0m \u001b[0mhttp_err\u001b[0m\u001b[1;33m:\u001b[0m\u001b[1;33m\u001b[0m\u001b[1;33m\u001b[0m\u001b[0m\n\u001b[0;32m    568\u001b[0m             \u001b[0margs\u001b[0m \u001b[1;33m=\u001b[0m \u001b[1;33m(\u001b[0m\u001b[0mdict\u001b[0m\u001b[1;33m,\u001b[0m \u001b[1;34m'default'\u001b[0m\u001b[1;33m,\u001b[0m \u001b[1;34m'http_error_default'\u001b[0m\u001b[1;33m)\u001b[0m \u001b[1;33m+\u001b[0m \u001b[0morig_args\u001b[0m\u001b[1;33m\u001b[0m\u001b[1;33m\u001b[0m\u001b[0m\n\u001b[1;32m--> 569\u001b[1;33m             \u001b[1;32mreturn\u001b[0m \u001b[0mself\u001b[0m\u001b[1;33m.\u001b[0m\u001b[0m_call_chain\u001b[0m\u001b[1;33m(\u001b[0m\u001b[1;33m*\u001b[0m\u001b[0margs\u001b[0m\u001b[1;33m)\u001b[0m\u001b[1;33m\u001b[0m\u001b[1;33m\u001b[0m\u001b[0m\n\u001b[0m\u001b[0;32m    570\u001b[0m \u001b[1;33m\u001b[0m\u001b[0m\n\u001b[0;32m    571\u001b[0m \u001b[1;31m# XXX probably also want an abstract factory that knows when it makes\u001b[0m\u001b[1;33m\u001b[0m\u001b[1;33m\u001b[0m\u001b[1;33m\u001b[0m\u001b[0m\n",
      "\u001b[1;32mc:\\python37\\lib\\urllib\\request.py\u001b[0m in \u001b[0;36m_call_chain\u001b[1;34m(self, chain, kind, meth_name, *args)\u001b[0m\n\u001b[0;32m    501\u001b[0m         \u001b[1;32mfor\u001b[0m \u001b[0mhandler\u001b[0m \u001b[1;32min\u001b[0m \u001b[0mhandlers\u001b[0m\u001b[1;33m:\u001b[0m\u001b[1;33m\u001b[0m\u001b[1;33m\u001b[0m\u001b[0m\n\u001b[0;32m    502\u001b[0m             \u001b[0mfunc\u001b[0m \u001b[1;33m=\u001b[0m \u001b[0mgetattr\u001b[0m\u001b[1;33m(\u001b[0m\u001b[0mhandler\u001b[0m\u001b[1;33m,\u001b[0m \u001b[0mmeth_name\u001b[0m\u001b[1;33m)\u001b[0m\u001b[1;33m\u001b[0m\u001b[1;33m\u001b[0m\u001b[0m\n\u001b[1;32m--> 503\u001b[1;33m             \u001b[0mresult\u001b[0m \u001b[1;33m=\u001b[0m \u001b[0mfunc\u001b[0m\u001b[1;33m(\u001b[0m\u001b[1;33m*\u001b[0m\u001b[0margs\u001b[0m\u001b[1;33m)\u001b[0m\u001b[1;33m\u001b[0m\u001b[1;33m\u001b[0m\u001b[0m\n\u001b[0m\u001b[0;32m    504\u001b[0m             \u001b[1;32mif\u001b[0m \u001b[0mresult\u001b[0m \u001b[1;32mis\u001b[0m \u001b[1;32mnot\u001b[0m \u001b[1;32mNone\u001b[0m\u001b[1;33m:\u001b[0m\u001b[1;33m\u001b[0m\u001b[1;33m\u001b[0m\u001b[0m\n\u001b[0;32m    505\u001b[0m                 \u001b[1;32mreturn\u001b[0m \u001b[0mresult\u001b[0m\u001b[1;33m\u001b[0m\u001b[1;33m\u001b[0m\u001b[0m\n",
      "\u001b[1;32mc:\\python37\\lib\\urllib\\request.py\u001b[0m in \u001b[0;36mhttp_error_default\u001b[1;34m(self, req, fp, code, msg, hdrs)\u001b[0m\n\u001b[0;32m    647\u001b[0m \u001b[1;32mclass\u001b[0m \u001b[0mHTTPDefaultErrorHandler\u001b[0m\u001b[1;33m(\u001b[0m\u001b[0mBaseHandler\u001b[0m\u001b[1;33m)\u001b[0m\u001b[1;33m:\u001b[0m\u001b[1;33m\u001b[0m\u001b[1;33m\u001b[0m\u001b[0m\n\u001b[0;32m    648\u001b[0m     \u001b[1;32mdef\u001b[0m \u001b[0mhttp_error_default\u001b[0m\u001b[1;33m(\u001b[0m\u001b[0mself\u001b[0m\u001b[1;33m,\u001b[0m \u001b[0mreq\u001b[0m\u001b[1;33m,\u001b[0m \u001b[0mfp\u001b[0m\u001b[1;33m,\u001b[0m \u001b[0mcode\u001b[0m\u001b[1;33m,\u001b[0m \u001b[0mmsg\u001b[0m\u001b[1;33m,\u001b[0m \u001b[0mhdrs\u001b[0m\u001b[1;33m)\u001b[0m\u001b[1;33m:\u001b[0m\u001b[1;33m\u001b[0m\u001b[1;33m\u001b[0m\u001b[0m\n\u001b[1;32m--> 649\u001b[1;33m         \u001b[1;32mraise\u001b[0m \u001b[0mHTTPError\u001b[0m\u001b[1;33m(\u001b[0m\u001b[0mreq\u001b[0m\u001b[1;33m.\u001b[0m\u001b[0mfull_url\u001b[0m\u001b[1;33m,\u001b[0m \u001b[0mcode\u001b[0m\u001b[1;33m,\u001b[0m \u001b[0mmsg\u001b[0m\u001b[1;33m,\u001b[0m \u001b[0mhdrs\u001b[0m\u001b[1;33m,\u001b[0m \u001b[0mfp\u001b[0m\u001b[1;33m)\u001b[0m\u001b[1;33m\u001b[0m\u001b[1;33m\u001b[0m\u001b[0m\n\u001b[0m\u001b[0;32m    650\u001b[0m \u001b[1;33m\u001b[0m\u001b[0m\n\u001b[0;32m    651\u001b[0m \u001b[1;32mclass\u001b[0m \u001b[0mHTTPRedirectHandler\u001b[0m\u001b[1;33m(\u001b[0m\u001b[0mBaseHandler\u001b[0m\u001b[1;33m)\u001b[0m\u001b[1;33m:\u001b[0m\u001b[1;33m\u001b[0m\u001b[1;33m\u001b[0m\u001b[0m\n",
      "\u001b[1;31mHTTPError\u001b[0m: HTTP Error 406: Not Acceptable"
     ]
    }
   ],
   "source": [
    "import pandas as pd\n",
    "import numpy as np\n",
    "from tqdm.notebook import tqdm\n",
    "import time\n",
    "from bs4 import BeautifulSoup\n",
    "import urllib.request\n",
    "import urllib.parse\n",
    "import requests\n",
    "lyric=[]\n",
    "artist=[]\n",
    "date=[]\n",
    "comment=[]\n",
    "commentlist=[]\n",
    "genre=[]\n",
    "hdr = { 'User-Agent' : 'Mozilla/5.0'} #헤더설정\n",
    "\n",
    "for i in tqdm(df['code'][5000:6000]):\n",
    "    url='https://www.melon.com/song/detail.htm?songId={}'.format(i)\n",
    "    req = urllib.request.Request(url, headers=hdr)\n",
    "    html=urllib.request.urlopen(req).read()\n",
    "    soup = BeautifulSoup(html,'html.parser')\n",
    "    try:\n",
    "        artist.append(soup.find('div',class_='artist').text[1:-1])\n",
    "    except AttributeError as err:\n",
    "        artist.append(None)\n",
    "    try:\n",
    "        date.append(soup.select('#downloadfrm > div > div > div.entry > div.meta > dl.list > dd')[1].text)\n",
    "    except AttributeError as err:\n",
    "        date.append(None)\n",
    "    try:\n",
    "        genre.append(soup.select('#downloadfrm > div > div > div.entry > div.meta > dl.list > dd')[2].text)\n",
    "    except AttributeError as err:\n",
    "        genre.append(None)\n",
    "    try:\n",
    "        lyric.append(soup.find('div',class_='lyric').text[9:-1])\n",
    "    except AttributeError as err: \n",
    "        lyric.append(None)\n",
    "        \n",
    "# # 댓글에 대한 정보, 동적인 페이지라 driver사용 (추천수 댓글 10개만)\n",
    "#     url2 = 'https://www.melon.com/song/detail.htm?songId={}#cmtpgn=&pageNo=1&sortType=1&srchType=2&srchWord'.format(i)\n",
    "#     driver = webdriver.Chrome('./chromedriver.exe',options=options) #  옵션 적용\n",
    "#     driver.get(url2)\n",
    "#     html = driver.page_source\n",
    "#     soup = BeautifulSoup(html,'html.parser')\n",
    "#     for k in soup.find_all('div',class_='cntt')[4:9]:\n",
    "#         try:\n",
    "#             comment.append(k.text[16:-2])\n",
    "#         except AttributeError as err:\n",
    "#             comment.append(None)\n",
    "#     commentlist.append(comment)\n",
    "    \n",
    "    "
   ]
  },
  {
   "cell_type": "code",
   "execution_count": 165,
   "metadata": {
    "scrolled": true
   },
   "outputs": [],
   "source": [
    "s1000 = pd.DataFrame(data={'artist':artist, 'genre':genre, 'lyric':lyric ,'date':date})\n",
    "s1000.to_csv('s1000.csv',encoding='utf-8',index=False)"
   ]
  },
  {
   "cell_type": "code",
   "execution_count": 151,
   "metadata": {},
   "outputs": [],
   "source": [
    "# s2000 = pd.DataFrame(data={'artist':artist, 'genre':genre, 'lyric':lyric ,'date':date})\n",
    "# s2000.to_csv('s2000.csv',encoding='utf-8',index=False)"
   ]
  },
  {
   "cell_type": "code",
   "execution_count": 166,
   "metadata": {},
   "outputs": [],
   "source": [
    "# s3000 = pd.DataFrame(data={'artist':artist, 'genre':genre, 'lyric':lyric ,'date':date})\n",
    "# s3000.to_csv('s3000.csv',encoding='utf-8',index=False)"
   ]
  },
  {
   "cell_type": "code",
   "execution_count": 174,
   "metadata": {
    "scrolled": false
   },
   "outputs": [],
   "source": [
    "# s4000 = pd.DataFrame(data={'artist':artist, 'genre':genre, 'lyric':lyric ,'date':date})\n",
    "# s4000.to_csv('s4000.csv',encoding='utf-8',index=False)"
   ]
  },
  {
   "cell_type": "code",
   "execution_count": 179,
   "metadata": {},
   "outputs": [],
   "source": [
    "# s5000 = pd.DataFrame(data={'artist':artist, 'genre':genre, 'lyric':lyric ,'date':date})\n",
    "# s5000.to_csv('s5000.csv',encoding='utf-8',index=False)"
   ]
  },
  {
   "cell_type": "code",
   "execution_count": null,
   "metadata": {},
   "outputs": [],
   "source": [
    "s6000 = pd.DataFrame(data={'artist':artist, 'genre':genre, 'lyric':lyric ,'date':date})\n",
    "s6000.to_csv('s6000.csv',encoding='utf-8',index=False)"
   ]
  },
  {
   "cell_type": "code",
   "execution_count": null,
   "metadata": {},
   "outputs": [],
   "source": [
    "s7000 = pd.DataFrame(data={'artist':artist, 'genre':genre, 'lyric':lyric ,'date':date})\n",
    "s7000.to_csv('s7000.csv',encoding='utf-8',index=False)"
   ]
  },
  {
   "cell_type": "code",
   "execution_count": null,
   "metadata": {},
   "outputs": [],
   "source": [
    "s8000 = pd.DataFrame(data={'artist':artist, 'genre':genre, 'lyric':lyric ,'date':date})\n",
    "s8000.to_csv('s8000.csv',encoding='utf-8',index=False)"
   ]
  },
  {
   "cell_type": "code",
   "execution_count": 148,
   "metadata": {
    "scrolled": false
   },
   "outputs": [
    {
     "data": {
      "text/plain": [
       "1000"
      ]
     },
     "execution_count": 148,
     "metadata": {},
     "output_type": "execute_result"
    }
   ],
   "source": [
    "len(artist)"
   ]
  },
  {
   "cell_type": "code",
   "execution_count": 178,
   "metadata": {
    "scrolled": true
   },
   "outputs": [
    {
     "data": {
      "text/html": [
       "<div>\n",
       "<style scoped>\n",
       "    .dataframe tbody tr th:only-of-type {\n",
       "        vertical-align: middle;\n",
       "    }\n",
       "\n",
       "    .dataframe tbody tr th {\n",
       "        vertical-align: top;\n",
       "    }\n",
       "\n",
       "    .dataframe thead th {\n",
       "        text-align: right;\n",
       "    }\n",
       "</style>\n",
       "<table border=\"1\" class=\"dataframe\">\n",
       "  <thead>\n",
       "    <tr style=\"text-align: right;\">\n",
       "      <th></th>\n",
       "      <th>artist</th>\n",
       "      <th>genre</th>\n",
       "      <th>lyric</th>\n",
       "      <th>date</th>\n",
       "    </tr>\n",
       "  </thead>\n",
       "  <tbody>\n",
       "    <tr>\n",
       "      <th>0</th>\n",
       "      <td>이효리</td>\n",
       "      <td>댄스</td>\n",
       "      <td>Ooh boy Bring it back좀 더 Naughty 하게Ooh boy Bri...</td>\n",
       "      <td>2010.04.12</td>\n",
       "    </tr>\n",
       "    <tr>\n",
       "      <th>1</th>\n",
       "      <td>2PM</td>\n",
       "      <td>댄스</td>\n",
       "      <td>I’m gonna get stronger그래 헤어진 게 더 좋아어차피 언젠 간 너와...</td>\n",
       "      <td>2010.04.19</td>\n",
       "    </tr>\n",
       "    <tr>\n",
       "      <th>2</th>\n",
       "      <td>민경훈</td>\n",
       "      <td>록/메탈</td>\n",
       "      <td>한참을 힘껏 달려도늘 제자리인 것 같아세상은 먼저 달려가고난 멈춰 진 듯 해늘 걱정...</td>\n",
       "      <td>2010.03.29</td>\n",
       "    </tr>\n",
       "    <tr>\n",
       "      <th>3</th>\n",
       "      <td>이효리</td>\n",
       "      <td>댄스</td>\n",
       "      <td>Are you ready비슷하게 날 따라해허락도 없이 They use my name...</td>\n",
       "      <td>2010.04.12</td>\n",
       "    </tr>\n",
       "    <tr>\n",
       "      <th>4</th>\n",
       "      <td>이효리</td>\n",
       "      <td>발라드</td>\n",
       "      <td>너무 많이 겪었던 가벼운 인연들너 또한 그렇게 스쳐갈 줄 알았어시간이 갈수록 조금 ...</td>\n",
       "      <td>2010.04.12</td>\n",
       "    </tr>\n",
       "    <tr>\n",
       "      <th>...</th>\n",
       "      <td>...</td>\n",
       "      <td>...</td>\n",
       "      <td>...</td>\n",
       "      <td>...</td>\n",
       "    </tr>\n",
       "    <tr>\n",
       "      <th>995</th>\n",
       "      <td>전초아</td>\n",
       "      <td>발라드</td>\n",
       "      <td>지겹도록 잊지 못한 사랑이제서야 정말 끝나나봐나 니가 아닌 그 누군가의품에 안겨버린...</td>\n",
       "      <td>2008.02.18</td>\n",
       "    </tr>\n",
       "    <tr>\n",
       "      <th>996</th>\n",
       "      <td>민경훈</td>\n",
       "      <td>발라드</td>\n",
       "      <td>내 사랑은 말로만 끝이었나봐 그와 널 보니 가슴이 내려 앉아 너무나 어울려 잘 된 ...</td>\n",
       "      <td>2007.12.04</td>\n",
       "    </tr>\n",
       "    <tr>\n",
       "      <th>997</th>\n",
       "      <td>모노토닉</td>\n",
       "      <td>댄스, 록/메탈, 일렉트로니카</td>\n",
       "      <td>You are a good girl언제나 유머있는 Sweet Girl그래 넌 누가봐...</td>\n",
       "      <td>2008.02.14</td>\n",
       "    </tr>\n",
       "    <tr>\n",
       "      <th>998</th>\n",
       "      <td>이승기</td>\n",
       "      <td>발라드</td>\n",
       "      <td>그대 내게 다가오는 그 모습자꾸 다시 볼 수없을 것만 같아서감은 두 눈 뜨지 못한 ...</td>\n",
       "      <td>2008.03.24</td>\n",
       "    </tr>\n",
       "    <tr>\n",
       "      <th>999</th>\n",
       "      <td>SS501</td>\n",
       "      <td>댄스</td>\n",
       "      <td>눈빛에날 스치는강한 느낌시간이 멈춘 듯 한 기분그 향기그 몸짓더 가까이낯선 널 붙잡...</td>\n",
       "      <td>2008.03.13</td>\n",
       "    </tr>\n",
       "  </tbody>\n",
       "</table>\n",
       "<p>1000 rows × 4 columns</p>\n",
       "</div>"
      ],
      "text/plain": [
       "    artist             genre  \\\n",
       "0      이효리                댄스   \n",
       "1      2PM                댄스   \n",
       "2      민경훈              록/메탈   \n",
       "3      이효리                댄스   \n",
       "4      이효리               발라드   \n",
       "..     ...               ...   \n",
       "995    전초아               발라드   \n",
       "996    민경훈               발라드   \n",
       "997   모노토닉  댄스, 록/메탈, 일렉트로니카   \n",
       "998    이승기               발라드   \n",
       "999  SS501                댄스   \n",
       "\n",
       "                                                 lyric        date  \n",
       "0    Ooh boy Bring it back좀 더 Naughty 하게Ooh boy Bri...  2010.04.12  \n",
       "1    I’m gonna get stronger그래 헤어진 게 더 좋아어차피 언젠 간 너와...  2010.04.19  \n",
       "2    한참을 힘껏 달려도늘 제자리인 것 같아세상은 먼저 달려가고난 멈춰 진 듯 해늘 걱정...  2010.03.29  \n",
       "3    Are you ready비슷하게 날 따라해허락도 없이 They use my name...  2010.04.12  \n",
       "4    너무 많이 겪었던 가벼운 인연들너 또한 그렇게 스쳐갈 줄 알았어시간이 갈수록 조금 ...  2010.04.12  \n",
       "..                                                 ...         ...  \n",
       "995  지겹도록 잊지 못한 사랑이제서야 정말 끝나나봐나 니가 아닌 그 누군가의품에 안겨버린...  2008.02.18  \n",
       "996  내 사랑은 말로만 끝이었나봐 그와 널 보니 가슴이 내려 앉아 너무나 어울려 잘 된 ...  2007.12.04  \n",
       "997  You are a good girl언제나 유머있는 Sweet Girl그래 넌 누가봐...  2008.02.14  \n",
       "998  그대 내게 다가오는 그 모습자꾸 다시 볼 수없을 것만 같아서감은 두 눈 뜨지 못한 ...  2008.03.24  \n",
       "999  눈빛에날 스치는강한 느낌시간이 멈춘 듯 한 기분그 향기그 몸짓더 가까이낯선 널 붙잡...  2008.03.13  \n",
       "\n",
       "[1000 rows x 4 columns]"
      ]
     },
     "execution_count": 178,
     "metadata": {},
     "output_type": "execute_result"
    }
   ],
   "source": [
    "pd.DataFrame(data={'artist':artist, 'genre':genre, 'lyric':lyric ,'date':date})"
   ]
  },
  {
   "cell_type": "code",
   "execution_count": 136,
   "metadata": {
    "scrolled": true
   },
   "outputs": [
    {
     "data": {
      "text/html": [
       "<div>\n",
       "<style scoped>\n",
       "    .dataframe tbody tr th:only-of-type {\n",
       "        vertical-align: middle;\n",
       "    }\n",
       "\n",
       "    .dataframe tbody tr th {\n",
       "        vertical-align: top;\n",
       "    }\n",
       "\n",
       "    .dataframe thead th {\n",
       "        text-align: right;\n",
       "    }\n",
       "</style>\n",
       "<table border=\"1\" class=\"dataframe\">\n",
       "  <thead>\n",
       "    <tr style=\"text-align: right;\">\n",
       "      <th></th>\n",
       "      <th>0</th>\n",
       "    </tr>\n",
       "  </thead>\n",
       "  <tbody>\n",
       "    <tr>\n",
       "      <th>0</th>\n",
       "      <td>엠씨더맥스 (M.C the MAX)</td>\n",
       "    </tr>\n",
       "    <tr>\n",
       "      <th>1</th>\n",
       "      <td>청하</td>\n",
       "    </tr>\n",
       "    <tr>\n",
       "      <th>2</th>\n",
       "      <td>벤</td>\n",
       "    </tr>\n",
       "    <tr>\n",
       "      <th>3</th>\n",
       "      <td>하은</td>\n",
       "    </tr>\n",
       "    <tr>\n",
       "      <th>4</th>\n",
       "      <td>제니 (JENNIE)</td>\n",
       "    </tr>\n",
       "    <tr>\n",
       "      <th>...</th>\n",
       "      <td>...</td>\n",
       "    </tr>\n",
       "    <tr>\n",
       "      <th>1995</th>\n",
       "      <td>발라드</td>\n",
       "    </tr>\n",
       "    <tr>\n",
       "      <th>1996</th>\n",
       "      <td>발라드</td>\n",
       "    </tr>\n",
       "    <tr>\n",
       "      <th>1997</th>\n",
       "      <td>랩/힙합</td>\n",
       "    </tr>\n",
       "    <tr>\n",
       "      <th>1998</th>\n",
       "      <td>댄스</td>\n",
       "    </tr>\n",
       "    <tr>\n",
       "      <th>1999</th>\n",
       "      <td>발라드</td>\n",
       "    </tr>\n",
       "  </tbody>\n",
       "</table>\n",
       "<p>2000 rows × 1 columns</p>\n",
       "</div>"
      ],
      "text/plain": [
       "                        0\n",
       "0     엠씨더맥스 (M.C the MAX)\n",
       "1                      청하\n",
       "2                       벤\n",
       "3                      하은\n",
       "4             제니 (JENNIE)\n",
       "...                   ...\n",
       "1995                  발라드\n",
       "1996                  발라드\n",
       "1997                 랩/힙합\n",
       "1998                   댄스\n",
       "1999                  발라드\n",
       "\n",
       "[2000 rows x 1 columns]"
      ]
     },
     "execution_count": 136,
     "metadata": {},
     "output_type": "execute_result"
    }
   ],
   "source": [
    "pd.DataFrame(aadd)"
   ]
  },
  {
   "cell_type": "code",
   "execution_count": 72,
   "metadata": {
    "scrolled": false
   },
   "outputs": [
    {
     "data": {
      "text/plain": [
       "[]"
      ]
     },
     "execution_count": 72,
     "metadata": {},
     "output_type": "execute_result"
    }
   ],
   "source": [
    "soup.select('#d_cmtpgn_cmt_list_wrapper > ul > li:nth-child(2)')"
   ]
  },
  {
   "cell_type": "code",
   "execution_count": 160,
   "metadata": {},
   "outputs": [
    {
     "data": {
      "text/html": [
       "<div>\n",
       "<style scoped>\n",
       "    .dataframe tbody tr th:only-of-type {\n",
       "        vertical-align: middle;\n",
       "    }\n",
       "\n",
       "    .dataframe tbody tr th {\n",
       "        vertical-align: top;\n",
       "    }\n",
       "\n",
       "    .dataframe thead th {\n",
       "        text-align: right;\n",
       "    }\n",
       "</style>\n",
       "<table border=\"1\" class=\"dataframe\">\n",
       "  <thead>\n",
       "    <tr style=\"text-align: right;\">\n",
       "      <th></th>\n",
       "      <th>artist</th>\n",
       "      <th>genre</th>\n",
       "      <th>lyric</th>\n",
       "      <th>date</th>\n",
       "    </tr>\n",
       "  </thead>\n",
       "  <tbody>\n",
       "    <tr>\n",
       "      <th>0</th>\n",
       "      <td>f(x)</td>\n",
       "      <td>일렉트로니카</td>\n",
       "      <td>감정이란 꽃은 짧은 순간 피어나는 걸 티끌 하나 없이 완벽했던 시작을 넘어 낯선 파...</td>\n",
       "      <td>2015.10.27</td>\n",
       "    </tr>\n",
       "    <tr>\n",
       "      <th>1</th>\n",
       "      <td>지코 (ZICO)</td>\n",
       "      <td>랩/힙합</td>\n",
       "      <td>말해 yes or no말해 yes or no빨리 yes or noDo you lov...</td>\n",
       "      <td>2015.10.19</td>\n",
       "    </tr>\n",
       "    <tr>\n",
       "      <th>2</th>\n",
       "      <td>지코 (ZICO)</td>\n",
       "      <td>랩/힙합</td>\n",
       "      <td>I'll spit on ya like a king cobra한량들아 토껴 나는 백수...</td>\n",
       "      <td>2015.11.03</td>\n",
       "    </tr>\n",
       "    <tr>\n",
       "      <th>3</th>\n",
       "      <td>EXO</td>\n",
       "      <td>발라드</td>\n",
       "      <td>Baby Ooh Yeah Oh 여기 흰 눈 위에 너의 걸음 따라서Listen 더 가...</td>\n",
       "      <td>2015.12.10</td>\n",
       "    </tr>\n",
       "    <tr>\n",
       "      <th>4</th>\n",
       "      <td>빈지노 (Beenzino)</td>\n",
       "      <td>랩/힙합</td>\n",
       "      <td>난 자유롭고 싶어지금 전투력 수치 111퍼입고 싶은 옷 입고 싶어길거리로 가서 시선...</td>\n",
       "      <td>2015.10.09</td>\n",
       "    </tr>\n",
       "    <tr>\n",
       "      <th>...</th>\n",
       "      <td>...</td>\n",
       "      <td>...</td>\n",
       "      <td>...</td>\n",
       "      <td>...</td>\n",
       "    </tr>\n",
       "    <tr>\n",
       "      <th>995</th>\n",
       "      <td>인피니트</td>\n",
       "      <td>댄스</td>\n",
       "      <td>독배라 해도 괜찮아기꺼이 내가 받으리 어떤 유혹도 너보단 달콤하고 강렬하지 못해세상...</td>\n",
       "      <td>2014.05.21</td>\n",
       "    </tr>\n",
       "    <tr>\n",
       "      <th>996</th>\n",
       "      <td>태양</td>\n",
       "      <td>R&amp;B;/Soul</td>\n",
       "      <td>하나 둘씩 잊어가네 기억들을 묻어놔그저 흔한 꿈이었던 것처럼it's all righ...</td>\n",
       "      <td>2014.06.03</td>\n",
       "    </tr>\n",
       "    <tr>\n",
       "      <th>997</th>\n",
       "      <td>거미</td>\n",
       "      <td>발라드</td>\n",
       "      <td>그러려니 끄덕거릴그런 일일 뿐이야모두 내 맘 같진 않은 거니까Uh uh이별 앞에 무...</td>\n",
       "      <td>2014.06.10</td>\n",
       "    </tr>\n",
       "    <tr>\n",
       "      <th>998</th>\n",
       "      <td>비스트</td>\n",
       "      <td>댄스</td>\n",
       "      <td>Why why you leave me alone baby I'm still stil...</td>\n",
       "      <td>2014.06.16</td>\n",
       "    </tr>\n",
       "    <tr>\n",
       "      <th>999</th>\n",
       "      <td>지연</td>\n",
       "      <td>발라드</td>\n",
       "      <td>후후 후우우우후후 후우후후 후우우우Never ever ever never후후 후우우...</td>\n",
       "      <td>2014.05.20</td>\n",
       "    </tr>\n",
       "  </tbody>\n",
       "</table>\n",
       "<p>1000 rows × 4 columns</p>\n",
       "</div>"
      ],
      "text/plain": [
       "             artist      genre  \\\n",
       "0              f(x)     일렉트로니카   \n",
       "1         지코 (ZICO)       랩/힙합   \n",
       "2         지코 (ZICO)       랩/힙합   \n",
       "3               EXO        발라드   \n",
       "4    빈지노 (Beenzino)       랩/힙합   \n",
       "..              ...        ...   \n",
       "995            인피니트         댄스   \n",
       "996              태양  R&B;/Soul   \n",
       "997              거미        발라드   \n",
       "998             비스트         댄스   \n",
       "999              지연        발라드   \n",
       "\n",
       "                                                 lyric        date  \n",
       "0    감정이란 꽃은 짧은 순간 피어나는 걸 티끌 하나 없이 완벽했던 시작을 넘어 낯선 파...  2015.10.27  \n",
       "1    말해 yes or no말해 yes or no빨리 yes or noDo you lov...  2015.10.19  \n",
       "2    I'll spit on ya like a king cobra한량들아 토껴 나는 백수...  2015.11.03  \n",
       "3    Baby Ooh Yeah Oh 여기 흰 눈 위에 너의 걸음 따라서Listen 더 가...  2015.12.10  \n",
       "4    난 자유롭고 싶어지금 전투력 수치 111퍼입고 싶은 옷 입고 싶어길거리로 가서 시선...  2015.10.09  \n",
       "..                                                 ...         ...  \n",
       "995  독배라 해도 괜찮아기꺼이 내가 받으리 어떤 유혹도 너보단 달콤하고 강렬하지 못해세상...  2014.05.21  \n",
       "996  하나 둘씩 잊어가네 기억들을 묻어놔그저 흔한 꿈이었던 것처럼it's all righ...  2014.06.03  \n",
       "997  그러려니 끄덕거릴그런 일일 뿐이야모두 내 맘 같진 않은 거니까Uh uh이별 앞에 무...  2014.06.10  \n",
       "998  Why why you leave me alone baby I'm still stil...  2014.06.16  \n",
       "999  후후 후우우우후후 후우후후 후우우우Never ever ever never후후 후우우...  2014.05.20  \n",
       "\n",
       "[1000 rows x 4 columns]"
      ]
     },
     "execution_count": 160,
     "metadata": {},
     "output_type": "execute_result"
    }
   ],
   "source": [
    "pd.read_csv('s1000.csv')"
   ]
  },
  {
   "cell_type": "code",
   "execution_count": 17,
   "metadata": {},
   "outputs": [
    {
     "data": {
      "text/plain": [
       "['랩/힙합']"
      ]
     },
     "execution_count": 17,
     "metadata": {},
     "output_type": "execute_result"
    }
   ],
   "source": [
    "genre"
   ]
  },
  {
   "cell_type": "code",
   "execution_count": null,
   "metadata": {},
   "outputs": [],
   "source": [
    "https://www.melon.com/song/detail.htm?songId=32224272#cmtpgn=&pageNo=1&sortType=1&srchType=2&srchWord="
   ]
  },
  {
   "cell_type": "code",
   "execution_count": 319,
   "metadata": {
    "scrolled": true
   },
   "outputs": [
    {
     "ename": "HTTPError",
     "evalue": "HTTP Error 406: Not Acceptable",
     "output_type": "error",
     "traceback": [
      "\u001b[1;31m---------------------------------------------------------------------------\u001b[0m",
      "\u001b[1;31mHTTPError\u001b[0m                                 Traceback (most recent call last)",
      "\u001b[1;32m<ipython-input-319-2910ec2579b8>\u001b[0m in \u001b[0;36m<module>\u001b[1;34m\u001b[0m\n\u001b[0;32m      1\u001b[0m \u001b[1;32mfrom\u001b[0m \u001b[0murllib\u001b[0m\u001b[1;33m.\u001b[0m\u001b[0mrequest\u001b[0m \u001b[1;32mimport\u001b[0m \u001b[0murlopen\u001b[0m\u001b[1;33m\u001b[0m\u001b[1;33m\u001b[0m\u001b[0m\n\u001b[1;32m----> 2\u001b[1;33m \u001b[0mhtml\u001b[0m \u001b[1;33m=\u001b[0m \u001b[0murlopen\u001b[0m\u001b[1;33m(\u001b[0m\u001b[1;34m'https://www.melon.com/song/detail.htm?songId=32224272#cmtpgn=&pageNo=1&sortType=1&srchType=2&srchWord='\u001b[0m\u001b[1;33m)\u001b[0m\u001b[1;33m\u001b[0m\u001b[1;33m\u001b[0m\u001b[0m\n\u001b[0m\u001b[0;32m      3\u001b[0m \u001b[0msoup\u001b[0m \u001b[1;33m=\u001b[0m \u001b[0mBeautifulSoup\u001b[0m\u001b[1;33m(\u001b[0m\u001b[0mhtml\u001b[0m\u001b[1;33m,\u001b[0m \u001b[1;34m'html.parser'\u001b[0m\u001b[1;33m)\u001b[0m\u001b[1;33m\u001b[0m\u001b[1;33m\u001b[0m\u001b[0m\n",
      "\u001b[1;32mc:\\python37\\lib\\urllib\\request.py\u001b[0m in \u001b[0;36murlopen\u001b[1;34m(url, data, timeout, cafile, capath, cadefault, context)\u001b[0m\n\u001b[0;32m    220\u001b[0m     \u001b[1;32melse\u001b[0m\u001b[1;33m:\u001b[0m\u001b[1;33m\u001b[0m\u001b[1;33m\u001b[0m\u001b[0m\n\u001b[0;32m    221\u001b[0m         \u001b[0mopener\u001b[0m \u001b[1;33m=\u001b[0m \u001b[0m_opener\u001b[0m\u001b[1;33m\u001b[0m\u001b[1;33m\u001b[0m\u001b[0m\n\u001b[1;32m--> 222\u001b[1;33m     \u001b[1;32mreturn\u001b[0m \u001b[0mopener\u001b[0m\u001b[1;33m.\u001b[0m\u001b[0mopen\u001b[0m\u001b[1;33m(\u001b[0m\u001b[0murl\u001b[0m\u001b[1;33m,\u001b[0m \u001b[0mdata\u001b[0m\u001b[1;33m,\u001b[0m \u001b[0mtimeout\u001b[0m\u001b[1;33m)\u001b[0m\u001b[1;33m\u001b[0m\u001b[1;33m\u001b[0m\u001b[0m\n\u001b[0m\u001b[0;32m    223\u001b[0m \u001b[1;33m\u001b[0m\u001b[0m\n\u001b[0;32m    224\u001b[0m \u001b[1;32mdef\u001b[0m \u001b[0minstall_opener\u001b[0m\u001b[1;33m(\u001b[0m\u001b[0mopener\u001b[0m\u001b[1;33m)\u001b[0m\u001b[1;33m:\u001b[0m\u001b[1;33m\u001b[0m\u001b[1;33m\u001b[0m\u001b[0m\n",
      "\u001b[1;32mc:\\python37\\lib\\urllib\\request.py\u001b[0m in \u001b[0;36mopen\u001b[1;34m(self, fullurl, data, timeout)\u001b[0m\n\u001b[0;32m    529\u001b[0m         \u001b[1;32mfor\u001b[0m \u001b[0mprocessor\u001b[0m \u001b[1;32min\u001b[0m \u001b[0mself\u001b[0m\u001b[1;33m.\u001b[0m\u001b[0mprocess_response\u001b[0m\u001b[1;33m.\u001b[0m\u001b[0mget\u001b[0m\u001b[1;33m(\u001b[0m\u001b[0mprotocol\u001b[0m\u001b[1;33m,\u001b[0m \u001b[1;33m[\u001b[0m\u001b[1;33m]\u001b[0m\u001b[1;33m)\u001b[0m\u001b[1;33m:\u001b[0m\u001b[1;33m\u001b[0m\u001b[1;33m\u001b[0m\u001b[0m\n\u001b[0;32m    530\u001b[0m             \u001b[0mmeth\u001b[0m \u001b[1;33m=\u001b[0m \u001b[0mgetattr\u001b[0m\u001b[1;33m(\u001b[0m\u001b[0mprocessor\u001b[0m\u001b[1;33m,\u001b[0m \u001b[0mmeth_name\u001b[0m\u001b[1;33m)\u001b[0m\u001b[1;33m\u001b[0m\u001b[1;33m\u001b[0m\u001b[0m\n\u001b[1;32m--> 531\u001b[1;33m             \u001b[0mresponse\u001b[0m \u001b[1;33m=\u001b[0m \u001b[0mmeth\u001b[0m\u001b[1;33m(\u001b[0m\u001b[0mreq\u001b[0m\u001b[1;33m,\u001b[0m \u001b[0mresponse\u001b[0m\u001b[1;33m)\u001b[0m\u001b[1;33m\u001b[0m\u001b[1;33m\u001b[0m\u001b[0m\n\u001b[0m\u001b[0;32m    532\u001b[0m \u001b[1;33m\u001b[0m\u001b[0m\n\u001b[0;32m    533\u001b[0m         \u001b[1;32mreturn\u001b[0m \u001b[0mresponse\u001b[0m\u001b[1;33m\u001b[0m\u001b[1;33m\u001b[0m\u001b[0m\n",
      "\u001b[1;32mc:\\python37\\lib\\urllib\\request.py\u001b[0m in \u001b[0;36mhttp_response\u001b[1;34m(self, request, response)\u001b[0m\n\u001b[0;32m    639\u001b[0m         \u001b[1;32mif\u001b[0m \u001b[1;32mnot\u001b[0m \u001b[1;33m(\u001b[0m\u001b[1;36m200\u001b[0m \u001b[1;33m<=\u001b[0m \u001b[0mcode\u001b[0m \u001b[1;33m<\u001b[0m \u001b[1;36m300\u001b[0m\u001b[1;33m)\u001b[0m\u001b[1;33m:\u001b[0m\u001b[1;33m\u001b[0m\u001b[1;33m\u001b[0m\u001b[0m\n\u001b[0;32m    640\u001b[0m             response = self.parent.error(\n\u001b[1;32m--> 641\u001b[1;33m                 'http', request, response, code, msg, hdrs)\n\u001b[0m\u001b[0;32m    642\u001b[0m \u001b[1;33m\u001b[0m\u001b[0m\n\u001b[0;32m    643\u001b[0m         \u001b[1;32mreturn\u001b[0m \u001b[0mresponse\u001b[0m\u001b[1;33m\u001b[0m\u001b[1;33m\u001b[0m\u001b[0m\n",
      "\u001b[1;32mc:\\python37\\lib\\urllib\\request.py\u001b[0m in \u001b[0;36merror\u001b[1;34m(self, proto, *args)\u001b[0m\n\u001b[0;32m    567\u001b[0m         \u001b[1;32mif\u001b[0m \u001b[0mhttp_err\u001b[0m\u001b[1;33m:\u001b[0m\u001b[1;33m\u001b[0m\u001b[1;33m\u001b[0m\u001b[0m\n\u001b[0;32m    568\u001b[0m             \u001b[0margs\u001b[0m \u001b[1;33m=\u001b[0m \u001b[1;33m(\u001b[0m\u001b[0mdict\u001b[0m\u001b[1;33m,\u001b[0m \u001b[1;34m'default'\u001b[0m\u001b[1;33m,\u001b[0m \u001b[1;34m'http_error_default'\u001b[0m\u001b[1;33m)\u001b[0m \u001b[1;33m+\u001b[0m \u001b[0morig_args\u001b[0m\u001b[1;33m\u001b[0m\u001b[1;33m\u001b[0m\u001b[0m\n\u001b[1;32m--> 569\u001b[1;33m             \u001b[1;32mreturn\u001b[0m \u001b[0mself\u001b[0m\u001b[1;33m.\u001b[0m\u001b[0m_call_chain\u001b[0m\u001b[1;33m(\u001b[0m\u001b[1;33m*\u001b[0m\u001b[0margs\u001b[0m\u001b[1;33m)\u001b[0m\u001b[1;33m\u001b[0m\u001b[1;33m\u001b[0m\u001b[0m\n\u001b[0m\u001b[0;32m    570\u001b[0m \u001b[1;33m\u001b[0m\u001b[0m\n\u001b[0;32m    571\u001b[0m \u001b[1;31m# XXX probably also want an abstract factory that knows when it makes\u001b[0m\u001b[1;33m\u001b[0m\u001b[1;33m\u001b[0m\u001b[1;33m\u001b[0m\u001b[0m\n",
      "\u001b[1;32mc:\\python37\\lib\\urllib\\request.py\u001b[0m in \u001b[0;36m_call_chain\u001b[1;34m(self, chain, kind, meth_name, *args)\u001b[0m\n\u001b[0;32m    501\u001b[0m         \u001b[1;32mfor\u001b[0m \u001b[0mhandler\u001b[0m \u001b[1;32min\u001b[0m \u001b[0mhandlers\u001b[0m\u001b[1;33m:\u001b[0m\u001b[1;33m\u001b[0m\u001b[1;33m\u001b[0m\u001b[0m\n\u001b[0;32m    502\u001b[0m             \u001b[0mfunc\u001b[0m \u001b[1;33m=\u001b[0m \u001b[0mgetattr\u001b[0m\u001b[1;33m(\u001b[0m\u001b[0mhandler\u001b[0m\u001b[1;33m,\u001b[0m \u001b[0mmeth_name\u001b[0m\u001b[1;33m)\u001b[0m\u001b[1;33m\u001b[0m\u001b[1;33m\u001b[0m\u001b[0m\n\u001b[1;32m--> 503\u001b[1;33m             \u001b[0mresult\u001b[0m \u001b[1;33m=\u001b[0m \u001b[0mfunc\u001b[0m\u001b[1;33m(\u001b[0m\u001b[1;33m*\u001b[0m\u001b[0margs\u001b[0m\u001b[1;33m)\u001b[0m\u001b[1;33m\u001b[0m\u001b[1;33m\u001b[0m\u001b[0m\n\u001b[0m\u001b[0;32m    504\u001b[0m             \u001b[1;32mif\u001b[0m \u001b[0mresult\u001b[0m \u001b[1;32mis\u001b[0m \u001b[1;32mnot\u001b[0m \u001b[1;32mNone\u001b[0m\u001b[1;33m:\u001b[0m\u001b[1;33m\u001b[0m\u001b[1;33m\u001b[0m\u001b[0m\n\u001b[0;32m    505\u001b[0m                 \u001b[1;32mreturn\u001b[0m \u001b[0mresult\u001b[0m\u001b[1;33m\u001b[0m\u001b[1;33m\u001b[0m\u001b[0m\n",
      "\u001b[1;32mc:\\python37\\lib\\urllib\\request.py\u001b[0m in \u001b[0;36mhttp_error_default\u001b[1;34m(self, req, fp, code, msg, hdrs)\u001b[0m\n\u001b[0;32m    647\u001b[0m \u001b[1;32mclass\u001b[0m \u001b[0mHTTPDefaultErrorHandler\u001b[0m\u001b[1;33m(\u001b[0m\u001b[0mBaseHandler\u001b[0m\u001b[1;33m)\u001b[0m\u001b[1;33m:\u001b[0m\u001b[1;33m\u001b[0m\u001b[1;33m\u001b[0m\u001b[0m\n\u001b[0;32m    648\u001b[0m     \u001b[1;32mdef\u001b[0m \u001b[0mhttp_error_default\u001b[0m\u001b[1;33m(\u001b[0m\u001b[0mself\u001b[0m\u001b[1;33m,\u001b[0m \u001b[0mreq\u001b[0m\u001b[1;33m,\u001b[0m \u001b[0mfp\u001b[0m\u001b[1;33m,\u001b[0m \u001b[0mcode\u001b[0m\u001b[1;33m,\u001b[0m \u001b[0mmsg\u001b[0m\u001b[1;33m,\u001b[0m \u001b[0mhdrs\u001b[0m\u001b[1;33m)\u001b[0m\u001b[1;33m:\u001b[0m\u001b[1;33m\u001b[0m\u001b[1;33m\u001b[0m\u001b[0m\n\u001b[1;32m--> 649\u001b[1;33m         \u001b[1;32mraise\u001b[0m \u001b[0mHTTPError\u001b[0m\u001b[1;33m(\u001b[0m\u001b[0mreq\u001b[0m\u001b[1;33m.\u001b[0m\u001b[0mfull_url\u001b[0m\u001b[1;33m,\u001b[0m \u001b[0mcode\u001b[0m\u001b[1;33m,\u001b[0m \u001b[0mmsg\u001b[0m\u001b[1;33m,\u001b[0m \u001b[0mhdrs\u001b[0m\u001b[1;33m,\u001b[0m \u001b[0mfp\u001b[0m\u001b[1;33m)\u001b[0m\u001b[1;33m\u001b[0m\u001b[1;33m\u001b[0m\u001b[0m\n\u001b[0m\u001b[0;32m    650\u001b[0m \u001b[1;33m\u001b[0m\u001b[0m\n\u001b[0;32m    651\u001b[0m \u001b[1;32mclass\u001b[0m \u001b[0mHTTPRedirectHandler\u001b[0m\u001b[1;33m(\u001b[0m\u001b[0mBaseHandler\u001b[0m\u001b[1;33m)\u001b[0m\u001b[1;33m:\u001b[0m\u001b[1;33m\u001b[0m\u001b[1;33m\u001b[0m\u001b[0m\n",
      "\u001b[1;31mHTTPError\u001b[0m: HTTP Error 406: Not Acceptable"
     ]
    }
   ],
   "source": [
    "from urllib.request import urlopen\n",
    "html = urlopen('https://www.melon.com/song/detail.htm?songId=32224272#cmtpgn=&pageNo=1&sortType=1&srchType=2&srchWord=')\n",
    "soup = BeautifulSoup(html, 'html.parser')"
   ]
  }
 ],
 "metadata": {
  "kernelspec": {
   "display_name": "Python 3",
   "language": "python",
   "name": "python3"
  },
  "language_info": {
   "codemirror_mode": {
    "name": "ipython",
    "version": 3
   },
   "file_extension": ".py",
   "mimetype": "text/x-python",
   "name": "python",
   "nbconvert_exporter": "python",
   "pygments_lexer": "ipython3",
   "version": "3.7.7"
  }
 },
 "nbformat": 4,
 "nbformat_minor": 4
}
