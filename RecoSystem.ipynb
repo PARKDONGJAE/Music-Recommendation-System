{
 "cells": [
  {
   "cell_type": "markdown",
   "metadata": {},
   "source": [
    "# 감성분석 기반 음악 추천 시스템"
   ]
  },
  {
   "cell_type": "markdown",
   "metadata": {},
   "source": [
    "## 멜론 음원사이트 - 곡 장르, 가사, 리뷰정보 2000년~2020년 월간 top100 정보 가져오기"
   ]
  },
  {
   "cell_type": "markdown",
   "metadata": {},
   "source": [
    "### 필요한 라이브러리 호출"
   ]
  },
  {
   "cell_type": "code",
   "execution_count": 1,
   "metadata": {},
   "outputs": [],
   "source": [
    "import pandas as pd\n",
    "import numpy as np\n",
    "from tqdm.notebook import tqdm\n",
    "import time\n",
    "from bs4 import BeautifulSoup\n",
    "import urllib.request\n",
    "import urllib.parse\n",
    "import requests"
   ]
  },
  {
   "cell_type": "markdown",
   "metadata": {},
   "source": [
    "#### 드라이버 설정"
   ]
  },
  {
   "cell_type": "code",
   "execution_count": 2,
   "metadata": {},
   "outputs": [],
   "source": [
    "from selenium import webdriver\n",
    "options = webdriver.ChromeOptions()\n",
    "options.add_argument('headless')    # 웹 브라우저를 띄우지 않는 headless chrome 옵션 적용\n",
    "options.add_argument('disable-gpu')    # GPU 사용 안함\n",
    "options.add_argument('lang=ko_KR')    # 언어 설정\n",
    "driver = webdriver.Chrome('./chromedriver.exe', options=options) #  옵션 적용"
   ]
  },
  {
   "cell_type": "markdown",
   "metadata": {},
   "source": [
    "### 2000년~2019년 top100차트 가져오기"
   ]
  },
  {
   "cell_type": "code",
   "execution_count": 4,
   "metadata": {
    "scrolled": true
   },
   "outputs": [],
   "source": [
    "# ## 2000 ~ 2019년\n",
    "# # from \n",
    "# rankDATE=[]\n",
    "# name=[]\n",
    "# code=[]\n",
    "# from tqdm.notebook import tqdm\n",
    "# import time\n",
    "# from bs4 import BeautifulSoup\n",
    "# # 홈페이지 접속\n",
    "# options = webdriver.ChromeOptions()\n",
    "# options.add_argument('headless')    # 웹 브라우저를 띄우지 않는 headless chrome 옵션 적용\n",
    "# options.add_argument('disable-gpu')    # GPU 사용 안함\n",
    "# options.add_argument('lang=ko_KR')    # 언어 설정\n",
    "# driver = webdriver.Chrome('../chromedriver.exe', options=options) #  옵션 적용\n",
    "# driver.get('https://www.melon.com/chart/month/index.htm')\n",
    "# driver.find_element_by_xpath('//*[@id=\"conts\"]/div[3]/div/button').click()\n",
    "# driver.find_element_by_xpath('//*[@id=\"conts\"]/div[3]/div/div/dl/dd[2]/a').click()\n",
    "# driver.find_element_by_xpath('//*[@id=\"d_chart_search\"]/div/h4[2]/a').click()# 월별 차트 클릭\n",
    "# time.sleep(5)\n",
    "# for i in tqdm(range(2,4)):\n",
    "#     element = driver.find_element_by_xpath('//*[@id=\"decade_{}\"]'.format(str(i))) #년대 선택\n",
    "#     driver.execute_script(\"arguments[0].click();\", element) \n",
    "#     for j in tqdm(range(1,11)):\n",
    "#         element2 = driver.find_element_by_xpath('//*[@id=\"year_{}\"]'.format(str(j))) # 년도 선택\n",
    "#         driver.execute_script(\"arguments[0].click();\", element2) \n",
    "#         for k in tqdm(range(1,13)):\n",
    "#             element3 = driver.find_element_by_xpath('//*[@id=\"month_{}\"]'.format(str(k))) # 월 선택\n",
    "#             driver.execute_script(\"arguments[0].click();\", element3)\n",
    "#             time.sleep(5)\n",
    "#             if (i==3 and (j in range(6,11)) ):##2004년까지\n",
    "#                 element4 = driver.find_element_by_xpath('//*[@id=\"gnr_1\"]')  # 장르 선택\n",
    "#                 driver.execute_script(\"arguments[0].click();\", element4)\n",
    "#                 time.sleep(5)\n",
    "#                 driver.find_element_by_xpath('//*[@id=\"d_srch_form\"]/div[2]/button').click()\n",
    "#                 time.sleep(5)\n",
    "#                 html = driver.page_source\n",
    "#                 soup = BeautifulSoup(html, 'html.parser')\n",
    "#                 for l in soup.find_all('input',{'name':\"input_check\"}):\n",
    "#                     name.append(l.get('title')[:-5])\n",
    "#                     code.append(l.get('value'))       \n",
    "#             else :  # 2005년 ~2019년 12월\n",
    "#                 element5 = driver.find_element_by_xpath('//*[@id=\"gnr_2\"]')\n",
    "#                 time.sleep(5)\n",
    "#                 driver.execute_script(\"arguments[0].click();\", element5) # 장르 선택\n",
    "#                 time.sleep(5)\n",
    "#                 driver.find_element_by_xpath('//*[@id=\"d_srch_form\"]/div[2]/button').click()\n",
    "#                 html = driver.page_source\n",
    "#                 soup = BeautifulSoup(html, 'html.parser')\n",
    "#                 for l in soup.find_all('input',{'name':\"input_check\"}):\n",
    "#                     name.append(l.get('title')[:-5])\n",
    "#                     code.append(l.get('value'))\n",
    "#                     rankDATE.append('20{}{}년 {}월'.format((3-i),(10-j),k))\n",
    "               "
   ]
  },
  {
   "cell_type": "markdown",
   "metadata": {},
   "source": [
    "### 2020년 top100차트 가져오기"
   ]
  },
  {
   "cell_type": "code",
   "execution_count": 5,
   "metadata": {},
   "outputs": [],
   "source": [
    "# ##2020년\n",
    "# # 홈페이지 접속\n",
    "# # options = webdriver.ChromeOptions()\n",
    "# # options.add_argument('headless')    # 웹 브라우저를 띄우지 않는 headless chrome 옵션 적용\n",
    "# # options.add_argument('disable-gpu')    # GPU 사용 안함\n",
    "# # options.add_argument('lang=ko_KR')    # 언어 설정\n",
    "# name2=[]\n",
    "# code2=[]\n",
    "# date=[]\n",
    "# driver = webdriver.Chrome('../chromedriver.exe') #  옵션 적용\n",
    "# driver.get('https://www.melon.com/chart/month/index.htm')\n",
    "# driver.find_element_by_xpath('//*[@id=\"conts\"]/div[3]/div/button').click()\n",
    "# driver.find_element_by_xpath('//*[@id=\"conts\"]/div[3]/div/div/dl/dd[2]/a').click()\n",
    "# driver.find_element_by_xpath('//*[@id=\"d_chart_search\"]/div/h4[2]/a').click()# 월별 차트 클릭\n",
    "# time.sleep(1)\n",
    "# element = driver.find_element_by_xpath('//*[@id=\"decade_1\"]') #년대 선택\n",
    "# driver.execute_script(\"arguments[0].click();\", element) \n",
    "# time.sleep(3)\n",
    "# element2 = driver.find_element_by_xpath('/html/body/div/div[3]/div/div/form/div[1]/div/div/div[2]/div[1]/ul/li/span/input') # 년도 선택\n",
    "# driver.execute_script(\"arguments[0].click();\", element2) \n",
    "\n",
    "# for k in tqdm(range(1,8)):\n",
    "#             element3 = driver.find_element_by_xpath('//*[@id=\"month_{}\"]'.format(str(k))) # 월 선택\n",
    "#             driver.execute_script(\"arguments[0].click();\", element3)\n",
    "#             time.sleep(1)\n",
    "#             element4 = driver.find_element_by_xpath('//*[@id=\"gnr_2\"]')  # 장르 선택\n",
    "#             time.sleep(1)\n",
    "#             driver.execute_script(\"arguments[0].click();\", element4)\n",
    "#             driver.find_element_by_xpath('//*[@id=\"d_srch_form\"]/div[2]/button').click()\n",
    "#             html = driver.page_source\n",
    "#             soup = BeautifulSoup(html, 'html.parser')\n",
    "#             for l in soup.find_all('input',{'name':\"input_check\"}):\n",
    "#                 name2.append(l.get('title')[:-5])\n",
    "#                 code2.append(l.get('value'))\n"
   ]
  },
  {
   "cell_type": "markdown",
   "metadata": {},
   "source": [
    "#### 2000~2019년 곡정보 + 2020년 곡 이름,코드 하나의 데이터프레임으로 합치기"
   ]
  },
  {
   "cell_type": "code",
   "execution_count": 7,
   "metadata": {
    "scrolled": true
   },
   "outputs": [],
   "source": [
    "# df = pd.DataFrame(name,code).reset_index()\n",
    "# df2 = pd.DataFrame(name2,code2).reset_index()\n",
    "# df3= pd.concat([df,df2])\n",
    "# df3.columns =['code','name']"
   ]
  },
  {
   "cell_type": "markdown",
   "metadata": {},
   "source": [
    "#### 2000년~2020년의 데이터 중복제거"
   ]
  },
  {
   "cell_type": "code",
   "execution_count": 9,
   "metadata": {
    "scrolled": true
   },
   "outputs": [],
   "source": [
    "# top100=df3.drop_duplicates(['code']).reset_index(drop=True)"
   ]
  },
  {
   "cell_type": "markdown",
   "metadata": {},
   "source": [
    "#### csv파일로 저장"
   ]
  },
  {
   "cell_type": "code",
   "execution_count": 321,
   "metadata": {},
   "outputs": [],
   "source": [
    "# df3.to_csv(\"곡이름코드원본.csv\",encoding='cp949',index=False)\n",
    "# top100.to_csv(\"곡이름코드.csv\",encoding='cp949',index=False)\n",
    "# df.to_csv(\"곡이름.csv\")"
   ]
  },
  {
   "cell_type": "code",
   "execution_count": 3,
   "metadata": {},
   "outputs": [
    {
     "data": {
      "text/html": [
       "<div>\n",
       "<style scoped>\n",
       "    .dataframe tbody tr th:only-of-type {\n",
       "        vertical-align: middle;\n",
       "    }\n",
       "\n",
       "    .dataframe tbody tr th {\n",
       "        vertical-align: top;\n",
       "    }\n",
       "\n",
       "    .dataframe thead th {\n",
       "        text-align: right;\n",
       "    }\n",
       "</style>\n",
       "<table border=\"1\" class=\"dataframe\">\n",
       "  <thead>\n",
       "    <tr style=\"text-align: right;\">\n",
       "      <th></th>\n",
       "      <th>code</th>\n",
       "      <th>name</th>\n",
       "    </tr>\n",
       "  </thead>\n",
       "  <tbody>\n",
       "    <tr>\n",
       "      <th>0</th>\n",
       "      <td>31532643</td>\n",
       "      <td>넘쳐흘러</td>\n",
       "    </tr>\n",
       "    <tr>\n",
       "      <th>1</th>\n",
       "      <td>31532438</td>\n",
       "      <td>벌써 12시</td>\n",
       "    </tr>\n",
       "    <tr>\n",
       "      <th>2</th>\n",
       "      <td>31477685</td>\n",
       "      <td>180도</td>\n",
       "    </tr>\n",
       "    <tr>\n",
       "      <th>3</th>\n",
       "      <td>31406357</td>\n",
       "      <td>신용재</td>\n",
       "    </tr>\n",
       "    <tr>\n",
       "      <th>4</th>\n",
       "      <td>31417871</td>\n",
       "      <td>SOLO</td>\n",
       "    </tr>\n",
       "    <tr>\n",
       "      <th>...</th>\n",
       "      <td>...</td>\n",
       "      <td>...</td>\n",
       "    </tr>\n",
       "    <tr>\n",
       "      <th>7755</th>\n",
       "      <td>32620704</td>\n",
       "      <td>Poppin'</td>\n",
       "    </tr>\n",
       "    <tr>\n",
       "      <th>7756</th>\n",
       "      <td>32620703</td>\n",
       "      <td>Underwater</td>\n",
       "    </tr>\n",
       "    <tr>\n",
       "      <th>7757</th>\n",
       "      <td>32665408</td>\n",
       "      <td>작사가</td>\n",
       "    </tr>\n",
       "    <tr>\n",
       "      <th>7758</th>\n",
       "      <td>32620701</td>\n",
       "      <td>R U Ridin'?</td>\n",
       "    </tr>\n",
       "    <tr>\n",
       "      <th>7759</th>\n",
       "      <td>32620705</td>\n",
       "      <td>Ghost</td>\n",
       "    </tr>\n",
       "  </tbody>\n",
       "</table>\n",
       "<p>7760 rows × 2 columns</p>\n",
       "</div>"
      ],
      "text/plain": [
       "          code         name\n",
       "0     31532643         넘쳐흘러\n",
       "1     31532438       벌써 12시\n",
       "2     31477685         180도\n",
       "3     31406357          신용재\n",
       "4     31417871         SOLO\n",
       "...        ...          ...\n",
       "7755  32620704      Poppin'\n",
       "7756  32620703   Underwater\n",
       "7757  32665408          작사가\n",
       "7758  32620701  R U Ridin'?\n",
       "7759  32620705        Ghost\n",
       "\n",
       "[7760 rows x 2 columns]"
      ]
     },
     "execution_count": 3,
     "metadata": {},
     "output_type": "execute_result"
    }
   ],
   "source": [
    "df = pd.read_csv(\"곡이름코드.csv\",encoding='cp949')\n",
    "df"
   ]
  },
  {
   "cell_type": "markdown",
   "metadata": {},
   "source": [
    "### 2000년~2020년의 곡이름에 대한 정보(가사, 가수,장르,댓글정보, 발매일) 가져오기"
   ]
  },
  {
   "cell_type": "code",
   "execution_count": 49,
   "metadata": {
    "scrolled": true
   },
   "outputs": [
    {
     "data": {
      "application/vnd.jupyter.widget-view+json": {
       "model_id": "59c8e63b017c4f9f832b719313ff4a04",
       "version_major": 2,
       "version_minor": 0
      },
      "text/plain": [
       "HBox(children=(FloatProgress(value=0.0, max=760.0), HTML(value='')))"
      ]
     },
     "metadata": {},
     "output_type": "display_data"
    },
    {
     "name": "stdout",
     "output_type": "stream",
     "text": [
      "\n"
     ]
    }
   ],
   "source": [
    "# import pandas as pd\n",
    "# import numpy as np\n",
    "# from tqdm.notebook import tqdm\n",
    "# import time\n",
    "# from bs4 import BeautifulSoup\n",
    "# import urllib.request\n",
    "# import urllib.parse\n",
    "# import requests\n",
    "# lyric=[]\n",
    "# artist=[]\n",
    "# date=[]\n",
    "# comment=[]\n",
    "# commentlist=[]\n",
    "# genre=[]\n",
    "# hdr = { 'User-Agent' : 'Mozilla/5.0'} #헤더설정\n",
    "# lyric=[]\n",
    "# artist=[]\n",
    "# date=[]\n",
    "# comment=[]\n",
    "# commentlist=[]\n",
    "# genre=[]\n",
    "# for i in tqdm(df['code'][7000:7760]):\n",
    "#     url='https://www.melon.com/song/detail.htm?songId={}'.format(i)\n",
    "#     req = urllib.request.Request(url, headers=hdr)\n",
    "#     html=urllib.request.urlopen(req).read()\n",
    "#     soup = BeautifulSoup(html,'html.parser')\n",
    "#     try:\n",
    "#         artist.append(soup.find('div',class_='artist').text[1:-1])\n",
    "#     except Exception as err:\n",
    "#         artist.append(None)\n",
    "#     try:\n",
    "#         date.append(soup.select('#downloadfrm > div > div > div.entry > div.meta > dl.list > dd')[1].text)\n",
    "#     except Exception as err:\n",
    "#         date.append(None)\n",
    "#     try:\n",
    "#         genre.append(soup.select('#downloadfrm > div > div > div.entry > div.meta > dl.list > dd')[2].text)\n",
    "#     except Exception as err:\n",
    "#         genre.append(None)\n",
    "#     try:\n",
    "#         lyric.append(soup.find('div',class_='lyric').text[9:-1])\n",
    "#     except Exception as err: \n",
    "#         lyric.append(None)\n",
    "        \n",
    "# # # 댓글에 대한 정보, 동적인 페이지라 driver사용 (추천수 댓글 10개만)\n",
    "# #     url2 = 'https://www.melon.com/song/detail.htm?songId={}#cmtpgn=&pageNo=1&sortType=1&srchType=2&srchWord'.format(i)\n",
    "# #     driver = webdriver.Chrome('./chromedriver.exe',options=options) #  옵션 적용\n",
    "# #     driver.get(url2)\n",
    "# #     html = driver.page_source\n",
    "# #     soup = BeautifulSoup(html,'html.parser')\n",
    "# #     for k in soup.find_all('div',class_='cntt')[4:9]:\n",
    "# #         try:\n",
    "# #             comment.append(k.text[16:-2])\n",
    "# #         except AttributeError as err:\n",
    "# #             comment.append(None)\n",
    "# #     commentlist.append(comment)\n",
    "    \n"
   ]
  },
  {
   "cell_type": "markdown",
   "metadata": {},
   "source": [
    "### 댓글정보가 크롤링이 막혀 우선은 가사정보로만 감성분석하기로 결정"
   ]
  },
  {
   "cell_type": "code",
   "execution_count": null,
   "metadata": {},
   "outputs": [],
   "source": [
    "### 가사정보도 크롤링이 한번에 되지 않아 7760개의 데이터를 나눠서 크롤링해왔다"
   ]
  },
  {
   "cell_type": "code",
   "execution_count": 22,
   "metadata": {
    "scrolled": true
   },
   "outputs": [],
   "source": [
    "# s1000 = pd.DataFrame(data={'artist':artist, 'genre':genre, 'lyric':lyric ,'date':date})\n",
    "# s1000.to_csv('s1000.csv',encoding='utf-8',index=False)"
   ]
  },
  {
   "cell_type": "code",
   "execution_count": 151,
   "metadata": {},
   "outputs": [],
   "source": [
    "# s2000 = pd.DataFrame(data={'artist':artist, 'genre':genre, 'lyric':lyric ,'date':date})\n",
    "# s2000.to_csv('s2000.csv',encoding='utf-8',index=False)"
   ]
  },
  {
   "cell_type": "code",
   "execution_count": null,
   "metadata": {},
   "outputs": [],
   "source": [
    "# s3000 = pd.DataFrame(data={'artist':artist, 'genre':genre, 'lyric':lyric ,'date':date})\n",
    "# s3000.to_csv('s3000.csv',encoding='utf-8',index=False)"
   ]
  },
  {
   "cell_type": "code",
   "execution_count": 24,
   "metadata": {
    "scrolled": false
   },
   "outputs": [],
   "source": [
    "# s4000 = pd.DataFrame(data={'artist':artist, 'genre':genre, 'lyric':lyric ,'date':date})\n",
    "# s4000.to_csv('s3000.csv',encoding='utf-8',index=False)"
   ]
  },
  {
   "cell_type": "code",
   "execution_count": 148,
   "metadata": {
    "scrolled": false
   },
   "outputs": [
    {
     "data": {
      "text/plain": [
       "1000"
      ]
     },
     "execution_count": 148,
     "metadata": {},
     "output_type": "execute_result"
    }
   ],
   "source": [
    "# s5000 = pd.DataFrame(data={'artist':artist, 'genre':genre, 'lyric':lyric ,'date':date})\n",
    "# s5000.to_csv('s5000.csv',encoding='utf-8',index=False)"
   ]
  },
  {
   "cell_type": "code",
   "execution_count": null,
   "metadata": {},
   "outputs": [],
   "source": [
    "# s6000 = pd.DataFrame(data={'artist':artist, 'genre':genre, 'lyric':lyric ,'date':date})\n",
    "# s6000.to_csv('s6000.csv',encoding='utf-8',index=False)"
   ]
  },
  {
   "cell_type": "code",
   "execution_count": 31,
   "metadata": {},
   "outputs": [],
   "source": [
    "# s6500 = pd.DataFrame(data={'artist':artist[1000:], 'genre':genre[1000:], 'lyric':lyric[1000:] ,'date':date[1000:]})\n",
    "# s6500.to_csv('s6500.csv',encoding='utf-8',index=False)"
   ]
  },
  {
   "cell_type": "code",
   "execution_count": 47,
   "metadata": {},
   "outputs": [],
   "source": [
    "# s7000 = pd.DataFrame(data={'artist':artist, 'genre':genre, 'lyric':lyric ,'date':date})\n",
    "# s7000.to_csv('s7000.csv',encoding='utf-8',index=False)"
   ]
  },
  {
   "cell_type": "code",
   "execution_count": 51,
   "metadata": {},
   "outputs": [],
   "source": [
    "# s7600 = pd.DataFrame(data={'artist':artist, 'genre':genre, 'lyric':lyric ,'date':date})\n",
    "# s7600.to_csv('s7600.csv',encoding='utf-8',index=False)"
   ]
  },
  {
   "cell_type": "code",
   "execution_count": null,
   "metadata": {},
   "outputs": [],
   "source": [
    "## 나눠서 크롤링해온 자료 통합"
   ]
  },
  {
   "cell_type": "code",
   "execution_count": 56,
   "metadata": {
    "scrolled": true
   },
   "outputs": [],
   "source": [
    "# s1=pd.read_csv('s1000.csv')\n",
    "# s2=pd.read_csv('s2000.csv')\n",
    "# s3=pd.read_csv('s3000.csv')\n",
    "# s4=pd.read_csv('s4000.csv')\n",
    "# s5=pd.read_csv('s5000.csv')\n",
    "# s6=pd.read_csv('s6000.csv')\n",
    "# s7=pd.read_csv('s6500.csv')\n",
    "# s8=pd.read_csv('s7000.csv')\n",
    "# s9=pd.read_csv('s7600.csv')\n",
    "# df2 = pd.concat([s1,s2,s3,s4,s5,s6,s7,s8,s9]).reset_index(drop=True)"
   ]
  },
  {
   "cell_type": "code",
   "execution_count": 75,
   "metadata": {
    "scrolled": true
   },
   "outputs": [],
   "source": [
    "# df_final= pd.concat([df,df2],axis=1) # 앞으로 쓸 최종 데이터\n",
    "# df_final.to_csv('final.csv',encoding='utf-8',index=False)"
   ]
  },
  {
   "cell_type": "code",
   "execution_count": 79,
   "metadata": {},
   "outputs": [],
   "source": [
    "## 최종 데이터 가져오기"
   ]
  },
  {
   "cell_type": "code",
   "execution_count": 4,
   "metadata": {},
   "outputs": [
    {
     "data": {
      "text/html": [
       "<div>\n",
       "<style scoped>\n",
       "    .dataframe tbody tr th:only-of-type {\n",
       "        vertical-align: middle;\n",
       "    }\n",
       "\n",
       "    .dataframe tbody tr th {\n",
       "        vertical-align: top;\n",
       "    }\n",
       "\n",
       "    .dataframe thead th {\n",
       "        text-align: right;\n",
       "    }\n",
       "</style>\n",
       "<table border=\"1\" class=\"dataframe\">\n",
       "  <thead>\n",
       "    <tr style=\"text-align: right;\">\n",
       "      <th></th>\n",
       "      <th>code</th>\n",
       "      <th>name</th>\n",
       "      <th>artist</th>\n",
       "      <th>genre</th>\n",
       "      <th>lyric</th>\n",
       "      <th>date</th>\n",
       "    </tr>\n",
       "  </thead>\n",
       "  <tbody>\n",
       "    <tr>\n",
       "      <th>0</th>\n",
       "      <td>31532643</td>\n",
       "      <td>넘쳐흘러</td>\n",
       "      <td>엠씨더맥스 (M.C the MAX)</td>\n",
       "      <td>발라드</td>\n",
       "      <td>나는 그대를 뒤로한 채로우리 사랑을 놓아요차오르는 추억을 헝클어뜨려모두 일어나지 않...</td>\n",
       "      <td>2019.01.02</td>\n",
       "    </tr>\n",
       "    <tr>\n",
       "      <th>1</th>\n",
       "      <td>31532438</td>\n",
       "      <td>벌써 12시</td>\n",
       "      <td>청하</td>\n",
       "      <td>댄스</td>\n",
       "      <td>Yeah I like it네가 말을 놓는 것도Like it 너의 작은 말투도나쁘지 ...</td>\n",
       "      <td>2019.01.02</td>\n",
       "    </tr>\n",
       "    <tr>\n",
       "      <th>2</th>\n",
       "      <td>31477685</td>\n",
       "      <td>180도</td>\n",
       "      <td>벤</td>\n",
       "      <td>발라드</td>\n",
       "      <td>사랑 다 비슷해 그래 다 비슷해너는 다르길 바랐는데넌 뭐가 미안해 왜 맨날 미안해헤...</td>\n",
       "      <td>2018.12.07</td>\n",
       "    </tr>\n",
       "    <tr>\n",
       "      <th>3</th>\n",
       "      <td>31406357</td>\n",
       "      <td>신용재</td>\n",
       "      <td>하은</td>\n",
       "      <td>발라드</td>\n",
       "      <td>매일 같은 옷을 입는 이유 너와 함께 입던 옷이라서혹시 어디선가 알아보고 날 찾아줄...</td>\n",
       "      <td>2018.11.06</td>\n",
       "    </tr>\n",
       "    <tr>\n",
       "      <th>4</th>\n",
       "      <td>31417871</td>\n",
       "      <td>SOLO</td>\n",
       "      <td>제니 (JENNIE)</td>\n",
       "      <td>랩/힙합</td>\n",
       "      <td>천진난만 청순가련새침한 척 이젠 지쳐 나귀찮아매일 뭐 해 어디야 밥은 잘 자Baby...</td>\n",
       "      <td>2018.11.12</td>\n",
       "    </tr>\n",
       "    <tr>\n",
       "      <th>...</th>\n",
       "      <td>...</td>\n",
       "      <td>...</td>\n",
       "      <td>...</td>\n",
       "      <td>...</td>\n",
       "      <td>...</td>\n",
       "      <td>...</td>\n",
       "    </tr>\n",
       "    <tr>\n",
       "      <th>7755</th>\n",
       "      <td>32620704</td>\n",
       "      <td>Poppin'</td>\n",
       "      <td>백현 (BAEKHYUN)</td>\n",
       "      <td>R&amp;B/Soul</td>\n",
       "      <td>너는 들을수록자꾸 좋아지는 노래보고 또 봐도 귀여운사랑스런 영화 같은데커플들의 클리...</td>\n",
       "      <td>2020.05.25</td>\n",
       "    </tr>\n",
       "    <tr>\n",
       "      <th>7756</th>\n",
       "      <td>32620703</td>\n",
       "      <td>Underwater</td>\n",
       "      <td>백현 (BAEKHYUN)</td>\n",
       "      <td>R&amp;B/Soul</td>\n",
       "      <td>귀찮게 또 울린 phone잠깐 airplane mode불 꺼진 방에 홀로 눈 감은 ...</td>\n",
       "      <td>2020.05.25</td>\n",
       "    </tr>\n",
       "    <tr>\n",
       "      <th>7757</th>\n",
       "      <td>32665408</td>\n",
       "      <td>작사가</td>\n",
       "      <td>헤이즈 (Heize)</td>\n",
       "      <td>R&amp;B/Soul</td>\n",
       "      <td>천사와 악마가 내 손끝에 웃어도 울어도 가사를 적네 종이가 다 젖어도 나는 멈추지 ...</td>\n",
       "      <td>2020.06.10</td>\n",
       "    </tr>\n",
       "    <tr>\n",
       "      <th>7758</th>\n",
       "      <td>32620701</td>\n",
       "      <td>R U Ridin'?</td>\n",
       "      <td>백현 (BAEKHYUN)</td>\n",
       "      <td>R&amp;B/Soul</td>\n",
       "      <td>가볍게 널 스치는 바람이 좋아 보여그 표정을 읽을 수는 없는데크게 튼 음악 볼륨 속...</td>\n",
       "      <td>2020.05.25</td>\n",
       "    </tr>\n",
       "    <tr>\n",
       "      <th>7759</th>\n",
       "      <td>32620705</td>\n",
       "      <td>Ghost</td>\n",
       "      <td>백현 (BAEKHYUN)</td>\n",
       "      <td>R&amp;B/Soul</td>\n",
       "      <td>넌 고요한 정적이 감싸면 꿈속에가둬 날 깊숙이 더욱 깊숙이또 가만히 밀려와 잔잔한 ...</td>\n",
       "      <td>2020.05.25</td>\n",
       "    </tr>\n",
       "  </tbody>\n",
       "</table>\n",
       "<p>7760 rows × 6 columns</p>\n",
       "</div>"
      ],
      "text/plain": [
       "          code         name               artist     genre  \\\n",
       "0     31532643         넘쳐흘러  엠씨더맥스 (M.C the MAX)       발라드   \n",
       "1     31532438       벌써 12시                   청하        댄스   \n",
       "2     31477685         180도                    벤       발라드   \n",
       "3     31406357          신용재                   하은       발라드   \n",
       "4     31417871         SOLO          제니 (JENNIE)      랩/힙합   \n",
       "...        ...          ...                  ...       ...   \n",
       "7755  32620704      Poppin'        백현 (BAEKHYUN)  R&B/Soul   \n",
       "7756  32620703   Underwater        백현 (BAEKHYUN)  R&B/Soul   \n",
       "7757  32665408          작사가          헤이즈 (Heize)  R&B/Soul   \n",
       "7758  32620701  R U Ridin'?        백현 (BAEKHYUN)  R&B/Soul   \n",
       "7759  32620705        Ghost        백현 (BAEKHYUN)  R&B/Soul   \n",
       "\n",
       "                                                  lyric        date  \n",
       "0     나는 그대를 뒤로한 채로우리 사랑을 놓아요차오르는 추억을 헝클어뜨려모두 일어나지 않...  2019.01.02  \n",
       "1     Yeah I like it네가 말을 놓는 것도Like it 너의 작은 말투도나쁘지 ...  2019.01.02  \n",
       "2     사랑 다 비슷해 그래 다 비슷해너는 다르길 바랐는데넌 뭐가 미안해 왜 맨날 미안해헤...  2018.12.07  \n",
       "3     매일 같은 옷을 입는 이유 너와 함께 입던 옷이라서혹시 어디선가 알아보고 날 찾아줄...  2018.11.06  \n",
       "4     천진난만 청순가련새침한 척 이젠 지쳐 나귀찮아매일 뭐 해 어디야 밥은 잘 자Baby...  2018.11.12  \n",
       "...                                                 ...         ...  \n",
       "7755  너는 들을수록자꾸 좋아지는 노래보고 또 봐도 귀여운사랑스런 영화 같은데커플들의 클리...  2020.05.25  \n",
       "7756  귀찮게 또 울린 phone잠깐 airplane mode불 꺼진 방에 홀로 눈 감은 ...  2020.05.25  \n",
       "7757  천사와 악마가 내 손끝에 웃어도 울어도 가사를 적네 종이가 다 젖어도 나는 멈추지 ...  2020.06.10  \n",
       "7758  가볍게 널 스치는 바람이 좋아 보여그 표정을 읽을 수는 없는데크게 튼 음악 볼륨 속...  2020.05.25  \n",
       "7759  넌 고요한 정적이 감싸면 꿈속에가둬 날 깊숙이 더욱 깊숙이또 가만히 밀려와 잔잔한 ...  2020.05.25  \n",
       "\n",
       "[7760 rows x 6 columns]"
      ]
     },
     "execution_count": 4,
     "metadata": {},
     "output_type": "execute_result"
    }
   ],
   "source": [
    "df = pd.read_csv('final.csv')\n",
    "df"
   ]
  },
  {
   "cell_type": "markdown",
   "metadata": {},
   "source": [
    "#### null값 처리"
   ]
  },
  {
   "cell_type": "code",
   "execution_count": 5,
   "metadata": {},
   "outputs": [
    {
     "data": {
      "text/plain": [
       "code        0\n",
       "name        0\n",
       "artist     10\n",
       "genre      10\n",
       "lyric     154\n",
       "date       10\n",
       "dtype: int64"
      ]
     },
     "execution_count": 5,
     "metadata": {},
     "output_type": "execute_result"
    }
   ],
   "source": [
    "df.isnull().sum()"
   ]
  },
  {
   "cell_type": "code",
   "execution_count": 6,
   "metadata": {
    "scrolled": true
   },
   "outputs": [
    {
     "data": {
      "text/html": [
       "<div>\n",
       "<style scoped>\n",
       "    .dataframe tbody tr th:only-of-type {\n",
       "        vertical-align: middle;\n",
       "    }\n",
       "\n",
       "    .dataframe tbody tr th {\n",
       "        vertical-align: top;\n",
       "    }\n",
       "\n",
       "    .dataframe thead th {\n",
       "        text-align: right;\n",
       "    }\n",
       "</style>\n",
       "<table border=\"1\" class=\"dataframe\">\n",
       "  <thead>\n",
       "    <tr style=\"text-align: right;\">\n",
       "      <th></th>\n",
       "      <th>code</th>\n",
       "      <th>name</th>\n",
       "      <th>artist</th>\n",
       "      <th>genre</th>\n",
       "      <th>lyric</th>\n",
       "      <th>date</th>\n",
       "    </tr>\n",
       "  </thead>\n",
       "  <tbody>\n",
       "    <tr>\n",
       "      <th>47</th>\n",
       "      <td>31144690</td>\n",
       "      <td>IndiGO</td>\n",
       "      <td>저스디스 (JUSTHIS), Kid Milli, NO:EL, 양홍원</td>\n",
       "      <td>랩/힙합</td>\n",
       "      <td>NaN</td>\n",
       "      <td>2018.06.24</td>\n",
       "    </tr>\n",
       "    <tr>\n",
       "      <th>213</th>\n",
       "      <td>31854689</td>\n",
       "      <td>BAND</td>\n",
       "      <td>창모 (CHANGMO), Hash Swan, ASH ISLAND, 김효은</td>\n",
       "      <td>랩/힙합</td>\n",
       "      <td>NaN</td>\n",
       "      <td>2019.06.08</td>\n",
       "    </tr>\n",
       "    <tr>\n",
       "      <th>433</th>\n",
       "      <td>30688501</td>\n",
       "      <td>노땡큐 (Feat. MINO, 사이먼 도미닉, 더콰이엇)</td>\n",
       "      <td>에픽하이 (EPIK HIGH)</td>\n",
       "      <td>랩/힙합</td>\n",
       "      <td>NaN</td>\n",
       "      <td>2017.10.23</td>\n",
       "    </tr>\n",
       "    <tr>\n",
       "      <th>511</th>\n",
       "      <td>31004548</td>\n",
       "      <td>탓 (Prod. BOYCOLD)</td>\n",
       "      <td>빈첸 (VINXEN)</td>\n",
       "      <td>랩/힙합</td>\n",
       "      <td>NaN</td>\n",
       "      <td>2018.04.07</td>\n",
       "    </tr>\n",
       "    <tr>\n",
       "      <th>744</th>\n",
       "      <td>8276708</td>\n",
       "      <td>마에스트로 (Maestro)</td>\n",
       "      <td>창모 (CHANGMO)</td>\n",
       "      <td>랩/힙합</td>\n",
       "      <td>NaN</td>\n",
       "      <td>2016.07.21</td>\n",
       "    </tr>\n",
       "    <tr>\n",
       "      <th>...</th>\n",
       "      <td>...</td>\n",
       "      <td>...</td>\n",
       "      <td>...</td>\n",
       "      <td>...</td>\n",
       "      <td>...</td>\n",
       "      <td>...</td>\n",
       "    </tr>\n",
       "    <tr>\n",
       "      <th>7592</th>\n",
       "      <td>2975256</td>\n",
       "      <td>결혼 행진곡</td>\n",
       "      <td>Felix Mendelssohn</td>\n",
       "      <td>클래식</td>\n",
       "      <td>NaN</td>\n",
       "      <td>2000.06</td>\n",
       "    </tr>\n",
       "    <tr>\n",
       "      <th>7597</th>\n",
       "      <td>3454850</td>\n",
       "      <td>Age Of Peace</td>\n",
       "      <td>H.O.T.</td>\n",
       "      <td>국내영화</td>\n",
       "      <td>NaN</td>\n",
       "      <td>2010.07.15</td>\n",
       "    </tr>\n",
       "    <tr>\n",
       "      <th>7608</th>\n",
       "      <td>2962491</td>\n",
       "      <td>Hey Girl</td>\n",
       "      <td>NaN</td>\n",
       "      <td>NaN</td>\n",
       "      <td>NaN</td>\n",
       "      <td>NaN</td>\n",
       "    </tr>\n",
       "    <tr>\n",
       "      <th>7611</th>\n",
       "      <td>1706205</td>\n",
       "      <td>파리넬리 - 울게하소서</td>\n",
       "      <td>조관우</td>\n",
       "      <td>발라드</td>\n",
       "      <td>NaN</td>\n",
       "      <td>2000.06</td>\n",
       "    </tr>\n",
       "    <tr>\n",
       "      <th>7632</th>\n",
       "      <td>87908</td>\n",
       "      <td>나만의 사랑 ~ Just My Love ~</td>\n",
       "      <td>김원준</td>\n",
       "      <td>발라드, 댄스</td>\n",
       "      <td>NaN</td>\n",
       "      <td>2000.06.20</td>\n",
       "    </tr>\n",
       "  </tbody>\n",
       "</table>\n",
       "<p>154 rows × 6 columns</p>\n",
       "</div>"
      ],
      "text/plain": [
       "          code                             name  \\\n",
       "47    31144690                           IndiGO   \n",
       "213   31854689                             BAND   \n",
       "433   30688501  노땡큐 (Feat. MINO, 사이먼 도미닉, 더콰이엇)   \n",
       "511   31004548                탓 (Prod. BOYCOLD)   \n",
       "744    8276708                  마에스트로 (Maestro)   \n",
       "...        ...                              ...   \n",
       "7592   2975256                           결혼 행진곡   \n",
       "7597   3454850                     Age Of Peace   \n",
       "7608   2962491                         Hey Girl   \n",
       "7611   1706205                     파리넬리 - 울게하소서   \n",
       "7632     87908          나만의 사랑 ~ Just My Love ~   \n",
       "\n",
       "                                        artist    genre lyric        date  \n",
       "47       저스디스 (JUSTHIS), Kid Milli, NO:EL, 양홍원     랩/힙합   NaN  2018.06.24  \n",
       "213   창모 (CHANGMO), Hash Swan, ASH ISLAND, 김효은     랩/힙합   NaN  2019.06.08  \n",
       "433                           에픽하이 (EPIK HIGH)     랩/힙합   NaN  2017.10.23  \n",
       "511                                빈첸 (VINXEN)     랩/힙합   NaN  2018.04.07  \n",
       "744                               창모 (CHANGMO)     랩/힙합   NaN  2016.07.21  \n",
       "...                                        ...      ...   ...         ...  \n",
       "7592                         Felix Mendelssohn      클래식   NaN     2000.06  \n",
       "7597                                    H.O.T.     국내영화   NaN  2010.07.15  \n",
       "7608                                       NaN      NaN   NaN         NaN  \n",
       "7611                                       조관우      발라드   NaN     2000.06  \n",
       "7632                                       김원준  발라드, 댄스   NaN  2000.06.20  \n",
       "\n",
       "[154 rows x 6 columns]"
      ]
     },
     "execution_count": 6,
     "metadata": {},
     "output_type": "execute_result"
    }
   ],
   "source": [
    "df[df['lyric'].isnull()] "
   ]
  },
  {
   "cell_type": "code",
   "execution_count": 8,
   "metadata": {
    "scrolled": true
   },
   "outputs": [],
   "source": [
    "df = df.dropna().reset_index(drop=True) ## 가사가 없는 곡은 이용할 수 없기 때문에 삭제한다"
   ]
  },
  {
   "cell_type": "code",
   "execution_count": 9,
   "metadata": {},
   "outputs": [
    {
     "data": {
      "text/html": [
       "<div>\n",
       "<style scoped>\n",
       "    .dataframe tbody tr th:only-of-type {\n",
       "        vertical-align: middle;\n",
       "    }\n",
       "\n",
       "    .dataframe tbody tr th {\n",
       "        vertical-align: top;\n",
       "    }\n",
       "\n",
       "    .dataframe thead th {\n",
       "        text-align: right;\n",
       "    }\n",
       "</style>\n",
       "<table border=\"1\" class=\"dataframe\">\n",
       "  <thead>\n",
       "    <tr style=\"text-align: right;\">\n",
       "      <th></th>\n",
       "      <th>code</th>\n",
       "      <th>name</th>\n",
       "      <th>artist</th>\n",
       "      <th>genre</th>\n",
       "      <th>lyric</th>\n",
       "      <th>date</th>\n",
       "    </tr>\n",
       "  </thead>\n",
       "  <tbody>\n",
       "    <tr>\n",
       "      <th>0</th>\n",
       "      <td>31532643</td>\n",
       "      <td>넘쳐흘러</td>\n",
       "      <td>엠씨더맥스 (M.C the MAX)</td>\n",
       "      <td>발라드</td>\n",
       "      <td>나는 그대를 뒤로한 채로우리 사랑을 놓아요차오르는 추억을 헝클어뜨려모두 일어나지 않...</td>\n",
       "      <td>2019.01.02</td>\n",
       "    </tr>\n",
       "    <tr>\n",
       "      <th>1</th>\n",
       "      <td>31532438</td>\n",
       "      <td>벌써 12시</td>\n",
       "      <td>청하</td>\n",
       "      <td>댄스</td>\n",
       "      <td>Yeah I like it네가 말을 놓는 것도Like it 너의 작은 말투도나쁘지 ...</td>\n",
       "      <td>2019.01.02</td>\n",
       "    </tr>\n",
       "    <tr>\n",
       "      <th>2</th>\n",
       "      <td>31477685</td>\n",
       "      <td>180도</td>\n",
       "      <td>벤</td>\n",
       "      <td>발라드</td>\n",
       "      <td>사랑 다 비슷해 그래 다 비슷해너는 다르길 바랐는데넌 뭐가 미안해 왜 맨날 미안해헤...</td>\n",
       "      <td>2018.12.07</td>\n",
       "    </tr>\n",
       "    <tr>\n",
       "      <th>3</th>\n",
       "      <td>31406357</td>\n",
       "      <td>신용재</td>\n",
       "      <td>하은</td>\n",
       "      <td>발라드</td>\n",
       "      <td>매일 같은 옷을 입는 이유 너와 함께 입던 옷이라서혹시 어디선가 알아보고 날 찾아줄...</td>\n",
       "      <td>2018.11.06</td>\n",
       "    </tr>\n",
       "    <tr>\n",
       "      <th>4</th>\n",
       "      <td>31417871</td>\n",
       "      <td>SOLO</td>\n",
       "      <td>제니 (JENNIE)</td>\n",
       "      <td>랩/힙합</td>\n",
       "      <td>천진난만 청순가련새침한 척 이젠 지쳐 나귀찮아매일 뭐 해 어디야 밥은 잘 자Baby...</td>\n",
       "      <td>2018.11.12</td>\n",
       "    </tr>\n",
       "    <tr>\n",
       "      <th>...</th>\n",
       "      <td>...</td>\n",
       "      <td>...</td>\n",
       "      <td>...</td>\n",
       "      <td>...</td>\n",
       "      <td>...</td>\n",
       "      <td>...</td>\n",
       "    </tr>\n",
       "    <tr>\n",
       "      <th>7601</th>\n",
       "      <td>32620704</td>\n",
       "      <td>Poppin'</td>\n",
       "      <td>백현 (BAEKHYUN)</td>\n",
       "      <td>R&amp;B/Soul</td>\n",
       "      <td>너는 들을수록자꾸 좋아지는 노래보고 또 봐도 귀여운사랑스런 영화 같은데커플들의 클리...</td>\n",
       "      <td>2020.05.25</td>\n",
       "    </tr>\n",
       "    <tr>\n",
       "      <th>7602</th>\n",
       "      <td>32620703</td>\n",
       "      <td>Underwater</td>\n",
       "      <td>백현 (BAEKHYUN)</td>\n",
       "      <td>R&amp;B/Soul</td>\n",
       "      <td>귀찮게 또 울린 phone잠깐 airplane mode불 꺼진 방에 홀로 눈 감은 ...</td>\n",
       "      <td>2020.05.25</td>\n",
       "    </tr>\n",
       "    <tr>\n",
       "      <th>7603</th>\n",
       "      <td>32665408</td>\n",
       "      <td>작사가</td>\n",
       "      <td>헤이즈 (Heize)</td>\n",
       "      <td>R&amp;B/Soul</td>\n",
       "      <td>천사와 악마가 내 손끝에 웃어도 울어도 가사를 적네 종이가 다 젖어도 나는 멈추지 ...</td>\n",
       "      <td>2020.06.10</td>\n",
       "    </tr>\n",
       "    <tr>\n",
       "      <th>7604</th>\n",
       "      <td>32620701</td>\n",
       "      <td>R U Ridin'?</td>\n",
       "      <td>백현 (BAEKHYUN)</td>\n",
       "      <td>R&amp;B/Soul</td>\n",
       "      <td>가볍게 널 스치는 바람이 좋아 보여그 표정을 읽을 수는 없는데크게 튼 음악 볼륨 속...</td>\n",
       "      <td>2020.05.25</td>\n",
       "    </tr>\n",
       "    <tr>\n",
       "      <th>7605</th>\n",
       "      <td>32620705</td>\n",
       "      <td>Ghost</td>\n",
       "      <td>백현 (BAEKHYUN)</td>\n",
       "      <td>R&amp;B/Soul</td>\n",
       "      <td>넌 고요한 정적이 감싸면 꿈속에가둬 날 깊숙이 더욱 깊숙이또 가만히 밀려와 잔잔한 ...</td>\n",
       "      <td>2020.05.25</td>\n",
       "    </tr>\n",
       "  </tbody>\n",
       "</table>\n",
       "<p>7606 rows × 6 columns</p>\n",
       "</div>"
      ],
      "text/plain": [
       "          code         name               artist     genre  \\\n",
       "0     31532643         넘쳐흘러  엠씨더맥스 (M.C the MAX)       발라드   \n",
       "1     31532438       벌써 12시                   청하        댄스   \n",
       "2     31477685         180도                    벤       발라드   \n",
       "3     31406357          신용재                   하은       발라드   \n",
       "4     31417871         SOLO          제니 (JENNIE)      랩/힙합   \n",
       "...        ...          ...                  ...       ...   \n",
       "7601  32620704      Poppin'        백현 (BAEKHYUN)  R&B/Soul   \n",
       "7602  32620703   Underwater        백현 (BAEKHYUN)  R&B/Soul   \n",
       "7603  32665408          작사가          헤이즈 (Heize)  R&B/Soul   \n",
       "7604  32620701  R U Ridin'?        백현 (BAEKHYUN)  R&B/Soul   \n",
       "7605  32620705        Ghost        백현 (BAEKHYUN)  R&B/Soul   \n",
       "\n",
       "                                                  lyric        date  \n",
       "0     나는 그대를 뒤로한 채로우리 사랑을 놓아요차오르는 추억을 헝클어뜨려모두 일어나지 않...  2019.01.02  \n",
       "1     Yeah I like it네가 말을 놓는 것도Like it 너의 작은 말투도나쁘지 ...  2019.01.02  \n",
       "2     사랑 다 비슷해 그래 다 비슷해너는 다르길 바랐는데넌 뭐가 미안해 왜 맨날 미안해헤...  2018.12.07  \n",
       "3     매일 같은 옷을 입는 이유 너와 함께 입던 옷이라서혹시 어디선가 알아보고 날 찾아줄...  2018.11.06  \n",
       "4     천진난만 청순가련새침한 척 이젠 지쳐 나귀찮아매일 뭐 해 어디야 밥은 잘 자Baby...  2018.11.12  \n",
       "...                                                 ...         ...  \n",
       "7601  너는 들을수록자꾸 좋아지는 노래보고 또 봐도 귀여운사랑스런 영화 같은데커플들의 클리...  2020.05.25  \n",
       "7602  귀찮게 또 울린 phone잠깐 airplane mode불 꺼진 방에 홀로 눈 감은 ...  2020.05.25  \n",
       "7603  천사와 악마가 내 손끝에 웃어도 울어도 가사를 적네 종이가 다 젖어도 나는 멈추지 ...  2020.06.10  \n",
       "7604  가볍게 널 스치는 바람이 좋아 보여그 표정을 읽을 수는 없는데크게 튼 음악 볼륨 속...  2020.05.25  \n",
       "7605  넌 고요한 정적이 감싸면 꿈속에가둬 날 깊숙이 더욱 깊숙이또 가만히 밀려와 잔잔한 ...  2020.05.25  \n",
       "\n",
       "[7606 rows x 6 columns]"
      ]
     },
     "execution_count": 9,
     "metadata": {},
     "output_type": "execute_result"
    }
   ],
   "source": [
    "df"
   ]
  },
  {
   "cell_type": "code",
   "execution_count": 10,
   "metadata": {},
   "outputs": [],
   "source": [
    "##가사 데이터 전처리"
   ]
  },
  {
   "cell_type": "code",
   "execution_count": 16,
   "metadata": {},
   "outputs": [],
   "source": [
    "from konlpy.tag import Okt, Komoran, Mecab, Hannanum, Kkma\n",
    "from konlpy.utils import pprint\n",
    "def get_tokenizer(tokenizer_name):\n",
    "    if tokenizer_name == \"komoran\":\n",
    "        tokenizer = Komoran()\n",
    "    elif tokenizer_name == \"okt\":\n",
    "        tokenizer = Okt()\n",
    "    elif tokenizer_name == \"mecab\":\n",
    "        tokenizer = Mecab()\n",
    "    elif tokenizer_name == \"hannanum\":\n",
    "        tokenizer = Hannanum()\n",
    "    elif tokenizer_name == \"kkma\":\n",
    "        tokenizer = Kkma()\n",
    "    elif tokenizer_name == \"khaiii\":\n",
    "        tokenizer = KhaiiiApi()\n",
    "    else:\n",
    "        tokenizer = Mecab()\n",
    "    return tokenizer"
   ]
  },
  {
   "cell_type": "code",
   "execution_count": 21,
   "metadata": {},
   "outputs": [],
   "source": [
    "## OKt 사용\n",
    "tokenizer = get_tokenizer(\"okt\")"
   ]
  },
  {
   "cell_type": "code",
   "execution_count": 19,
   "metadata": {},
   "outputs": [
    {
     "data": {
      "text/plain": [
       "'나는 그대를 뒤로한 채로우리 사랑을 놓아요차오르는 추억을 헝클어뜨려모두 일어나지 않았던 일처럼고갤 저어 모르는 꿈이라말하고 있네요남았는지 모를 마음이나를 향해 힘껏 달려도어느 끝 멈춰질 그 거리에 그대다 찢겨져버린 사이 더 기워봐도다시 그때로 우리되돌려 놓을 수 없는 그 얘기날카롭게 패인 이 상처가 깊어나을 수 없으니 떠나가요떨궈진 눈물은 가슴에 담아지고이제 더는 채울 자리 없이넘쳐흐르네요그대인지 모를 얼굴이나를 향해 웃음 지어도손 내밀 수도 없는 거리에 그대또 주저앉을 수밖에무너진 이 사랑과그대의 모든 흔적을그리워하는 일만이더 할 게 없어서무력해져 가는 내가 싫어그대를 보내기 싫지만다 찢겨져버린 사이 더 기워봐도다시 그때로 우릴 되돌려놓을 수 없는 그 얘기날카롭게 패인 이 상처가 깊어나을 수 없으니 떠나가요'"
      ]
     },
     "execution_count": 19,
     "metadata": {},
     "output_type": "execute_result"
    }
   ],
   "source": [
    "df.lyric[0]"
   ]
  },
  {
   "cell_type": "code",
   "execution_count": 22,
   "metadata": {},
   "outputs": [
    {
     "data": {
      "text/plain": [
       "[('나', 'Noun'),\n",
       " ('는', 'Josa'),\n",
       " ('그대', 'Noun'),\n",
       " ('를', 'Josa'),\n",
       " ('뒤', 'Noun'),\n",
       " ('로', 'Josa'),\n",
       " ('한', 'Determiner'),\n",
       " ('채', 'Noun'),\n",
       " ('로', 'Josa'),\n",
       " ('우리', 'Noun'),\n",
       " ('사랑', 'Noun'),\n",
       " ('을', 'Josa'),\n",
       " ('놓아요', 'Verb'),\n",
       " ('차오르는', 'Verb'),\n",
       " ('추억', 'Noun'),\n",
       " ('을', 'Josa'),\n",
       " ('헝클어뜨려', 'Verb'),\n",
       " ('모두', 'Noun'),\n",
       " ('일어나지', 'Noun'),\n",
       " ('않았던', 'Verb'),\n",
       " ('일', 'Modifier'),\n",
       " ('처럼', 'Noun'),\n",
       " ('고', 'Josa'),\n",
       " ('갤', 'Verb'),\n",
       " ('저', 'Noun'),\n",
       " ('어', 'Suffix'),\n",
       " ('모르는', 'Verb'),\n",
       " ('꿈', 'Noun'),\n",
       " ('이라', 'Josa'),\n",
       " ('말', 'Noun'),\n",
       " ('하고', 'Josa'),\n",
       " ('있네요', 'Adjective'),\n",
       " ('남았는지', 'Verb'),\n",
       " ('모를', 'Verb'),\n",
       " ('마음', 'Noun'),\n",
       " ('이나', 'Noun'),\n",
       " ('를', 'Josa'),\n",
       " ('향', 'Noun'),\n",
       " ('해', 'Verb'),\n",
       " ('힘껏', 'Noun'),\n",
       " ('달려도', 'Verb'),\n",
       " ('어느', 'Adverb'),\n",
       " ('끝', 'Noun'),\n",
       " ('멈춰질', 'Verb'),\n",
       " ('그', 'Noun'),\n",
       " ('거리', 'Noun'),\n",
       " ('에', 'Josa'),\n",
       " ('그대', 'Noun'),\n",
       " ('다', 'Josa'),\n",
       " ('찢겨져', 'Verb'),\n",
       " ('버린', 'Verb'),\n",
       " ('사이', 'Noun'),\n",
       " ('더', 'Noun'),\n",
       " ('기워', 'Verb'),\n",
       " ('봐도', 'Verb'),\n",
       " ('다시', 'Noun'),\n",
       " ('그때', 'Noun'),\n",
       " ('로', 'Josa'),\n",
       " ('우리', 'Noun'),\n",
       " ('되돌려', 'Verb'),\n",
       " ('놓을', 'Verb'),\n",
       " ('수', 'Noun'),\n",
       " ('없는', 'Adjective'),\n",
       " ('그', 'Noun'),\n",
       " ('얘기', 'Noun'),\n",
       " ('날카롭게', 'Adjective'),\n",
       " ('패인', 'Noun'),\n",
       " ('이', 'Noun'),\n",
       " ('상처', 'Noun'),\n",
       " ('가', 'Josa'),\n",
       " ('깊어나을', 'Adjective'),\n",
       " ('수', 'Noun'),\n",
       " ('없으니', 'Adjective'),\n",
       " ('떠나가요', 'Verb'),\n",
       " ('떨궈진', 'Verb'),\n",
       " ('눈물', 'Noun'),\n",
       " ('은', 'Josa'),\n",
       " ('가슴', 'Noun'),\n",
       " ('에', 'Josa'),\n",
       " ('담아지고', 'Verb'),\n",
       " ('이제', 'Noun'),\n",
       " ('더', 'Noun'),\n",
       " ('는', 'Josa'),\n",
       " ('채울', 'Verb'),\n",
       " ('자리', 'Noun'),\n",
       " ('없이', 'Adverb'),\n",
       " ('넘쳐', 'Adjective'),\n",
       " ('흐르네요', 'Verb'),\n",
       " ('그대', 'Noun'),\n",
       " ('인지', 'Josa'),\n",
       " ('모를', 'Verb'),\n",
       " ('얼굴', 'Noun'),\n",
       " ('이나', 'Noun'),\n",
       " ('를', 'Josa'),\n",
       " ('향', 'Noun'),\n",
       " ('해', 'Verb'),\n",
       " ('웃음', 'Noun'),\n",
       " ('지', 'Modifier'),\n",
       " ('어도', 'Noun'),\n",
       " ('손', 'Noun'),\n",
       " ('내밀', 'Verb'),\n",
       " ('수도', 'Noun'),\n",
       " ('없는', 'Adjective'),\n",
       " ('거리', 'Noun'),\n",
       " ('에', 'Josa'),\n",
       " ('그대', 'Noun'),\n",
       " ('또', 'Noun'),\n",
       " ('주저앉을', 'Verb'),\n",
       " ('수', 'Noun'),\n",
       " ('밖에', 'Josa'),\n",
       " ('무너진', 'Verb'),\n",
       " ('이', 'Noun'),\n",
       " ('사랑', 'Noun'),\n",
       " ('과', 'Josa'),\n",
       " ('그', 'Determiner'),\n",
       " ('대의', 'Noun'),\n",
       " ('모든', 'Noun'),\n",
       " ('흔적', 'Noun'),\n",
       " ('을', 'Josa'),\n",
       " ('그리워하는', 'Adjective'),\n",
       " ('일만이', 'Noun'),\n",
       " ('더', 'Noun'),\n",
       " ('할', 'Verb'),\n",
       " ('게', 'Noun'),\n",
       " ('없어서', 'Adjective'),\n",
       " ('무력해져', 'Adjective'),\n",
       " ('가는', 'Verb'),\n",
       " ('내', 'Noun'),\n",
       " ('가', 'Josa'),\n",
       " ('싫어', 'Adjective'),\n",
       " ('그대', 'Noun'),\n",
       " ('를', 'Josa'),\n",
       " ('보내기', 'Verb'),\n",
       " ('싫지만', 'Adjective'),\n",
       " ('다', 'Adverb'),\n",
       " ('찢겨져', 'Verb'),\n",
       " ('버린', 'Verb'),\n",
       " ('사이', 'Noun'),\n",
       " ('더', 'Noun'),\n",
       " ('기워', 'Verb'),\n",
       " ('봐도', 'Verb'),\n",
       " ('다시', 'Noun'),\n",
       " ('그때', 'Noun'),\n",
       " ('로', 'Josa'),\n",
       " ('우릴', 'Noun'),\n",
       " ('되돌려놓을', 'Verb'),\n",
       " ('수', 'Noun'),\n",
       " ('없는', 'Adjective'),\n",
       " ('그', 'Noun'),\n",
       " ('얘기', 'Noun'),\n",
       " ('날카롭게', 'Adjective'),\n",
       " ('패인', 'Noun'),\n",
       " ('이', 'Noun'),\n",
       " ('상처', 'Noun'),\n",
       " ('가', 'Josa'),\n",
       " ('깊어나을', 'Adjective'),\n",
       " ('수', 'Noun'),\n",
       " ('없으니', 'Adjective'),\n",
       " ('떠나가요', 'Verb')]"
      ]
     },
     "execution_count": 22,
     "metadata": {},
     "output_type": "execute_result"
    }
   ],
   "source": [
    "tokenizer.pos(df.lyric[0])"
   ]
  },
  {
   "cell_type": "code",
   "execution_count": 13,
   "metadata": {},
   "outputs": [
    {
     "ename": "SyntaxError",
     "evalue": "invalid syntax (<ipython-input-13-83cd6812ba78>, line 1)",
     "output_type": "error",
     "traceback": [
      "\u001b[1;36m  File \u001b[1;32m\"<ipython-input-13-83cd6812ba78>\"\u001b[1;36m, line \u001b[1;32m1\u001b[0m\n\u001b[1;33m    for i in df.lyric\u001b[0m\n\u001b[1;37m                     ^\u001b[0m\n\u001b[1;31mSyntaxError\u001b[0m\u001b[1;31m:\u001b[0m invalid syntax\n"
     ]
    }
   ],
   "source": [
    "for i in df.lyric:\n",
    "    "
   ]
  },
  {
   "cell_type": "code",
   "execution_count": null,
   "metadata": {},
   "outputs": [],
   "source": []
  }
 ],
 "metadata": {
  "kernelspec": {
   "display_name": "Python 3",
   "language": "python",
   "name": "python3"
  },
  "language_info": {
   "codemirror_mode": {
    "name": "ipython",
    "version": 3
   },
   "file_extension": ".py",
   "mimetype": "text/x-python",
   "name": "python",
   "nbconvert_exporter": "python",
   "pygments_lexer": "ipython3",
   "version": "3.7.7"
  }
 },
 "nbformat": 4,
 "nbformat_minor": 4
}
